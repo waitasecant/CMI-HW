{
 "cells": [
  {
   "cell_type": "markdown",
   "metadata": {},
   "source": [
    "## Assignment 4\n",
    "### Himanshu, MDS202327"
   ]
  },
  {
   "cell_type": "code",
   "execution_count": 1,
   "metadata": {},
   "outputs": [],
   "source": [
    "# Importing Libraries\n",
    "from random import random, randrange, seed\n",
    "import time\n",
    "from numpy import mean, std, sqrt, log\n",
    "import sys\n",
    "\n",
    "sys.setrecursionlimit(2**31 - 1)\n"
   ]
  },
  {
   "cell_type": "code",
   "execution_count": 2,
   "metadata": {},
   "outputs": [],
   "source": [
    "# Helper Functions\n",
    "def selectionSort(L):\n",
    "    n = len(L)\n",
    "    if n < 1:\n",
    "        return L\n",
    "    for i in range(n):\n",
    "        mpos = i\n",
    "        for j in range(i + 1, n):\n",
    "            if L[j] < L[mpos]:\n",
    "                mpos = j\n",
    "        (L[i], L[mpos]) = (L[mpos], L[i])\n",
    "    return L\n",
    "\n",
    "\n",
    "def insertionSort(L):\n",
    "    n = len(L)\n",
    "    if n < 1:\n",
    "        return L\n",
    "    for i in range(n):\n",
    "        j = i\n",
    "        while j > 0 and L[j] < L[j - 1]:\n",
    "            L[j], L[j - 1] = L[j - 1], L[j]\n",
    "            j = j - 1\n",
    "    return L\n",
    "\n",
    "\n",
    "def merge(A, B):\n",
    "    (m, n) = (len(A), len(B))\n",
    "    (C, i, j, k) = ([], 0, 0, 0)\n",
    "    while k < m + n:\n",
    "        if i == m:\n",
    "            C.extend(B[j:])\n",
    "            k = k + (n - j)\n",
    "        elif j == n:\n",
    "            C.extend(A[i:])\n",
    "            k = k + (m - i)\n",
    "        elif A[i] < B[j]:\n",
    "            C.append(A[i])\n",
    "            (i, k) = (i + 1, k + 1)\n",
    "        else:\n",
    "            C.append(B[j])\n",
    "            (j, k) = (j + 1, k + 1)\n",
    "    return C\n",
    "\n",
    "\n",
    "def hybridMergeSort(A, cutoff):\n",
    "    n = len(A)\n",
    "    if n <= 1:\n",
    "        return A\n",
    "    if n <= cutoff:\n",
    "        return insertionSort(A)\n",
    "    L = hybridMergeSort(A[: n // 2], cutoff)\n",
    "    R = hybridMergeSort(A[n // 2:], cutoff)\n",
    "    B = merge(L, R)\n",
    "    return B\n",
    "\n",
    "\n",
    "def hybridRandQuickSort(L, l, r, cutoff):\n",
    "    if r - l <= cutoff:\n",
    "        return insertionSort(L[l:r])\n",
    "    if r - l <= 1:\n",
    "        return L\n",
    "    randpivot = randrange(r - l)\n",
    "    (L[l], L[l + randpivot]) = (L[l + randpivot], L[l])\n",
    "    (pivot, lower, upper) = (L[l], l + 1, l + 1)\n",
    "\n",
    "    for i in range(l + 1, r):\n",
    "        if L[i] > pivot:\n",
    "            upper = upper + 1\n",
    "        else:\n",
    "            (L[i], L[lower]) = (L[lower], L[i])\n",
    "            (lower, upper) = (lower + 1, upper + 1)\n",
    "\n",
    "    (L[l], L[lower - 1]) = (L[lower - 1], L[l])\n",
    "    lower = lower - 1\n",
    "\n",
    "    hybridRandQuickSort(L, l, lower, cutoff)\n",
    "    hybridRandQuickSort(L, lower + 1, upper, cutoff)\n",
    "    return L\n"
   ]
  },
  {
   "cell_type": "code",
   "execution_count": 4,
   "metadata": {},
   "outputs": [],
   "source": [
    "def function12(K, N, M, sortingAlgo):\n",
    "    seed(12)\n",
    "    mean_run_time = []\n",
    "    std_deviation = []\n",
    "    L = [[round(random() * 100, 3) for _ in range(N)] for _ in range(K)]\n",
    "    for _ in range(M):\n",
    "        timeVals = []\n",
    "        for l in L:\n",
    "            start = time.perf_counter()\n",
    "            sortingAlgo(l)\n",
    "            elapsed = time.perf_counter() - start\n",
    "            timeVals.append(elapsed)\n",
    "        mean_run_time.append(round(mean(timeVals), 5))\n",
    "        std_deviation.append(round(std(timeVals), 5))\n",
    "    return list(zip(mean_run_time, std_deviation))\n",
    "\n",
    "\n",
    "def function3(K, N, M, sortingAlgo, cutoff):\n",
    "    seed(34)\n",
    "    mean_run_time = []\n",
    "    std_deviation = []\n",
    "    L = [[round(random() * 100, 3) for _ in range(N)] for _ in range(K)]\n",
    "    for _ in range(M):\n",
    "        timeVals = []\n",
    "        for l in L:\n",
    "            start = time.perf_counter()\n",
    "            sortingAlgo(l, cutoff)\n",
    "            elapsed = time.perf_counter() - start\n",
    "            timeVals.append(elapsed)\n",
    "        mean_run_time.append(round(mean(timeVals), 5))\n",
    "        std_deviation.append(round(std(timeVals), 5))\n",
    "    return list(zip(mean_run_time, std_deviation))\n",
    "\n",
    "\n",
    "def function4(K, N, M, sortingAlgo, l, r, cutoff):\n",
    "    seed(34)\n",
    "    mean_run_time = []\n",
    "    std_deviation = []\n",
    "    L = [[round(random() * 100, 3) for _ in range(N)] for _ in range(K)]\n",
    "    for _ in range(M):\n",
    "        timeVals = []\n",
    "        for lis in L:\n",
    "            start = time.perf_counter()\n",
    "            sortingAlgo(lis, l, r, cutoff)\n",
    "            elapsed = time.perf_counter() - start\n",
    "            timeVals.append(elapsed)\n",
    "        mean_run_time.append(round(mean(timeVals), 6))\n",
    "        std_deviation.append(round(std(timeVals), 6))\n",
    "    return list(zip(mean_run_time, std_deviation))"
   ]
  },
  {
   "cell_type": "code",
   "execution_count": 5,
   "metadata": {},
   "outputs": [
    {
     "data": {
      "text/plain": [
       "[(0.74852, 0.08998),\n",
       " (1.25346, 0.35363),\n",
       " (0.90271, 0.26732),\n",
       " (1.25925, 0.27655),\n",
       " (0.95346, 0.29903)]"
      ]
     },
     "execution_count": 5,
     "metadata": {},
     "output_type": "execute_result"
    }
   ],
   "source": [
    "# Q1\n",
    "function12(100, 5000, 5, selectionSort)\n"
   ]
  },
  {
   "cell_type": "code",
   "execution_count": 6,
   "metadata": {},
   "outputs": [
    {
     "data": {
      "text/plain": [
       "[(1.70091, 0.36835),\n",
       " (0.00062, 0.00019),\n",
       " (0.00064, 0.00022),\n",
       " (0.00063, 0.00024),\n",
       " (0.00068, 0.00023)]"
      ]
     },
     "execution_count": 6,
     "metadata": {},
     "output_type": "execute_result"
    }
   ],
   "source": [
    "# Q2\n",
    "function12(100, 5000, 5, insertionSort)\n"
   ]
  },
  {
   "cell_type": "code",
   "execution_count": 7,
   "metadata": {},
   "outputs": [
    {
     "name": "stdout",
     "output_type": "stream",
     "text": [
      "Cutoff: 0\n",
      "[(0.25121, 0.05155), (0.29607, 0.06386), (0.28988, 0.03841), (0.24397, 0.04083), (0.1827, 0.03309)] \n",
      "\n",
      "Cutoff: 10\n",
      "[(0.18891, 0.03331), (0.21625, 0.04486), (0.20843, 0.04243), (0.20744, 0.04116), (0.22315, 0.04811)] \n",
      "\n",
      "Cutoff: 40\n",
      "[(0.16116, 0.02933), (0.1791, 0.04785), (0.23167, 0.04751), (0.23258, 0.04977), (0.23863, 0.04278)] \n",
      "\n",
      "Cutoff: 50\n",
      "[(0.35954, 0.06533), (0.33722, 0.07767), (0.26499, 0.04503), (0.28409, 0.06159), (0.23504, 0.05811)] \n",
      "\n",
      "Cutoff: 80\n",
      "[(0.24371, 0.0646), (0.29612, 0.06259), (0.27351, 0.06128), (0.28086, 0.05922), (0.27965, 0.05228)] \n",
      "\n",
      "Cutoff: 90\n",
      "[(0.26833, 0.04347), (0.23131, 0.04289), (0.31386, 0.06715), (0.30173, 0.06228), (0.23973, 0.05886)] \n",
      "\n"
     ]
    }
   ],
   "source": [
    "# Q3\n",
    "for cutoff in [0, 10, 40, 50, 80, 90]:\n",
    "    print(f\"Cutoff: {cutoff}\")\n",
    "    print(function3(100, 50000, 5, hybridMergeSort, cutoff), \"\\n\")"
   ]
  },
  {
   "cell_type": "code",
   "execution_count": 8,
   "metadata": {
    "scrolled": true
   },
   "outputs": [
    {
     "name": "stdout",
     "output_type": "stream",
     "text": [
      "Cutoff: 0\n",
      "[(0.002457, 0.000766), (0.00218, 0.000675), (0.002146, 0.00071), (0.002413, 0.000772), (0.002959, 0.000845)] \n",
      "\n",
      "Cutoff: 10\n",
      "[(0.00265, 0.001299), (0.00182, 0.000626), (0.002255, 0.001137), (0.002761, 0.001512), (0.001482, 0.000558)] \n",
      "\n",
      "Cutoff: 40\n",
      "[(0.002278, 0.000759), (0.001613, 0.000528), (0.001387, 0.000424), (0.001659, 0.000877), (0.001445, 0.000585)] \n",
      "\n",
      "Cutoff: 50\n",
      "[(0.003464, 0.001183), (0.002606, 0.000928), (0.001996, 0.000633), (0.002125, 0.000886), (0.00194, 0.000882)] \n",
      "\n",
      "Cutoff: 80\n",
      "[(0.004571, 0.00145), (0.00354, 0.001153), (0.002398, 0.000736), (0.002003, 0.000576), (0.00184, 0.000551)] \n",
      "\n",
      "Cutoff: 90\n",
      "[(0.006672, 0.001929), (0.004584, 0.00158), (0.003724, 0.001363), (0.002816, 0.000802), (0.002269, 0.000677)] \n",
      "\n"
     ]
    }
   ],
   "source": [
    "# Q4\n",
    "for cutoff in [0, 10, 40, 50, 80, 90]:\n",
    "    print(f\"Cutoff: {cutoff}\")\n",
    "    print(function4(100, 50000, 5, hybridRandQuickSort, 0, 1000, cutoff), \"\\n\")"
   ]
  }
 ],
 "metadata": {
  "kernelspec": {
   "display_name": "Python 3 (ipykernel)",
   "language": "python",
   "name": "python3"
  },
  "language_info": {
   "codemirror_mode": {
    "name": "ipython",
    "version": 3
   },
   "file_extension": ".py",
   "mimetype": "text/x-python",
   "name": "python",
   "nbconvert_exporter": "python",
   "pygments_lexer": "ipython3",
   "version": "3.11.1"
  }
 },
 "nbformat": 4,
 "nbformat_minor": 2
}
