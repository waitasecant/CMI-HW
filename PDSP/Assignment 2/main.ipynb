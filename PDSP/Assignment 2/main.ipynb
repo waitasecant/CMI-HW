{
 "cells": [
  {
   "cell_type": "code",
   "execution_count": 356,
   "metadata": {},
   "outputs": [],
   "source": [
    "def histogram(l):\n",
    "    ld1 = []\n",
    "    ld2 = []\n",
    "    for i in set(l):\n",
    "        ld1.append((l.count(i),i))\n",
    "    ld1.sort()\n",
    "    return [(i[1],i[0]) for i in ld1]"
   ]
  },
  {
   "cell_type": "code",
   "execution_count": 357,
   "metadata": {},
   "outputs": [],
   "source": [
    "def rem0coeff(d):\n",
    "    newd = {}\n",
    "    for i,j in zip(d, d.values()):\n",
    "        if j!=0:\n",
    "            newd[i] = j\n",
    "    return newd"
   ]
  },
  {
   "cell_type": "code",
   "execution_count": 358,
   "metadata": {},
   "outputs": [],
   "source": [
    "def addpoly(p1,p2):\n",
    "    d1 = dict([(i[1],i[0]) for i in p1]) # Flipped dict of p1 exp:coeff\n",
    "    d2 = dict([(i[1],i[0]) for i in p2]) # Flipped dict of p2 exp:coeff\n",
    "    d3 = dict([(i[1],i[0]) for i in p1+p2]) #Combined flipped dict (to get list of unique exp)\n",
    "\n",
    "    # If exp in d3 look for exp in d1, d2 if present in both add coeffs else add it to d\n",
    "    # Return d of form exp:coeff\n",
    "    d = {}\n",
    "    for i in d3:\n",
    "        if i in d1 and i in d2:\n",
    "            d[i] = d1[i] + d2[i]\n",
    "        else:\n",
    "            d[i] = d3[i]\n",
    "\n",
    "    # Remove pair with coeff=0 exp:coeff\n",
    "    newd= rem0coeff(d)\n",
    "    \n",
    "    # Sort wrt exp, flipping coeff:exp\n",
    "    newp = list(zip(newd, newd.values()))\n",
    "    newp.sort(reverse=True)\n",
    "    return [(i[1],i[0]) for i in newp]"
   ]
  },
  {
   "cell_type": "code",
   "execution_count": 361,
   "metadata": {},
   "outputs": [],
   "source": [
    "def multpoly(p1,p2):\n",
    "    if p1==[] or p2==[]:\n",
    "        return []\n",
    "    else:\n",
    "        d1 = dict([(i[1],i[0]) for i in p1]) # Flipped dict of p1 exp:coeff\n",
    "        d2 = dict([(i[1],i[0]) for i in p2]) # Flipped dict of p2 exp:coeff\n",
    "\n",
    "        d = {}\n",
    "        for i in d1:\n",
    "            for j in d2:\n",
    "                if i+j in d:\n",
    "                    d[i+j] = d[i+j] + [d1[i]*d2[j]]\n",
    "                else:\n",
    "                    d[i+j] = [d1[i]*d2[j]]\n",
    "        d = dict([(i,sum(j)) for i,j in zip(d,d.values())])\n",
    "        \n",
    "        newd = rem0coeff(d)\n",
    "\n",
    "        newp = list(zip(newd, newd.values()))\n",
    "        newp.sort(reverse=True)\n",
    "        return [(i[1],i[0]) for i in newp]"
   ]
  },
  {
   "cell_type": "code",
   "execution_count": 391,
   "metadata": {},
   "outputs": [],
   "source": [
    "def onehop(l):\n",
    "    newl = []\n",
    "    d = dict(l)\n",
    "    # flipd = dict([(i[1],i[0]) for i in l])\n",
    "    for i in d:\n",
    "        if d[i] in d:\n",
    "            newl.append((i,d[d[i]]))\n",
    "    return newl"
   ]
  },
  {
   "cell_type": "code",
   "execution_count": 392,
   "metadata": {},
   "outputs": [
    {
     "data": {
      "text/plain": [
       "[(2, 1), (1, 2), (3, 4), (4, 3)]"
      ]
     },
     "execution_count": 392,
     "metadata": {},
     "output_type": "execute_result"
    }
   ],
   "source": [
    "onehop([(2,3),(1,2),(3,1),(1,3),(3,2),(2,4),(4,1)])\n"
   ]
  },
  {
   "cell_type": "code",
   "execution_count": 406,
   "metadata": {},
   "outputs": [],
   "source": [
    "def onehop(l):\n",
    "\n",
    "    d = {}\n",
    "    for i in l:\n",
    "            if i[0] in d:\n",
    "                d[i[0]] = d[i[0]] + [i[1]]\n",
    "            else:\n",
    "                d[i[0]] = [i[1]]  \n",
    "    newl = []\n",
    "\n",
    "    for i in d:\n",
    "        for j in d[i]:\n",
    "            if j in d:\n",
    "                for k in d[j]:\n",
    "                    if k!=i:\n",
    "                        newl.append((i,k))\n",
    "    newl = list(set(newl))\n",
    "    newl.sort()\n",
    "    return newl"
   ]
  }
 ],
 "metadata": {
  "kernelspec": {
   "display_name": "Python 3",
   "language": "python",
   "name": "python3"
  },
  "language_info": {
   "codemirror_mode": {
    "name": "ipython",
    "version": 3
   },
   "file_extension": ".py",
   "mimetype": "text/x-python",
   "name": "python",
   "nbconvert_exporter": "python",
   "pygments_lexer": "ipython3",
   "version": "3.11.1"
  },
  "orig_nbformat": 4
 },
 "nbformat": 4,
 "nbformat_minor": 2
}
