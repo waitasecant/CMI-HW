{
 "cells": [
  {
   "cell_type": "code",
   "execution_count": 43,
   "metadata": {},
   "outputs": [],
   "source": [
    "def delchar(s,c):\n",
    "    if len(c)>1:\n",
    "        return s\n",
    "    else:\n",
    "        news = \"\"\n",
    "        for i in s:\n",
    "            if i!=c:\n",
    "                news = news + i\n",
    "        return news"
   ]
  },
  {
   "cell_type": "code",
   "execution_count": 96,
   "metadata": {},
   "outputs": [],
   "source": [
    "def nestingdepth(s):\n",
    "    l = \"\"\n",
    "    for i in s:\n",
    "        if i in [\"(\",\")\"]:\n",
    "            l = l + i\n",
    "    tstr = \"()\"\n",
    "    count = 0\n",
    "    if l==\"\":\n",
    "        return 0\n",
    "    while l!=\"\":\n",
    "        if tstr not in l:\n",
    "            return -1\n",
    "        else:\n",
    "            l = l.replace(tstr, \"\",-1)\n",
    "            count = count + 1\n",
    "    return count"
   ]
  },
  {
   "cell_type": "code",
   "execution_count": 45,
   "metadata": {},
   "outputs": [],
   "source": [
    "def odd(x):\n",
    "    if x%2 == 0:\n",
    "        return \"0\"\n",
    "    else:\n",
    "        return \"1\"\n",
    "\n",
    "def notodd(x):\n",
    "    if x%2 == 0:\n",
    "        return \"1\"\n",
    "    else:\n",
    "        return \"0\"\n",
    "\n",
    "def accordian(l):\n",
    "    newl = []\n",
    "    for i in range(len(l)):\n",
    "        if i<len(l)-1:\n",
    "            newl.append(abs(l[i]-l[i+1]))\n",
    "\n",
    "    newlstr = \"\"\n",
    "    for i in range(len(newl)):\n",
    "        if i<len(newl)-1:\n",
    "            if newl[i]-newl[i+1]<0:\n",
    "                newlstr = newlstr + \"1\"\n",
    "            elif newl[i]-newl[i+1]>0:\n",
    "                newlstr = newlstr + \"0\"\n",
    "            else:\n",
    "                return False\n",
    "    \n",
    "    test0, test1 = \"\", \"\"\n",
    "    for i in range(len(newl)-1):\n",
    "        test0 = test0 + odd(i)\n",
    "        test1 = test1 + notodd(i)\n",
    "    print(newl, newlstr)\n",
    "    if newlstr in [test0, test1]:\n",
    "        return True\n",
    "    else:\n",
    "        return False"
   ]
  },
  {
   "cell_type": "code",
   "execution_count": 5,
   "metadata": {},
   "outputs": [],
   "source": [
    "def rotate(l):\n",
    "    newl = []\n",
    "    for i in range(len(l[0])):\n",
    "        sl = []\n",
    "        for j in l[::-1]:\n",
    "            sl.append(j[i])\n",
    "        newl.append(sl)\n",
    "    return newl"
   ]
  }
 ],
 "metadata": {
  "kernelspec": {
   "display_name": "Python 3",
   "language": "python",
   "name": "python3"
  },
  "language_info": {
   "codemirror_mode": {
    "name": "ipython",
    "version": 3
   },
   "file_extension": ".py",
   "mimetype": "text/x-python",
   "name": "python",
   "nbconvert_exporter": "python",
   "pygments_lexer": "ipython3",
   "version": "3.11.1"
  },
  "orig_nbformat": 4
 },
 "nbformat": 4,
 "nbformat_minor": 2
}
