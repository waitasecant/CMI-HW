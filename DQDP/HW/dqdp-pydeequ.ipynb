{
 "cells": [
  {
   "cell_type": "markdown",
   "metadata": {
    "application/vnd.databricks.v1+cell": {
     "cellMetadata": {
      "byteLimit": 2048000,
      "rowLimit": 10000
     },
     "inputWidgets": {},
     "nuid": "cecd0f70-f492-4e35-935a-94c0c9746387",
     "showTitle": false,
     "tableResultSettingsMap": {},
     "title": ""
    }
   },
   "source": [
    "## Himanshu, MDS202327"
   ]
  },
  {
   "cell_type": "markdown",
   "metadata": {
    "application/vnd.databricks.v1+cell": {
     "cellMetadata": {
      "byteLimit": 2048000,
      "rowLimit": 10000
     },
     "inputWidgets": {},
     "nuid": "35e5aa7e-6b31-4aa3-8b93-99e76f28926b",
     "showTitle": false,
     "tableResultSettingsMap": {},
     "title": ""
    }
   },
   "source": [
    "#### Installing required packages"
   ]
  },
  {
   "cell_type": "code",
   "execution_count": 0,
   "metadata": {
    "application/vnd.databricks.v1+cell": {
     "cellMetadata": {
      "byteLimit": 2048000,
      "rowLimit": 10000
     },
     "inputWidgets": {},
     "nuid": "d77f2808-5ef2-436a-a8b8-0c7b02079e06",
     "showTitle": false,
     "tableResultSettingsMap": {},
     "title": ""
    }
   },
   "outputs": [],
   "source": [
    "%%capture\n",
    "%pip install pydeequ"
   ]
  },
  {
   "cell_type": "code",
   "execution_count": 0,
   "metadata": {
    "application/vnd.databricks.v1+cell": {
     "cellMetadata": {
      "byteLimit": 2048000,
      "rowLimit": 10000
     },
     "inputWidgets": {},
     "nuid": "5eb7f0c2-ee86-48ef-990d-8d90c794d38a",
     "showTitle": false,
     "tableResultSettingsMap": {},
     "title": ""
    }
   },
   "outputs": [],
   "source": [
    "# Importing the libraries\n",
    "import pandas as pd\n",
    "from pyspark.sql import SparkSession\n",
    "import pydeequ\n",
    "from pydeequ.analyzers import *\n",
    "from pydeequ.checks import *\n",
    "from pydeequ.verification import *\n",
    "from pydeequ.suggestions import *"
   ]
  },
  {
   "cell_type": "markdown",
   "metadata": {
    "application/vnd.databricks.v1+cell": {
     "cellMetadata": {
      "byteLimit": 2048000,
      "rowLimit": 10000
     },
     "inputWidgets": {},
     "nuid": "4e4e7be3-b54f-4cba-9748-67c447d8783c",
     "showTitle": false,
     "tableResultSettingsMap": {},
     "title": ""
    }
   },
   "source": [
    "#### Read the data using pandas"
   ]
  },
  {
   "cell_type": "code",
   "execution_count": 0,
   "metadata": {
    "application/vnd.databricks.v1+cell": {
     "cellMetadata": {
      "byteLimit": 2048000,
      "rowLimit": 10000
     },
     "inputWidgets": {},
     "nuid": "0ca6cd4c-a626-4c71-9aa1-d6a11a33416a",
     "showTitle": false,
     "tableResultSettingsMap": {},
     "title": ""
    }
   },
   "outputs": [],
   "source": [
    "df = pd.read_csv(\"https://www.cmi.ac.in/~himanshu680.mds2023/data/adult.csv\")"
   ]
  },
  {
   "cell_type": "markdown",
   "metadata": {
    "application/vnd.databricks.v1+cell": {
     "cellMetadata": {
      "byteLimit": 2048000,
      "rowLimit": 10000
     },
     "inputWidgets": {},
     "nuid": "181ab57e-88ff-4412-874d-9a0ec4ea1e3c",
     "showTitle": false,
     "tableResultSettingsMap": {},
     "title": ""
    }
   },
   "source": [
    "#### Initialize the Spark session"
   ]
  },
  {
   "cell_type": "code",
   "execution_count": 0,
   "metadata": {
    "application/vnd.databricks.v1+cell": {
     "cellMetadata": {
      "byteLimit": 2048000,
      "rowLimit": 10000
     },
     "inputWidgets": {},
     "nuid": "a5ffb5c4-c060-428f-b221-8e2bbaeb13aa",
     "showTitle": false,
     "tableResultSettingsMap": {},
     "title": ""
    }
   },
   "outputs": [],
   "source": [
    "# Initialize Spark session\n",
    "spark = (\n",
    "    SparkSession.builder\n",
    "    .config(\"spark.jars.packages\", pydeequ.deequ_maven_coord)\n",
    "    .config(\"spark.jars.excludes\", pydeequ.f2j_maven_coord)\n",
    "    .getOrCreate()\n",
    ")\n"
   ]
  },
  {
   "cell_type": "markdown",
   "metadata": {
    "application/vnd.databricks.v1+cell": {
     "cellMetadata": {
      "byteLimit": 2048000,
      "rowLimit": 10000
     },
     "inputWidgets": {},
     "nuid": "e6477633-1d29-4f65-ac81-738815bc1a83",
     "showTitle": false,
     "tableResultSettingsMap": {},
     "title": ""
    }
   },
   "source": [
    "#### Read the data frame into spark"
   ]
  },
  {
   "cell_type": "code",
   "execution_count": 0,
   "metadata": {
    "application/vnd.databricks.v1+cell": {
     "cellMetadata": {
      "byteLimit": 2048000,
      "rowLimit": 10000
     },
     "inputWidgets": {},
     "nuid": "2fcc4f9e-9802-4b7f-86a3-08529d2162dd",
     "showTitle": false,
     "tableResultSettingsMap": {},
     "title": ""
    }
   },
   "outputs": [
    {
     "output_type": "stream",
     "name": "stdout",
     "output_type": "stream",
     "text": [
      "+---+-----------------+------+-------------+---+--------------------+------------------+--------------+-------------------+-------+-----+---+---+--------------+------+\n| 39|        State-gov| 77516|    Bachelors| 13|       Never-married|      Adm-clerical| Not-in-family|              White|   Male| 2174|  0| 40| United-States| <=50K|\n+---+-----------------+------+-------------+---+--------------------+------------------+--------------+-------------------+-------+-----+---+---+--------------+------+\n| 50| Self-emp-not-inc| 83311|    Bachelors| 13|  Married-civ-spouse|   Exec-managerial|       Husband|              White|   Male|    0|  0| 13| United-States| <=50K|\n| 38|          Private|215646|      HS-grad|  9|            Divorced| Handlers-cleaners| Not-in-family|              White|   Male|    0|  0| 40| United-States| <=50K|\n| 53|          Private|234721|         11th|  7|  Married-civ-spouse| Handlers-cleaners|       Husband|              Black|   Male|    0|  0| 40| United-States| <=50K|\n| 28|          Private|338409|    Bachelors| 13|  Married-civ-spouse|    Prof-specialty|          Wife|              Black| Female|    0|  0| 40|          Cuba| <=50K|\n| 37|          Private|284582|      Masters| 14|  Married-civ-spouse|   Exec-managerial|          Wife|              White| Female|    0|  0| 40| United-States| <=50K|\n| 49|          Private|160187|          9th|  5| Married-spouse-a...|     Other-service| Not-in-family|              Black| Female|    0|  0| 16|       Jamaica| <=50K|\n| 52| Self-emp-not-inc|209642|      HS-grad|  9|  Married-civ-spouse|   Exec-managerial|       Husband|              White|   Male|    0|  0| 45| United-States|  >50K|\n| 31|          Private| 45781|      Masters| 14|       Never-married|    Prof-specialty| Not-in-family|              White| Female|14084|  0| 50| United-States|  >50K|\n| 42|          Private|159449|    Bachelors| 13|  Married-civ-spouse|   Exec-managerial|       Husband|              White|   Male| 5178|  0| 40| United-States|  >50K|\n| 37|          Private|280464| Some-college| 10|  Married-civ-spouse|   Exec-managerial|       Husband|              Black|   Male|    0|  0| 80| United-States|  >50K|\n| 30|        State-gov|141297|    Bachelors| 13|  Married-civ-spouse|    Prof-specialty|       Husband| Asian-Pac-Islander|   Male|    0|  0| 40|         India|  >50K|\n| 23|          Private|122272|    Bachelors| 13|       Never-married|      Adm-clerical|     Own-child|              White| Female|    0|  0| 30| United-States| <=50K|\n| 32|          Private|205019|   Assoc-acdm| 12|       Never-married|             Sales| Not-in-family|              Black|   Male|    0|  0| 50| United-States| <=50K|\n| 40|          Private|121772|    Assoc-voc| 11|  Married-civ-spouse|      Craft-repair|       Husband| Asian-Pac-Islander|   Male|    0|  0| 40|             ?|  >50K|\n| 34|          Private|245487|      7th-8th|  4|  Married-civ-spouse|  Transport-moving|       Husband| Amer-Indian-Eskimo|   Male|    0|  0| 45|        Mexico| <=50K|\n| 25| Self-emp-not-inc|176756|      HS-grad|  9|       Never-married|   Farming-fishing|     Own-child|              White|   Male|    0|  0| 35| United-States| <=50K|\n| 32|          Private|186824|      HS-grad|  9|       Never-married| Machine-op-inspct|     Unmarried|              White|   Male|    0|  0| 40| United-States| <=50K|\n| 38|          Private| 28887|         11th|  7|  Married-civ-spouse|             Sales|       Husband|              White|   Male|    0|  0| 50| United-States| <=50K|\n| 43| Self-emp-not-inc|292175|      Masters| 14|            Divorced|   Exec-managerial|     Unmarried|              White| Female|    0|  0| 45| United-States|  >50K|\n| 40|          Private|193524|    Doctorate| 16|  Married-civ-spouse|    Prof-specialty|       Husband|              White|   Male|    0|  0| 60| United-States|  >50K|\n+---+-----------------+------+-------------+---+--------------------+------------------+--------------+-------------------+-------+-----+---+---+--------------+------+\nonly showing top 20 rows\n\n"
     ]
    }
   ],
   "source": [
    "df_deequ = spark.createDataFrame(df)\n",
    "df_deequ.show()"
   ]
  },
  {
   "cell_type": "markdown",
   "metadata": {
    "application/vnd.databricks.v1+cell": {
     "cellMetadata": {
      "byteLimit": 2048000,
      "rowLimit": 10000
     },
     "inputWidgets": {},
     "nuid": "58e32d3f-d6b5-4f78-b58e-d98fd7c76118",
     "showTitle": false,
     "tableResultSettingsMap": {},
     "title": ""
    }
   },
   "source": [
    "#### Schema of the data frame"
   ]
  },
  {
   "cell_type": "code",
   "execution_count": 0,
   "metadata": {
    "application/vnd.databricks.v1+cell": {
     "cellMetadata": {
      "byteLimit": 2048000,
      "rowLimit": 10000
     },
     "inputWidgets": {},
     "nuid": "7e6fe467-ca7f-4739-b0b0-7609498a898f",
     "showTitle": false,
     "tableResultSettingsMap": {},
     "title": ""
    }
   },
   "outputs": [
    {
     "output_type": "stream",
     "name": "stdout",
     "output_type": "stream",
     "text": [
      "root\n |-- 39: long (nullable = true)\n |--  State-gov: string (nullable = true)\n |--  77516: long (nullable = true)\n |--  Bachelors: string (nullable = true)\n |--  13: long (nullable = true)\n |--  Never-married: string (nullable = true)\n |--  Adm-clerical: string (nullable = true)\n |--  Not-in-family: string (nullable = true)\n |--  White: string (nullable = true)\n |--  Male: string (nullable = true)\n |--  2174: long (nullable = true)\n |--  0: long (nullable = true)\n |--  40: long (nullable = true)\n |--  United-States: string (nullable = true)\n |--  <=50K: string (nullable = true)\n\n"
     ]
    }
   ],
   "source": [
    "df_deequ.printSchema()"
   ]
  },
  {
   "cell_type": "code",
   "execution_count": 0,
   "metadata": {
    "application/vnd.databricks.v1+cell": {
     "cellMetadata": {
      "byteLimit": 2048000,
      "rowLimit": 10000
     },
     "inputWidgets": {},
     "nuid": "4dd80501-302b-4c51-bc74-596fbaa7b885",
     "showTitle": false,
     "tableResultSettingsMap": {},
     "title": ""
    }
   },
   "outputs": [
    {
     "output_type": "stream",
     "name": "stdout",
     "output_type": "stream",
     "text": [
      "Column names: ['39', ' State-gov', ' 77516', ' Bachelors', ' 13', ' Never-married', ' Adm-clerical', ' Not-in-family', ' White', ' Male', ' 2174', ' 0', ' 40', ' United-States', ' <=50K']\n"
     ]
    }
   ],
   "source": [
    "schema_columns = [field.name for field in df_deequ.schema.fields]\n",
    "print(\"Column names:\", schema_columns)"
   ]
  },
  {
   "cell_type": "markdown",
   "metadata": {
    "application/vnd.databricks.v1+cell": {
     "cellMetadata": {
      "byteLimit": 2048000,
      "rowLimit": 10000
     },
     "inputWidgets": {},
     "nuid": "bba166ca-42b4-46b0-ab9d-6ec2b4ad8502",
     "showTitle": false,
     "tableResultSettingsMap": {},
     "title": ""
    }
   },
   "source": [
    "The schema shows that the column names are not properly formatted - they appear to be the actual data values from the first row. This suggests the CSV file was read without headers or the headers weren't properly processed. The columns appear to represent the Adult Census Income dataset."
   ]
  },
  {
   "cell_type": "markdown",
   "metadata": {
    "application/vnd.databricks.v1+cell": {
     "cellMetadata": {
      "byteLimit": 2048000,
      "rowLimit": 10000
     },
     "inputWidgets": {},
     "nuid": "c91c4db3-d1e8-42a3-8e80-bdae4ef15c2d",
     "showTitle": false,
     "tableResultSettingsMap": {},
     "title": ""
    }
   },
   "source": [
    "#### Rename Columns for Better Analysis"
   ]
  },
  {
   "cell_type": "code",
   "execution_count": 0,
   "metadata": {
    "application/vnd.databricks.v1+cell": {
     "cellMetadata": {
      "byteLimit": 2048000,
      "rowLimit": 10000
     },
     "inputWidgets": {},
     "nuid": "b30adcf1-9849-47e9-b32d-0cf150accd1e",
     "showTitle": false,
     "tableResultSettingsMap": {},
     "title": ""
    }
   },
   "outputs": [
    {
     "output_type": "stream",
     "name": "stdout",
     "output_type": "stream",
     "text": [
      "+---+-----------------+------+----------+-------------+-------------------+------------------+--------------+------+-------+------------+------------+--------------+--------------+------+\n|age|        workclass|fnlwgt| education|education_num|     marital_status|        occupation|  relationship|  race|    sex|capital_gain|capital_loss|hours_per_week|native_country|income|\n+---+-----------------+------+----------+-------------+-------------------+------------------+--------------+------+-------+------------+------------+--------------+--------------+------+\n| 50| Self-emp-not-inc| 83311| Bachelors|           13| Married-civ-spouse|   Exec-managerial|       Husband| White|   Male|           0|           0|            13| United-States| <=50K|\n| 38|          Private|215646|   HS-grad|            9|           Divorced| Handlers-cleaners| Not-in-family| White|   Male|           0|           0|            40| United-States| <=50K|\n| 53|          Private|234721|      11th|            7| Married-civ-spouse| Handlers-cleaners|       Husband| Black|   Male|           0|           0|            40| United-States| <=50K|\n| 28|          Private|338409| Bachelors|           13| Married-civ-spouse|    Prof-specialty|          Wife| Black| Female|           0|           0|            40|          Cuba| <=50K|\n| 37|          Private|284582|   Masters|           14| Married-civ-spouse|   Exec-managerial|          Wife| White| Female|           0|           0|            40| United-States| <=50K|\n+---+-----------------+------+----------+-------------+-------------------+------------------+--------------+------+-------+------------+------------+--------------+--------------+------+\nonly showing top 5 rows\n\n"
     ]
    }
   ],
   "source": [
    "# Define proper column names based on the Adult dataset standard names\n",
    "proper_column_names = [\"age\", \"workclass\", \"fnlwgt\", \"education\", \"education_num\", \n",
    "                       \"marital_status\", \"occupation\", \"relationship\", \"race\", \n",
    "                       \"sex\", \"capital_gain\", \"capital_loss\", \"hours_per_week\", \n",
    "                       \"native_country\", \"income\"]\n",
    "\n",
    "# Create a new DataFrame with proper column names\n",
    "df_deequ = df_deequ.toDF(*proper_column_names)\n",
    "\n",
    "# Show the renamed DataFrame\n",
    "df_deequ.show(5)"
   ]
  },
  {
   "cell_type": "markdown",
   "metadata": {
    "application/vnd.databricks.v1+cell": {
     "cellMetadata": {
      "byteLimit": 2048000,
      "rowLimit": 10000
     },
     "inputWidgets": {},
     "nuid": "fdb16855-cc42-4951-8564-c2f18d582b6f",
     "showTitle": false,
     "tableResultSettingsMap": {},
     "title": ""
    }
   },
   "source": [
    "#### Check for Duplicate Rows\n"
   ]
  },
  {
   "cell_type": "code",
   "execution_count": 0,
   "metadata": {
    "application/vnd.databricks.v1+cell": {
     "cellMetadata": {
      "byteLimit": 2048000,
      "rowLimit": 10000
     },
     "inputWidgets": {},
     "nuid": "658bd873-52e0-408e-9df7-ff1cc516de83",
     "showTitle": false,
     "tableResultSettingsMap": {},
     "title": ""
    }
   },
   "outputs": [
    {
     "output_type": "stream",
     "name": "stdout",
     "output_type": "stream",
     "text": [
      "Number of duplicate rows: 23\nSample of duplicate rows:\n+---+---------+------+-------------+-------------+-------------------+---------------+--------------+------+-------+------------+------------+--------------+--------------+------+-----+\n|age|workclass|fnlwgt|    education|education_num|     marital_status|     occupation|  relationship|  race|    sex|capital_gain|capital_loss|hours_per_week|native_country|income|count|\n+---+---------+------+-------------+-------------+-------------------+---------------+--------------+------+-------+------------+------------+--------------+--------------+------+-----+\n| 46|  Private|133616| Some-college|           10|           Divorced|   Adm-clerical|     Unmarried| White| Female|           0|           0|            40| United-States| <=50K|    2|\n| 42|  Private|204235| Some-college|           10| Married-civ-spouse| Prof-specialty|       Husband| White|   Male|           0|           0|            40| United-States|  >50K|    2|\n| 35|  Private|379959|      HS-grad|            9|           Divorced|  Other-service| Not-in-family| White| Female|           0|           0|            40| United-States| <=50K|    2|\n| 30|  Private|144593|      HS-grad|            9|      Never-married|  Other-service| Not-in-family| Black|   Male|           0|           0|            40|             ?| <=50K|    2|\n| 39|  Private| 30916|      HS-grad|            9| Married-civ-spouse|   Craft-repair|       Husband| White|   Male|           0|           0|            40| United-States| <=50K|    2|\n+---+---------+------+-------------+-------------+-------------------+---------------+--------------+------+-------+------------+------------+--------------+--------------+------+-----+\nonly showing top 5 rows\n\n"
     ]
    }
   ],
   "source": [
    "# Check for duplicate rows in the DataFrame\n",
    "duplicate_count = df_deequ.groupBy(df_deequ.columns).count().filter(\"count > 1\").count()\n",
    "print(f\"Number of duplicate rows: {duplicate_count}\")\n",
    "\n",
    "# If duplicates exist, you can view them\n",
    "if duplicate_count > 0:\n",
    "    print(\"Sample of duplicate rows:\")\n",
    "    df_deequ.groupBy(df_deequ.columns).count().filter(\"count > 1\").show(5)\n"
   ]
  },
  {
   "cell_type": "markdown",
   "metadata": {
    "application/vnd.databricks.v1+cell": {
     "cellMetadata": {
      "byteLimit": 2048000,
      "rowLimit": 10000
     },
     "inputWidgets": {},
     "nuid": "f15dbd06-2019-43c9-9e70-55909bd74834",
     "showTitle": false,
     "tableResultSettingsMap": {},
     "title": ""
    }
   },
   "source": [
    "#### Remove the duplicated rows"
   ]
  },
  {
   "cell_type": "code",
   "execution_count": 0,
   "metadata": {
    "application/vnd.databricks.v1+cell": {
     "cellMetadata": {
      "byteLimit": 2048000,
      "rowLimit": 10000
     },
     "inputWidgets": {},
     "nuid": "ac679d3d-8919-47b3-bcfc-cadd3646095b",
     "showTitle": false,
     "tableResultSettingsMap": {},
     "title": ""
    }
   },
   "outputs": [
    {
     "output_type": "stream",
     "name": "stdout",
     "output_type": "stream",
     "text": [
      "Original number of rows: 32560\nNumber of duplicate row patterns: 23\nExamples of duplicate rows:\n+---+---------+------+-------------+-------------+-------------------+---------------+--------------+------+-------+------------+------------+--------------+--------------+------+-----+\n|age|workclass|fnlwgt|education    |education_num|marital_status     |occupation     |relationship  |race  |sex    |capital_gain|capital_loss|hours_per_week|native_country|income|count|\n+---+---------+------+-------------+-------------+-------------------+---------------+--------------+------+-------+------------+------------+--------------+--------------+------+-----+\n|46 | Private |133616| Some-college|10           | Divorced          | Adm-clerical  | Unmarried    | White| Female|0           |0           |40            | United-States| <=50K|2    |\n|42 | Private |204235| Some-college|10           | Married-civ-spouse| Prof-specialty| Husband      | White| Male  |0           |0           |40            | United-States| >50K |2    |\n|35 | Private |379959| HS-grad     |9            | Divorced          | Other-service | Not-in-family| White| Female|0           |0           |40            | United-States| <=50K|2    |\n|30 | Private |144593| HS-grad     |9            | Never-married     | Other-service | Not-in-family| Black| Male  |0           |0           |40            | ?            | <=50K|2    |\n|39 | Private |30916 | HS-grad     |9            | Married-civ-spouse| Craft-repair  | Husband      | White| Male  |0           |0           |40            | United-States| <=50K|2    |\n+---+---------+------+-------------+-------------+-------------------+---------------+--------------+------+-------+------------+------------+--------------+--------------+------+-----+\nonly showing top 5 rows\n\nNumber of rows after removing duplicates: 32536\nNumber of duplicate rows removed: 24\nRemaining duplicate patterns after deduplication: 0\n"
     ]
    }
   ],
   "source": [
    "# Step 1: Check the number of rows before removing duplicates\n",
    "original_count = df_deequ.count()\n",
    "print(f\"Original number of rows: {original_count}\")\n",
    "\n",
    "# Step 2: Identify duplicate rows\n",
    "# First, let's see how many duplicates we have\n",
    "duplicate_count = df_deequ.groupBy(df_deequ.columns).count().filter(\"count > 1\").count()\n",
    "print(f\"Number of duplicate row patterns: {duplicate_count}\")\n",
    "\n",
    "# Optional: View some examples of the duplicated rows\n",
    "print(\"Examples of duplicate rows:\")\n",
    "duplicates = df_deequ.groupBy(df_deequ.columns).count().filter(\"count > 1\")\n",
    "duplicates.show(5, truncate=False)\n",
    "\n",
    "# Step 3: Remove duplicates and create a new DataFrame\n",
    "df_deduped = df_deequ.dropDuplicates()\n",
    "\n",
    "# Step 4: Check the number of rows after removing duplicates\n",
    "deduped_count = df_deduped.count()\n",
    "print(f\"Number of rows after removing duplicates: {deduped_count}\")\n",
    "print(f\"Number of duplicate rows removed: {original_count - deduped_count}\")\n",
    "\n",
    "# Step 5: Verify that no duplicates remain\n",
    "remaining_dupes = df_deduped.groupBy(df_deduped.columns).count().filter(\"count > 1\").count()\n",
    "print(f\"Remaining duplicate patterns after deduplication: {remaining_dupes}\")"
   ]
  },
  {
   "cell_type": "code",
   "execution_count": 0,
   "metadata": {
    "application/vnd.databricks.v1+cell": {
     "cellMetadata": {
      "byteLimit": 2048000,
      "rowLimit": 10000
     },
     "inputWidgets": {},
     "nuid": "f1ab751f-68b9-4ae5-9bd6-f8c3ff2b43a5",
     "showTitle": false,
     "tableResultSettingsMap": {},
     "title": ""
    }
   },
   "outputs": [],
   "source": [
    "# Use the deduplicated DataFrame for further analysis\n",
    "df_deequ = df_deduped"
   ]
  },
  {
   "cell_type": "markdown",
   "metadata": {
    "application/vnd.databricks.v1+cell": {
     "cellMetadata": {
      "byteLimit": 2048000,
      "rowLimit": 10000
     },
     "inputWidgets": {},
     "nuid": "d3ebf52e-a81f-4654-911d-d580a9e80d35",
     "showTitle": false,
     "tableResultSettingsMap": {},
     "title": ""
    }
   },
   "source": [
    "#### Run Basic Data Profiling with Proper Column Names"
   ]
  },
  {
   "cell_type": "code",
   "execution_count": 0,
   "metadata": {
    "application/vnd.databricks.v1+cell": {
     "cellMetadata": {
      "byteLimit": 2048000,
      "rowLimit": 10000
     },
     "inputWidgets": {},
     "nuid": "b45e8031-983b-4530-a215-03d23d0353ab",
     "showTitle": false,
     "tableResultSettingsMap": {},
     "title": ""
    }
   },
   "outputs": [
    {
     "output_type": "stream",
     "name": "stdout",
     "output_type": "stream",
     "text": [
      "+-------+--------------+-----------------+------------------+\n|entity |instance      |name             |value             |\n+-------+--------------+-----------------+------------------+\n|Column |age           |Minimum          |17.0              |\n|Column |age           |Maximum          |90.0              |\n|Dataset|*             |Size             |32536.0           |\n|Column |hours_per_week|Mean             |40.440343004671746|\n|Column |education_num |Mean             |10.081724858618147|\n|Column |age           |Mean             |38.58553602163757 |\n|Column |age           |StandardDeviation|13.637983324909587|\n+-------+--------------+-----------------+------------------+\n\n"
     ]
    },
    {
     "output_type": "stream",
     "name": "stderr",
     "output_type": "stream",
     "text": [
      "/databricks/spark/python/pyspark/sql/dataframe.py:159: UserWarning: DataFrame constructor is internal. Do not directly use it.\n  warnings.warn(\"DataFrame constructor is internal. Do not directly use it.\")\n"
     ]
    }
   ],
   "source": [
    "# Run analysis for basic profiling with proper column names\n",
    "analysis_result = AnalysisRunner(spark) \\\n",
    "    .onData(df_deequ) \\\n",
    "    .addAnalyzer(Size()) \\\n",
    "    .addAnalyzer(Completeness(\"*\")) \\\n",
    "    .addAnalyzer(Mean(\"age\")) \\\n",
    "    .addAnalyzer(Mean(\"education_num\")) \\\n",
    "    .addAnalyzer(Mean(\"hours_per_week\")) \\\n",
    "    .addAnalyzer(Minimum(\"age\")) \\\n",
    "    .addAnalyzer(Maximum(\"age\")) \\\n",
    "    .addAnalyzer(StandardDeviation(\"age\")) \\\n",
    "    .run()\n",
    "\n",
    "# Convert results to DataFrame and display\n",
    "analysis_result_df = AnalyzerContext.successMetricsAsDataFrame(spark, analysis_result)\n",
    "analysis_result_df.show(truncate=False)\n"
   ]
  },
  {
   "cell_type": "markdown",
   "metadata": {
    "application/vnd.databricks.v1+cell": {
     "cellMetadata": {
      "byteLimit": 2048000,
      "rowLimit": 10000
     },
     "inputWidgets": {},
     "nuid": "c27aff4c-2296-47c1-9da6-c5fed0c6fad0",
     "showTitle": false,
     "tableResultSettingsMap": {},
     "title": ""
    }
   },
   "source": [
    "#### Analyze Categorical Columns"
   ]
  },
  {
   "cell_type": "code",
   "execution_count": 0,
   "metadata": {
    "application/vnd.databricks.v1+cell": {
     "cellMetadata": {
      "byteLimit": 2048000,
      "rowLimit": 10000
     },
     "inputWidgets": {},
     "nuid": "e9b49414-00e3-4cb2-8782-6a0a3529c735",
     "showTitle": false,
     "tableResultSettingsMap": {},
     "title": ""
    }
   },
   "outputs": [
    {
     "output_type": "stream",
     "name": "stdout",
     "output_type": "stream",
     "text": [
      "+-----------+-----------------------------------------------------------------------------------------+------------+------------------+\n|entity     |instance                                                                                 |name        |value             |\n+-----------+-----------------------------------------------------------------------------------------+------------+------------------+\n|Multicolumn|workclass,education,marital_status,occupation,relationship,race,sex,native_country,income|Distinctness|0.2964716006884682|\n+-----------+-----------------------------------------------------------------------------------------+------------+------------------+\n\n\nDistribution of workclass:\n+-----------------+-----+\n|        workclass|count|\n+-----------------+-----+\n|          Private|22673|\n| Self-emp-not-inc| 2540|\n|        Local-gov| 2093|\n|                ?| 1836|\n|        State-gov| 1297|\n|     Self-emp-inc| 1116|\n|      Federal-gov|  960|\n|      Without-pay|   14|\n|     Never-worked|    7|\n+-----------------+-----+\n\n\nDistribution of education:\n+-------------+-----+\n|    education|count|\n+-------------+-----+\n|      HS-grad|10494|\n| Some-college| 7282|\n|    Bachelors| 5352|\n|      Masters| 1722|\n|    Assoc-voc| 1382|\n|         11th| 1175|\n|   Assoc-acdm| 1067|\n|         10th|  933|\n|      7th-8th|  645|\n|  Prof-school|  576|\n+-------------+-----+\nonly showing top 10 rows\n\n\nDistribution of marital_status:\n+--------------------+-----+\n|      marital_status|count|\n+--------------------+-----+\n|  Married-civ-spouse|14970|\n|       Never-married|10666|\n|            Divorced| 4441|\n|           Separated| 1025|\n|             Widowed|  993|\n| Married-spouse-a...|  418|\n|   Married-AF-spouse|   23|\n+--------------------+-----+\n\n\nDistribution of occupation:\n+------------------+-----+\n|        occupation|count|\n+------------------+-----+\n|    Prof-specialty| 4136|\n|      Craft-repair| 4094|\n|   Exec-managerial| 4065|\n|      Adm-clerical| 3767|\n|             Sales| 3650|\n|     Other-service| 3291|\n| Machine-op-inspct| 2000|\n|                 ?| 1843|\n|  Transport-moving| 1597|\n| Handlers-cleaners| 1369|\n+------------------+-----+\nonly showing top 10 rows\n\n\nDistribution of relationship:\n+---------------+-----+\n|   relationship|count|\n+---------------+-----+\n|        Husband|13187|\n|  Not-in-family| 8291|\n|      Own-child| 5064|\n|      Unmarried| 3445|\n|           Wife| 1568|\n| Other-relative|  981|\n+---------------+-----+\n\n\nDistribution of race:\n+-------------------+-----+\n|               race|count|\n+-------------------+-----+\n|              White|27794|\n|              Black| 3122|\n| Asian-Pac-Islander| 1038|\n| Amer-Indian-Eskimo|  311|\n|              Other|  271|\n+-------------------+-----+\n\n\nDistribution of sex:\n+-------+-----+\n|    sex|count|\n+-------+-----+\n|   Male|21774|\n| Female|10762|\n+-------+-----+\n\n\nDistribution of native_country:\n+--------------+-----+\n|native_country|count|\n+--------------+-----+\n| United-States|29152|\n|        Mexico|  639|\n|             ?|  582|\n|   Philippines|  198|\n|       Germany|  137|\n|        Canada|  121|\n|   Puerto-Rico|  114|\n|   El-Salvador|  106|\n|         India|  100|\n|          Cuba|   95|\n+--------------+-----+\nonly showing top 10 rows\n\n\nDistribution of income:\n+------+-----+\n|income|count|\n+------+-----+\n| <=50K|24697|\n|  >50K| 7839|\n+------+-----+\n\n"
     ]
    }
   ],
   "source": [
    "# Analyze categorical columns\n",
    "from pydeequ.analyzers import Distinctness, Uniqueness, UniqueValueRatio\n",
    "\n",
    "categorical_columns = [\"workclass\", \"education\", \"marital_status\", \"occupation\", \n",
    "                       \"relationship\", \"race\", \"sex\", \"native_country\", \"income\"]\n",
    "\n",
    "categorical_analysis = AnalysisRunner(spark) \\\n",
    "    .onData(df_deequ) \\\n",
    "    .addAnalyzer(Distinctness(categorical_columns)) \\\n",
    "    .run()\n",
    "\n",
    "categorical_results = AnalyzerContext.successMetricsAsDataFrame(spark, categorical_analysis)\n",
    "categorical_results.show(truncate=False)\n",
    "\n",
    "# Count distribution of values in categorical columns\n",
    "for column in categorical_columns:\n",
    "    print(f\"\\nDistribution of {column}:\")\n",
    "    df_deequ.groupBy(column).count().orderBy(\"count\", ascending=False).show(10)\n"
   ]
  },
  {
   "cell_type": "markdown",
   "metadata": {
    "application/vnd.databricks.v1+cell": {
     "cellMetadata": {
      "byteLimit": 2048000,
      "rowLimit": 10000
     },
     "inputWidgets": {},
     "nuid": "39d1109f-e30f-4dd5-8149-902d3e092108",
     "showTitle": false,
     "tableResultSettingsMap": {},
     "title": ""
    }
   },
   "source": [
    "#### Perform Meaningful Data Quality Checks\n"
   ]
  },
  {
   "cell_type": "code",
   "execution_count": 0,
   "metadata": {
    "application/vnd.databricks.v1+cell": {
     "cellMetadata": {
      "byteLimit": 2048000,
      "rowLimit": 10000
     },
     "inputWidgets": {},
     "nuid": "06afa28d-f93e-4324-9ad2-f356a067cd23",
     "showTitle": false,
     "tableResultSettingsMap": {},
     "title": ""
    }
   },
   "outputs": [
    {
     "output_type": "stream",
     "name": "stdout",
     "output_type": "stream",
     "text": [
      "+-------------------------------+-----------+------------+----------------------------------------------------------------------------------------------------------------------------------------------------------+-----------------+----------------------------------------------------+\n|check                          |check_level|check_status|constraint                                                                                                                                                |constraint_status|constraint_message                                  |\n+-------------------------------+-----------+------------+----------------------------------------------------------------------------------------------------------------------------------------------------------+-----------------+----------------------------------------------------+\n|Adult Census Data Quality Check|Warning    |Warning     |SizeConstraint(Size(None))                                                                                                                                |Success          |                                                    |\n|Adult Census Data Quality Check|Warning    |Warning     |CompletenessConstraint(Completeness(age,None,None))                                                                                                       |Success          |                                                    |\n|Adult Census Data Quality Check|Warning    |Warning     |CompletenessConstraint(Completeness(income,None,None))                                                                                                    |Success          |                                                    |\n|Adult Census Data Quality Check|Warning    |Warning     |ComplianceConstraint(Compliance(income contained in <=50K,>50K,`income` IS NULL OR `income` IN ('<=50K','>50K'),None,List(income),None))                  |Failure          |Value: 0.0 does not meet the constraint requirement!|\n|Adult Census Data Quality Check|Warning    |Warning     |ComplianceConstraint(Compliance(age is non-negative,COALESCE(CAST(age AS DECIMAL(20,10)), 0.0) >= 0,None,List(age),None))                                 |Success          |                                                    |\n|Adult Census Data Quality Check|Warning    |Warning     |ComplianceConstraint(Compliance(hours_per_week is non-negative,COALESCE(CAST(hours_per_week AS DECIMAL(20,10)), 0.0) >= 0,None,List(hours_per_week),None))|Success          |                                                    |\n|Adult Census Data Quality Check|Warning    |Warning     |MinimumConstraint(Minimum(age,None,None))                                                                                                                 |Success          |                                                    |\n|Adult Census Data Quality Check|Warning    |Warning     |MaximumConstraint(Maximum(age,None,None))                                                                                                                 |Success          |                                                    |\n|Adult Census Data Quality Check|Warning    |Warning     |MaximumConstraint(Maximum(hours_per_week,None,None))                                                                                                      |Success          |                                                    |\n|Adult Census Data Quality Check|Warning    |Warning     |ComplianceConstraint(Compliance(sex contained in Male,Female,`sex` IS NULL OR `sex` IN ('Male','Female'),None,List(sex),None))                            |Failure          |Value: 0.0 does not meet the constraint requirement!|\n+-------------------------------+-----------+------------+----------------------------------------------------------------------------------------------------------------------------------------------------------+-----------------+----------------------------------------------------+\n\n"
     ]
    }
   ],
   "source": [
    "# Define checks based on your actual data\n",
    "check = Check(spark, CheckLevel.Warning, \"Adult Census Data Quality Check\")\n",
    "\n",
    "checkResult = VerificationSuite(spark) \\\n",
    "    .onData(df_deequ) \\\n",
    "    .addCheck(\n",
    "        check.hasSize(lambda x: x >= 1000)  # Ensure dataset has sufficient size\n",
    "        .isComplete(\"age\")  # Check age is complete\n",
    "        .isComplete(\"income\")  # Check income is complete\n",
    "        .isContainedIn(\"income\", [\"<=50K\", \">50K\"])  # Check income values\n",
    "        .isNonNegative(\"age\")  # Age should be non-negative\n",
    "        .isNonNegative(\"hours_per_week\")  # Working hours should be non-negative\n",
    "        .hasMin(\"age\", lambda x: x >= 16)  # Minimum working age\n",
    "        .hasMax(\"age\", lambda x: x <= 100)  # Maximum reasonable age\n",
    "        .hasMax(\"hours_per_week\", lambda x: x <= 168)  # Maximum hours in a week\n",
    "        .isContainedIn(\"sex\", [\"Male\", \"Female\"])  # Check sex values\n",
    "    ) \\\n",
    "    .run()\n",
    "\n",
    "# Convert results to DataFrame and display\n",
    "checkResult_df = VerificationResult.checkResultsAsDataFrame(spark, checkResult)\n",
    "checkResult_df.show(truncate=False)\n"
   ]
  },
  {
   "cell_type": "markdown",
   "metadata": {
    "application/vnd.databricks.v1+cell": {
     "cellMetadata": {
      "byteLimit": 2048000,
      "rowLimit": 10000
     },
     "inputWidgets": {},
     "nuid": "f8b9ca32-26b7-4d44-9709-ad233341acdd",
     "showTitle": false,
     "tableResultSettingsMap": {},
     "title": ""
    }
   },
   "source": [
    "#### Analyze Missing Values and Anomalies\n"
   ]
  },
  {
   "cell_type": "code",
   "execution_count": 0,
   "metadata": {
    "application/vnd.databricks.v1+cell": {
     "cellMetadata": {
      "byteLimit": 2048000,
      "rowLimit": 10000
     },
     "inputWidgets": {},
     "nuid": "ee56728b-1d43-416d-b065-d1e25cdf1c06",
     "showTitle": false,
     "tableResultSettingsMap": {},
     "title": ""
    }
   },
   "outputs": [
    {
     "output_type": "stream",
     "name": "stdout",
     "output_type": "stream",
     "text": [
      "Column age: 0 missing values (0.00%)\nColumn workclass: 0 missing values (0.00%)\nColumn fnlwgt: 0 missing values (0.00%)\nColumn education: 0 missing values (0.00%)\nColumn education_num: 0 missing values (0.00%)\nColumn marital_status: 0 missing values (0.00%)\nColumn occupation: 0 missing values (0.00%)\nColumn relationship: 0 missing values (0.00%)\nColumn race: 0 missing values (0.00%)\nColumn sex: 0 missing values (0.00%)\nColumn capital_gain: 0 missing values (0.00%)\nColumn capital_loss: 0 missing values (0.00%)\nColumn hours_per_week: 0 missing values (0.00%)\nColumn native_country: 0 missing values (0.00%)\nColumn income: 0 missing values (0.00%)\n\nStatistics for age:\nCount: 32536\nMin: 17.0\nMax: 90.0\nMean: 38.58553602163757\nStdDev: 13.638192912715516\nNon-zero count: 32536\n\nStatistics for fnlwgt:\nCount: 32536\nMin: 12285.0\nMax: 1484705.0\nMean: 189784.2989918859\nStdDev: 105556.2582113857\nNon-zero count: 32536\n\nStatistics for education_num:\nCount: 32536\nMin: 1.0\nMax: 16.0\nMean: 10.081724858618147\nStdDev: 2.571621639092117\nNon-zero count: 32536\n\nStatistics for capital_gain:\nCount: 32536\nMin: 0.0\nMax: 99999.0\nMean: 1078.4100688468159\nStdDev: 7388.0684652053\nNon-zero count: 2711\n\nStatistics for capital_loss:\nCount: 32536\nMin: 0.0\nMax: 4356.0\nMean: 87.3709122203098\nStdDev: 403.10773689376055\nNon-zero count: 1519\n\nStatistics for hours_per_week:\nCount: 32536\nMin: 1.0\nMax: 99.0\nMean: 40.440343004671746\nStdDev: 12.347078687126913\nNon-zero count: 32536\n\nDetailed summary for all numerical columns:\n+-------+------------------+-----------------+------------------+------------------+------------------+------------------+\n|summary|               age|           fnlwgt|     education_num|      capital_gain|      capital_loss|    hours_per_week|\n+-------+------------------+-----------------+------------------+------------------+------------------+------------------+\n|  count|             32536|            32536|             32536|             32536|             32536|             32536|\n|   mean| 38.58553602163757|189784.2989918859|10.081724858618147|1078.4100688468159|  87.3709122203098|40.440343004671746|\n| stddev|13.638192912715516|105556.2582113857| 2.571621639092117|   7388.0684652053|403.10773689376055|12.347078687126913|\n|    min|                17|            12285|                 1|                 0|                 0|                 1|\n|    25%|                28|           117814|                 9|                 0|                 0|                40|\n|    50%|                37|           178353|                10|                 0|                 0|                40|\n|    75%|                48|           236985|                12|                 0|                 0|                45|\n|    max|                90|          1484705|                16|             99999|              4356|                99|\n+-------+------------------+-----------------+------------------+------------------+------------------+------------------+\n\n"
     ]
    }
   ],
   "source": [
    "from pyspark.sql.functions import col, min, max, mean, stddev, count, when, lit\n",
    "\n",
    "# Check for missing values or placeholders (like '?')\n",
    "for column in proper_column_names:\n",
    "    missing_count = df_deequ.filter(df_deequ[column].isNull() | (df_deequ[column] == \"?\")).count()\n",
    "    total_count = df_deequ.count()\n",
    "    missing_percentage = (missing_count / total_count) * 100\n",
    "    print(f\"Column {column}: {missing_count} missing values ({missing_percentage:.2f}%)\")\n",
    "\n",
    "# Check for potential outliers in numerical columns\n",
    "numerical_columns = [\"age\", \"fnlwgt\", \"education_num\", \"capital_gain\", \"capital_loss\", \"hours_per_week\"]\n",
    "\n",
    "# Function to safely cast to double\n",
    "def safe_cast(column_name):\n",
    "    return col(column_name).cast(\"double\")\n",
    "\n",
    "# Calculate statistics for numerical columns\n",
    "for column in numerical_columns:\n",
    "    stats = df_deequ.select(\n",
    "        count(col(column)).alias(\"count\"),\n",
    "        min(safe_cast(column)).alias(\"min\"),\n",
    "        max(safe_cast(column)).alias(\"max\"),\n",
    "        mean(safe_cast(column)).alias(\"mean\"),\n",
    "        stddev(safe_cast(column)).alias(\"stddev\"),\n",
    "        count(when(safe_cast(column) > 0, lit(1))).alias(\"non_zero_count\")\n",
    "    ).collect()[0]\n",
    "    \n",
    "    print(f\"\\nStatistics for {column}:\")\n",
    "    print(f\"Count: {stats['count']}\")\n",
    "    print(f\"Min: {stats['min']}\")\n",
    "    print(f\"Max: {stats['max']}\")\n",
    "    print(f\"Mean: {stats['mean']}\")\n",
    "    print(f\"StdDev: {stats['stddev']}\")\n",
    "    print(f\"Non-zero count: {stats['non_zero_count']}\")\n",
    "\n",
    "# For a more detailed view of each column\n",
    "print(\"\\nDetailed summary for all numerical columns:\")\n",
    "df_deequ.select(*numerical_columns).summary().show()\n"
   ]
  },
  {
   "cell_type": "code",
   "execution_count": 0,
   "metadata": {
    "application/vnd.databricks.v1+cell": {
     "cellMetadata": {
      "byteLimit": 2048000,
      "rowLimit": 10000
     },
     "inputWidgets": {},
     "nuid": "1c4c400d-539c-4c0b-9203-7271b9abaa21",
     "showTitle": false,
     "tableResultSettingsMap": {},
     "title": ""
    }
   },
   "outputs": [
    {
     "output_type": "stream",
     "name": "stdout",
     "output_type": "stream",
     "text": [
      "Constraint suggestion for column: marital_status\nDescription: 'marital_status' has value range ' Married-civ-spouse', ' Never-married', ' Divorced', ' Separated', ' Widowed', ' Married-spouse-absent', ' Married-AF-spouse'\nConstraint code: .isContainedIn(\"marital_status\", [\" Married-civ-spouse\", \" Never-married\", \" Divorced\", \" Separated\", \" Widowed\", \" Married-spouse-absent\", \" Married-AF-spouse\"])\n---\nConstraint suggestion for column: marital_status\nDescription: 'marital_status' is not null\nConstraint code: .isComplete(\"marital_status\")\n---\nConstraint suggestion for column: marital_status\nDescription: 'marital_status' has value range ' Married-civ-spouse', ' Never-married', ' Divorced' for at least 92.0% of values\nConstraint code: .isContainedIn(\"marital_status\", [\" Married-civ-spouse\", \" Never-married\", \" Divorced\"], lambda x: x >= 0.92, \"It should be above 0.92!\")\n---\nConstraint suggestion for column: education_num\nDescription: 'education_num' has value range '9', '10', '13', '14', '11', '7', '12', '6', '4', '15', '5', '8', '16', '3', '2', '1'\nConstraint code: .isContainedIn(\"education_num\", [\"9\", \"10\", \"13\", \"14\", \"11\", \"7\", \"12\", \"6\", \"4\", \"15\", \"5\", \"8\", \"16\", \"3\", \"2\", \"1\"])\n---\nConstraint suggestion for column: education_num\nDescription: 'education_num' is not null\nConstraint code: .isComplete(\"education_num\")\n---\nConstraint suggestion for column: education_num\nDescription: 'education_num' has value range '9', '10', '13', '14', '11', '7', '12', '6' for at least 90.0% of values\nConstraint code: .isContainedIn(\"education_num\", [\"9\", \"10\", \"13\", \"14\", \"11\", \"7\", \"12\", \"6\"], lambda x: x >= 0.9, \"It should be above 0.9!\")\n---\nConstraint suggestion for column: education_num\nDescription: 'education_num' has no negative values\nConstraint code: .isNonNegative(\"education_num\")\n---\nConstraint suggestion for column: native_country\nDescription: 'native_country' has value range ' United-States', ' Mexico', ' ?', ' Philippines', ' Germany', ' Canada', ' Puerto-Rico', ' El-Salvador', ' India', ' Cuba', ' England', ' Jamaica', ' South', ' China', ' Italy', ' Dominican-Republic', ' Vietnam', ' Japan', ' Guatemala', ' Poland', ' Columbia', ' Taiwan', ' Haiti', ' Iran', ' Portugal', ' Nicaragua', ' Peru', ' Greece', ' France', ' Ecuador', ' Ireland', ' Hong', ' Cambodia', ' Trinadad&Tobago', ' Thailand', ' Laos', ' Yugoslavia', ' Outlying-US(Guam-USVI-etc)', ' Hungary', ' Honduras', ' Scotland', ' Holand-Netherlands'\nConstraint code: .isContainedIn(\"native_country\", [\" United-States\", \" Mexico\", \" ?\", \" Philippines\", \" Germany\", \" Canada\", \" Puerto-Rico\", \" El-Salvador\", \" India\", \" Cuba\", \" England\", \" Jamaica\", \" South\", \" China\", \" Italy\", \" Dominican-Republic\", \" Vietnam\", \" Japan\", \" Guatemala\", \" Poland\", \" Columbia\", \" Taiwan\", \" Haiti\", \" Iran\", \" Portugal\", \" Nicaragua\", \" Peru\", \" Greece\", \" France\", \" Ecuador\", \" Ireland\", \" Hong\", \" Cambodia\", \" Trinadad&Tobago\", \" Thailand\", \" Laos\", \" Yugoslavia\", \" Outlying-US(Guam-USVI-etc]\", \" Hungary\", \" Honduras\", \" Scotland\", \" Holand-Netherlands\"))\n---\nConstraint suggestion for column: native_country\nDescription: 'native_country' is not null\nConstraint code: .isComplete(\"native_country\")\n---\nConstraint suggestion for column: native_country\nDescription: 'native_country' has value range ' United-States', ' Mexico' for at least 91.0% of values\nConstraint code: .isContainedIn(\"native_country\", [\" United-States\", \" Mexico\"], lambda x: x >= 0.91, \"It should be above 0.91!\")\n---\nConstraint suggestion for column: age\nDescription: 'age' has value range '36', '31', '34', '23', '35', '33', '28', '30', '37', '25', '27', '32', '38', '39', '29', '41', '24', '40', '26', '42', '43', '22', '20', '46', '45', '44', '21', '47', '19', '50', '51', '49', '18', '48', '52', '53', '55', '54', '17', '58', '56', '57', '59', '60', '61', '62', '63', '64', '65', '67', '66', '68', '69', '70', '71', '72', '73', '74', '76', '75', '90', '77', '78', '80', '79', '81', '82', '84', '83', '85', '88', '86', '87'\nConstraint code: .isContainedIn(\"age\", [\"36\", \"31\", \"34\", \"23\", \"35\", \"33\", \"28\", \"30\", \"37\", \"25\", \"27\", \"32\", \"38\", \"39\", \"29\", \"41\", \"24\", \"40\", \"26\", \"42\", \"43\", \"22\", \"20\", \"46\", \"45\", \"44\", \"21\", \"47\", \"19\", \"50\", \"51\", \"49\", \"18\", \"48\", \"52\", \"53\", \"55\", \"54\", \"17\", \"58\", \"56\", \"57\", \"59\", \"60\", \"61\", \"62\", \"63\", \"64\", \"65\", \"67\", \"66\", \"68\", \"69\", \"70\", \"71\", \"72\", \"73\", \"74\", \"76\", \"75\", \"90\", \"77\", \"78\", \"80\", \"79\", \"81\", \"82\", \"84\", \"83\", \"85\", \"88\", \"86\", \"87\"])\n---\nConstraint suggestion for column: age\nDescription: 'age' is not null\nConstraint code: .isComplete(\"age\")\n---\nConstraint suggestion for column: age\nDescription: 'age' has value range '36', '31', '34', '23', '35', '33', '28', '30', '37', '25', '27', '32', '38', '39', '29', '41', '24', '40', '26', '42', '43', '22', '20', '46', '45', '44', '21', '47', '19', '50', '51', '49', '18', '48', '52', '53', '55', '54', '17', '58', '56', '57' for at least 90.0% of values\nConstraint code: .isContainedIn(\"age\", [\"36\", \"31\", \"34\", \"23\", \"35\", \"33\", \"28\", \"30\", \"37\", \"25\", \"27\", \"32\", \"38\", \"39\", \"29\", \"41\", \"24\", \"40\", \"26\", \"42\", \"43\", \"22\", \"20\", \"46\", \"45\", \"44\", \"21\", \"47\", \"19\", \"50\", \"51\", \"49\", \"18\", \"48\", \"52\", \"53\", \"55\", \"54\", \"17\", \"58\", \"56\", \"57\"], lambda x: x >= 0.9, \"It should be above 0.9!\")\n---\nConstraint suggestion for column: age\nDescription: 'age' has no negative values\nConstraint code: .isNonNegative(\"age\")\n---\nConstraint suggestion for column: capital_loss\nDescription: 'capital_loss' is not null\nConstraint code: .isComplete(\"capital_loss\")\n---\nConstraint suggestion for column: capital_loss\nDescription: 'capital_loss' has value range '0' for at least 95.0% of values\nConstraint code: .isContainedIn(\"capital_loss\", [\"0\"], lambda x: x >= 0.95, \"It should be above 0.95!\")\n---\nConstraint suggestion for column: capital_loss\nDescription: 'capital_loss' has no negative values\nConstraint code: .isNonNegative(\"capital_loss\")\n---\nConstraint suggestion for column: sex\nDescription: 'sex' has value range ' Male', ' Female'\nConstraint code: .isContainedIn(\"sex\", [\" Male\", \" Female\"])\n---\nConstraint suggestion for column: sex\nDescription: 'sex' is not null\nConstraint code: .isComplete(\"sex\")\n---\nConstraint suggestion for column: relationship\nDescription: 'relationship' has value range ' Husband', ' Not-in-family', ' Own-child', ' Unmarried', ' Wife', ' Other-relative'\nConstraint code: .isContainedIn(\"relationship\", [\" Husband\", \" Not-in-family\", \" Own-child\", \" Unmarried\", \" Wife\", \" Other-relative\"])\n---\nConstraint suggestion for column: relationship\nDescription: 'relationship' is not null\nConstraint code: .isComplete(\"relationship\")\n---\nConstraint suggestion for column: relationship\nDescription: 'relationship' has value range ' Husband', ' Not-in-family', ' Own-child', ' Unmarried' for at least 91.0% of values\nConstraint code: .isContainedIn(\"relationship\", [\" Husband\", \" Not-in-family\", \" Own-child\", \" Unmarried\"], lambda x: x >= 0.91, \"It should be above 0.91!\")\n---\nConstraint suggestion for column: capital_gain\nDescription: 'capital_gain' has value range '0', '15024', '7688', '7298', '99999', '3103', '5178', '4386', '5013', '8614', '3325', '2174', '10520', '4064', '14084', '4650', '20051', '3137', '27828', '594', '3908', '2829', '13550', '6849', '14344', '1055', '2885', '3411', '2176', '4787', '3464', '9386', '4101', '2597', '2407', '4865', '2202', '1506', '3942', '3674', '3781', '4416', '2580', '4508', '10605', '2463', '2635', '2907', '2354', '25236', '5455', '6497', '7430', '6418', '2964', '2105', '1151', '3471', '2977', '2414', '914', '1471', '4934', '3818', '1797', '1409', '1831', '1848', '3887', '114', '15831', '10566', '3273', '2329', '2346', '15020', '2228', '2290', '2050', '3418', '7443', '991', '34095', '2653', '5556', '6514', '6767', '25124', '3432', '9562', '2036', '1086', '4687', '1173', '2009', '5721', '7896', '2936', '6360', '2961', '1424', '11678', '6723', '401', '41310', '2062', '18481', '2993', '3456', '4931', '7978', '22040', '2387', '1111', '1455', '5060', '1639', '2538', '6097'\nConstraint code: .isContainedIn(\"capital_gain\", [\"0\", \"15024\", \"7688\", \"7298\", \"99999\", \"3103\", \"5178\", \"4386\", \"5013\", \"8614\", \"3325\", \"2174\", \"10520\", \"4064\", \"14084\", \"4650\", \"20051\", \"3137\", \"27828\", \"594\", \"3908\", \"2829\", \"13550\", \"6849\", \"14344\", \"1055\", \"2885\", \"3411\", \"2176\", \"4787\", \"3464\", \"9386\", \"4101\", \"2597\", \"2407\", \"4865\", \"2202\", \"1506\", \"3942\", \"3674\", \"3781\", \"4416\", \"2580\", \"4508\", \"10605\", \"2463\", \"2635\", \"2907\", \"2354\", \"25236\", \"5455\", \"6497\", \"7430\", \"6418\", \"2964\", \"2105\", \"1151\", \"3471\", \"2977\", \"2414\", \"914\", \"1471\", \"4934\", \"3818\", \"1797\", \"1409\", \"1831\", \"1848\", \"3887\", \"114\", \"15831\", \"10566\", \"3273\", \"2329\", \"2346\", \"15020\", \"2228\", \"2290\", \"2050\", \"3418\", \"7443\", \"991\", \"34095\", \"2653\", \"5556\", \"6514\", \"6767\", \"25124\", \"3432\", \"9562\", \"2036\", \"1086\", \"4687\", \"1173\", \"2009\", \"5721\", \"7896\", \"2936\", \"6360\", \"2961\", \"1424\", \"11678\", \"6723\", \"401\", \"41310\", \"2062\", \"18481\", \"2993\", \"3456\", \"4931\", \"7978\", \"22040\", \"2387\", \"1111\", \"1455\", \"5060\", \"1639\", \"2538\", \"6097\"])\n---\nConstraint suggestion for column: capital_gain\nDescription: 'capital_gain' is not null\nConstraint code: .isComplete(\"capital_gain\")\n---\nConstraint suggestion for column: capital_gain\nDescription: 'capital_gain' has value range '0' for at least 91.0% of values\nConstraint code: .isContainedIn(\"capital_gain\", [\"0\"], lambda x: x >= 0.91, \"It should be above 0.91!\")\n---\nConstraint suggestion for column: capital_gain\nDescription: 'capital_gain' has no negative values\nConstraint code: .isNonNegative(\"capital_gain\")\n---\nConstraint suggestion for column: education\nDescription: 'education' has value range ' HS-grad', ' Some-college', ' Bachelors', ' Masters', ' Assoc-voc', ' 11th', ' Assoc-acdm', ' 10th', ' 7th-8th', ' Prof-school', ' 9th', ' 12th', ' Doctorate', ' 5th-6th', ' 1st-4th', ' Preschool'\nConstraint code: .isContainedIn(\"education\", [\" HS-grad\", \" Some-college\", \" Bachelors\", \" Masters\", \" Assoc-voc\", \" 11th\", \" Assoc-acdm\", \" 10th\", \" 7th-8th\", \" Prof-school\", \" 9th\", \" 12th\", \" Doctorate\", \" 5th-6th\", \" 1st-4th\", \" Preschool\"])\n---\nConstraint suggestion for column: education\nDescription: 'education' is not null\nConstraint code: .isComplete(\"education\")\n---\nConstraint suggestion for column: education\nDescription: 'education' has value range ' HS-grad', ' Some-college', ' Bachelors', ' Masters', ' Assoc-voc', ' 11th', ' Assoc-acdm', ' 10th' for at least 90.0% of values\nConstraint code: .isContainedIn(\"education\", [\" HS-grad\", \" Some-college\", \" Bachelors\", \" Masters\", \" Assoc-voc\", \" 11th\", \" Assoc-acdm\", \" 10th\"], lambda x: x >= 0.9, \"It should be above 0.9!\")\n---\nConstraint suggestion for column: hours_per_week\nDescription: 'hours_per_week' has value range '40', '50', '45', '60', '35', '20', '30', '55', '25', '48', '38', '15', '70', '10', '32', '24', '65', '36', '42', '44', '16', '12', '43', '37', '8', '52', '80', '56', '28', '99', '46', '18', '72', '75', '6', '5', '4', '47', '84', '22', '54', '3', '33', '39', '41', '14', '2', '27', '26', '17', '49', '90', '58', '34', '7', '53', '21', '13', '23', '1', '9', '62', '57', '66', '64', '19', '85', '51', '68', '11', '98', '63', '78', '29', '77', '96', '31', '59', '67', '91', '81', '76', '97', '86', '95', '61', '88', '73', '89', '74', '92', '82', '87', '94'\nConstraint code: .isContainedIn(\"hours_per_week\", [\"40\", \"50\", \"45\", \"60\", \"35\", \"20\", \"30\", \"55\", \"25\", \"48\", \"38\", \"15\", \"70\", \"10\", \"32\", \"24\", \"65\", \"36\", \"42\", \"44\", \"16\", \"12\", \"43\", \"37\", \"8\", \"52\", \"80\", \"56\", \"28\", \"99\", \"46\", \"18\", \"72\", \"75\", \"6\", \"5\", \"4\", \"47\", \"84\", \"22\", \"54\", \"3\", \"33\", \"39\", \"41\", \"14\", \"2\", \"27\", \"26\", \"17\", \"49\", \"90\", \"58\", \"34\", \"7\", \"53\", \"21\", \"13\", \"23\", \"1\", \"9\", \"62\", \"57\", \"66\", \"64\", \"19\", \"85\", \"51\", \"68\", \"11\", \"98\", \"63\", \"78\", \"29\", \"77\", \"96\", \"31\", \"59\", \"67\", \"91\", \"81\", \"76\", \"97\", \"86\", \"95\", \"61\", \"88\", \"73\", \"89\", \"74\", \"92\", \"82\", \"87\", \"94\"])\n---\nConstraint suggestion for column: hours_per_week\nDescription: 'hours_per_week' is not null\nConstraint code: .isComplete(\"hours_per_week\")\n---\nConstraint suggestion for column: hours_per_week\nDescription: 'hours_per_week' has value range '40', '50', '45', '60', '35', '20', '30', '55', '25', '48', '38', '15', '70', '10', '32', '24', '65', '36' for at least 89.0% of values\nConstraint code: .isContainedIn(\"hours_per_week\", [\"40\", \"50\", \"45\", \"60\", \"35\", \"20\", \"30\", \"55\", \"25\", \"48\", \"38\", \"15\", \"70\", \"10\", \"32\", \"24\", \"65\", \"36\"], lambda x: x >= 0.89, \"It should be above 0.89!\")\n---\nConstraint suggestion for column: hours_per_week\nDescription: 'hours_per_week' has no negative values\nConstraint code: .isNonNegative(\"hours_per_week\")\n---\nConstraint suggestion for column: income\nDescription: 'income' has value range ' <=50K', ' >50K'\nConstraint code: .isContainedIn(\"income\", [\" <=50K\", \" >50K\"])\n---\nConstraint suggestion for column: income\nDescription: 'income' is not null\nConstraint code: .isComplete(\"income\")\n---\nConstraint suggestion for column: race\nDescription: 'race' has value range ' White', ' Black', ' Asian-Pac-Islander', ' Amer-Indian-Eskimo', ' Other'\nConstraint code: .isContainedIn(\"race\", [\" White\", \" Black\", \" Asian-Pac-Islander\", \" Amer-Indian-Eskimo\", \" Other\"])\n---\nConstraint suggestion for column: race\nDescription: 'race' is not null\nConstraint code: .isComplete(\"race\")\n---\nConstraint suggestion for column: race\nDescription: 'race' has value range ' White', ' Black' for at least 94.0% of values\nConstraint code: .isContainedIn(\"race\", [\" White\", \" Black\"], lambda x: x >= 0.94, \"It should be above 0.94!\")\n---\nConstraint suggestion for column: fnlwgt\nDescription: 'fnlwgt' is not null\nConstraint code: .isComplete(\"fnlwgt\")\n---\nConstraint suggestion for column: fnlwgt\nDescription: 'fnlwgt' has no negative values\nConstraint code: .isNonNegative(\"fnlwgt\")\n---\nConstraint suggestion for column: workclass\nDescription: 'workclass' has value range ' Private', ' Self-emp-not-inc', ' Local-gov', ' ?', ' State-gov', ' Self-emp-inc', ' Federal-gov', ' Without-pay', ' Never-worked'\nConstraint code: .isContainedIn(\"workclass\", [\" Private\", \" Self-emp-not-inc\", \" Local-gov\", \" ?\", \" State-gov\", \" Self-emp-inc\", \" Federal-gov\", \" Without-pay\", \" Never-worked\"])\n---\nConstraint suggestion for column: workclass\nDescription: 'workclass' is not null\nConstraint code: .isComplete(\"workclass\")\n---\nConstraint suggestion for column: workclass\nDescription: 'workclass' has value range ' Private', ' Self-emp-not-inc', ' Local-gov', ' ?', ' State-gov' for at least 93.0% of values\nConstraint code: .isContainedIn(\"workclass\", [\" Private\", \" Self-emp-not-inc\", \" Local-gov\", \" ?\", \" State-gov\"], lambda x: x >= 0.93, \"It should be above 0.93!\")\n---\nConstraint suggestion for column: occupation\nDescription: 'occupation' has value range ' Prof-specialty', ' Craft-repair', ' Exec-managerial', ' Adm-clerical', ' Sales', ' Other-service', ' Machine-op-inspct', ' ?', ' Transport-moving', ' Handlers-cleaners', ' Farming-fishing', ' Tech-support', ' Protective-serv', ' Priv-house-serv', ' Armed-Forces'\nConstraint code: .isContainedIn(\"occupation\", [\" Prof-specialty\", \" Craft-repair\", \" Exec-managerial\", \" Adm-clerical\", \" Sales\", \" Other-service\", \" Machine-op-inspct\", \" ?\", \" Transport-moving\", \" Handlers-cleaners\", \" Farming-fishing\", \" Tech-support\", \" Protective-serv\", \" Priv-house-serv\", \" Armed-Forces\"])\n---\nConstraint suggestion for column: occupation\nDescription: 'occupation' is not null\nConstraint code: .isComplete(\"occupation\")\n---\nConstraint suggestion for column: occupation\nDescription: 'occupation' has value range ' Prof-specialty', ' Craft-repair', ' Exec-managerial', ' Adm-clerical', ' Sales', ' Other-service', ' Machine-op-inspct', ' ?', ' Transport-moving', ' Handlers-cleaners' for at least 91.0% of values\nConstraint code: .isContainedIn(\"occupation\", [\" Prof-specialty\", \" Craft-repair\", \" Exec-managerial\", \" Adm-clerical\", \" Sales\", \" Other-service\", \" Machine-op-inspct\", \" ?\", \" Transport-moving\", \" Handlers-cleaners\"], lambda x: x >= 0.91, \"It should be above 0.91!\")\n---\n"
     ]
    }
   ],
   "source": [
    "# Generate suggestions for data quality checks\n",
    "suggestion_result = ConstraintSuggestionRunner(spark) \\\n",
    "    .onData(df_deequ) \\\n",
    "    .addConstraintRule(DEFAULT()) \\\n",
    "    .run()\n",
    "\n",
    "# Print the suggestions\n",
    "for suggestion in suggestion_result[\"constraint_suggestions\"]:\n",
    "    print(f'Constraint suggestion for column: {suggestion[\"column_name\"]}')\n",
    "    print(f'Description: {suggestion[\"description\"]}')\n",
    "    print(f'Constraint code: {suggestion[\"code_for_constraint\"]}')\n",
    "    print(\"---\")\n"
   ]
  },
  {
   "cell_type": "markdown",
   "metadata": {
    "application/vnd.databricks.v1+cell": {
     "cellMetadata": {
      "byteLimit": 2048000,
      "rowLimit": 10000
     },
     "inputWidgets": {},
     "nuid": "ee0f9c2d-fd96-4c77-88a4-1a98e8b35f62",
     "showTitle": false,
     "tableResultSettingsMap": {},
     "title": ""
    }
   },
   "source": [
    "#### Analyze Correlations Between Features\n"
   ]
  },
  {
   "cell_type": "code",
   "execution_count": 0,
   "metadata": {
    "application/vnd.databricks.v1+cell": {
     "cellMetadata": {
      "byteLimit": 2048000,
      "rowLimit": 10000
     },
     "inputWidgets": {},
     "nuid": "5b064ce8-3a33-43a3-8611-50a32203a88d",
     "showTitle": false,
     "tableResultSettingsMap": {},
     "title": ""
    }
   },
   "outputs": [],
   "source": [
    "from pyspark.ml.feature import VectorAssembler\n",
    "from pyspark.ml.stat import Correlation\n",
    "import pandas as pd\n",
    "import numpy as np\n",
    "import matplotlib.pyplot as plt\n",
    "import seaborn as sns"
   ]
  },
  {
   "cell_type": "code",
   "execution_count": 0,
   "metadata": {
    "application/vnd.databricks.v1+cell": {
     "cellMetadata": {
      "byteLimit": 2048000,
      "rowLimit": 10000
     },
     "inputWidgets": {},
     "nuid": "76f33300-6f97-4b45-86ab-bae4a542abc6",
     "showTitle": false,
     "tableResultSettingsMap": {},
     "title": ""
    }
   },
   "outputs": [
    {
     "output_type": "stream",
     "name": "stdout",
     "output_type": "stream",
     "text": [
      "Correlation Matrix:\n                     age  education_num  ...  capital_loss  hours_per_week\nage             1.000000       0.036224  ...      0.057745        0.068515\neducation_num   0.036224       1.000000  ...      0.079901        0.148426\ncapital_gain    0.077676       0.122661  ...     -0.031638        0.078408\ncapital_loss    0.057745       0.079901  ...      1.000000        0.054229\nhours_per_week  0.068515       0.148426  ...      0.054229        1.000000\n\n[5 rows x 5 columns]\n"
     ]
    },
    {
     "output_type": "display_data",
     "data": {
      "image/png": "[encoded data removed]",
      "text/plain": [
       "<Figure size 1000x800 with 2 Axes>"
      ]
     },
     "metadata": {},
     "output_type": "display_data"
    }
   ],
   "source": [
    "# Select numerical columns\n",
    "numerical_df = df_deequ.select(\"age\", \"education_num\", \"capital_gain\", \"capital_loss\", \"hours_per_week\")\n",
    "\n",
    "# Assemble features into a vector\n",
    "assembler = VectorAssembler(inputCols=numerical_df.columns, outputCol=\"features\")\n",
    "vector_df = assembler.transform(numerical_df).select(\"features\")\n",
    "\n",
    "# Calculate correlation matrix\n",
    "matrix = Correlation.corr(vector_df, \"features\").collect()[0][0]\n",
    "correlation_matrix = matrix.toArray().tolist()\n",
    "\n",
    "# Convert to pandas DataFrame for visualization\n",
    "pdf_corr = pd.DataFrame(data=correlation_matrix, columns=numerical_df.columns, index=numerical_df.columns)\n",
    "\n",
    "# Display correlation matrix\n",
    "print(\"Correlation Matrix:\")\n",
    "print(pdf_corr)\n",
    "\n",
    "# Visualization of the plot\n",
    "plt.figure(figsize=(10, 8))\n",
    "sns.heatmap(pdf_corr, annot=True, cmap='coolwarm', linewidths=0.5)\n",
    "plt.title('Correlation Matrix of Numerical Features')\n",
    "plt.show()\n"
   ]
  },
  {
   "cell_type": "markdown",
   "metadata": {
    "application/vnd.databricks.v1+cell": {
     "cellMetadata": {
      "byteLimit": 2048000,
      "rowLimit": 10000
     },
     "inputWidgets": {},
     "nuid": "6d3b70ee-7a9b-4ec5-bddb-05dffd20722c",
     "showTitle": false,
     "tableResultSettingsMap": {},
     "title": ""
    }
   },
   "source": [
    "#### Analyze Income Distribution by Features\n"
   ]
  },
  {
   "cell_type": "code",
   "execution_count": 0,
   "metadata": {
    "application/vnd.databricks.v1+cell": {
     "cellMetadata": {
      "byteLimit": 2048000,
      "rowLimit": 10000
     },
     "inputWidgets": {},
     "nuid": "5f1a40f1-8350-4d7c-9e91-0609b3130c20",
     "showTitle": false,
     "tableResultSettingsMap": {},
     "title": ""
    }
   },
   "outputs": [
    {
     "output_type": "stream",
     "name": "stdout",
     "output_type": "stream",
     "text": [
      "\nIncome distribution by workclass:\n+-----------------+------+-----+\n|workclass        |income|count|\n+-----------------+------+-----+\n| ?               | <=50K|1645 |\n| ?               | >50K |191  |\n| Federal-gov     | <=50K|589  |\n| Federal-gov     | >50K |371  |\n| Local-gov       | <=50K|1476 |\n| Local-gov       | >50K |617  |\n| Never-worked    | <=50K|7    |\n| Private         | <=50K|17712|\n| Private         | >50K |4961 |\n| Self-emp-inc    | <=50K|494  |\n| Self-emp-inc    | >50K |622  |\n| Self-emp-not-inc| <=50K|1816 |\n| Self-emp-not-inc| >50K |724  |\n| State-gov       | <=50K|944  |\n| State-gov       | >50K |353  |\n| Without-pay     | <=50K|14   |\n+-----------------+------+-----+\n\n+---------+-----+-----+----------------------+\n|workclass|count|total|high_income_percentage|\n+---------+-----+-----+----------------------+\n+---------+-----+-----+----------------------+\n\n\nIncome distribution by education:\n+-----------+------+-----+\n|education  |income|count|\n+-----------+------+-----+\n| 10th      | <=50K|871  |\n| 10th      | >50K |62   |\n| 11th      | <=50K|1115 |\n| 11th      | >50K |60   |\n| 12th      | <=50K|400  |\n| 12th      | >50K |33   |\n| 1st-4th   | <=50K|160  |\n| 1st-4th   | >50K |6    |\n| 5th-6th   | <=50K|316  |\n| 5th-6th   | >50K |16   |\n| 7th-8th   | <=50K|605  |\n| 7th-8th   | >50K |40   |\n| 9th       | <=50K|487  |\n| 9th       | >50K |27   |\n| Assoc-acdm| <=50K|802  |\n| Assoc-acdm| >50K |265  |\n| Assoc-voc | <=50K|1021 |\n| Assoc-voc | >50K |361  |\n| Bachelors | <=50K|3131 |\n| Bachelors | >50K |2221 |\n+-----------+------+-----+\nonly showing top 20 rows\n\n+---------+-----+-----+----------------------+\n|education|count|total|high_income_percentage|\n+---------+-----+-----+----------------------+\n+---------+-----+-----+----------------------+\n\n\nIncome distribution by marital_status:\n+----------------------+------+-----+\n|marital_status        |income|count|\n+----------------------+------+-----+\n| Divorced             | <=50K|3978 |\n| Divorced             | >50K |463  |\n| Married-AF-spouse    | <=50K|13   |\n| Married-AF-spouse    | >50K |10   |\n| Married-civ-spouse   | <=50K|8280 |\n| Married-civ-spouse   | >50K |6690 |\n| Married-spouse-absent| <=50K|384  |\n| Married-spouse-absent| >50K |34   |\n| Never-married        | <=50K|10175|\n| Never-married        | >50K |491  |\n| Separated            | <=50K|959  |\n| Separated            | >50K |66   |\n| Widowed              | <=50K|908  |\n| Widowed              | >50K |85   |\n+----------------------+------+-----+\n\n+--------------+-----+-----+----------------------+\n|marital_status|count|total|high_income_percentage|\n+--------------+-----+-----+----------------------+\n+--------------+-----+-----+----------------------+\n\n\nIncome distribution by occupation:\n+------------------+------+-----+\n|occupation        |income|count|\n+------------------+------+-----+\n| ?                | <=50K|1652 |\n| ?                | >50K |191  |\n| Adm-clerical     | <=50K|3260 |\n| Adm-clerical     | >50K |507  |\n| Armed-Forces     | <=50K|8    |\n| Armed-Forces     | >50K |1    |\n| Craft-repair     | <=50K|3165 |\n| Craft-repair     | >50K |929  |\n| Exec-managerial  | <=50K|2097 |\n| Exec-managerial  | >50K |1968 |\n| Farming-fishing  | <=50K|877  |\n| Farming-fishing  | >50K |115  |\n| Handlers-cleaners| <=50K|1283 |\n| Handlers-cleaners| >50K |86   |\n| Machine-op-inspct| <=50K|1751 |\n| Machine-op-inspct| >50K |249  |\n| Other-service    | <=50K|3154 |\n| Other-service    | >50K |137  |\n| Priv-house-serv  | <=50K|146  |\n| Priv-house-serv  | >50K |1    |\n+------------------+------+-----+\nonly showing top 20 rows\n\n+----------+-----+-----+----------------------+\n|occupation|count|total|high_income_percentage|\n+----------+-----+-----+----------------------+\n+----------+-----+-----+----------------------+\n\n\nIncome distribution by relationship:\n+---------------+------+-----+\n|relationship   |income|count|\n+---------------+------+-----+\n| Husband       | <=50K|7271 |\n| Husband       | >50K |5916 |\n| Not-in-family | <=50K|7435 |\n| Not-in-family | >50K |856  |\n| Other-relative| <=50K|944  |\n| Other-relative| >50K |37   |\n| Own-child     | <=50K|4997 |\n| Own-child     | >50K |67   |\n| Unmarried     | <=50K|3227 |\n| Unmarried     | >50K |218  |\n| Wife          | <=50K|823  |\n| Wife          | >50K |745  |\n+---------------+------+-----+\n\n+------------+-----+-----+----------------------+\n|relationship|count|total|high_income_percentage|\n+------------+-----+-----+----------------------+\n+------------+-----+-----+----------------------+\n\n\nIncome distribution by race:\n+-------------------+------+-----+\n|race               |income|count|\n+-------------------+------+-----+\n| Amer-Indian-Eskimo| <=50K|275  |\n| Amer-Indian-Eskimo| >50K |36   |\n| Asian-Pac-Islander| <=50K|762  |\n| Asian-Pac-Islander| >50K |276  |\n| Black             | <=50K|2735 |\n| Black             | >50K |387  |\n| Other             | <=50K|246  |\n| Other             | >50K |25   |\n| White             | <=50K|20679|\n| White             | >50K |7115 |\n+-------------------+------+-----+\n\n+----+-----+-----+----------------------+\n|race|count|total|high_income_percentage|\n+----+-----+-----+----------------------+\n+----+-----+-----+----------------------+\n\n\nIncome distribution by sex:\n+-------+------+-----+\n|sex    |income|count|\n+-------+------+-----+\n| Female| <=50K|9583 |\n| Female| >50K |1179 |\n| Male  | <=50K|15114|\n| Male  | >50K |6660 |\n+-------+------+-----+\n\n+---+-----+-----+----------------------+\n|sex|count|total|high_income_percentage|\n+---+-----+-----+----------------------+\n+---+-----+-----+----------------------+\n\n"
     ]
    }
   ],
   "source": [
    "# Analyze income distribution by categorical features\n",
    "categorical_features = [\"workclass\", \"education\", \"marital_status\", \"occupation\", \"relationship\", \"race\", \"sex\"]\n",
    "\n",
    "for feature in categorical_features:\n",
    "    print(f\"\\nIncome distribution by {feature}:\")\n",
    "    df_deequ.groupBy(feature, \"income\") \\\n",
    "        .count() \\\n",
    "        .orderBy(feature, \"income\") \\\n",
    "        .show(truncate=False)\n",
    "    \n",
    "    # Calculate percentage of high income by feature\n",
    "    income_by_feature = df_deequ.groupBy(feature, \"income\").count()\n",
    "    feature_totals = income_by_feature.groupBy(feature).sum(\"count\").withColumnRenamed(\"sum(count)\", \"total\")\n",
    "    \n",
    "    high_income = income_by_feature.filter(income_by_feature[\"income\"] == \">50K\") \\\n",
    "        .join(feature_totals, feature) \\\n",
    "        .withColumn(\"high_income_percentage\", (income_by_feature[\"count\"] / feature_totals[\"total\"]) * 100)\n",
    "    \n",
    "    high_income.select(feature, \"count\", \"total\", \"high_income_percentage\") \\\n",
    "        .orderBy(\"high_income_percentage\", ascending=False) \\\n",
    "        .show(truncate=False)\n"
   ]
  },
  {
   "cell_type": "markdown",
   "metadata": {
    "application/vnd.databricks.v1+cell": {
     "cellMetadata": {
      "byteLimit": 2048000,
      "rowLimit": 10000
     },
     "inputWidgets": {},
     "nuid": "ee103a8b-6d5b-4b37-a63a-5c1e6878201a",
     "showTitle": false,
     "tableResultSettingsMap": {},
     "title": ""
    }
   },
   "source": [
    "#### Analyze Data Distribution and Outliers\n"
   ]
  },
  {
   "cell_type": "code",
   "execution_count": 0,
   "metadata": {
    "application/vnd.databricks.v1+cell": {
     "cellMetadata": {
      "byteLimit": 2048000,
      "rowLimit": 10000
     },
     "inputWidgets": {},
     "nuid": "d7d53599-c7f2-4ed4-9b8f-b4208768f195",
     "showTitle": false,
     "tableResultSettingsMap": {},
     "title": ""
    }
   },
   "outputs": [
    {
     "output_type": "stream",
     "name": "stdout",
     "output_type": "stream",
     "text": [
      "\nPercentiles for age:\n+---+---+---+---+---+---+---+\n| p1| p5|p25|p50|p75|p95|p99|\n+---+---+---+---+---+---+---+\n| 17| 19| 28| 37| 48| 63| 74|\n+---+---+---+---+---+---+---+\n\nPotential outliers in age: 142 (0.44%)\nIQR bounds: [-2.0, 78.0]\nSample outliers:\n+---+\n|age|\n+---+\n| 79|\n| 88|\n| 80|\n| 81|\n| 82|\n+---+\nonly showing top 5 rows\n\n\nPercentiles for fnlwgt:\n+-----+-----+------+------+------+------+------+\n|   p1|   p5|   p25|   p50|   p75|   p95|   p99|\n+-----+-----+------+------+------+------+------+\n|27153|39432|117814|178353|236985|379522|509866|\n+-----+-----+------+------+------+------+------+\n\nPotential outliers in fnlwgt: 993 (3.05%)\nIQR bounds: [-60942.5, 415741.5]\nSample outliers:\n+------+\n|fnlwgt|\n+------+\n|432376|\n|428030|\n|494223|\n|446839|\n|544091|\n+------+\nonly showing top 5 rows\n\n\nPercentiles for education_num:\n+---+---+---+---+---+---+---+\n| p1| p5|p25|p50|p75|p95|p99|\n+---+---+---+---+---+---+---+\n|  3|  5|  9| 10| 12| 14| 16|\n+---+---+---+---+---+---+---+\n\nPotential outliers in education_num: 1193 (3.67%)\nIQR bounds: [4.5, 16.5]\nSample outliers:\n+-------------+\n|education_num|\n+-------------+\n|            1|\n|            3|\n|            2|\n|            4|\n+-------------+\n\n\nPercentiles for capital_gain:\n+---+---+---+---+---+----+-----+\n| p1| p5|p25|p50|p75| p95|  p99|\n+---+---+---+---+---+----+-----+\n|  0|  0|  0|  0|  0|5013|15024|\n+---+---+---+---+---+----+-----+\n\nPotential outliers in capital_gain: 2711 (8.33%)\nIQR bounds: [0.0, 0.0]\nSample outliers:\n+------------+\n|capital_gain|\n+------------+\n|        5013|\n|       14344|\n|       14084|\n|        5178|\n|        2407|\n+------------+\nonly showing top 5 rows\n\n\nPercentiles for capital_loss:\n+---+---+---+---+---+---+----+\n| p1| p5|p25|p50|p75|p95| p99|\n+---+---+---+---+---+---+----+\n|  0|  0|  0|  0|  0|  0|1980|\n+---+---+---+---+---+---+----+\n\nPotential outliers in capital_loss: 1519 (4.67%)\nIQR bounds: [0.0, 0.0]\nSample outliers:\n+------------+\n|capital_loss|\n+------------+\n|        1887|\n|        1902|\n|        1719|\n|        1408|\n|        1573|\n+------------+\nonly showing top 5 rows\n\n\nPercentiles for hours_per_week:\n+---+---+---+---+---+---+---+\n| p1| p5|p25|p50|p75|p95|p99|\n+---+---+---+---+---+---+---+\n|  8| 18| 40| 40| 45| 60| 80|\n+---+---+---+---+---+---+---+\n\nPotential outliers in hours_per_week: 9002 (27.67%)\nIQR bounds: [32.5, 52.5]\nSample outliers:\n+--------------+\n|hours_per_week|\n+--------------+\n|            80|\n|            13|\n|            30|\n|            20|\n|            60|\n+--------------+\nonly showing top 5 rows\n\n"
     ]
    }
   ],
   "source": [
    "from pyspark.sql.functions import col, expr, percentile_approx\n",
    "\n",
    "# Calculate percentiles for numerical columns to identify outliers\n",
    "percentiles = [0.01, 0.05, 0.25, 0.5, 0.75, 0.95, 0.99]\n",
    "numerical_cols = [\"age\", \"fnlwgt\", \"education_num\", \"capital_gain\", \"capital_loss\", \"hours_per_week\"]\n",
    "\n",
    "for column in numerical_cols:\n",
    "    print(f\"\\nPercentiles for {column}:\")\n",
    "    df_deequ.select(\n",
    "        percentile_approx(col(column), percentiles, 10000).alias(\"percentiles\")\n",
    "    ).select([\n",
    "        expr(f\"percentiles[{i}]\").alias(f\"p{int(p*100)}\")\n",
    "        for i, p in enumerate(percentiles)\n",
    "    ]).show()\n",
    "    \n",
    "    # Identify potential outliers (values beyond 1.5 * IQR)\n",
    "    stats = df_deequ.select(\n",
    "        percentile_approx(col(column), [0.25, 0.75], 10000).alias(\"quartiles\")\n",
    "    ).collect()[0][\"quartiles\"]\n",
    "    \n",
    "    q1, q3 = stats[0], stats[1]\n",
    "    iqr = q3 - q1\n",
    "    lower_bound = q1 - 1.5 * iqr\n",
    "    upper_bound = q3 + 1.5 * iqr\n",
    "    \n",
    "    outlier_count = df_deequ.filter(\n",
    "        (col(column) < lower_bound) | (col(column) > upper_bound)\n",
    "    ).count()\n",
    "    \n",
    "    total_count = df_deequ.count()\n",
    "    outlier_percentage = (outlier_count / total_count) * 100\n",
    "    \n",
    "    print(f\"Potential outliers in {column}: {outlier_count} ({outlier_percentage:.2f}%)\")\n",
    "    print(f\"IQR bounds: [{lower_bound}, {upper_bound}]\")\n",
    "    \n",
    "    # Show some examples of outliers if they exist\n",
    "    if outlier_count > 0:\n",
    "        print(\"Sample outliers:\")\n",
    "        df_deequ.filter(\n",
    "            (col(column) < lower_bound) | (col(column) > upper_bound)\n",
    "        ).select(column).distinct().show(5)\n"
   ]
  },
  {
   "cell_type": "markdown",
   "metadata": {
    "application/vnd.databricks.v1+cell": {
     "cellMetadata": {
      "byteLimit": 2048000,
      "rowLimit": 10000
     },
     "inputWidgets": {},
     "nuid": "ab48783a-224d-4975-9e20-a0738b97ed5e",
     "showTitle": false,
     "tableResultSettingsMap": {},
     "title": ""
    }
   },
   "source": [
    "#### Analyze Relationships Between Features\n"
   ]
  },
  {
   "cell_type": "code",
   "execution_count": 0,
   "metadata": {
    "application/vnd.databricks.v1+cell": {
     "cellMetadata": {
      "byteLimit": 2048000,
      "rowLimit": 10000
     },
     "inputWidgets": {},
     "nuid": "e371d2ca-94f6-43cb-9f22-4b255745578e",
     "showTitle": false,
     "tableResultSettingsMap": {},
     "title": ""
    }
   },
   "outputs": [
    {
     "output_type": "stream",
     "name": "stdout",
     "output_type": "stream",
     "text": [
      "Income distribution by education level:\n+-------------+------+-----+-----+------------------+\n|    education|income|count|total|        percentage|\n+-------------+------+-----+-----+------------------+\n|         10th| <=50K|  871|  933| 93.35476956055734|\n|         10th|  >50K|   62|  933| 6.645230439442658|\n|         11th| <=50K| 1115| 1175|  94.8936170212766|\n|         11th|  >50K|   60| 1175| 5.106382978723404|\n|         12th| <=50K|  400|  433| 92.37875288683603|\n|         12th|  >50K|   33|  433| 7.621247113163972|\n|      1st-4th| <=50K|  160|  166|  96.3855421686747|\n|      1st-4th|  >50K|    6|  166| 3.614457831325301|\n|      5th-6th| <=50K|  316|  332| 95.18072289156626|\n|      5th-6th|  >50K|   16|  332| 4.819277108433735|\n|      7th-8th| <=50K|  605|  645|  93.7984496124031|\n|      7th-8th|  >50K|   40|  645|   6.2015503875969|\n|          9th| <=50K|  487|  514| 94.74708171206225|\n|          9th|  >50K|   27|  514| 5.252918287937743|\n|   Assoc-acdm| <=50K|  802| 1067| 75.16401124648547|\n|   Assoc-acdm|  >50K|  265| 1067|24.835988753514528|\n|    Assoc-voc| <=50K| 1021| 1382| 73.87843704775688|\n|    Assoc-voc|  >50K|  361| 1382|26.121562952243128|\n|    Bachelors| <=50K| 3131| 5352| 58.50149476831091|\n|    Bachelors|  >50K| 2221| 5352| 41.49850523168909|\n|    Doctorate| <=50K|  107|  413|25.907990314769975|\n|    Doctorate|  >50K|  306|  413| 74.09200968523002|\n|      HS-grad| <=50K| 8820|10494| 84.04802744425386|\n|      HS-grad|  >50K| 1674|10494|15.951972555746142|\n|      Masters| <=50K|  763| 1722|  44.3089430894309|\n|      Masters|  >50K|  959| 1722|  55.6910569105691|\n|    Preschool| <=50K|   50|   50|             100.0|\n|  Prof-school| <=50K|  153|  576|           26.5625|\n|  Prof-school|  >50K|  423|  576|           73.4375|\n| Some-college| <=50K| 5896| 7282| 80.96676737160121|\n+-------------+------+-----+-----+------------------+\nonly showing top 30 rows\n\nIncome distribution by age group:\n+---------+------+-----+-----+------------------+\n|age_group|income|count|total|        percentage|\n+---------+------+-----+-----+------------------+\n|    18-24| <=50K| 5501| 5562| 98.90327220424308|\n|    18-24|  >50K|   61| 5562| 1.096727795756922|\n|    25-34| <=50K| 7046| 8473| 83.15826743774342|\n|    25-34|  >50K| 1427| 8473| 16.84173256225658|\n|    35-44| <=50K| 5444| 8145| 66.83855125844076|\n|    35-44|  >50K| 2701| 8145| 33.16144874155924|\n|    45-54| <=50K| 3501| 5849| 59.85638570695846|\n|    45-54|  >50K| 2348| 5849|40.143614293041544|\n|    55-64| <=50K| 2146| 3172| 67.65447667087011|\n|    55-64|  >50K| 1026| 3172| 32.34552332912989|\n|      65+| <=50K| 1059| 1335| 79.32584269662921|\n|      65+|  >50K|  276| 1335|20.674157303370784|\n+---------+------+-----+-----+------------------+\n\n"
     ]
    }
   ],
   "source": [
    "# Analyze relationship between education level and income\n",
    "print(\"Income distribution by education level:\")\n",
    "education_income = df_deequ.groupBy(\"education\", \"income\") \\\n",
    "    .count() \\\n",
    "    .orderBy(\"education\", \"income\")\n",
    "\n",
    "education_totals = education_income.groupBy(\"education\") \\\n",
    "    .sum(\"count\") \\\n",
    "    .withColumnRenamed(\"sum(count)\", \"total\")\n",
    "\n",
    "education_with_percentage = education_income.join(education_totals, \"education\") \\\n",
    "    .withColumn(\"percentage\", (education_income[\"count\"] / education_totals[\"total\"]) * 100)\n",
    "\n",
    "education_with_percentage.select(\n",
    "    \"education\", \"income\", \"count\", \"total\", \"percentage\"\n",
    ").orderBy(\"education\", \"income\").show(30)\n",
    "\n",
    "# Analyze relationship between age groups and income\n",
    "from pyspark.sql.functions import when, floor\n",
    "\n",
    "df_deequ = df_deequ.withColumn(\n",
    "    \"age_group\", \n",
    "    when(col(\"age\") < 25, \"18-24\")\n",
    "    .when(col(\"age\") < 35, \"25-34\")\n",
    "    .when(col(\"age\") < 45, \"35-44\")\n",
    "    .when(col(\"age\") < 55, \"45-54\")\n",
    "    .when(col(\"age\") < 65, \"55-64\")\n",
    "    .otherwise(\"65+\")\n",
    ")\n",
    "\n",
    "print(\"Income distribution by age group:\")\n",
    "age_income = df_deequ.groupBy(\"age_group\", \"income\") \\\n",
    "    .count() \\\n",
    "    .orderBy(\"age_group\", \"income\")\n",
    "\n",
    "age_totals = age_income.groupBy(\"age_group\") \\\n",
    "    .sum(\"count\") \\\n",
    "    .withColumnRenamed(\"sum(count)\", \"total\")\n",
    "\n",
    "age_with_percentage = age_income.join(age_totals, \"age_group\") \\\n",
    "    .withColumn(\"percentage\", (age_income[\"count\"] / age_totals[\"total\"]) * 100)\n",
    "\n",
    "age_with_percentage.select(\n",
    "    \"age_group\", \"income\", \"count\", \"total\", \"percentage\"\n",
    ").orderBy(\"age_group\", \"income\").show()\n"
   ]
  },
  {
   "cell_type": "markdown",
   "metadata": {
    "application/vnd.databricks.v1+cell": {
     "cellMetadata": {
      "byteLimit": 2048000,
      "rowLimit": 10000
     },
     "inputWidgets": {},
     "nuid": "de0cf953-a8a2-42b3-963f-520ff0e0bc18",
     "showTitle": false,
     "tableResultSettingsMap": {},
     "title": ""
    }
   },
   "source": [
    "#### Analyze Data Quality Issues\n"
   ]
  },
  {
   "cell_type": "code",
   "execution_count": 0,
   "metadata": {
    "application/vnd.databricks.v1+cell": {
     "cellMetadata": {
      "byteLimit": 2048000,
      "rowLimit": 10000
     },
     "inputWidgets": {},
     "nuid": "f97d0e2d-cce1-4c68-90ea-d22441b36b45",
     "showTitle": false,
     "tableResultSettingsMap": {},
     "title": ""
    }
   },
   "outputs": [
    {
     "output_type": "stream",
     "name": "stdout",
     "output_type": "stream",
     "text": [
      "\nUnique values in workclass:\n+-----------------+\n|workclass        |\n+-----------------+\n| State-gov       |\n| Federal-gov     |\n| Self-emp-not-inc|\n| Local-gov       |\n| Private         |\n| ?               |\n| Self-emp-inc    |\n| Without-pay     |\n| Never-worked    |\n+-----------------+\n\n\nUnique values in education:\n+-------------+\n|education    |\n+-------------+\n| Prof-school |\n| 10th        |\n| 7th-8th     |\n| 5th-6th     |\n| Assoc-acdm  |\n| Assoc-voc   |\n| Masters     |\n| 12th        |\n| Preschool   |\n| 9th         |\n| Bachelors   |\n| Doctorate   |\n| HS-grad     |\n| 11th        |\n| Some-college|\n| 1st-4th     |\n+-------------+\n\n\nUnique values in marital_status:\n+----------------------+\n|marital_status        |\n+----------------------+\n| Widowed              |\n| Married-spouse-absent|\n| Married-AF-spouse    |\n| Married-civ-spouse   |\n| Divorced             |\n| Never-married        |\n| Separated            |\n+----------------------+\n\n\nUnique values in occupation:\n+------------------+\n|occupation        |\n+------------------+\n| Farming-fishing  |\n| Handlers-cleaners|\n| Prof-specialty   |\n| Adm-clerical     |\n| Exec-managerial  |\n| Craft-repair     |\n| Sales            |\n| ?                |\n| Tech-support     |\n| Transport-moving |\n| Protective-serv  |\n| Armed-Forces     |\n| Machine-op-inspct|\n| Other-service    |\n| Priv-house-serv  |\n+------------------+\n\n\nUnique values in relationship:\n+---------------+\n|relationship   |\n+---------------+\n| Husband       |\n| Own-child     |\n| Not-in-family |\n| Other-relative|\n| Wife          |\n| Unmarried     |\n+---------------+\n\n\nUnique values in race:\n+-------------------+\n|race               |\n+-------------------+\n| Asian-Pac-Islander|\n| Black             |\n| Other             |\n| White             |\n| Amer-Indian-Eskimo|\n+-------------------+\n\n\nUnique values in sex:\n+-------+\n|sex    |\n+-------+\n| Male  |\n| Female|\n+-------+\n\n\nUnique values in native_country:\n+---------------------------+\n|native_country             |\n+---------------------------+\n| Dominican-Republic        |\n| Ireland                   |\n| Cuba                      |\n| Guatemala                 |\n| Iran                      |\n| Taiwan                    |\n| El-Salvador               |\n| United-States             |\n| South                     |\n| Japan                     |\n| Nicaragua                 |\n| Canada                    |\n| Cambodia                  |\n| Laos                      |\n| Germany                   |\n| Trinadad&Tobago           |\n| Peru                      |\n| Ecuador                   |\n| Yugoslavia                |\n| Vietnam                   |\n| Philippines               |\n| Hong                      |\n| Honduras                  |\n| Jamaica                   |\n| England                   |\n| India                     |\n| Puerto-Rico               |\n| Outlying-US(Guam-USVI-etc)|\n| Italy                     |\n| Scotland                  |\n| Portugal                  |\n| ?                         |\n| Poland                    |\n| Thailand                  |\n| Haiti                     |\n| China                     |\n| Greece                    |\n| Columbia                  |\n| Mexico                    |\n| France                    |\n| Hungary                   |\n| Holand-Netherlands        |\n+---------------------------+\n\n\nUnique values in income:\n+------+\n|income|\n+------+\n| >50K |\n| <=50K|\n+------+\n\n\nValue distribution in workclass:\n+-----------------+-----+-------------------+\n|workclass        |count|percentage         |\n+-----------------+-----+-------------------+\n| Private         |22673|69.68588640275387  |\n| Self-emp-not-inc|2540 |7.806737152692403  |\n| Local-gov       |2093 |6.432874354561102  |\n| ?               |1836 |5.6429800835997055 |\n| State-gov       |1297 |3.9863535775756085 |\n| Self-emp-inc    |1116 |3.4300467174821736 |\n| Federal-gov     |960  |2.9505778214900418 |\n| Without-pay     |14   |0.04302925989672978|\n| Never-worked    |7    |0.02151462994836489|\n+-----------------+-----+-------------------+\n\nEntropy: 1.6486, Normalized: 0.5201\nDistribution skewness: 0.4799 (0=balanced, 1=completely skewed)\n\nValue distribution in education:\n+-------------+-----+------------------+\n|education    |count|percentage        |\n+-------------+-----+------------------+\n| HS-grad     |10494|32.25350381116302 |\n| Some-college|7282 |22.38136218342759 |\n| Bachelors   |5352 |16.44947135480698 |\n| Masters     |1722 |5.292598967297763 |\n| Assoc-voc   |1382 |4.24760265552004  |\n| 11th        |1175 |3.611384312761249 |\n| Assoc-acdm  |1067 |3.2794443078436193|\n| 10th        |933  |2.8675928202606347|\n| 7th-8th     |645  |1.9824194738136218|\n| Prof-school |576  |1.7703466928940252|\n+-------------+-----+------------------+\nonly showing top 10 rows\n\nEntropy: 2.9312, Normalized: 0.7328\nDistribution skewness: 0.2672 (0=balanced, 1=completely skewed)\n\nValue distribution in marital_status:\n+----------------------+-----+-------------------+\n|marital_status        |count|percentage         |\n+----------------------+-----+-------------------+\n| Married-civ-spouse   |14970|46.01057290386034  |\n| Never-married        |10666|32.782149004179985 |\n| Divorced             |4441 |13.649495942955495 |\n| Separated            |1025 |3.15035652815343   |\n| Widowed              |993  |3.052003934103762  |\n| Married-spouse-absent|418  |1.2847307597737891 |\n| Married-AF-spouse    |23   |0.07069092697319891|\n+----------------------+-----+-------------------+\n\nEntropy: 1.8338, Normalized: 0.6532\nDistribution skewness: 0.3468 (0=balanced, 1=completely skewed)\n\nValue distribution in occupation:\n+------------------+-----+------------------+\n|occupation        |count|percentage        |\n+------------------+-----+------------------+\n| Prof-specialty   |4136 |12.712072780919598|\n| Craft-repair     |4094 |12.582985001229407|\n| Exec-managerial  |4065 |12.493852962871896|\n| Adm-clerical     |3767 |11.577944430784362|\n| Sales            |3650 |11.218342758790262|\n| Other-service    |3291 |10.114949594295549|\n| Machine-op-inspct|2000 |6.1470371281042535|\n| ?                |1843 |5.66449471354807  |\n| Transport-moving |1597 |4.9084091467912465|\n| Handlers-cleaners|1369 |4.207646914187362 |\n+------------------+-----+------------------+\nonly showing top 10 rows\n\nEntropy: 3.5167, Normalized: 0.9001\nDistribution skewness: 0.0999 (0=balanced, 1=completely skewed)\n\nValue distribution in relationship:\n+---------------+-----+------------------+\n|relationship   |count|percentage        |\n+---------------+-----+------------------+\n| Husband       |13187|40.530489304155395|\n| Not-in-family |8291 |25.482542414556185|\n| Own-child     |5064 |15.56429800835997 |\n| Unmarried     |3445 |10.588271453159576|\n| Wife          |1568 |4.819277108433735 |\n| Other-relative|981  |3.0151217113351363|\n+---------------+-----+------------------+\n\nEntropy: 2.1546, Normalized: 0.8335\nDistribution skewness: 0.1665 (0=balanced, 1=completely skewed)\n\nValue distribution in race:\n+-------------------+-----+------------------+\n|race               |count|percentage        |\n+-------------------+-----+------------------+\n| White             |27794|85.42537496926481 |\n| Black             |3122 |9.59552495697074  |\n| Asian-Pac-Islander|1038 |3.1903122694861077|\n| Amer-Indian-Eskimo|311  |0.9558642734202115|\n| Other             |271  |0.8329235308581264|\n+-------------------+-----+------------------+\n\nEntropy: 0.7988, Normalized: 0.3440\nDistribution skewness: 0.6560 (0=balanced, 1=completely skewed)\n\nValue distribution in sex:\n+-------+-----+------------------+\n|sex    |count|percentage        |\n+-------+-----+------------------+\n| Male  |21774|66.922793213671   |\n| Female|10762|33.077206786328986|\n+-------+-----+------------------+\n\nEntropy: 0.9157, Normalized: 0.9157\nDistribution skewness: 0.0843 (0=balanced, 1=completely skewed)\n\nValue distribution in native_country:\n+--------------+-----+-------------------+\n|native_country|count|percentage         |\n+--------------+-----+-------------------+\n| United-States|29152|89.5992131792476   |\n| Mexico       |639  |1.963978362429309  |\n| ?            |582  |1.7887878042783376 |\n| Philippines  |198  |0.6085566756823212 |\n| Germany      |137  |0.4210720432751414 |\n| Canada       |121  |0.37189574625030736|\n| Puerto-Rico  |114  |0.35038111630194246|\n| El-Salvador  |106  |0.32579296778952543|\n| India        |100  |0.3073518564052127 |\n| Cuba         |95   |0.29198426358495205|\n+--------------+-----+-------------------+\nonly showing top 10 rows\n\nEntropy: 0.9430, Normalized: 0.1749\nDistribution skewness: 0.8251 (0=balanced, 1=completely skewed)\n\nValue distribution in income:\n+------+-----+------------------+\n|income|count|percentage        |\n+------+-----+------------------+\n| <=50K|24697|75.90668797639538 |\n| >50K |7839 |24.093312023604625|\n+------+-----+------------------+\n\nEntropy: 0.7966, Normalized: 0.7966\nDistribution skewness: 0.2034 (0=balanced, 1=completely skewed)\n"
     ]
    }
   ],
   "source": [
    "from pyspark.sql.functions import isnan, when, count, col\n",
    "\n",
    "# Check for inconsistencies in categorical columns\n",
    "categorical_cols = [\"workclass\", \"education\", \"marital_status\", \"occupation\", \n",
    "                   \"relationship\", \"race\", \"sex\", \"native_country\", \"income\"]\n",
    "\n",
    "for column in categorical_cols:\n",
    "    print(f\"\\nUnique values in {column}:\")\n",
    "    df_deequ.select(column).distinct().show(100, truncate=False)\n",
    "    \n",
    "    # Check for potentially problematic values (e.g., '?', empty strings)\n",
    "    problematic_count = df_deequ.filter(\n",
    "        (col(column) == \"?\") | \n",
    "        (col(column) == \"\") | \n",
    "        col(column).isNull()\n",
    "    ).count()\n",
    "    \n",
    "    if problematic_count > 0:\n",
    "        print(f\"Found {problematic_count} problematic values in {column}\")\n",
    "        \n",
    "# Check for skewed distributions in categorical columns\n",
    "for column in categorical_cols:\n",
    "    print(f\"\\nValue distribution in {column}:\")\n",
    "    value_counts = df_deequ.groupBy(column) \\\n",
    "        .count() \\\n",
    "        .withColumn(\"percentage\", col(\"count\") / df_deequ.count() * 100) \\\n",
    "        .orderBy(\"count\", ascending=False)\n",
    "    \n",
    "    value_counts.show(10, truncate=False)\n",
    "    \n",
    "    # Calculate entropy to measure distribution skewness\n",
    "    from math import log2\n",
    "    \n",
    "    total = df_deequ.count()\n",
    "    entropy = 0\n",
    "    \n",
    "    for row in value_counts.collect():\n",
    "        p = row[\"count\"] / total\n",
    "        entropy -= p * log2(p) if p > 0 else 0\n",
    "    \n",
    "    max_entropy = log2(value_counts.count())\n",
    "    normalized_entropy = entropy / max_entropy if max_entropy > 0 else 1\n",
    "    \n",
    "    print(f\"Entropy: {entropy:.4f}, Normalized: {normalized_entropy:.4f}\")\n",
    "    print(f\"Distribution skewness: {1 - normalized_entropy:.4f} (0=balanced, 1=completely skewed)\")\n"
   ]
  }
 ],
 "metadata": {
  "application/vnd.databricks.v1+notebook": {
   "computePreferences": null,
   "dashboards": [],
   "environmentMetadata": {
    "base_environment": "",
    "environment_version": "1"
   },
   "inputWidgetPreferences": null,
   "language": "python",
   "notebookMetadata": {
    "pythonIndentUnit": 4
   },
   "notebookName": "dqdp-pydeequ",
   "widgets": {}
  }
 },
 "nbformat": 4,
 "nbformat_minor": 0
}