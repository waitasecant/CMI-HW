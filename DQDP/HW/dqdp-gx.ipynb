{
 "cells": [
  {
   "cell_type": "markdown",
   "metadata": {
    "application/vnd.databricks.v1+cell": {
     "cellMetadata": {
      "byteLimit": 2048000,
      "rowLimit": 10000
     },
     "inputWidgets": {},
     "nuid": "748a7a9b-a7e8-428a-8344-2dd5dd464f35",
     "showTitle": false,
     "tableResultSettingsMap": {},
     "title": ""
    }
   },
   "source": [
    "## Himanshu, MDS202327"
   ]
  },
  {
   "cell_type": "markdown",
   "metadata": {
    "application/vnd.databricks.v1+cell": {
     "cellMetadata": {
      "byteLimit": 2048000,
      "rowLimit": 10000
     },
     "inputWidgets": {},
     "nuid": "7dfc4fc4-fdcf-46be-b981-f70d37f327f5",
     "showTitle": false,
     "tableResultSettingsMap": {},
     "title": ""
    }
   },
   "source": [
    "#### Installing required packages"
   ]
  },
  {
   "cell_type": "code",
   "execution_count": 0,
   "metadata": {
    "application/vnd.databricks.v1+cell": {
     "cellMetadata": {
      "byteLimit": 2048000,
      "rowLimit": 10000
     },
     "inputWidgets": {},
     "nuid": "58b5ac5e-ac91-42f1-a5fb-5c6ddb3619b3",
     "showTitle": false,
     "tableResultSettingsMap": {},
     "title": ""
    }
   },
   "outputs": [],
   "source": [
    "%%capture\n",
    "%pip install great_expectations"
   ]
  },
  {
   "cell_type": "code",
   "execution_count": 0,
   "metadata": {
    "application/vnd.databricks.v1+cell": {
     "cellMetadata": {
      "byteLimit": 2048000,
      "rowLimit": 10000
     },
     "inputWidgets": {},
     "nuid": "5017ced0-ceef-48dc-bf47-092789accea5",
     "showTitle": false,
     "tableResultSettingsMap": {},
     "title": ""
    }
   },
   "outputs": [
    {
     "output_type": "display_data",
     "data": {
      "application/vnd.databricks.v1+bamboolib_hint": "{\"pd.DataFrames\": [], \"version\": \"0.0.1\"}",
      "text/plain": []
     },
     "metadata": {},
     "output_type": "display_data"
    }
   ],
   "source": [
    "# Import required libraries\n",
    "import great_expectations as gx\n",
    "from great_expectations.core import ExpectationSuite\n",
    "from great_expectations.core.batch import BatchRequest\n",
    "from great_expectations.exceptions import *\n",
    "import os\n",
    "import pandas as pd\n",
    "from pyspark.sql import SparkSession"
   ]
  },
  {
   "cell_type": "code",
   "execution_count": 0,
   "metadata": {
    "application/vnd.databricks.v1+cell": {
     "cellMetadata": {
      "byteLimit": 2048000,
      "rowLimit": 10000
     },
     "inputWidgets": {},
     "nuid": "a393d0d1-268a-4e4b-9965-1835d5d5447d",
     "showTitle": false,
     "tableResultSettingsMap": {},
     "title": ""
    }
   },
   "outputs": [],
   "source": [
    "import warnings\n",
    "warnings.filterwarnings(\"ignore\", category=UserWarning)"
   ]
  },
  {
   "cell_type": "markdown",
   "metadata": {
    "application/vnd.databricks.v1+cell": {
     "cellMetadata": {
      "byteLimit": 2048000,
      "rowLimit": 10000
     },
     "inputWidgets": {},
     "nuid": "165682f9-634e-4bd8-906d-084fa6c462c2",
     "showTitle": false,
     "tableResultSettingsMap": {},
     "title": ""
    }
   },
   "source": [
    "#### Read data into data frame"
   ]
  },
  {
   "cell_type": "code",
   "execution_count": 0,
   "metadata": {
    "application/vnd.databricks.v1+cell": {
     "cellMetadata": {
      "byteLimit": 2048000,
      "rowLimit": 10000
     },
     "inputWidgets": {},
     "nuid": "03202280-d31f-4cc3-9feb-33a858778616",
     "showTitle": false,
     "tableResultSettingsMap": {},
     "title": ""
    }
   },
   "outputs": [],
   "source": [
    "# Read CSV into a Spark DataFrame\n",
    "spark = SparkSession.builder.appName(\"ReadCSV\").getOrCreate()\n",
    "file_path = \"dbfs:/FileStore/tables/adult-5.csv\"\n",
    "spark_df = spark.read.format(\"csv\").option(\"header\", \"true\").option(\"inferSchema\", \"true\").load(file_path)"
   ]
  },
  {
   "cell_type": "markdown",
   "metadata": {
    "application/vnd.databricks.v1+cell": {
     "cellMetadata": {
      "byteLimit": 2048000,
      "rowLimit": 10000
     },
     "inputWidgets": {},
     "nuid": "2925cf11-82fe-44ba-9486-1cbcbee88d71",
     "showTitle": false,
     "tableResultSettingsMap": {},
     "title": ""
    }
   },
   "source": [
    "#### Add proper column names for better analysis"
   ]
  },
  {
   "cell_type": "code",
   "execution_count": 0,
   "metadata": {
    "application/vnd.databricks.v1+cell": {
     "cellMetadata": {
      "byteLimit": 2048000,
      "rowLimit": 10000
     },
     "inputWidgets": {},
     "nuid": "9e603273-ae9e-49c7-b395-035e0321a092",
     "showTitle": false,
     "tableResultSettingsMap": {},
     "title": ""
    }
   },
   "outputs": [
    {
     "output_type": "stream",
     "name": "stdout",
     "output_type": "stream",
     "text": [
      "+---+----------------+------+---------+-------------+------------------+-----------------+-------------+-----+------+------------+------------+--------------+--------------+------+\n|age|       workclass|fnlwgt|education|education_num|    marital_status|       occupation| relationship| race|   sex|capital_gain|capital_loss|hours_per_week|native_country|income|\n+---+----------------+------+---------+-------------+------------------+-----------------+-------------+-----+------+------------+------------+--------------+--------------+------+\n| 50|Self-emp-not-inc| 83311|Bachelors|           13|Married-civ-spouse|  Exec-managerial|      Husband|White|  Male|           0|           0|            13| United-States| <=50K|\n| 38|         Private|215646|  HS-grad|            9|          Divorced|Handlers-cleaners|Not-in-family|White|  Male|           0|           0|            40| United-States| <=50K|\n| 53|         Private|234721|     11th|            7|Married-civ-spouse|Handlers-cleaners|      Husband|Black|  Male|           0|           0|            40| United-States| <=50K|\n| 28|         Private|338409|Bachelors|           13|Married-civ-spouse|   Prof-specialty|         Wife|Black|Female|           0|           0|            40|          Cuba| <=50K|\n| 37|         Private|284582|  Masters|           14|Married-civ-spouse|  Exec-managerial|         Wife|White|Female|           0|           0|            40| United-States| <=50K|\n+---+----------------+------+---------+-------------+------------------+-----------------+-------------+-----+------+------------+------------+--------------+--------------+------+\nonly showing top 5 rows\n\n"
     ]
    }
   ],
   "source": [
    "spark_df.show(5)"
   ]
  },
  {
   "cell_type": "markdown",
   "metadata": {
    "application/vnd.databricks.v1+cell": {
     "cellMetadata": {
      "byteLimit": 2048000,
      "rowLimit": 10000
     },
     "inputWidgets": {},
     "nuid": "1b136534-1916-4062-a58e-41d056c57adc",
     "showTitle": false,
     "tableResultSettingsMap": {},
     "title": ""
    }
   },
   "source": [
    "#### Creating a Data Source"
   ]
  },
  {
   "cell_type": "code",
   "execution_count": 0,
   "metadata": {
    "application/vnd.databricks.v1+cell": {
     "cellMetadata": {
      "byteLimit": 2048000,
      "rowLimit": 10000
     },
     "inputWidgets": {},
     "nuid": "8f6e05b8-9dbb-4984-a751-cf453f901044",
     "showTitle": false,
     "tableResultSettingsMap": {},
     "title": ""
    }
   },
   "outputs": [],
   "source": [
    "# Get the context\n",
    "context = gx.get_context()\n",
    "\n",
    "# Add a Spark datasource\n",
    "datasource_name = \"databricks_source\"\n",
    "datasource = context.data_sources.add_or_update_spark(name=datasource_name)\n",
    "\n",
    "# Create a dataframe asset\n",
    "asset_name = \"adult_data\"\n",
    "asset = datasource.add_dataframe_asset(name=asset_name)\n",
    "\n",
    "# Create a batch definition\n",
    "batch_definition_name = \"my_batch_definition\"\n",
    "batch_definition = asset.add_batch_definition_whole_dataframe(batch_definition_name)\n",
    "\n",
    "# Get the batch definition\n",
    "batch_definition = (\n",
    "    context.data_sources.get(datasource_name)\n",
    "    .get_asset(asset_name)\n",
    "    .get_batch_definition(batch_definition_name)\n",
    ")\n",
    "\n",
    "# Now use get_batch with batch_parameters\n",
    "batch_parameters = {\"dataframe\": spark_df}\n",
    "batch = batch_definition.get_batch(batch_parameters=batch_parameters)"
   ]
  },
  {
   "cell_type": "markdown",
   "metadata": {
    "application/vnd.databricks.v1+cell": {
     "cellMetadata": {
      "byteLimit": 2048000,
      "rowLimit": 10000
     },
     "inputWidgets": {},
     "nuid": "8fc4fbf6-ee46-4281-8382-962f46bdcb3c",
     "showTitle": false,
     "tableResultSettingsMap": {},
     "title": ""
    }
   },
   "source": [
    "#### Creating an Expectation Suite"
   ]
  },
  {
   "cell_type": "code",
   "execution_count": 0,
   "metadata": {
    "application/vnd.databricks.v1+cell": {
     "cellMetadata": {
      "byteLimit": 2048000,
      "rowLimit": 10000
     },
     "inputWidgets": {},
     "nuid": "3a93cb11-95a3-484d-b961-77c9dea853f9",
     "showTitle": false,
     "tableResultSettingsMap": {},
     "title": ""
    }
   },
   "outputs": [
    {
     "output_type": "stream",
     "name": "stdout",
     "output_type": "stream",
     "text": [
      "Out[8]: {\n  \"name\": \"adult_data_quality_suite\",\n  \"id\": \"a52ce41a-23e8-4fb4-bece-4acf384bffde\",\n  \"expectations\": [],\n  \"meta\": {\n    \"great_expectations_version\": \"1.3.14\"\n  },\n  \"notes\": null\n}"
     ]
    }
   ],
   "source": [
    "# Create an Expectation Suite\n",
    "expectation_suite_name = \"adult_data_quality_suite\"\n",
    "suite = gx.ExpectationSuite(name=expectation_suite_name)\n",
    "\n",
    "# Add the Expectation Suite to the Context\n",
    "context.suites.add_or_update(suite)"
   ]
  },
  {
   "cell_type": "markdown",
   "metadata": {
    "application/vnd.databricks.v1+cell": {
     "cellMetadata": {
      "byteLimit": 2048000,
      "rowLimit": 10000
     },
     "inputWidgets": {},
     "nuid": "a3d2b349-79f9-4a35-a2e5-7ad883c30cc4",
     "showTitle": false,
     "tableResultSettingsMap": {},
     "title": ""
    }
   },
   "source": [
    "#### Create a Validator"
   ]
  },
  {
   "cell_type": "code",
   "execution_count": 0,
   "metadata": {
    "application/vnd.databricks.v1+cell": {
     "cellMetadata": {
      "byteLimit": 2048000,
      "rowLimit": 10000
     },
     "inputWidgets": {},
     "nuid": "338b6301-bd72-4228-921d-1f810868fe57",
     "showTitle": false,
     "tableResultSettingsMap": {},
     "title": ""
    }
   },
   "outputs": [],
   "source": [
    "# Create a validator using the batch directly\n",
    "validator = context.get_validator(\n",
    "    batch=batch,\n",
    "    expectation_suite_name=expectation_suite_name\n",
    ")"
   ]
  },
  {
   "cell_type": "code",
   "execution_count": 0,
   "metadata": {
    "application/vnd.databricks.v1+cell": {
     "cellMetadata": {
      "byteLimit": 2048000,
      "rowLimit": 10000
     },
     "inputWidgets": {},
     "nuid": "37e225f1-3806-4be4-87a1-ac834f79a373",
     "showTitle": false,
     "tableResultSettingsMap": {},
     "title": ""
    }
   },
   "outputs": [
    {
     "output_type": "display_data",
     "data": {
      "application/vnd.jupyter.widget-view+json": {
       "model_id": "956ed9554c594c83bc776008a33c2982",
       "version_major": 2,
       "version_minor": 0
      },
      "text/plain": [
       "Calculating Metrics:   0%|          | 0/1 [00:00<?, ?it/s]"
      ]
     },
     "metadata": {},
     "output_type": "display_data"
    },
    {
     "output_type": "stream",
     "name": "stdout",
     "output_type": "stream",
     "text": [
      "   age         workclass  fnlwgt  education  education_num  \\\n0   50  Self-emp-not-inc   83311  Bachelors             13   \n1   38           Private  215646    HS-grad              9   \n2   53           Private  234721       11th              7   \n3   28           Private  338409  Bachelors             13   \n4   37           Private  284582    Masters             14   \n\n       marital_status         occupation   relationship   race     sex  \\\n0  Married-civ-spouse    Exec-managerial        Husband  White    Male   \n1            Divorced  Handlers-cleaners  Not-in-family  White    Male   \n2  Married-civ-spouse  Handlers-cleaners        Husband  Black    Male   \n3  Married-civ-spouse     Prof-specialty           Wife  Black  Female   \n4  Married-civ-spouse    Exec-managerial           Wife  White  Female   \n\n   capital_gain  capital_loss  hours_per_week native_country income  \n0             0             0              13  United-States  <=50K  \n1             0             0              40  United-States  <=50K  \n2             0             0              40  United-States  <=50K  \n3             0             0              40           Cuba  <=50K  \n4             0             0              40  United-States  <=50K  \n"
     ]
    }
   ],
   "source": [
    "print(validator.head())"
   ]
  },
  {
   "cell_type": "markdown",
   "metadata": {
    "application/vnd.databricks.v1+cell": {
     "cellMetadata": {
      "byteLimit": 2048000,
      "rowLimit": 10000
     },
     "inputWidgets": {},
     "nuid": "fe92d9b5-c66e-404b-b38d-74256a1539a5",
     "showTitle": false,
     "tableResultSettingsMap": {},
     "title": ""
    }
   },
   "source": [
    "#### Check for order of columns"
   ]
  },
  {
   "cell_type": "code",
   "execution_count": 0,
   "metadata": {
    "application/vnd.databricks.v1+cell": {
     "cellMetadata": {
      "byteLimit": 2048000,
      "rowLimit": 10000
     },
     "inputWidgets": {},
     "nuid": "7babe1bb-62e0-4ede-8074-351f71451bd8",
     "showTitle": false,
     "tableResultSettingsMap": {},
     "title": ""
    }
   },
   "outputs": [
    {
     "output_type": "display_data",
     "data": {
      "application/vnd.jupyter.widget-view+json": {
       "model_id": "d5a81216c0a340a493389df012fd396d",
       "version_major": 2,
       "version_minor": 0
      },
      "text/plain": [
       "Calculating Metrics:   0%|          | 0/2 [00:00<?, ?it/s]"
      ]
     },
     "metadata": {},
     "output_type": "display_data"
    },
    {
     "output_type": "stream",
     "name": "stdout",
     "output_type": "stream",
     "text": [
      "Out[11]: {\n  \"success\": true,\n  \"expectation_config\": {\n    \"type\": \"expect_table_columns_to_match_ordered_list\",\n    \"kwargs\": {\n      \"batch_id\": \"databricks_source-adult_data\",\n      \"column_list\": [\n        \"age\",\n        \"workclass\",\n        \"fnlwgt\",\n        \"education\",\n        \"education_num\",\n        \"marital_status\",\n        \"occupation\",\n        \"relationship\",\n        \"race\",\n        \"sex\",\n        \"capital_gain\",\n        \"capital_loss\",\n        \"hours_per_week\",\n        \"native_country\",\n        \"income\"\n      ]\n    },\n    \"meta\": {}\n  },\n  \"result\": {\n    \"observed_value\": [\n      \"age\",\n      \"workclass\",\n      \"fnlwgt\",\n      \"education\",\n      \"education_num\",\n      \"marital_status\",\n      \"occupation\",\n      \"relationship\",\n      \"race\",\n      \"sex\",\n      \"capital_gain\",\n      \"capital_loss\",\n      \"hours_per_week\",\n      \"native_country\",\n      \"income\"\n    ]\n  },\n  \"meta\": {},\n  \"exception_info\": {\n    \"raised_exception\": false,\n    \"exception_traceback\": null,\n    \"exception_message\": null\n  }\n}"
     ]
    }
   ],
   "source": [
    "validator.expect_table_columns_to_match_ordered_list(\n",
    "    column_list=spark_df.columns,\n",
    ")"
   ]
  },
  {
   "cell_type": "markdown",
   "metadata": {
    "application/vnd.databricks.v1+cell": {
     "cellMetadata": {
      "byteLimit": 2048000,
      "rowLimit": 10000
     },
     "inputWidgets": {},
     "nuid": "7b5e2ffb-3abd-40fe-92f9-7fd0428d3081",
     "showTitle": false,
     "tableResultSettingsMap": {},
     "title": ""
    }
   },
   "source": [
    "#### Check for null values"
   ]
  },
  {
   "cell_type": "code",
   "execution_count": 0,
   "metadata": {
    "application/vnd.databricks.v1+cell": {
     "cellMetadata": {
      "byteLimit": 2048000,
      "rowLimit": 10000
     },
     "inputWidgets": {},
     "nuid": "15fd733a-8c08-4379-ac55-6b71f839d690",
     "showTitle": false,
     "tableResultSettingsMap": {},
     "title": ""
    }
   },
   "outputs": [
    {
     "output_type": "display_data",
     "data": {
      "application/vnd.jupyter.widget-view+json": {
       "model_id": "964897aeb7e847dc93cd1b88a075bf66",
       "version_major": 2,
       "version_minor": 0
      },
      "text/plain": [
       "Calculating Metrics:   0%|          | 0/8 [00:00<?, ?it/s]"
      ]
     },
     "metadata": {},
     "output_type": "display_data"
    },
    {
     "output_type": "stream",
     "name": "stdout",
     "output_type": "stream",
     "text": [
      "Out[12]: {\n  \"success\": true,\n  \"expectation_config\": {\n    \"type\": \"expect_column_values_to_not_be_null\",\n    \"kwargs\": {\n      \"batch_id\": \"databricks_source-adult_data\",\n      \"column\": \"income\"\n    },\n    \"meta\": {}\n  },\n  \"result\": {\n    \"element_count\": 32560,\n    \"unexpected_count\": 0,\n    \"unexpected_percent\": 0.0,\n    \"partial_unexpected_list\": []\n  },\n  \"meta\": {},\n  \"exception_info\": {\n    \"raised_exception\": false,\n    \"exception_traceback\": null,\n    \"exception_message\": null\n  }\n}"
     ]
    }
   ],
   "source": [
    "validator.expect_column_values_to_not_be_null(column=\"income\")"
   ]
  },
  {
   "cell_type": "code",
   "execution_count": 0,
   "metadata": {
    "application/vnd.databricks.v1+cell": {
     "cellMetadata": {
      "byteLimit": 2048000,
      "rowLimit": 10000
     },
     "inputWidgets": {},
     "nuid": "2fd43273-daf6-489a-9e12-b8f0ddfaf419",
     "showTitle": false,
     "tableResultSettingsMap": {},
     "title": ""
    }
   },
   "outputs": [
    {
     "output_type": "stream",
     "name": "stdout",
     "output_type": "stream",
     "text": [
      "Columns in the dataset: ['age', 'workclass', 'fnlwgt', 'education', 'education_num', 'marital_status', 'occupation', 'relationship', 'race', 'sex', 'capital_gain', 'capital_loss', 'hours_per_week', 'native_country', 'income']\n"
     ]
    }
   ],
   "source": [
    "# Examine what columns are available in our dataset\n",
    "column_list = spark_df.columns\n",
    "print(f\"Columns in the dataset: {column_list}\")"
   ]
  },
  {
   "cell_type": "markdown",
   "metadata": {
    "application/vnd.databricks.v1+cell": {
     "cellMetadata": {
      "byteLimit": 2048000,
      "rowLimit": 10000
     },
     "inputWidgets": {},
     "nuid": "ce7b80d0-750e-482a-8190-ebb111d0cbb5",
     "showTitle": false,
     "tableResultSettingsMap": {},
     "title": ""
    }
   },
   "source": [
    "####Function to run expectations"
   ]
  },
  {
   "cell_type": "code",
   "execution_count": 0,
   "metadata": {
    "application/vnd.databricks.v1+cell": {
     "cellMetadata": {
      "byteLimit": 2048000,
      "rowLimit": 10000
     },
     "inputWidgets": {},
     "nuid": "7f52dd69-031a-4745-9714-2dbc6245fa18",
     "showTitle": false,
     "tableResultSettingsMap": {},
     "title": ""
    }
   },
   "outputs": [],
   "source": [
    "# Function to run expectation and print result without widget\n",
    "def run_expectation(expectation_function, **kwargs):\n",
    "    # Run the expectation\n",
    "    result = expectation_function(**kwargs)\n",
    "    \n",
    "    # Get expectation type safely - handle different result structures\n",
    "    expectation_type = \"Unknown\"\n",
    "    if hasattr(result, 'expectation_config'):\n",
    "        # Try different attribute names that might contain the type\n",
    "        if hasattr(result.expectation_config, 'expectation_type'):\n",
    "            expectation_type = result.expectation_config.expectation_type\n",
    "        elif hasattr(result.expectation_config, 'kwargs') and 'expectation_type' in result.expectation_config.kwargs:\n",
    "            expectation_type = result.expectation_config.kwargs['expectation_type']\n",
    "        elif hasattr(result.expectation_config, 'expectation_context'):\n",
    "            expectation_type = result.expectation_config.expectation_context\n",
    "        elif hasattr(result.expectation_config, 'type'):\n",
    "            expectation_type = result.expectation_config.type\n",
    "    \n",
    "    # If we still can't find it, try to derive from the function name\n",
    "    if expectation_type == \"Unknown\" and hasattr(expectation_function, '__name__'):\n",
    "        expectation_type = expectation_function.__name__\n",
    "    \n",
    "    # Print simple result\n",
    "    status = \"[[PASSED]]\" if hasattr(result, 'success') and result.success else \"[[FAILED]]\"\n",
    "    print(f\"Validation: {status}\")\n",
    "    \n",
    "    # Print basic metrics if available\n",
    "    if hasattr(result, 'result') and isinstance(result.result, dict):\n",
    "        metrics = []\n",
    "        for key in ['unexpected_count', 'unexpected_percent', 'observed_value']:\n",
    "            if key in result.result:\n",
    "                metrics.append(f\"{key}: {result.result[key]}\")\n",
    "        if metrics:\n",
    "            print(\"\" + \", \".join(metrics))\n",
    "    \n",
    "    return"
   ]
  },
  {
   "cell_type": "markdown",
   "metadata": {
    "application/vnd.databricks.v1+cell": {
     "cellMetadata": {
      "byteLimit": 2048000,
      "rowLimit": 10000
     },
     "inputWidgets": {},
     "nuid": "4cabe5f9-247f-4252-9bf6-e9da7509b981",
     "showTitle": false,
     "tableResultSettingsMap": {},
     "title": ""
    }
   },
   "source": [
    "#### Add basic expectations for data structure"
   ]
  },
  {
   "cell_type": "code",
   "execution_count": 0,
   "metadata": {
    "application/vnd.databricks.v1+cell": {
     "cellMetadata": {
      "byteLimit": 2048000,
      "rowLimit": 10000
     },
     "inputWidgets": {},
     "nuid": "89e13d5f-678e-44bc-ac09-0420bf37f64d",
     "showTitle": false,
     "tableResultSettingsMap": {},
     "title": ""
    }
   },
   "outputs": [],
   "source": [
    "%%capture captured_output\n",
    "run_expectation(validator.expect_table_columns_to_match_ordered_list, column_list=column_list)"
   ]
  },
  {
   "cell_type": "code",
   "execution_count": 0,
   "metadata": {
    "application/vnd.databricks.v1+cell": {
     "cellMetadata": {
      "byteLimit": 2048000,
      "rowLimit": 10000
     },
     "inputWidgets": {},
     "nuid": "746ce33f-071e-4ad5-acd2-4af83876eaab",
     "showTitle": false,
     "tableResultSettingsMap": {},
     "title": ""
    }
   },
   "outputs": [
    {
     "output_type": "stream",
     "name": "stdout",
     "output_type": "stream",
     "text": [
      "Validation: [[PASSED]]\nobserved_value: ['age', 'workclass', 'fnlwgt', 'education', 'education_num', 'marital_status', 'occupation', 'relationship', 'race', 'sex', 'capital_gain', 'capital_loss', 'hours_per_week', 'native_country', 'income']\n\n"
     ]
    }
   ],
   "source": [
    "print(captured_output.stdout)"
   ]
  },
  {
   "cell_type": "code",
   "execution_count": 0,
   "metadata": {
    "application/vnd.databricks.v1+cell": {
     "cellMetadata": {
      "byteLimit": 2048000,
      "rowLimit": 10000
     },
     "inputWidgets": {},
     "nuid": "e7d0b55d-80a1-4411-991a-e7f3f1266916",
     "showTitle": false,
     "tableResultSettingsMap": {},
     "title": ""
    }
   },
   "outputs": [],
   "source": [
    "%%capture captured_output\n",
    "run_expectation(validator.expect_table_row_count_to_be_between, min_value=1000, max_value=100000)"
   ]
  },
  {
   "cell_type": "code",
   "execution_count": 0,
   "metadata": {
    "application/vnd.databricks.v1+cell": {
     "cellMetadata": {
      "byteLimit": 2048000,
      "rowLimit": 10000
     },
     "inputWidgets": {},
     "nuid": "8b88611a-17d2-48d9-8ff5-43a3676b00b6",
     "showTitle": false,
     "tableResultSettingsMap": {},
     "title": ""
    }
   },
   "outputs": [
    {
     "output_type": "stream",
     "name": "stdout",
     "output_type": "stream",
     "text": [
      "Validation: [[PASSED]]\nobserved_value: 32560\n\n"
     ]
    }
   ],
   "source": [
    "print(captured_output.stdout)"
   ]
  },
  {
   "cell_type": "markdown",
   "metadata": {
    "application/vnd.databricks.v1+cell": {
     "cellMetadata": {
      "byteLimit": 2048000,
      "rowLimit": 10000
     },
     "inputWidgets": {},
     "nuid": "c2ee496c-a54c-4ca5-a57d-47f307475562",
     "showTitle": false,
     "tableResultSettingsMap": {},
     "title": ""
    }
   },
   "source": [
    "#### Add expectations for age column"
   ]
  },
  {
   "cell_type": "code",
   "execution_count": 0,
   "metadata": {
    "application/vnd.databricks.v1+cell": {
     "cellMetadata": {
      "byteLimit": 2048000,
      "rowLimit": 10000
     },
     "inputWidgets": {},
     "nuid": "e40262cd-ef20-49fe-a167-b7a17b4e313a",
     "showTitle": false,
     "tableResultSettingsMap": {},
     "title": ""
    }
   },
   "outputs": [],
   "source": [
    "%%capture captured_output\n",
    "if \"age\" in column_list:\n",
    "    run_expectation(validator.expect_column_values_to_be_between, \n",
    "                   column=\"age\", min_value=16, max_value=100)\n",
    "    run_expectation(validator.expect_column_values_to_not_be_null, \n",
    "                   column=\"age\")"
   ]
  },
  {
   "cell_type": "code",
   "execution_count": 0,
   "metadata": {
    "application/vnd.databricks.v1+cell": {
     "cellMetadata": {
      "byteLimit": 2048000,
      "rowLimit": 10000
     },
     "inputWidgets": {},
     "nuid": "7139fc63-a908-4f85-abef-f7f32c089685",
     "showTitle": false,
     "tableResultSettingsMap": {},
     "title": ""
    }
   },
   "outputs": [
    {
     "output_type": "stream",
     "name": "stdout",
     "output_type": "stream",
     "text": [
      "Validation: [[PASSED]]\nunexpected_count: 0, unexpected_percent: 0.0\nValidation: [[PASSED]]\nunexpected_count: 0, unexpected_percent: 0.0\n\n"
     ]
    }
   ],
   "source": [
    "print(captured_output.stdout)"
   ]
  },
  {
   "cell_type": "markdown",
   "metadata": {
    "application/vnd.databricks.v1+cell": {
     "cellMetadata": {
      "byteLimit": 2048000,
      "rowLimit": 10000
     },
     "inputWidgets": {},
     "nuid": "ec5a0be7-f9d1-442a-a914-ef1f1bde4b5f",
     "showTitle": false,
     "tableResultSettingsMap": {},
     "title": ""
    }
   },
   "source": [
    "#### Add expectations for education column"
   ]
  },
  {
   "cell_type": "code",
   "execution_count": 0,
   "metadata": {
    "application/vnd.databricks.v1+cell": {
     "cellMetadata": {
      "byteLimit": 2048000,
      "rowLimit": 10000
     },
     "inputWidgets": {},
     "nuid": "6e895006-276d-4f75-b594-cd5e1dc90936",
     "showTitle": false,
     "tableResultSettingsMap": {},
     "title": ""
    }
   },
   "outputs": [],
   "source": [
    "%%capture captured_output\n",
    "if \"education\" in column_list:\n",
    "    education_categories = [\n",
    "        \"Bachelors\", \"HS-grad\", \"Some-college\", \"Masters\", \"Doctorate\", \n",
    "        \"Prof-school\", \"11th\", \"10th\", \"9th\", \"12th\", \"Assoc-voc\", \n",
    "        \"Assoc-acdm\", \"7th-8th\", \"1st-4th\", \"5th-6th\", \"Preschool\"\n",
    "    ]\n",
    "    run_expectation(validator.expect_column_values_to_be_in_set, \n",
    "                   column=\"education\", value_set=education_categories)\n",
    "    run_expectation(validator.expect_column_values_to_not_be_null, \n",
    "                   column=\"education\")"
   ]
  },
  {
   "cell_type": "code",
   "execution_count": 0,
   "metadata": {
    "application/vnd.databricks.v1+cell": {
     "cellMetadata": {
      "byteLimit": 2048000,
      "rowLimit": 10000
     },
     "inputWidgets": {},
     "nuid": "032f7718-e456-40c0-83d4-1a0170660fd8",
     "showTitle": false,
     "tableResultSettingsMap": {},
     "title": ""
    }
   },
   "outputs": [
    {
     "output_type": "stream",
     "name": "stdout",
     "output_type": "stream",
     "text": [
      "Validation: [[PASSED]]\nunexpected_count: 0, unexpected_percent: 0.0\nValidation: [[PASSED]]\nunexpected_count: 0, unexpected_percent: 0.0\n\n"
     ]
    }
   ],
   "source": [
    "print(captured_output.stdout)"
   ]
  },
  {
   "cell_type": "markdown",
   "metadata": {
    "application/vnd.databricks.v1+cell": {
     "cellMetadata": {
      "byteLimit": 2048000,
      "rowLimit": 10000
     },
     "inputWidgets": {},
     "nuid": "916bfb6c-f3e3-4ebd-bef7-8be6716dca1a",
     "showTitle": false,
     "tableResultSettingsMap": {},
     "title": ""
    }
   },
   "source": [
    "#### Add expectations for income column"
   ]
  },
  {
   "cell_type": "code",
   "execution_count": 0,
   "metadata": {
    "application/vnd.databricks.v1+cell": {
     "cellMetadata": {
      "byteLimit": 2048000,
      "rowLimit": 10000
     },
     "inputWidgets": {},
     "nuid": "2cf890b5-44d4-4177-bcce-6f729cdc678c",
     "showTitle": false,
     "tableResultSettingsMap": {},
     "title": ""
    }
   },
   "outputs": [],
   "source": [
    "%%capture captured_output\n",
    "if \"income\" in column_list:\n",
    "    income_categories = [\"<=50K\", \">50K\"]\n",
    "    run_expectation(validator.expect_column_values_to_be_in_set, \n",
    "                   column=\"income\", value_set=income_categories)\n",
    "    run_expectation(validator.expect_column_values_to_not_be_null, \n",
    "                   column=\"income\")"
   ]
  },
  {
   "cell_type": "code",
   "execution_count": 0,
   "metadata": {
    "application/vnd.databricks.v1+cell": {
     "cellMetadata": {
      "byteLimit": 2048000,
      "rowLimit": 10000
     },
     "inputWidgets": {},
     "nuid": "28f912de-238c-4899-a4ed-558b0320f850",
     "showTitle": false,
     "tableResultSettingsMap": {},
     "title": ""
    }
   },
   "outputs": [
    {
     "output_type": "stream",
     "name": "stdout",
     "output_type": "stream",
     "text": [
      "Validation: [[PASSED]]\nunexpected_count: 0, unexpected_percent: 0.0\nValidation: [[PASSED]]\nunexpected_count: 0, unexpected_percent: 0.0\n\n"
     ]
    }
   ],
   "source": [
    "print(captured_output.stdout)"
   ]
  },
  {
   "cell_type": "markdown",
   "metadata": {
    "application/vnd.databricks.v1+cell": {
     "cellMetadata": {
      "byteLimit": 2048000,
      "rowLimit": 10000
     },
     "inputWidgets": {},
     "nuid": "f091b9de-5d2f-43f3-8460-40047b873794",
     "showTitle": false,
     "tableResultSettingsMap": {},
     "title": ""
    }
   },
   "source": [
    "#### Add expectation for workclass column"
   ]
  },
  {
   "cell_type": "code",
   "execution_count": 0,
   "metadata": {
    "application/vnd.databricks.v1+cell": {
     "cellMetadata": {
      "byteLimit": 2048000,
      "rowLimit": 10000
     },
     "inputWidgets": {},
     "nuid": "ca907c7a-fbc0-421b-b352-15495c42d985",
     "showTitle": false,
     "tableResultSettingsMap": {},
     "title": ""
    }
   },
   "outputs": [],
   "source": [
    "%%capture captured_output\n",
    "if \"workclass\" in column_list:\n",
    "    workclass_categories = [\n",
    "        \"Private\", \"Self-emp-not-inc\", \"Local-gov\", \"State-gov\", \n",
    "        \"Self-emp-inc\", \"Federal-gov\", \"Without-pay\", \"Never-worked\", \"?\"\n",
    "    ]\n",
    "    run_expectation(validator.expect_column_values_to_be_in_set, \n",
    "                   column=\"workclass\", value_set=workclass_categories)"
   ]
  },
  {
   "cell_type": "code",
   "execution_count": 0,
   "metadata": {
    "application/vnd.databricks.v1+cell": {
     "cellMetadata": {
      "byteLimit": 2048000,
      "rowLimit": 10000
     },
     "inputWidgets": {},
     "nuid": "f3868d31-03d8-4755-8a97-bd9be7876b57",
     "showTitle": false,
     "tableResultSettingsMap": {},
     "title": ""
    }
   },
   "outputs": [
    {
     "output_type": "stream",
     "name": "stdout",
     "output_type": "stream",
     "text": [
      "Validation: [[PASSED]]\nunexpected_count: 0, unexpected_percent: 0.0\n\n"
     ]
    }
   ],
   "source": [
    "print(captured_output.stdout)"
   ]
  },
  {
   "cell_type": "markdown",
   "metadata": {
    "application/vnd.databricks.v1+cell": {
     "cellMetadata": {
      "byteLimit": 2048000,
      "rowLimit": 10000
     },
     "inputWidgets": {},
     "nuid": "25c5ab7f-7390-4b89-8768-a1ebcba685f4",
     "showTitle": false,
     "tableResultSettingsMap": {},
     "title": ""
    }
   },
   "source": [
    "#### Statistical expectations to quantile expectations - check individual percentiles"
   ]
  },
  {
   "cell_type": "code",
   "execution_count": 0,
   "metadata": {
    "application/vnd.databricks.v1+cell": {
     "cellMetadata": {
      "byteLimit": 2048000,
      "rowLimit": 10000
     },
     "inputWidgets": {},
     "nuid": "6cea07a7-de31-42ca-be45-98f3a6b446ad",
     "showTitle": false,
     "tableResultSettingsMap": {},
     "title": ""
    }
   },
   "outputs": [],
   "source": [
    "%%capture captured_output\n",
    "if \"age\" in column_list:\n",
    "    # Check median (50th percentile)\n",
    "    run_expectation(validator.expect_column_median_to_be_between,\n",
    "                   column=\"age\", min_value=30, max_value=50)\n",
    "    \n",
    "    # Check min and max as proxies for percentiles\n",
    "    run_expectation(validator.expect_column_min_to_be_between,\n",
    "                   column=\"age\", min_value=16, max_value=25)\n",
    "    run_expectation(validator.expect_column_max_to_be_between,\n",
    "                   column=\"age\", min_value=70, max_value=100)"
   ]
  },
  {
   "cell_type": "code",
   "execution_count": 0,
   "metadata": {
    "application/vnd.databricks.v1+cell": {
     "cellMetadata": {
      "byteLimit": 2048000,
      "rowLimit": 10000
     },
     "inputWidgets": {},
     "nuid": "f4679bfb-caea-4373-b44e-c14f4d5604a6",
     "showTitle": false,
     "tableResultSettingsMap": {},
     "title": ""
    }
   },
   "outputs": [
    {
     "output_type": "stream",
     "name": "stdout",
     "output_type": "stream",
     "text": [
      "Validation: [[PASSED]]\nobserved_value: 37.0\nValidation: [[PASSED]]\nobserved_value: 17\nValidation: [[PASSED]]\nobserved_value: 90\n\n"
     ]
    }
   ],
   "source": [
    "print(captured_output.stdout)"
   ]
  },
  {
   "cell_type": "markdown",
   "metadata": {
    "application/vnd.databricks.v1+cell": {
     "cellMetadata": {
      "byteLimit": 2048000,
      "rowLimit": 10000
     },
     "inputWidgets": {},
     "nuid": "38d07238-71eb-4353-b018-637e2ca6a812",
     "showTitle": false,
     "tableResultSettingsMap": {},
     "title": ""
    }
   },
   "source": [
    "#### Cross-column analysis"
   ]
  },
  {
   "cell_type": "code",
   "execution_count": 0,
   "metadata": {
    "application/vnd.databricks.v1+cell": {
     "cellMetadata": {
      "byteLimit": 2048000,
      "rowLimit": 10000
     },
     "inputWidgets": {},
     "nuid": "e5224787-250e-4e88-b156-45d4df496dea",
     "showTitle": false,
     "tableResultSettingsMap": {},
     "title": ""
    }
   },
   "outputs": [],
   "source": [
    "%%capture captured_output\n",
    "if \"education\" in column_list and \"income\" in column_list:\n",
    "    # Alternative direct approach without row_condition\n",
    "    print(\"\\n=== Higher Education vs Income Analysis ===\")\n",
    "    \n",
    "    # Create a crosstab analysis\n",
    "    education_income_df = spark_df.crosstab(\"education\", \"income\")\n",
    "    \n",
    "    # Show the raw crosstab data\n",
    "    education_income_rows = education_income_df.collect()\n",
    "    \n",
    "    # Format results for better readability\n",
    "    print(\"Education Level | <=50K | >50K | % Higher Income\")\n",
    "    print(\"------------------------------------------------\")\n",
    "    \n",
    "    for row in education_income_rows:\n",
    "        education = row[\"education_income\"]\n",
    "        if education in [\"Bachelors\", \"Masters\", \"Doctorate\", \"Prof-school\"]:\n",
    "            # Get counts for each income level\n",
    "            low_income = int(row[\"<=50K\"]) if \"<=50K\" in row else 0\n",
    "            high_income = int(row[\">50K\"]) if \">50K\" in row else 0\n",
    "            total = low_income + high_income\n",
    "            \n",
    "            # Calculate percentage\n",
    "            if total > 0:\n",
    "                high_income_pct = (high_income / total) * 100\n",
    "                meets_expectation = \"[[PASSED]]\" if high_income_pct >= 50 else \"[[FAILED]]\"\n",
    "                print(f\"{education:15} | {low_income:5} | {high_income:4} | {high_income_pct:.2f}% {meets_expectation}\")"
   ]
  },
  {
   "cell_type": "code",
   "execution_count": 0,
   "metadata": {
    "application/vnd.databricks.v1+cell": {
     "cellMetadata": {
      "byteLimit": 2048000,
      "rowLimit": 10000
     },
     "inputWidgets": {},
     "nuid": "7b7c51e7-dd3e-4c48-bb54-f12dfad2b7d5",
     "showTitle": false,
     "tableResultSettingsMap": {},
     "title": ""
    }
   },
   "outputs": [
    {
     "output_type": "stream",
     "name": "stdout",
     "output_type": "stream",
     "text": [
      "\n=== Higher Education vs Income Analysis ===\nEducation Level | <=50K | >50K | % Higher Income\n------------------------------------------------\nMasters         |   764 |  959 | 55.66% [[PASSED]]\nBachelors       |  3133 | 2221 | 41.48% [[FAILED]]\nDoctorate       |   107 |  306 | 74.09% [[PASSED]]\nProf-school     |   153 |  423 | 73.44% [[PASSED]]\n\n"
     ]
    }
   ],
   "source": [
    "print(captured_output.stdout)"
   ]
  },
  {
   "cell_type": "code",
   "execution_count": 0,
   "metadata": {
    "application/vnd.databricks.v1+cell": {
     "cellMetadata": {
      "byteLimit": 2048000,
      "rowLimit": 10000
     },
     "inputWidgets": {},
     "nuid": "1e720959-f227-4424-96ee-a242dff9eec2",
     "showTitle": false,
     "tableResultSettingsMap": {},
     "title": ""
    }
   },
   "outputs": [],
   "source": [
    "\n",
    "%%capture captured_output\n",
    "\n",
    "# Run full validation and print summary instead of building docs\n",
    "results = validator.validate()\n",
    "print(\"\\n=== Validation Summary ===\")\n",
    "print(f\"Validation successful: {results.success}\")\n",
    "print(f\"Expectations evaluated: {len(results.results)}\")\n",
    "print(f\"Expectations passed: {sum(1 for r in results.results if r.success)}\")\n",
    "print(f\"Expectations failed: {sum(1 for r in results.results if not r.success)}\")\n",
    "\n",
    "# Print detailed failures\n",
    "print(\"\\n=== Failed Expectations ===\")\n",
    "for result in results.results:\n",
    "    if not result.success:\n",
    "        print(f\"- {result.expectation_config.expectation_type}\")\n",
    "        if hasattr(result, 'result') and isinstance(result.result, dict):\n",
    "            if 'unexpected_count' in result.result:\n",
    "                print(f\"  Unexpected values: {result.result['unexpected_count']} ({result.result.get('unexpected_percent', 'N/A')}%)\")\n",
    "            if 'partial_unexpected_list' in result.result:\n",
    "                sample = result.result['partial_unexpected_list'][:5]\n",
    "                print(f\"  Sample unexpected values: {sample}\")"
   ]
  },
  {
   "cell_type": "code",
   "execution_count": 0,
   "metadata": {
    "application/vnd.databricks.v1+cell": {
     "cellMetadata": {
      "byteLimit": 2048000,
      "rowLimit": 10000
     },
     "inputWidgets": {},
     "nuid": "58dd150c-5a7d-49b0-98f2-470794d228bd",
     "showTitle": false,
     "tableResultSettingsMap": {},
     "title": ""
    }
   },
   "outputs": [
    {
     "output_type": "stream",
     "name": "stdout",
     "output_type": "stream",
     "text": [
      "\n=== Validation Summary ===\nValidation successful: True\nExpectations evaluated: 12\nExpectations passed: 12\nExpectations failed: 0\n\n=== Failed Expectations ===\n\n"
     ]
    }
   ],
   "source": [
    "print(captured_output.stdout)"
   ]
  },
  {
   "cell_type": "markdown",
   "metadata": {
    "application/vnd.databricks.v1+cell": {
     "cellMetadata": {
      "byteLimit": 2048000,
      "rowLimit": 10000
     },
     "inputWidgets": {},
     "nuid": "0647bff0-43dc-442a-aaf2-7afb35b39a79",
     "showTitle": false,
     "tableResultSettingsMap": {},
     "title": ""
    }
   },
   "source": [
    "#### Save and Validate\n"
   ]
  },
  {
   "cell_type": "code",
   "execution_count": 0,
   "metadata": {
    "application/vnd.databricks.v1+cell": {
     "cellMetadata": {
      "byteLimit": 2048000,
      "rowLimit": 10000
     },
     "inputWidgets": {},
     "nuid": "109d1a3a-16f2-4310-a13d-876bb0f17ca0",
     "showTitle": false,
     "tableResultSettingsMap": {},
     "title": ""
    }
   },
   "outputs": [],
   "source": [
    "%%capture captured_output\n",
    "# Save the expectation suite\n",
    "validator.save_expectation_suite(discard_failed_expectations=False)\n",
    "\n",
    "# Run validation\n",
    "results = validator.validate()\n",
    "\n",
    "# Check validation results\n",
    "print(f\"Validation successful: {results.success}\")\n",
    "\n",
    "# Get detailed information about failures\n",
    "if not results.success:\n",
    "    for result in results.results:\n",
    "        if not result.success:\n",
    "            print(f\"Failed expectation: {result.expectation_config.expectation_type}\")\n",
    "            print(f\"Details: {result.result}\")\n"
   ]
  },
  {
   "cell_type": "code",
   "execution_count": 0,
   "metadata": {
    "application/vnd.databricks.v1+cell": {
     "cellMetadata": {
      "byteLimit": 2048000,
      "rowLimit": 10000
     },
     "inputWidgets": {},
     "nuid": "3cda4eaa-775a-46eb-8859-d3ad9859a034",
     "showTitle": false,
     "tableResultSettingsMap": {},
     "title": ""
    }
   },
   "outputs": [
    {
     "output_type": "stream",
     "name": "stdout",
     "output_type": "stream",
     "text": [
      "\n"
     ]
    }
   ],
   "source": [
    "print(captured_output.stdout)"
   ]
  },
  {
   "cell_type": "markdown",
   "metadata": {
    "application/vnd.databricks.v1+cell": {
     "cellMetadata": {
      "byteLimit": 2048000,
      "rowLimit": 10000
     },
     "inputWidgets": {},
     "nuid": "486cf6e8-0475-4891-8946-2da34cbf989c",
     "showTitle": false,
     "tableResultSettingsMap": {},
     "title": ""
    }
   },
   "source": [
    "#### Generate Data Documentation"
   ]
  },
  {
   "cell_type": "code",
   "execution_count": 0,
   "metadata": {
    "application/vnd.databricks.v1+cell": {
     "cellMetadata": {
      "byteLimit": 2048000,
      "rowLimit": 10000
     },
     "inputWidgets": {},
     "nuid": "7b32c973-cb22-49a5-b603-23f990ae73e8",
     "showTitle": false,
     "tableResultSettingsMap": {},
     "title": ""
    }
   },
   "outputs": [
    {
     "output_type": "stream",
     "name": "stdout",
     "output_type": "stream",
     "text": [
      "Out[35]: {'local_site': 'file:///databricks/driver/gx/uncommitted/data_docs/local_site/index.html'}"
     ]
    }
   ],
   "source": [
    "# Build Data Docs to create HTML documentation\n",
    "context.build_data_docs()\n"
   ]
  },
  {
   "cell_type": "markdown",
   "metadata": {
    "application/vnd.databricks.v1+cell": {
     "cellMetadata": {},
     "inputWidgets": {},
     "nuid": "30c9cd9f-de36-4f44-bd1f-60d526e272c8",
     "showTitle": false,
     "tableResultSettingsMap": {},
     "title": ""
    }
   },
   "source": [
    "#### Create Checkpoints for Future Validation"
   ]
  },
  {
   "cell_type": "code",
   "execution_count": 0,
   "metadata": {
    "application/vnd.databricks.v1+cell": {
     "cellMetadata": {
      "byteLimit": 2048000,
      "rowLimit": 10000
     },
     "inputWidgets": {},
     "nuid": "9a70d8c2-175b-46f7-b0bf-6486efec4773",
     "showTitle": false,
     "tableResultSettingsMap": {},
     "title": ""
    }
   },
   "outputs": [],
   "source": [
    "%%capture captured_output\n",
    "\n",
    "# Build a batch request from your existing batch definition\n",
    "batch_request = {\n",
    "    \"datasource_name\": \"databricks_source\",\n",
    "    \"data_asset_name\": \"adult_data\",\n",
    "    \"batch_definition_name\": \"my_batch_definition\",\n",
    "    \"batch_parameters\": {\"dataframe\": spark_df}\n",
    "}\n",
    "try: \n",
    "    # Convert your ephemeral context to a file-backed context\n",
    "    # file_context = context.convert_to_file_context()\n",
    "\n",
    "    # Create a checkpoint for future validation\n",
    "    checkpoint = context.add_or_update_checkpoint(\n",
    "        name=\"adult_data_checkpoint\",\n",
    "        validations=[\n",
    "            {\n",
    "                \"batch_request\": batch_request,\n",
    "                \"expectation_suite_name\": \"adult_data_quality_suite\",\n",
    "            },\n",
    "        ],\n",
    "    )\n",
    "\n",
    "    # checkpoint_result = checkpoint.run()\n",
    "    print(f\"Checkpoint validation successful: {checkpoint_result.success}\")\n",
    "except:\n",
    "    print(\"An exception occurred\")\n"
   ]
  }
 ],
 "metadata": {
  "application/vnd.databricks.v1+notebook": {
   "computePreferences": null,
   "dashboards": [],
   "environmentMetadata": {
    "base_environment": "",
    "environment_version": "1"
   },
   "inputWidgetPreferences": null,
   "language": "python",
   "notebookMetadata": {
    "pythonIndentUnit": 4
   },
   "notebookName": "dqdp-gx",
   "widgets": {}
  }
 },
 "nbformat": 4,
 "nbformat_minor": 0
}