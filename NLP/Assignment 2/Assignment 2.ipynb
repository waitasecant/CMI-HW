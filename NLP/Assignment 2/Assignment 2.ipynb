{
  "nbformat": 4,
  "nbformat_minor": 0,
  "metadata": {
    "colab": {
      "provenance": []
    },
    "kernelspec": {
      "name": "python3",
      "display_name": "Python 3"
    },
    "language_info": {
      "name": "python"
    }
  },
  "cells": [
    {
      "cell_type": "markdown",
      "source": [
        "# Himanshu MDS202327"
      ],
      "metadata": {
        "id": "EDAAo5pLN3Pv"
      }
    },
    {
      "cell_type": "code",
      "source": [
        "!pip install adjustText"
      ],
      "metadata": {
        "id": "jFT-vJzj_Flv"
      },
      "execution_count": null,
      "outputs": []
    },
    {
      "cell_type": "code",
      "execution_count": null,
      "metadata": {
        "id": "_D3VYoP40tor"
      },
      "outputs": [],
      "source": [
        "# Importing relevant libraries\n",
        "import json\n",
        "import re\n",
        "import string\n",
        "import os\n",
        "import glob\n",
        "import multiprocessing\n",
        "import pandas as pd\n",
        "import numpy as np\n",
        "import matplotlib.pyplot as plt\n",
        "\n",
        "import nltk\n",
        "nltk.download(\"stopwords\", quiet=True)\n",
        "nltk.download('punkt', quiet=True)\n",
        "\n",
        "from multiprocessing import Pool, cpu_count, Lock\n",
        "from functools import partial\n",
        "from tqdm import tqdm\n",
        "from collections import Counter, defaultdict\n",
        "from sklearn.linear_model import LinearRegression\n",
        "from scipy.optimize import curve_fit\n",
        "from nltk.corpus import stopwords\n",
        "from IPython.display import display, Math\n",
        "\n",
        "from nltk import ngrams, word_tokenize, sent_tokenize\n",
        "\n",
        "import scipy\n",
        "from scipy.sparse import dok_matrix, csr_matrix, lil_matrix\n",
        "from scipy.spatial.distance import euclidean, cosine\n",
        "\n",
        "import joblib\n",
        "import gc\n",
        "\n",
        "from sklearn.manifold import TSNE\n",
        "import matplotlib.pyplot as plt\n",
        "from adjustText import adjust_text"
      ]
    },
    {
      "cell_type": "markdown",
      "source": [
        "Note: I have taken the vocabulary size to be 1000 since I ran out of TPU and my laptop is really slow. Hope its understandable."
      ],
      "metadata": {
        "id": "Fzq4wKxYdaDL"
      }
    },
    {
      "cell_type": "markdown",
      "source": [
        "### Task 1\n",
        "Implement a modified version of COALS (refer to this paper for COALS implementation) using\n",
        "the COVID corpus.\n",
        "\n",
        "Instead of the using correlation, use the ratio of the probabilities $\\frac{P_{ik}}{P_{jk}}$ to obtain the cooccurrence matrix\n"
      ],
      "metadata": {
        "id": "nzoYFyd5LXvJ"
      }
    },
    {
      "cell_type": "code",
      "source": [
        "# Mount GDrive\n",
        "from google.colab import drive\n",
        "drive.mount('/content/drive')"
      ],
      "metadata": {
        "colab": {
          "base_uri": "https://localhost:8080/"
        },
        "id": "zqAFDtWZLbuE",
        "outputId": "7ca4343f-78b6-4333-85ad-9e093728d83a"
      },
      "execution_count": null,
      "outputs": [
        {
          "output_type": "stream",
          "name": "stdout",
          "text": [
            "Mounted at /content/drive\n"
          ]
        }
      ]
    },
    {
      "cell_type": "code",
      "source": [
        "corpus_path_drive = '/content/drive/MyDrive/NLP/corpus_cleaned.txt'"
      ],
      "metadata": {
        "id": "6_C8fOVxknZk"
      },
      "execution_count": null,
      "outputs": []
    },
    {
      "cell_type": "code",
      "source": [
        "def preprocess_text(text):\n",
        "    text = re.sub(r'[^a-z\\s]', '', text.lower())\n",
        "    return text.split()\n",
        "\n",
        "def get_vocab(flat_corpus, vocab_size):\n",
        "    word_counts = Counter(flat_corpus)\n",
        "    most_common = word_counts.most_common(vocab_size)\n",
        "    return [word for word, _ in most_common]\n",
        "\n",
        "def get_flat_corpus(corpus_path_drive):\n",
        "    with open(corpus_path_drive, 'r') as f:\n",
        "        lines = f.readlines()\n",
        "    corpus = [preprocess_text(line) for line in lines]\n",
        "    flat_corpus = [word for line in corpus for word in line]\n",
        "    return flat_corpus"
      ],
      "metadata": {
        "id": "3j8cH0ctco9m"
      },
      "execution_count": null,
      "outputs": []
    },
    {
      "cell_type": "code",
      "source": [
        "flat_corpus = get_flat_corpus(corpus_path_drive)\n",
        "joblib.dump(flat_corpus,\"/content/drive/MyDrive/NLP/flat_corpus.pickle\")"
      ],
      "metadata": {
        "colab": {
          "base_uri": "https://localhost:8080/"
        },
        "id": "5Zr-eHrpv1V-",
        "outputId": "dbd113a3-21fd-482b-d0aa-082b08eb530a"
      },
      "execution_count": null,
      "outputs": [
        {
          "output_type": "execute_result",
          "data": {
            "text/plain": [
              "['/content/drive/MyDrive/NLP/flat_corpus.pickle']"
            ]
          },
          "metadata": {},
          "execution_count": 46
        }
      ]
    },
    {
      "cell_type": "code",
      "source": [
        "vocab = get_vocab(flat_corpus, 1000)\n",
        "joblib.dump(vocab,\"/content/drive/MyDrive/NLP/vocab.pickle\")"
      ],
      "metadata": {
        "colab": {
          "base_uri": "https://localhost:8080/"
        },
        "id": "aDIsTbA1v2nv",
        "outputId": "a37da2a0-a1b8-4042-c7ec-38a7da7c6139"
      },
      "execution_count": null,
      "outputs": [
        {
          "output_type": "execute_result",
          "data": {
            "text/plain": [
              "['/content/drive/MyDrive/NLP/vocab.pickle']"
            ]
          },
          "metadata": {},
          "execution_count": 50
        }
      ]
    },
    {
      "cell_type": "code",
      "source": [
        "print(f'Size of the vocabulary: {len(vocab)}')"
      ],
      "metadata": {
        "colab": {
          "base_uri": "https://localhost:8080/"
        },
        "id": "jxWdXGir8gCf",
        "outputId": "119c58e9-fdf2-4fb9-d3f7-6d8f967efe0b"
      },
      "execution_count": null,
      "outputs": [
        {
          "output_type": "stream",
          "name": "stdout",
          "text": [
            "Size of the vocabulary: 1000\n"
          ]
        }
      ]
    },
    {
      "cell_type": "code",
      "source": [
        "vocab_index = {word: i for i, word in enumerate(vocab)}\n",
        "joblib.dump(vocab_index,\"/content/drive/MyDrive/NLP/vocab_idx.pickle\")"
      ],
      "metadata": {
        "colab": {
          "base_uri": "https://localhost:8080/"
        },
        "id": "MqBaXiAAvY-Y",
        "outputId": "7c36095c-853e-4aea-8b7f-91fbf86b780c"
      },
      "execution_count": null,
      "outputs": [
        {
          "output_type": "execute_result",
          "data": {
            "text/plain": [
              "['/content/drive/MyDrive/NLP/vocab_idx.pickle']"
            ]
          },
          "metadata": {},
          "execution_count": 51
        }
      ]
    },
    {
      "cell_type": "code",
      "source": [
        "def compute_matrix(flat_corpus, vocab_index, window_size=4):\n",
        "    cooccurrence_matrix = lil_matrix((len(vocab_index), len(vocab_index)), dtype=np.float32)\n",
        "\n",
        "    for i, word in enumerate(flat_corpus):\n",
        "        if word not in vocab_index:\n",
        "            continue\n",
        "        word_idx = vocab_index[word]\n",
        "        for j in range(1, window_size + 1):\n",
        "            if i + j < len(flat_corpus):\n",
        "                neighbor = flat_corpus[i + j]\n",
        "                if neighbor in vocab_index:\n",
        "                    neighbor_idx = vocab_index[neighbor]\n",
        "                    cooccurrence_matrix[word_idx, neighbor_idx] += (window_size - j + 1)\n",
        "            if i - j >= 0:\n",
        "                neighbor = flat_corpus[i - j]\n",
        "                if neighbor in vocab_index:\n",
        "                    neighbor_idx = vocab_index[neighbor]\n",
        "                    cooccurrence_matrix[word_idx, neighbor_idx] += (window_size - j + 1)\n",
        "    return cooccurrence_matrix.tocsr()"
      ],
      "metadata": {
        "id": "hqsrR9D0qHeg"
      },
      "execution_count": null,
      "outputs": []
    },
    {
      "cell_type": "code",
      "source": [
        "cooccurrence_matrix = compute_matrix(flat_corpus, vocab_index)\n",
        "joblib.dump(cooccurrence_matrix,\"/content/drive/MyDrive/NLP/cooccurrence_matrix.pickle\")"
      ],
      "metadata": {
        "colab": {
          "base_uri": "https://localhost:8080/"
        },
        "id": "9_pDaW2_uOdl",
        "outputId": "498f3adf-3b72-432b-8019-11c21f563490"
      },
      "execution_count": null,
      "outputs": [
        {
          "output_type": "execute_result",
          "data": {
            "text/plain": [
              "['/content/drive/MyDrive/NLP/cooccurrence_matrix.pickle']"
            ]
          },
          "metadata": {},
          "execution_count": 54
        }
      ]
    },
    {
      "cell_type": "code",
      "source": [
        "df = pd.DataFrame.sparse.from_spmatrix(cooccurrence_matrix, index=vocab, columns=vocab)\n",
        "df.iloc[30:40, 30:40]"
      ],
      "metadata": {
        "colab": {
          "base_uri": "https://localhost:8080/",
          "height": 363
        },
        "id": "sYrTPUsA4qIi",
        "outputId": "802f4769-f96f-4c27-b7dd-424e91a83386"
      },
      "execution_count": null,
      "outputs": [
        {
          "output_type": "execute_result",
          "data": {
            "text/plain": [
              "         these       has        s      can    cells    covid     also  \\\n",
              "these   1756.0    1991.0   2260.0   8147.0   9148.0   2565.0   5346.0   \n",
              "has     1991.0     690.0   2473.0    302.0   1840.0  10389.0  15873.0   \n",
              "s       2260.0    2473.0  50378.0   2236.0   1599.0   1561.0   2341.0   \n",
              "can     8147.0     302.0   2236.0    624.0   4107.0   2971.0  17206.0   \n",
              "cells   9148.0    1840.0   1599.0   4107.0  15206.0    514.0   4202.0   \n",
              "covid   2565.0   10389.0   1561.0   2971.0    514.0   4124.0   2762.0   \n",
              "also    5346.0   15873.0   2341.0  17206.0   4202.0   2762.0    234.0   \n",
              "been    3826.0  155516.0   1168.0    434.0   1910.0   3719.0  17642.0   \n",
              "may     7978.0     324.0   1488.0    253.0   2922.0   4094.0  15599.0   \n",
              "data   13919.0    1827.0   2873.0   3638.0    891.0   3353.0   2988.0   \n",
              "\n",
              "           been      may     data  \n",
              "these    3826.0   7978.0  13919.0  \n",
              "has    155516.0    324.0   1827.0  \n",
              "s        1168.0   1488.0   2873.0  \n",
              "can       434.0    253.0   3638.0  \n",
              "cells    1910.0   2922.0    891.0  \n",
              "covid    3719.0   4094.0   3353.0  \n",
              "also    17642.0  15599.0   2988.0  \n",
              "been      298.0   2962.0   1441.0  \n",
              "may      2962.0   2194.0   1955.0  \n",
              "data     1441.0   1955.0   7310.0  "
            ],
            "text/html": [
              "\n",
              "  <div id=\"df-5a26ff44-e102-456c-8436-10f2269be0b5\" class=\"colab-df-container\">\n",
              "    <div>\n",
              "<style scoped>\n",
              "    .dataframe tbody tr th:only-of-type {\n",
              "        vertical-align: middle;\n",
              "    }\n",
              "\n",
              "    .dataframe tbody tr th {\n",
              "        vertical-align: top;\n",
              "    }\n",
              "\n",
              "    .dataframe thead th {\n",
              "        text-align: right;\n",
              "    }\n",
              "</style>\n",
              "<table border=\"1\" class=\"dataframe\">\n",
              "  <thead>\n",
              "    <tr style=\"text-align: right;\">\n",
              "      <th></th>\n",
              "      <th>these</th>\n",
              "      <th>has</th>\n",
              "      <th>s</th>\n",
              "      <th>can</th>\n",
              "      <th>cells</th>\n",
              "      <th>covid</th>\n",
              "      <th>also</th>\n",
              "      <th>been</th>\n",
              "      <th>may</th>\n",
              "      <th>data</th>\n",
              "    </tr>\n",
              "  </thead>\n",
              "  <tbody>\n",
              "    <tr>\n",
              "      <th>these</th>\n",
              "      <td>1756.0</td>\n",
              "      <td>1991.0</td>\n",
              "      <td>2260.0</td>\n",
              "      <td>8147.0</td>\n",
              "      <td>9148.0</td>\n",
              "      <td>2565.0</td>\n",
              "      <td>5346.0</td>\n",
              "      <td>3826.0</td>\n",
              "      <td>7978.0</td>\n",
              "      <td>13919.0</td>\n",
              "    </tr>\n",
              "    <tr>\n",
              "      <th>has</th>\n",
              "      <td>1991.0</td>\n",
              "      <td>690.0</td>\n",
              "      <td>2473.0</td>\n",
              "      <td>302.0</td>\n",
              "      <td>1840.0</td>\n",
              "      <td>10389.0</td>\n",
              "      <td>15873.0</td>\n",
              "      <td>155516.0</td>\n",
              "      <td>324.0</td>\n",
              "      <td>1827.0</td>\n",
              "    </tr>\n",
              "    <tr>\n",
              "      <th>s</th>\n",
              "      <td>2260.0</td>\n",
              "      <td>2473.0</td>\n",
              "      <td>50378.0</td>\n",
              "      <td>2236.0</td>\n",
              "      <td>1599.0</td>\n",
              "      <td>1561.0</td>\n",
              "      <td>2341.0</td>\n",
              "      <td>1168.0</td>\n",
              "      <td>1488.0</td>\n",
              "      <td>2873.0</td>\n",
              "    </tr>\n",
              "    <tr>\n",
              "      <th>can</th>\n",
              "      <td>8147.0</td>\n",
              "      <td>302.0</td>\n",
              "      <td>2236.0</td>\n",
              "      <td>624.0</td>\n",
              "      <td>4107.0</td>\n",
              "      <td>2971.0</td>\n",
              "      <td>17206.0</td>\n",
              "      <td>434.0</td>\n",
              "      <td>253.0</td>\n",
              "      <td>3638.0</td>\n",
              "    </tr>\n",
              "    <tr>\n",
              "      <th>cells</th>\n",
              "      <td>9148.0</td>\n",
              "      <td>1840.0</td>\n",
              "      <td>1599.0</td>\n",
              "      <td>4107.0</td>\n",
              "      <td>15206.0</td>\n",
              "      <td>514.0</td>\n",
              "      <td>4202.0</td>\n",
              "      <td>1910.0</td>\n",
              "      <td>2922.0</td>\n",
              "      <td>891.0</td>\n",
              "    </tr>\n",
              "    <tr>\n",
              "      <th>covid</th>\n",
              "      <td>2565.0</td>\n",
              "      <td>10389.0</td>\n",
              "      <td>1561.0</td>\n",
              "      <td>2971.0</td>\n",
              "      <td>514.0</td>\n",
              "      <td>4124.0</td>\n",
              "      <td>2762.0</td>\n",
              "      <td>3719.0</td>\n",
              "      <td>4094.0</td>\n",
              "      <td>3353.0</td>\n",
              "    </tr>\n",
              "    <tr>\n",
              "      <th>also</th>\n",
              "      <td>5346.0</td>\n",
              "      <td>15873.0</td>\n",
              "      <td>2341.0</td>\n",
              "      <td>17206.0</td>\n",
              "      <td>4202.0</td>\n",
              "      <td>2762.0</td>\n",
              "      <td>234.0</td>\n",
              "      <td>17642.0</td>\n",
              "      <td>15599.0</td>\n",
              "      <td>2988.0</td>\n",
              "    </tr>\n",
              "    <tr>\n",
              "      <th>been</th>\n",
              "      <td>3826.0</td>\n",
              "      <td>155516.0</td>\n",
              "      <td>1168.0</td>\n",
              "      <td>434.0</td>\n",
              "      <td>1910.0</td>\n",
              "      <td>3719.0</td>\n",
              "      <td>17642.0</td>\n",
              "      <td>298.0</td>\n",
              "      <td>2962.0</td>\n",
              "      <td>1441.0</td>\n",
              "    </tr>\n",
              "    <tr>\n",
              "      <th>may</th>\n",
              "      <td>7978.0</td>\n",
              "      <td>324.0</td>\n",
              "      <td>1488.0</td>\n",
              "      <td>253.0</td>\n",
              "      <td>2922.0</td>\n",
              "      <td>4094.0</td>\n",
              "      <td>15599.0</td>\n",
              "      <td>2962.0</td>\n",
              "      <td>2194.0</td>\n",
              "      <td>1955.0</td>\n",
              "    </tr>\n",
              "    <tr>\n",
              "      <th>data</th>\n",
              "      <td>13919.0</td>\n",
              "      <td>1827.0</td>\n",
              "      <td>2873.0</td>\n",
              "      <td>3638.0</td>\n",
              "      <td>891.0</td>\n",
              "      <td>3353.0</td>\n",
              "      <td>2988.0</td>\n",
              "      <td>1441.0</td>\n",
              "      <td>1955.0</td>\n",
              "      <td>7310.0</td>\n",
              "    </tr>\n",
              "  </tbody>\n",
              "</table>\n",
              "</div>\n",
              "    <div class=\"colab-df-buttons\">\n",
              "\n",
              "  <div class=\"colab-df-container\">\n",
              "    <button class=\"colab-df-convert\" onclick=\"convertToInteractive('df-5a26ff44-e102-456c-8436-10f2269be0b5')\"\n",
              "            title=\"Convert this dataframe to an interactive table.\"\n",
              "            style=\"display:none;\">\n",
              "\n",
              "  <svg xmlns=\"http://www.w3.org/2000/svg\" height=\"24px\" viewBox=\"0 -960 960 960\">\n",
              "    <path d=\"M120-120v-720h720v720H120Zm60-500h600v-160H180v160Zm220 220h160v-160H400v160Zm0 220h160v-160H400v160ZM180-400h160v-160H180v160Zm440 0h160v-160H620v160ZM180-180h160v-160H180v160Zm440 0h160v-160H620v160Z\"/>\n",
              "  </svg>\n",
              "    </button>\n",
              "\n",
              "  <style>\n",
              "    .colab-df-container {\n",
              "      display:flex;\n",
              "      gap: 12px;\n",
              "    }\n",
              "\n",
              "    .colab-df-convert {\n",
              "      background-color: #E8F0FE;\n",
              "      border: none;\n",
              "      border-radius: 50%;\n",
              "      cursor: pointer;\n",
              "      display: none;\n",
              "      fill: #1967D2;\n",
              "      height: 32px;\n",
              "      padding: 0 0 0 0;\n",
              "      width: 32px;\n",
              "    }\n",
              "\n",
              "    .colab-df-convert:hover {\n",
              "      background-color: #E2EBFA;\n",
              "      box-shadow: 0px 1px 2px rgba(60, 64, 67, 0.3), 0px 1px 3px 1px rgba(60, 64, 67, 0.15);\n",
              "      fill: #174EA6;\n",
              "    }\n",
              "\n",
              "    .colab-df-buttons div {\n",
              "      margin-bottom: 4px;\n",
              "    }\n",
              "\n",
              "    [theme=dark] .colab-df-convert {\n",
              "      background-color: #3B4455;\n",
              "      fill: #D2E3FC;\n",
              "    }\n",
              "\n",
              "    [theme=dark] .colab-df-convert:hover {\n",
              "      background-color: #434B5C;\n",
              "      box-shadow: 0px 1px 3px 1px rgba(0, 0, 0, 0.15);\n",
              "      filter: drop-shadow(0px 1px 2px rgba(0, 0, 0, 0.3));\n",
              "      fill: #FFFFFF;\n",
              "    }\n",
              "  </style>\n",
              "\n",
              "    <script>\n",
              "      const buttonEl =\n",
              "        document.querySelector('#df-5a26ff44-e102-456c-8436-10f2269be0b5 button.colab-df-convert');\n",
              "      buttonEl.style.display =\n",
              "        google.colab.kernel.accessAllowed ? 'block' : 'none';\n",
              "\n",
              "      async function convertToInteractive(key) {\n",
              "        const element = document.querySelector('#df-5a26ff44-e102-456c-8436-10f2269be0b5');\n",
              "        const dataTable =\n",
              "          await google.colab.kernel.invokeFunction('convertToInteractive',\n",
              "                                                    [key], {});\n",
              "        if (!dataTable) return;\n",
              "\n",
              "        const docLinkHtml = 'Like what you see? Visit the ' +\n",
              "          '<a target=\"_blank\" href=https://colab.research.google.com/notebooks/data_table.ipynb>data table notebook</a>'\n",
              "          + ' to learn more about interactive tables.';\n",
              "        element.innerHTML = '';\n",
              "        dataTable['output_type'] = 'display_data';\n",
              "        await google.colab.output.renderOutput(dataTable, element);\n",
              "        const docLink = document.createElement('div');\n",
              "        docLink.innerHTML = docLinkHtml;\n",
              "        element.appendChild(docLink);\n",
              "      }\n",
              "    </script>\n",
              "  </div>\n",
              "\n",
              "\n",
              "<div id=\"df-2d411f9e-b8cd-4621-8c89-233f075eeb03\">\n",
              "  <button class=\"colab-df-quickchart\" onclick=\"quickchart('df-2d411f9e-b8cd-4621-8c89-233f075eeb03')\"\n",
              "            title=\"Suggest charts\"\n",
              "            style=\"display:none;\">\n",
              "\n",
              "<svg xmlns=\"http://www.w3.org/2000/svg\" height=\"24px\"viewBox=\"0 0 24 24\"\n",
              "     width=\"24px\">\n",
              "    <g>\n",
              "        <path d=\"M19 3H5c-1.1 0-2 .9-2 2v14c0 1.1.9 2 2 2h14c1.1 0 2-.9 2-2V5c0-1.1-.9-2-2-2zM9 17H7v-7h2v7zm4 0h-2V7h2v10zm4 0h-2v-4h2v4z\"/>\n",
              "    </g>\n",
              "</svg>\n",
              "  </button>\n",
              "\n",
              "<style>\n",
              "  .colab-df-quickchart {\n",
              "      --bg-color: #E8F0FE;\n",
              "      --fill-color: #1967D2;\n",
              "      --hover-bg-color: #E2EBFA;\n",
              "      --hover-fill-color: #174EA6;\n",
              "      --disabled-fill-color: #AAA;\n",
              "      --disabled-bg-color: #DDD;\n",
              "  }\n",
              "\n",
              "  [theme=dark] .colab-df-quickchart {\n",
              "      --bg-color: #3B4455;\n",
              "      --fill-color: #D2E3FC;\n",
              "      --hover-bg-color: #434B5C;\n",
              "      --hover-fill-color: #FFFFFF;\n",
              "      --disabled-bg-color: #3B4455;\n",
              "      --disabled-fill-color: #666;\n",
              "  }\n",
              "\n",
              "  .colab-df-quickchart {\n",
              "    background-color: var(--bg-color);\n",
              "    border: none;\n",
              "    border-radius: 50%;\n",
              "    cursor: pointer;\n",
              "    display: none;\n",
              "    fill: var(--fill-color);\n",
              "    height: 32px;\n",
              "    padding: 0;\n",
              "    width: 32px;\n",
              "  }\n",
              "\n",
              "  .colab-df-quickchart:hover {\n",
              "    background-color: var(--hover-bg-color);\n",
              "    box-shadow: 0 1px 2px rgba(60, 64, 67, 0.3), 0 1px 3px 1px rgba(60, 64, 67, 0.15);\n",
              "    fill: var(--button-hover-fill-color);\n",
              "  }\n",
              "\n",
              "  .colab-df-quickchart-complete:disabled,\n",
              "  .colab-df-quickchart-complete:disabled:hover {\n",
              "    background-color: var(--disabled-bg-color);\n",
              "    fill: var(--disabled-fill-color);\n",
              "    box-shadow: none;\n",
              "  }\n",
              "\n",
              "  .colab-df-spinner {\n",
              "    border: 2px solid var(--fill-color);\n",
              "    border-color: transparent;\n",
              "    border-bottom-color: var(--fill-color);\n",
              "    animation:\n",
              "      spin 1s steps(1) infinite;\n",
              "  }\n",
              "\n",
              "  @keyframes spin {\n",
              "    0% {\n",
              "      border-color: transparent;\n",
              "      border-bottom-color: var(--fill-color);\n",
              "      border-left-color: var(--fill-color);\n",
              "    }\n",
              "    20% {\n",
              "      border-color: transparent;\n",
              "      border-left-color: var(--fill-color);\n",
              "      border-top-color: var(--fill-color);\n",
              "    }\n",
              "    30% {\n",
              "      border-color: transparent;\n",
              "      border-left-color: var(--fill-color);\n",
              "      border-top-color: var(--fill-color);\n",
              "      border-right-color: var(--fill-color);\n",
              "    }\n",
              "    40% {\n",
              "      border-color: transparent;\n",
              "      border-right-color: var(--fill-color);\n",
              "      border-top-color: var(--fill-color);\n",
              "    }\n",
              "    60% {\n",
              "      border-color: transparent;\n",
              "      border-right-color: var(--fill-color);\n",
              "    }\n",
              "    80% {\n",
              "      border-color: transparent;\n",
              "      border-right-color: var(--fill-color);\n",
              "      border-bottom-color: var(--fill-color);\n",
              "    }\n",
              "    90% {\n",
              "      border-color: transparent;\n",
              "      border-bottom-color: var(--fill-color);\n",
              "    }\n",
              "  }\n",
              "</style>\n",
              "\n",
              "  <script>\n",
              "    async function quickchart(key) {\n",
              "      const quickchartButtonEl =\n",
              "        document.querySelector('#' + key + ' button');\n",
              "      quickchartButtonEl.disabled = true;  // To prevent multiple clicks.\n",
              "      quickchartButtonEl.classList.add('colab-df-spinner');\n",
              "      try {\n",
              "        const charts = await google.colab.kernel.invokeFunction(\n",
              "            'suggestCharts', [key], {});\n",
              "      } catch (error) {\n",
              "        console.error('Error during call to suggestCharts:', error);\n",
              "      }\n",
              "      quickchartButtonEl.classList.remove('colab-df-spinner');\n",
              "      quickchartButtonEl.classList.add('colab-df-quickchart-complete');\n",
              "    }\n",
              "    (() => {\n",
              "      let quickchartButtonEl =\n",
              "        document.querySelector('#df-2d411f9e-b8cd-4621-8c89-233f075eeb03 button');\n",
              "      quickchartButtonEl.style.display =\n",
              "        google.colab.kernel.accessAllowed ? 'block' : 'none';\n",
              "    })();\n",
              "  </script>\n",
              "</div>\n",
              "\n",
              "    </div>\n",
              "  </div>\n"
            ],
            "application/vnd.google.colaboratory.intrinsic+json": {
              "type": "dataframe",
              "summary": "{\n  \"name\": \"df\",\n  \"rows\": 10,\n  \"fields\": [\n    {\n      \"column\": \"these\",\n      \"properties\": {\n        \"dtype\": \"Sparse[float32, 0]\",\n        \"num_unique_values\": 10,\n        \"samples\": [\n          \"7978.0\",\n          \"1991.0\",\n          \"2565.0\"\n        ],\n        \"semantic_type\": \"\",\n        \"description\": \"\"\n      }\n    },\n    {\n      \"column\": \"has\",\n      \"properties\": {\n        \"dtype\": \"Sparse[float32, 0]\",\n        \"num_unique_values\": 10,\n        \"samples\": [\n          \"324.0\",\n          \"690.0\",\n          \"10389.0\"\n        ],\n        \"semantic_type\": \"\",\n        \"description\": \"\"\n      }\n    },\n    {\n      \"column\": \"s\",\n      \"properties\": {\n        \"dtype\": \"Sparse[float32, 0]\",\n        \"num_unique_values\": 10,\n        \"samples\": [\n          \"1488.0\",\n          \"2473.0\",\n          \"1561.0\"\n        ],\n        \"semantic_type\": \"\",\n        \"description\": \"\"\n      }\n    },\n    {\n      \"column\": \"can\",\n      \"properties\": {\n        \"dtype\": \"Sparse[float32, 0]\",\n        \"num_unique_values\": 10,\n        \"samples\": [\n          \"253.0\",\n          \"302.0\",\n          \"2971.0\"\n        ],\n        \"semantic_type\": \"\",\n        \"description\": \"\"\n      }\n    },\n    {\n      \"column\": \"cells\",\n      \"properties\": {\n        \"dtype\": \"Sparse[float32, 0]\",\n        \"num_unique_values\": 10,\n        \"samples\": [\n          \"2922.0\",\n          \"1840.0\",\n          \"514.0\"\n        ],\n        \"semantic_type\": \"\",\n        \"description\": \"\"\n      }\n    },\n    {\n      \"column\": \"covid\",\n      \"properties\": {\n        \"dtype\": \"Sparse[float32, 0]\",\n        \"num_unique_values\": 10,\n        \"samples\": [\n          \"4094.0\",\n          \"10389.0\",\n          \"4124.0\"\n        ],\n        \"semantic_type\": \"\",\n        \"description\": \"\"\n      }\n    },\n    {\n      \"column\": \"also\",\n      \"properties\": {\n        \"dtype\": \"Sparse[float32, 0]\",\n        \"num_unique_values\": 10,\n        \"samples\": [\n          \"15599.0\",\n          \"15873.0\",\n          \"2762.0\"\n        ],\n        \"semantic_type\": \"\",\n        \"description\": \"\"\n      }\n    },\n    {\n      \"column\": \"been\",\n      \"properties\": {\n        \"dtype\": \"Sparse[float32, 0]\",\n        \"num_unique_values\": 10,\n        \"samples\": [\n          \"2962.0\",\n          \"155516.0\",\n          \"3719.0\"\n        ],\n        \"semantic_type\": \"\",\n        \"description\": \"\"\n      }\n    },\n    {\n      \"column\": \"may\",\n      \"properties\": {\n        \"dtype\": \"Sparse[float32, 0]\",\n        \"num_unique_values\": 10,\n        \"samples\": [\n          \"2194.0\",\n          \"324.0\",\n          \"4094.0\"\n        ],\n        \"semantic_type\": \"\",\n        \"description\": \"\"\n      }\n    },\n    {\n      \"column\": \"data\",\n      \"properties\": {\n        \"dtype\": \"Sparse[float32, 0]\",\n        \"num_unique_values\": 10,\n        \"samples\": [\n          \"1955.0\",\n          \"1827.0\",\n          \"3353.0\"\n        ],\n        \"semantic_type\": \"\",\n        \"description\": \"\"\n      }\n    }\n  ]\n}"
            }
          },
          "metadata": {},
          "execution_count": 97
        }
      ]
    },
    {
      "cell_type": "code",
      "source": [
        "def compute_pmatrix(X):\n",
        "    n = X.shape[0]\n",
        "    row_sums = X.sum(axis=1).A1\n",
        "    epsilon = 1e-10\n",
        "    row_sums = np.where(row_sums == 0, epsilon, row_sums)\n",
        "    X_new = X / row_sums[:, np.newaxis]\n",
        "    X_new = csr_matrix(X_new)\n",
        "\n",
        "    word_vectors = np.zeros((n, n), dtype = np.float32)\n",
        "    for j in tqdm(range(n)):\n",
        "      k = np.argmax(X_new[j, :])\n",
        "      p_jk = X_new[j, k]\n",
        "      for i in range(n):\n",
        "        word_vectors[i, j] = X_new[i, k]/p_jk\n",
        "    return csr_matrix(word_vectors)"
      ],
      "metadata": {
        "id": "vAnVTpThIrDU"
      },
      "execution_count": null,
      "outputs": []
    },
    {
      "cell_type": "code",
      "source": [
        "p_matrix = compute_pmatrix(cooccurrence_matrix)\n",
        "joblib.dump(p_matrix,\"/content/drive/MyDrive/NLP/p_matrix.pickle\")"
      ],
      "metadata": {
        "colab": {
          "base_uri": "https://localhost:8080/"
        },
        "id": "zjOLKYXDQkBZ",
        "outputId": "fba7ab2b-fd43-4026-a68a-01854dc02cda"
      },
      "execution_count": null,
      "outputs": [
        {
          "output_type": "stream",
          "name": "stderr",
          "text": [
            "100%|██████████| 1000/1000 [00:30<00:00, 32.81it/s]\n"
          ]
        },
        {
          "output_type": "execute_result",
          "data": {
            "text/plain": [
              "['/content/drive/MyDrive/NLP/p_matrix.pickle']"
            ]
          },
          "metadata": {},
          "execution_count": 79
        }
      ]
    },
    {
      "cell_type": "code",
      "source": [
        "df = pd.DataFrame.sparse.from_spmatrix(p_matrix, index=vocab, columns=vocab)\n",
        "df.iloc[30:40, 30:40]"
      ],
      "metadata": {
        "colab": {
          "base_uri": "https://localhost:8080/",
          "height": 363
        },
        "id": "LbuTvvXW7_b-",
        "outputId": "8b63c186-1b17-4577-ac2c-a16daedbb1d9"
      },
      "execution_count": null,
      "outputs": [
        {
          "output_type": "execute_result",
          "data": {
            "text/plain": [
              "          these       has         s       can     cells     covid      also  \\\n",
              "these  1.000000  0.025351  0.418819  0.059994  0.592765  0.476992  0.696514   \n",
              "has    0.299186  1.000000  0.623018  0.029045  0.365850  0.709554  1.036105   \n",
              "s      0.564004  0.008355  1.000000  0.018582  0.485403  1.138897  1.663041   \n",
              "can    0.289363  0.003096  0.535674  1.000000  0.353311  0.610078  0.890849   \n",
              "cells  0.707162  0.015081  0.683350  0.023148  1.000000  0.778266  1.136440   \n",
              "covid  1.008410  0.024541  0.878042  0.031128  0.709778  1.000000  1.460221   \n",
              "also   0.279751  0.132800  0.601308  0.155888  0.449965  0.684828  1.000000   \n",
              "been   0.179850  0.002110  0.333516  0.033203  0.597045  0.379840  0.554651   \n",
              "may    0.347806  0.024345  0.518851  0.751919  0.402275  0.590918  0.862870   \n",
              "data   0.571554  0.012520  1.037607  0.039622  0.398180  1.181728  1.725584   \n",
              "\n",
              "           been       may      data  \n",
              "these  0.011982  0.079788  0.403640  \n",
              "has    0.004030  0.038628  0.600437  \n",
              "s      0.016067  0.024712  0.963756  \n",
              "can    0.001957  1.329931  0.516259  \n",
              "cells  0.013196  0.030785  0.658583  \n",
              "covid  0.062268  0.041398  0.846218  \n",
              "also   0.108526  0.207320  0.579514  \n",
              "been   1.000000  0.044158  0.321428  \n",
              "may    0.002419  1.000000  0.500045  \n",
              "data   0.014418  0.052695  1.000000  "
            ],
            "text/html": [
              "\n",
              "  <div id=\"df-1ecab116-120a-4cff-ac79-262cff9aea3a\" class=\"colab-df-container\">\n",
              "    <div>\n",
              "<style scoped>\n",
              "    .dataframe tbody tr th:only-of-type {\n",
              "        vertical-align: middle;\n",
              "    }\n",
              "\n",
              "    .dataframe tbody tr th {\n",
              "        vertical-align: top;\n",
              "    }\n",
              "\n",
              "    .dataframe thead th {\n",
              "        text-align: right;\n",
              "    }\n",
              "</style>\n",
              "<table border=\"1\" class=\"dataframe\">\n",
              "  <thead>\n",
              "    <tr style=\"text-align: right;\">\n",
              "      <th></th>\n",
              "      <th>these</th>\n",
              "      <th>has</th>\n",
              "      <th>s</th>\n",
              "      <th>can</th>\n",
              "      <th>cells</th>\n",
              "      <th>covid</th>\n",
              "      <th>also</th>\n",
              "      <th>been</th>\n",
              "      <th>may</th>\n",
              "      <th>data</th>\n",
              "    </tr>\n",
              "  </thead>\n",
              "  <tbody>\n",
              "    <tr>\n",
              "      <th>these</th>\n",
              "      <td>1.000000</td>\n",
              "      <td>0.025351</td>\n",
              "      <td>0.418819</td>\n",
              "      <td>0.059994</td>\n",
              "      <td>0.592765</td>\n",
              "      <td>0.476992</td>\n",
              "      <td>0.696514</td>\n",
              "      <td>0.011982</td>\n",
              "      <td>0.079788</td>\n",
              "      <td>0.403640</td>\n",
              "    </tr>\n",
              "    <tr>\n",
              "      <th>has</th>\n",
              "      <td>0.299186</td>\n",
              "      <td>1.000000</td>\n",
              "      <td>0.623018</td>\n",
              "      <td>0.029045</td>\n",
              "      <td>0.365850</td>\n",
              "      <td>0.709554</td>\n",
              "      <td>1.036105</td>\n",
              "      <td>0.004030</td>\n",
              "      <td>0.038628</td>\n",
              "      <td>0.600437</td>\n",
              "    </tr>\n",
              "    <tr>\n",
              "      <th>s</th>\n",
              "      <td>0.564004</td>\n",
              "      <td>0.008355</td>\n",
              "      <td>1.000000</td>\n",
              "      <td>0.018582</td>\n",
              "      <td>0.485403</td>\n",
              "      <td>1.138897</td>\n",
              "      <td>1.663041</td>\n",
              "      <td>0.016067</td>\n",
              "      <td>0.024712</td>\n",
              "      <td>0.963756</td>\n",
              "    </tr>\n",
              "    <tr>\n",
              "      <th>can</th>\n",
              "      <td>0.289363</td>\n",
              "      <td>0.003096</td>\n",
              "      <td>0.535674</td>\n",
              "      <td>1.000000</td>\n",
              "      <td>0.353311</td>\n",
              "      <td>0.610078</td>\n",
              "      <td>0.890849</td>\n",
              "      <td>0.001957</td>\n",
              "      <td>1.329931</td>\n",
              "      <td>0.516259</td>\n",
              "    </tr>\n",
              "    <tr>\n",
              "      <th>cells</th>\n",
              "      <td>0.707162</td>\n",
              "      <td>0.015081</td>\n",
              "      <td>0.683350</td>\n",
              "      <td>0.023148</td>\n",
              "      <td>1.000000</td>\n",
              "      <td>0.778266</td>\n",
              "      <td>1.136440</td>\n",
              "      <td>0.013196</td>\n",
              "      <td>0.030785</td>\n",
              "      <td>0.658583</td>\n",
              "    </tr>\n",
              "    <tr>\n",
              "      <th>covid</th>\n",
              "      <td>1.008410</td>\n",
              "      <td>0.024541</td>\n",
              "      <td>0.878042</td>\n",
              "      <td>0.031128</td>\n",
              "      <td>0.709778</td>\n",
              "      <td>1.000000</td>\n",
              "      <td>1.460221</td>\n",
              "      <td>0.062268</td>\n",
              "      <td>0.041398</td>\n",
              "      <td>0.846218</td>\n",
              "    </tr>\n",
              "    <tr>\n",
              "      <th>also</th>\n",
              "      <td>0.279751</td>\n",
              "      <td>0.132800</td>\n",
              "      <td>0.601308</td>\n",
              "      <td>0.155888</td>\n",
              "      <td>0.449965</td>\n",
              "      <td>0.684828</td>\n",
              "      <td>1.000000</td>\n",
              "      <td>0.108526</td>\n",
              "      <td>0.207320</td>\n",
              "      <td>0.579514</td>\n",
              "    </tr>\n",
              "    <tr>\n",
              "      <th>been</th>\n",
              "      <td>0.179850</td>\n",
              "      <td>0.002110</td>\n",
              "      <td>0.333516</td>\n",
              "      <td>0.033203</td>\n",
              "      <td>0.597045</td>\n",
              "      <td>0.379840</td>\n",
              "      <td>0.554651</td>\n",
              "      <td>1.000000</td>\n",
              "      <td>0.044158</td>\n",
              "      <td>0.321428</td>\n",
              "    </tr>\n",
              "    <tr>\n",
              "      <th>may</th>\n",
              "      <td>0.347806</td>\n",
              "      <td>0.024345</td>\n",
              "      <td>0.518851</td>\n",
              "      <td>0.751919</td>\n",
              "      <td>0.402275</td>\n",
              "      <td>0.590918</td>\n",
              "      <td>0.862870</td>\n",
              "      <td>0.002419</td>\n",
              "      <td>1.000000</td>\n",
              "      <td>0.500045</td>\n",
              "    </tr>\n",
              "    <tr>\n",
              "      <th>data</th>\n",
              "      <td>0.571554</td>\n",
              "      <td>0.012520</td>\n",
              "      <td>1.037607</td>\n",
              "      <td>0.039622</td>\n",
              "      <td>0.398180</td>\n",
              "      <td>1.181728</td>\n",
              "      <td>1.725584</td>\n",
              "      <td>0.014418</td>\n",
              "      <td>0.052695</td>\n",
              "      <td>1.000000</td>\n",
              "    </tr>\n",
              "  </tbody>\n",
              "</table>\n",
              "</div>\n",
              "    <div class=\"colab-df-buttons\">\n",
              "\n",
              "  <div class=\"colab-df-container\">\n",
              "    <button class=\"colab-df-convert\" onclick=\"convertToInteractive('df-1ecab116-120a-4cff-ac79-262cff9aea3a')\"\n",
              "            title=\"Convert this dataframe to an interactive table.\"\n",
              "            style=\"display:none;\">\n",
              "\n",
              "  <svg xmlns=\"http://www.w3.org/2000/svg\" height=\"24px\" viewBox=\"0 -960 960 960\">\n",
              "    <path d=\"M120-120v-720h720v720H120Zm60-500h600v-160H180v160Zm220 220h160v-160H400v160Zm0 220h160v-160H400v160ZM180-400h160v-160H180v160Zm440 0h160v-160H620v160ZM180-180h160v-160H180v160Zm440 0h160v-160H620v160Z\"/>\n",
              "  </svg>\n",
              "    </button>\n",
              "\n",
              "  <style>\n",
              "    .colab-df-container {\n",
              "      display:flex;\n",
              "      gap: 12px;\n",
              "    }\n",
              "\n",
              "    .colab-df-convert {\n",
              "      background-color: #E8F0FE;\n",
              "      border: none;\n",
              "      border-radius: 50%;\n",
              "      cursor: pointer;\n",
              "      display: none;\n",
              "      fill: #1967D2;\n",
              "      height: 32px;\n",
              "      padding: 0 0 0 0;\n",
              "      width: 32px;\n",
              "    }\n",
              "\n",
              "    .colab-df-convert:hover {\n",
              "      background-color: #E2EBFA;\n",
              "      box-shadow: 0px 1px 2px rgba(60, 64, 67, 0.3), 0px 1px 3px 1px rgba(60, 64, 67, 0.15);\n",
              "      fill: #174EA6;\n",
              "    }\n",
              "\n",
              "    .colab-df-buttons div {\n",
              "      margin-bottom: 4px;\n",
              "    }\n",
              "\n",
              "    [theme=dark] .colab-df-convert {\n",
              "      background-color: #3B4455;\n",
              "      fill: #D2E3FC;\n",
              "    }\n",
              "\n",
              "    [theme=dark] .colab-df-convert:hover {\n",
              "      background-color: #434B5C;\n",
              "      box-shadow: 0px 1px 3px 1px rgba(0, 0, 0, 0.15);\n",
              "      filter: drop-shadow(0px 1px 2px rgba(0, 0, 0, 0.3));\n",
              "      fill: #FFFFFF;\n",
              "    }\n",
              "  </style>\n",
              "\n",
              "    <script>\n",
              "      const buttonEl =\n",
              "        document.querySelector('#df-1ecab116-120a-4cff-ac79-262cff9aea3a button.colab-df-convert');\n",
              "      buttonEl.style.display =\n",
              "        google.colab.kernel.accessAllowed ? 'block' : 'none';\n",
              "\n",
              "      async function convertToInteractive(key) {\n",
              "        const element = document.querySelector('#df-1ecab116-120a-4cff-ac79-262cff9aea3a');\n",
              "        const dataTable =\n",
              "          await google.colab.kernel.invokeFunction('convertToInteractive',\n",
              "                                                    [key], {});\n",
              "        if (!dataTable) return;\n",
              "\n",
              "        const docLinkHtml = 'Like what you see? Visit the ' +\n",
              "          '<a target=\"_blank\" href=https://colab.research.google.com/notebooks/data_table.ipynb>data table notebook</a>'\n",
              "          + ' to learn more about interactive tables.';\n",
              "        element.innerHTML = '';\n",
              "        dataTable['output_type'] = 'display_data';\n",
              "        await google.colab.output.renderOutput(dataTable, element);\n",
              "        const docLink = document.createElement('div');\n",
              "        docLink.innerHTML = docLinkHtml;\n",
              "        element.appendChild(docLink);\n",
              "      }\n",
              "    </script>\n",
              "  </div>\n",
              "\n",
              "\n",
              "<div id=\"df-84f8af78-c2a8-4231-8aca-c686bee2c804\">\n",
              "  <button class=\"colab-df-quickchart\" onclick=\"quickchart('df-84f8af78-c2a8-4231-8aca-c686bee2c804')\"\n",
              "            title=\"Suggest charts\"\n",
              "            style=\"display:none;\">\n",
              "\n",
              "<svg xmlns=\"http://www.w3.org/2000/svg\" height=\"24px\"viewBox=\"0 0 24 24\"\n",
              "     width=\"24px\">\n",
              "    <g>\n",
              "        <path d=\"M19 3H5c-1.1 0-2 .9-2 2v14c0 1.1.9 2 2 2h14c1.1 0 2-.9 2-2V5c0-1.1-.9-2-2-2zM9 17H7v-7h2v7zm4 0h-2V7h2v10zm4 0h-2v-4h2v4z\"/>\n",
              "    </g>\n",
              "</svg>\n",
              "  </button>\n",
              "\n",
              "<style>\n",
              "  .colab-df-quickchart {\n",
              "      --bg-color: #E8F0FE;\n",
              "      --fill-color: #1967D2;\n",
              "      --hover-bg-color: #E2EBFA;\n",
              "      --hover-fill-color: #174EA6;\n",
              "      --disabled-fill-color: #AAA;\n",
              "      --disabled-bg-color: #DDD;\n",
              "  }\n",
              "\n",
              "  [theme=dark] .colab-df-quickchart {\n",
              "      --bg-color: #3B4455;\n",
              "      --fill-color: #D2E3FC;\n",
              "      --hover-bg-color: #434B5C;\n",
              "      --hover-fill-color: #FFFFFF;\n",
              "      --disabled-bg-color: #3B4455;\n",
              "      --disabled-fill-color: #666;\n",
              "  }\n",
              "\n",
              "  .colab-df-quickchart {\n",
              "    background-color: var(--bg-color);\n",
              "    border: none;\n",
              "    border-radius: 50%;\n",
              "    cursor: pointer;\n",
              "    display: none;\n",
              "    fill: var(--fill-color);\n",
              "    height: 32px;\n",
              "    padding: 0;\n",
              "    width: 32px;\n",
              "  }\n",
              "\n",
              "  .colab-df-quickchart:hover {\n",
              "    background-color: var(--hover-bg-color);\n",
              "    box-shadow: 0 1px 2px rgba(60, 64, 67, 0.3), 0 1px 3px 1px rgba(60, 64, 67, 0.15);\n",
              "    fill: var(--button-hover-fill-color);\n",
              "  }\n",
              "\n",
              "  .colab-df-quickchart-complete:disabled,\n",
              "  .colab-df-quickchart-complete:disabled:hover {\n",
              "    background-color: var(--disabled-bg-color);\n",
              "    fill: var(--disabled-fill-color);\n",
              "    box-shadow: none;\n",
              "  }\n",
              "\n",
              "  .colab-df-spinner {\n",
              "    border: 2px solid var(--fill-color);\n",
              "    border-color: transparent;\n",
              "    border-bottom-color: var(--fill-color);\n",
              "    animation:\n",
              "      spin 1s steps(1) infinite;\n",
              "  }\n",
              "\n",
              "  @keyframes spin {\n",
              "    0% {\n",
              "      border-color: transparent;\n",
              "      border-bottom-color: var(--fill-color);\n",
              "      border-left-color: var(--fill-color);\n",
              "    }\n",
              "    20% {\n",
              "      border-color: transparent;\n",
              "      border-left-color: var(--fill-color);\n",
              "      border-top-color: var(--fill-color);\n",
              "    }\n",
              "    30% {\n",
              "      border-color: transparent;\n",
              "      border-left-color: var(--fill-color);\n",
              "      border-top-color: var(--fill-color);\n",
              "      border-right-color: var(--fill-color);\n",
              "    }\n",
              "    40% {\n",
              "      border-color: transparent;\n",
              "      border-right-color: var(--fill-color);\n",
              "      border-top-color: var(--fill-color);\n",
              "    }\n",
              "    60% {\n",
              "      border-color: transparent;\n",
              "      border-right-color: var(--fill-color);\n",
              "    }\n",
              "    80% {\n",
              "      border-color: transparent;\n",
              "      border-right-color: var(--fill-color);\n",
              "      border-bottom-color: var(--fill-color);\n",
              "    }\n",
              "    90% {\n",
              "      border-color: transparent;\n",
              "      border-bottom-color: var(--fill-color);\n",
              "    }\n",
              "  }\n",
              "</style>\n",
              "\n",
              "  <script>\n",
              "    async function quickchart(key) {\n",
              "      const quickchartButtonEl =\n",
              "        document.querySelector('#' + key + ' button');\n",
              "      quickchartButtonEl.disabled = true;  // To prevent multiple clicks.\n",
              "      quickchartButtonEl.classList.add('colab-df-spinner');\n",
              "      try {\n",
              "        const charts = await google.colab.kernel.invokeFunction(\n",
              "            'suggestCharts', [key], {});\n",
              "      } catch (error) {\n",
              "        console.error('Error during call to suggestCharts:', error);\n",
              "      }\n",
              "      quickchartButtonEl.classList.remove('colab-df-spinner');\n",
              "      quickchartButtonEl.classList.add('colab-df-quickchart-complete');\n",
              "    }\n",
              "    (() => {\n",
              "      let quickchartButtonEl =\n",
              "        document.querySelector('#df-84f8af78-c2a8-4231-8aca-c686bee2c804 button');\n",
              "      quickchartButtonEl.style.display =\n",
              "        google.colab.kernel.accessAllowed ? 'block' : 'none';\n",
              "    })();\n",
              "  </script>\n",
              "</div>\n",
              "\n",
              "    </div>\n",
              "  </div>\n"
            ],
            "application/vnd.google.colaboratory.intrinsic+json": {
              "type": "dataframe",
              "summary": "{\n  \"name\": \"df\",\n  \"rows\": 10,\n  \"fields\": [\n    {\n      \"column\": \"these\",\n      \"properties\": {\n        \"dtype\": \"Sparse[float32, 0]\",\n        \"num_unique_values\": 10,\n        \"samples\": [\n          \"0.347806\",\n          \"0.29918605\",\n          \"1.00841\"\n        ],\n        \"semantic_type\": \"\",\n        \"description\": \"\"\n      }\n    },\n    {\n      \"column\": \"has\",\n      \"properties\": {\n        \"dtype\": \"Sparse[float32, 0]\",\n        \"num_unique_values\": 10,\n        \"samples\": [\n          \"0.024345176\",\n          \"1.0\",\n          \"0.02454085\"\n        ],\n        \"semantic_type\": \"\",\n        \"description\": \"\"\n      }\n    },\n    {\n      \"column\": \"s\",\n      \"properties\": {\n        \"dtype\": \"Sparse[float32, 0]\",\n        \"num_unique_values\": 10,\n        \"samples\": [\n          \"0.51885086\",\n          \"0.6230181\",\n          \"0.8780422\"\n        ],\n        \"semantic_type\": \"\",\n        \"description\": \"\"\n      }\n    },\n    {\n      \"column\": \"can\",\n      \"properties\": {\n        \"dtype\": \"Sparse[float32, 0]\",\n        \"num_unique_values\": 10,\n        \"samples\": [\n          \"0.7519188\",\n          \"0.02904516\",\n          \"0.031127717\"\n        ],\n        \"semantic_type\": \"\",\n        \"description\": \"\"\n      }\n    },\n    {\n      \"column\": \"cells\",\n      \"properties\": {\n        \"dtype\": \"Sparse[float32, 0]\",\n        \"num_unique_values\": 10,\n        \"samples\": [\n          \"0.40227515\",\n          \"0.36584955\",\n          \"0.709778\"\n        ],\n        \"semantic_type\": \"\",\n        \"description\": \"\"\n      }\n    },\n    {\n      \"column\": \"covid\",\n      \"properties\": {\n        \"dtype\": \"Sparse[float32, 0]\",\n        \"num_unique_values\": 10,\n        \"samples\": [\n          \"0.5909179\",\n          \"0.70955366\",\n          \"1.0\"\n        ],\n        \"semantic_type\": \"\",\n        \"description\": \"\"\n      }\n    },\n    {\n      \"column\": \"also\",\n      \"properties\": {\n        \"dtype\": \"Sparse[float32, 0]\",\n        \"num_unique_values\": 10,\n        \"samples\": [\n          \"0.86287045\",\n          \"1.0361049\",\n          \"1.4602207\"\n        ],\n        \"semantic_type\": \"\",\n        \"description\": \"\"\n      }\n    },\n    {\n      \"column\": \"been\",\n      \"properties\": {\n        \"dtype\": \"Sparse[float32, 0]\",\n        \"num_unique_values\": 10,\n        \"samples\": [\n          \"0.0024187963\",\n          \"0.004029957\",\n          \"0.06226781\"\n        ],\n        \"semantic_type\": \"\",\n        \"description\": \"\"\n      }\n    },\n    {\n      \"column\": \"may\",\n      \"properties\": {\n        \"dtype\": \"Sparse[float32, 0]\",\n        \"num_unique_values\": 10,\n        \"samples\": [\n          \"1.0\",\n          \"0.038628057\",\n          \"0.041397713\"\n        ],\n        \"semantic_type\": \"\",\n        \"description\": \"\"\n      }\n    },\n    {\n      \"column\": \"data\",\n      \"properties\": {\n        \"dtype\": \"Sparse[float32, 0]\",\n        \"num_unique_values\": 10,\n        \"samples\": [\n          \"0.5000454\",\n          \"0.60043716\",\n          \"0.8462181\"\n        ],\n        \"semantic_type\": \"\",\n        \"description\": \"\"\n      }\n    }\n  ]\n}"
            }
          },
          "metadata": {},
          "execution_count": 81
        }
      ]
    },
    {
      "cell_type": "code",
      "source": [
        "print(f'Size of the matrix: {p_matrix.shape}')"
      ],
      "metadata": {
        "colab": {
          "base_uri": "https://localhost:8080/"
        },
        "id": "2B0Tnlif8T6S",
        "outputId": "83859345-9d33-4d96-9bde-3295b9e1558d"
      },
      "execution_count": null,
      "outputs": [
        {
          "output_type": "stream",
          "name": "stdout",
          "text": [
            "Size of the matrix: (1000, 1000)\n"
          ]
        }
      ]
    },
    {
      "cell_type": "code",
      "source": [
        "p_matrix = joblib.load(\"/content/drive/MyDrive/NLP/p_matrix.pickle\")\n",
        "vocab_index = joblib.load(\"/content/drive/MyDrive/NLP/vocab_idx.pickle\")\n",
        "cooccurrence_matrix = joblib.load(\"/content/drive/MyDrive/NLP/cooccurrence_matrix.pickle\")\n",
        "vocab = joblib.load(\"/content/drive/MyDrive/NLP/vocab.pickle\")"
      ],
      "metadata": {
        "id": "aSJro3sFHAH2"
      },
      "execution_count": null,
      "outputs": []
    },
    {
      "cell_type": "markdown",
      "source": [
        "### Task 2\n",
        "Identify five nouns and verbs (relevant to\n",
        "COVID19) from the corpus.\n",
        "\n",
        "Generate five similar words for each (chosen in\n",
        "step b) and display the result with cosine\n",
        "distance for each one."
      ],
      "metadata": {
        "id": "lY2FjszTd0db"
      }
    },
    {
      "cell_type": "code",
      "source": [
        "vocab_index_rev = dict(zip(vocab_index.values(),vocab_index))"
      ],
      "metadata": {
        "id": "19uBSXNk_p-7"
      },
      "execution_count": null,
      "outputs": []
    },
    {
      "cell_type": "code",
      "source": [
        "def normalize_matrix_rows(X):\n",
        "    row_norms = np.sqrt(X.multiply(X).sum(axis=1))\n",
        "    row_norms[row_norms == 0] = 1e-10\n",
        "    return X.multiply(1 / row_norms)\n",
        "\n",
        "def get_similar(X, chosen_indices, n=5):\n",
        "    X_normalized = normalize_matrix_rows(X)\n",
        "    X_normalized_dense = X_normalized.toarray()\n",
        "    results = {}\n",
        "\n",
        "    for idx in chosen_indices:\n",
        "        similarities = []\n",
        "        chosen_word_vector = X_normalized_dense[idx]\n",
        "        for i in range(X_normalized_dense.shape[0]):\n",
        "            if i != idx:\n",
        "                other_word_vector = X_normalized_dense[i]\n",
        "                cos_sim = 1 - cosine(chosen_word_vector, other_word_vector)\n",
        "                similarities.append((i, cos_sim))\n",
        "        similarities = sorted(similarities, key=lambda x: x[1], reverse=True)[:n]\n",
        "        results[idx] = similarities\n",
        "    return results"
      ],
      "metadata": {
        "id": "_4e5Sip9CvTt"
      },
      "execution_count": null,
      "outputs": []
    },
    {
      "cell_type": "code",
      "source": [
        "chosen_words = ['pandemic','research','sequence','symptoms','animal']\n",
        "chosen_indices = [vocab_index[i] for i in chosen_words]\n",
        "similar_words = get_similar(p_matrix, chosen_indices, n=5)"
      ],
      "metadata": {
        "id": "KoAh53djE-RB"
      },
      "execution_count": null,
      "outputs": []
    },
    {
      "cell_type": "code",
      "source": [
        "for chosen_idx, similar_list in similar_words.items():\n",
        "    print(f\"Word: {vocab_index_rev[chosen_idx]}\")\n",
        "    for sim_idx, cos_sim in similar_list:\n",
        "        print(f\"Cosine Similarity: {cos_sim:.4f}; Similar Word: {vocab_index_rev[sim_idx]}\")\n",
        "    print()"
      ],
      "metadata": {
        "colab": {
          "base_uri": "https://localhost:8080/"
        },
        "id": "l2-1yA4MH7Lo",
        "outputId": "5c9b9853-a478-495b-f47c-7f031359563a"
      },
      "execution_count": null,
      "outputs": [
        {
          "output_type": "stream",
          "name": "stdout",
          "text": [
            "Word: pandemic\n",
            "Cosine Similarity: 0.9990; Similar Word: first\n",
            "Cosine Similarity: 0.9990; Similar Word: crisis\n",
            "Cosine Similarity: 0.9989; Similar Word: current\n",
            "Cosine Similarity: 0.9987; Similar Word: second\n",
            "Cosine Similarity: 0.9986; Similar Word: during\n",
            "\n",
            "Word: research\n",
            "Cosine Similarity: 0.9986; Similar Word: conditions\n",
            "Cosine Similarity: 0.9982; Similar Word: online\n",
            "Cosine Similarity: 0.9981; Similar Word: drug\n",
            "Cosine Similarity: 0.9979; Similar Word: cell\n",
            "Cosine Similarity: 0.9977; Similar Word: groups\n",
            "\n",
            "Word: sequence\n",
            "Cosine Similarity: 0.9996; Similar Word: product\n",
            "Cosine Similarity: 0.9994; Similar Word: domain\n",
            "Cosine Similarity: 0.9992; Similar Word: peak\n",
            "Cosine Similarity: 0.9992; Similar Word: full\n",
            "Cosine Similarity: 0.9991; Similar Word: structure\n",
            "\n",
            "Word: symptoms\n",
            "Cosine Similarity: 0.9965; Similar Word: diseases\n",
            "Cosine Similarity: 0.9965; Similar Word: inhibitors\n",
            "Cosine Similarity: 0.9951; Similar Word: age\n",
            "Cosine Similarity: 0.9950; Similar Word: illness\n",
            "Cosine Similarity: 0.9949; Similar Word: vaccines\n",
            "\n",
            "Word: animal\n",
            "Cosine Similarity: 0.9993; Similar Word: tissue\n",
            "Cosine Similarity: 0.9983; Similar Word: blood\n",
            "Cosine Similarity: 0.9982; Similar Word: signaling\n",
            "Cosine Similarity: 0.9975; Similar Word: systems\n",
            "Cosine Similarity: 0.9972; Similar Word: decreased\n",
            "\n"
          ]
        }
      ]
    },
    {
      "cell_type": "markdown",
      "source": [
        "### Task 3\n",
        "Use multi-dimensional scaling to visualize\n",
        "certain concepts (relevant to COVID 19) as\n",
        "shown in Fig.1. Take three concepts that you\n",
        "feel are relevant to this corpus and use a\n",
        "maximum of 10 words per concept. Make sure\n",
        "that the plot is clear and not cluttered\n"
      ],
      "metadata": {
        "id": "Kg2HmdvDeAIv"
      }
    },
    {
      "cell_type": "code",
      "source": [
        "sim = []\n",
        "chosen_words = ['pandemic','research','symptoms']\n",
        "chosen_indices = [vocab_index[i] for i in chosen_words]\n",
        "similar_words = get_similar(p_matrix, chosen_indices, n=10)\n",
        "for k in similar_words:\n",
        "  sim.append([vocab_index_rev[k]]+[vocab_index_rev[i] for i,j in similar_words[k]])"
      ],
      "metadata": {
        "id": "Jky-u_YyZQA_"
      },
      "execution_count": null,
      "outputs": []
    },
    {
      "cell_type": "code",
      "source": [
        "# will plot the list of lists of the similar words to the nouns\n",
        "def plot_similar(X, vocab_index, sim):\n",
        "\n",
        "    # some initializations\n",
        "    k = len(sim[0])\n",
        "    num_clusters = len(sim)\n",
        "    sim = np.array(sim).flatten()\n",
        "\n",
        "    # list of word vectors for all the words in the similar list\n",
        "    pts = np.array([(lambda a2:a2/np.linalg.norm(a2))(X[vocab_index[w],:].toarray().flatten()) for w in sim])\n",
        "\n",
        "    # Applying t-SNE with the perplexity set to the number of words in 'nouns'\n",
        "    pts_emb = TSNE(n_components=2, learning_rate='auto',init='random', perplexity=num_clusters).fit_transform(pts)\n",
        "\n",
        "    # Taking transpose of the above\n",
        "    pts_emb = [list(i) for i in zip(*pts_emb)]\n",
        "    X = pts_emb[0];Y = pts_emb[1]\n",
        "\n",
        "    # Generating num_clusters number of random colours\n",
        "    clrs = [np.random.random(3) for _ in range(num_clusters)]\n",
        "    clrs = sum([[x]*k for x in clrs],[])  # Expanding to give colour to each point\n",
        "\n",
        "    plt.figure(figsize=(8,6), dpi=120)\n",
        "\n",
        "    plt.scatter(X,Y, s= 10,c = np.array(clrs))\n",
        "    plt.axis('off')\n",
        "\n",
        "    # Adding label to each point\n",
        "    texts = [plt.text(X[i], Y[i], txt, size = 6.5) for i, txt in enumerate(sim)]\n",
        "    adjust_text(texts)"
      ],
      "metadata": {
        "id": "55vaFs1I6W0v"
      },
      "execution_count": null,
      "outputs": []
    },
    {
      "cell_type": "code",
      "source": [
        "plot_similar(p_matrix, vocab_index, sim)"
      ],
      "metadata": {
        "colab": {
          "base_uri": "https://localhost:8080/",
          "height": 595
        },
        "id": "7C6yca5G6dAX",
        "outputId": "355fd76b-0944-465f-b8f3-f253fe568125"
      },
      "execution_count": null,
      "outputs": [
        {
          "output_type": "display_data",
          "data": {
            "text/plain": [
              "<Figure size 960x720 with 1 Axes>"
            ],
            "image/png": "[encoded data removed]"
          },
          "metadata": {}
        }
      ]
    }
  ]
}