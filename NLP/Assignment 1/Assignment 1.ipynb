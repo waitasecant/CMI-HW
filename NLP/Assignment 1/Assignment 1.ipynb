{
  "nbformat": 4,
  "nbformat_minor": 0,
  "metadata": {
    "colab": {
      "provenance": []
    },
    "kernelspec": {
      "name": "python3",
      "display_name": "Python 3"
    },
    "language_info": {
      "name": "python"
    }
  },
  "cells": [
    {
      "cell_type": "markdown",
      "source": [
        "# Himanshu MDS202327"
      ],
      "metadata": {
        "id": "EDAAo5pLN3Pv"
      }
    },
    {
      "cell_type": "code",
      "execution_count": null,
      "metadata": {
        "id": "_D3VYoP40tor"
      },
      "outputs": [],
      "source": [
        "# Importing relevant libraries\n",
        "import json\n",
        "import re\n",
        "import string\n",
        "import os\n",
        "import glob\n",
        "import multiprocessing\n",
        "import pandas as pd\n",
        "import numpy as np\n",
        "import matplotlib.pyplot as plt\n",
        "\n",
        "import nltk\n",
        "nltk.download(\"stopwords\", quiet=True)\n",
        "nltk.download('punkt', quiet=True)\n",
        "\n",
        "from multiprocessing import Pool, cpu_count, Lock\n",
        "from functools import partial\n",
        "from tqdm import tqdm\n",
        "from collections import Counter\n",
        "from sklearn.linear_model import LinearRegression\n",
        "from scipy.optimize import curve_fit\n",
        "from nltk.tokenize import word_tokenize\n",
        "from nltk.corpus import stopwords\n",
        "from IPython.display import display, Math"
      ]
    },
    {
      "cell_type": "markdown",
      "source": [
        "### Task 1\n",
        "Extract the text content from the JSON-encoded data set and create a\n",
        "text corpus. You may use any JSON library to extract the text."
      ],
      "metadata": {
        "id": "nzoYFyd5LXvJ"
      }
    },
    {
      "cell_type": "code",
      "source": [
        "# Mount GDrive\n",
        "from google.colab import drive\n",
        "drive.mount('/content/drive')"
      ],
      "metadata": {
        "colab": {
          "base_uri": "https://localhost:8080/"
        },
        "id": "zqAFDtWZLbuE",
        "outputId": "e8e750d3-d7d4-47c3-da90-85edfc0b1784"
      },
      "execution_count": null,
      "outputs": [
        {
          "output_type": "stream",
          "name": "stdout",
          "text": [
            "Mounted at /content/drive\n"
          ]
        }
      ]
    },
    {
      "cell_type": "code",
      "source": [
        "corpus_path_drive = '/content/drive/MyDrive/NLP/corpus_cleaned.txt'"
      ],
      "metadata": {
        "id": "6_C8fOVxknZk"
      },
      "execution_count": null,
      "outputs": []
    },
    {
      "cell_type": "code",
      "source": [
        "# Unzip the file\n",
        "!unzip /content/drive/MyDrive/NLP/pdf_json.zip"
      ],
      "metadata": {
        "id": "KxWSvM_OLh0v"
      },
      "execution_count": null,
      "outputs": []
    },
    {
      "cell_type": "code",
      "source": [
        "# Extracting text from json file considering only title, abstract, body_text\n",
        "def json2text(filename):\n",
        "    with open(filename, 'r', encoding='utf-8') as file:\n",
        "        content = json.load(file)\n",
        "    title = content.get('metadata', {}).get('title', '')\n",
        "    abstract = ' '.join([abs['text'] for abs in content.get('abstract', [])])\n",
        "    body_text = ' '.join([bt['text'] for bt in content.get('body_text', [])])\n",
        "    return f\"{title} {abstract} {body_text}\".lower()\n",
        "\n",
        "# Build corpus of text using multiprocessing\n",
        "def build_corpus(files, num_workers=4):\n",
        "    with multiprocessing.Pool(num_workers) as pool:\n",
        "        corpus = list(tqdm(pool.imap(json2text, files), total=len(files)))\n",
        "    return corpus"
      ],
      "metadata": {
        "id": "jqu9EGEQLj_9"
      },
      "execution_count": null,
      "outputs": []
    },
    {
      "cell_type": "code",
      "execution_count": null,
      "metadata": {
        "colab": {
          "base_uri": "https://localhost:8080/"
        },
        "id": "sY8krq6oHEzd",
        "outputId": "c2db506c-59fe-45f9-929b-ddc62b39fb09"
      },
      "outputs": [
        {
          "output_type": "stream",
          "name": "stderr",
          "text": [
            "100%|██████████| 10000/10000 [00:17<00:00, 565.44it/s]\n"
          ]
        }
      ],
      "source": [
        "directory = '/content/pdf_json'\n",
        "file_list = [os.path.join(directory, f) for f in os.listdir(directory) if f.endswith('.json')]\n",
        "file_list = file_list[:10000]\n",
        "corpus = build_corpus(file_list)"
      ]
    },
    {
      "cell_type": "code",
      "source": [
        "with open('/content/corpus.txt', 'w', encoding='utf-8') as corpus_file:\n",
        "    for text in corpus:\n",
        "        corpus_file.write(text + '\\n')"
      ],
      "metadata": {
        "id": "MppO1GYUvrv7"
      },
      "execution_count": null,
      "outputs": []
    },
    {
      "cell_type": "markdown",
      "source": [
        "### Task 2\n",
        "\n",
        "Develop your pre-processing steps (case-folding, removal of numbers, etc.)\n",
        "and order of steps"
      ],
      "metadata": {
        "id": "FhjTXaqMQVvn"
      }
    },
    {
      "cell_type": "code",
      "source": [
        "# Remove punctuatios\n",
        "def rm_punct(text):\n",
        "    tokens = word_tokenize(text)\n",
        "    tokens = [token for token in tokens if token not in string.punctuation]\n",
        "    return ' '.join(tokens)\n",
        "\n",
        "# Remove URLs and numbers\n",
        "def rm_urls_num(text):\n",
        "    pattern = re.compile(r'https?://\\S+|www\\.\\S+|\\d+')\n",
        "    return pattern.sub('', text)\n",
        "\n",
        "# Clean and process each line\n",
        "def process_line(line):\n",
        "    line = line.lower()\n",
        "    line = rm_urls_num(line)\n",
        "    line = rm_punct(line)\n",
        "    if line.strip():\n",
        "        return line\n",
        "    return None\n",
        "\n",
        "def process_corpus(lines):\n",
        "\n",
        "    with Pool(cpu_count()) as pool:\n",
        "        processed_lines = list(tqdm(pool.imap(process_line, lines), total=len(lines), desc='Processing Lines'))\n",
        "\n",
        "    return processed_lines"
      ],
      "metadata": {
        "id": "UMoKvho2L1dI"
      },
      "execution_count": null,
      "outputs": []
    },
    {
      "cell_type": "code",
      "source": [
        "with open('/content/corpus.txt', 'r') as file:\n",
        "    lines = file.readlines()"
      ],
      "metadata": {
        "id": "6da0SIW9zOjf"
      },
      "execution_count": null,
      "outputs": []
    },
    {
      "cell_type": "code",
      "source": [
        "if __name__ == \"__main__\":\n",
        "    with Pool(cpu_count()) as pool:\n",
        "        processed_corpus = list(tqdm(pool.imap(process_line, lines), total=len(lines), desc='Processing Lines'))\n",
        "\n",
        "    with open('/content/corpus_cleaned.txt', 'w') as file:\n",
        "        for line in processed_corpus:\n",
        "            if line:\n",
        "                file.write(line + '\\n')"
      ],
      "metadata": {
        "colab": {
          "base_uri": "https://localhost:8080/"
        },
        "id": "LONPk9l9kThp",
        "outputId": "2d9abd8f-f615-4a23-cdac-08b927c45a6a"
      },
      "execution_count": null,
      "outputs": [
        {
          "output_type": "stream",
          "name": "stderr",
          "text": [
            "Processing Lines: 100%|██████████| 10000/10000 [06:46<00:00, 24.58it/s]\n"
          ]
        }
      ]
    },
    {
      "cell_type": "code",
      "source": [
        "with open('/content/corpus_cleaned.txt', 'w') as file:\n",
        "    for line in processed_corpus:\n",
        "        if line:\n",
        "            file.write(line + '\\n')"
      ],
      "metadata": {
        "id": "2OQs49PcyVyy"
      },
      "execution_count": null,
      "outputs": []
    },
    {
      "cell_type": "markdown",
      "source": [
        "### Task 3\n",
        "\n",
        "Find the weighted term frequency for every word in the corpus and order\n",
        "it according to its rank using Zipf’s Law. Find the value of the α using\n",
        "the data obtained from the previous step"
      ],
      "metadata": {
        "id": "ulOAGk7nM91P"
      }
    },
    {
      "cell_type": "code",
      "source": [
        "def read_corpus(file_path):\n",
        "    with open(file_path, 'r') as file:\n",
        "        return file.read()\n",
        "\n",
        "def tokenize(text):\n",
        "    return re.findall(r'\\b\\w+\\b', text)\n",
        "\n",
        "def compute_tf(chunk):\n",
        "    tokens = tokenize(chunk)\n",
        "    return Counter(tokens)\n",
        "\n",
        "def split_corpus(corpus, num_chunks):\n",
        "    chunk_size = len(corpus) // num_chunks\n",
        "    return [corpus[i:i + chunk_size] for i in range(0, len(corpus), chunk_size)]\n",
        "\n",
        "def main():\n",
        "    corpus = read_corpus(corpus_path_drive)\n",
        "    num_processes = cpu_count()\n",
        "    split_corpus(corpus, num_processes)\n",
        "    chunks = split_corpus(corpus, num_processes)\n",
        "\n",
        "    with Pool(num_processes) as pool:\n",
        "        results = list(tqdm(pool.imap(compute_tf, chunks), total=num_processes, desc='Processing chunks'))\n",
        "\n",
        "    total_counter = Counter()\n",
        "    for result in results:\n",
        "        total_counter.update(result)\n",
        "\n",
        "    z_df = pd.DataFrame(total_counter.items(), columns=['Word', 'Frequency'])\n",
        "    print(\"DataFrame preview:\")\n",
        "    print(z_df.head())\n",
        "\n",
        "    return z_df"
      ],
      "metadata": {
        "id": "HAdboD1xAvo2"
      },
      "execution_count": null,
      "outputs": []
    },
    {
      "cell_type": "code",
      "source": [
        "z_df = main()"
      ],
      "metadata": {
        "colab": {
          "base_uri": "https://localhost:8080/"
        },
        "id": "YyDZXy6_CyfZ",
        "outputId": "461214ef-6ad7-464d-8e0f-d63e11e85981"
      },
      "execution_count": null,
      "outputs": [
        {
          "output_type": "stream",
          "name": "stderr",
          "text": [
            "Processing chunks: 97it [00:01, 63.41it/s]                        \n"
          ]
        },
        {
          "output_type": "stream",
          "name": "stdout",
          "text": [
            "DataFrame preview:\n",
            "         Word  Frequency\n",
            "0  evaluation       6987\n",
            "1          of    1439364\n",
            "2         the    2125757\n",
            "3       human      39960\n",
            "4  adaptation       1591\n"
          ]
        }
      ]
    },
    {
      "cell_type": "code",
      "source": [
        "z_df"
      ],
      "metadata": {
        "id": "KMzFRm-5ajEy"
      },
      "execution_count": null,
      "outputs": []
    },
    {
      "cell_type": "code",
      "source": [
        "sorted_df = z_df.sort_values(by='Frequency', ascending=False)\n",
        "\n",
        "sorted_df = sorted_df.reset_index(drop=True)\n",
        "sorted_df.index = sorted_df.index + 1"
      ],
      "metadata": {
        "id": "-ACzYaCyDSzI"
      },
      "execution_count": null,
      "outputs": []
    },
    {
      "cell_type": "code",
      "source": [
        "# Maximum frequency\n",
        "max_frequency = sorted_df['Frequency'].max()\n",
        "\n",
        "# Weighted term frequency\n",
        "sorted_df['weighted_term_frequency'] = sorted_df['Frequency'] / max_frequency\n",
        "\n",
        "# Calculate log10 of index and frequency columns\n",
        "sorted_df['log10_index'] = np.log10(sorted_df.index)\n",
        "sorted_df['log10_frequency'] = np.log10(sorted_df['Frequency'])"
      ],
      "metadata": {
        "id": "GhLF0_ttG1l4"
      },
      "execution_count": null,
      "outputs": []
    },
    {
      "cell_type": "code",
      "source": [
        "sorted_df.head()"
      ],
      "metadata": {
        "colab": {
          "base_uri": "https://localhost:8080/",
          "height": 206
        },
        "id": "8SDWvYYLG43s",
        "outputId": "9f471267-2567-462a-b6dc-b8e67c13a037"
      },
      "execution_count": null,
      "outputs": [
        {
          "output_type": "execute_result",
          "data": {
            "text/plain": [
              "  Word  Frequency  weighted_term_frequency  log10_index  log10_frequency\n",
              "1  the    2125757                 1.000000     0.000000         6.327514\n",
              "2   of    1439364                 0.677107     0.301030         6.158171\n",
              "3  and    1222941                 0.575297     0.477121         6.087406\n",
              "4   in     963206                 0.453112     0.602060         5.983719\n",
              "5   to     830501                 0.390685     0.698970         5.919340"
            ],
            "text/html": [
              "\n",
              "  <div id=\"df-7fd66d9f-b042-421e-9460-1d105db5143b\" class=\"colab-df-container\">\n",
              "    <div>\n",
              "<style scoped>\n",
              "    .dataframe tbody tr th:only-of-type {\n",
              "        vertical-align: middle;\n",
              "    }\n",
              "\n",
              "    .dataframe tbody tr th {\n",
              "        vertical-align: top;\n",
              "    }\n",
              "\n",
              "    .dataframe thead th {\n",
              "        text-align: right;\n",
              "    }\n",
              "</style>\n",
              "<table border=\"1\" class=\"dataframe\">\n",
              "  <thead>\n",
              "    <tr style=\"text-align: right;\">\n",
              "      <th></th>\n",
              "      <th>Word</th>\n",
              "      <th>Frequency</th>\n",
              "      <th>weighted_term_frequency</th>\n",
              "      <th>log10_index</th>\n",
              "      <th>log10_frequency</th>\n",
              "    </tr>\n",
              "  </thead>\n",
              "  <tbody>\n",
              "    <tr>\n",
              "      <th>1</th>\n",
              "      <td>the</td>\n",
              "      <td>2125757</td>\n",
              "      <td>1.000000</td>\n",
              "      <td>0.000000</td>\n",
              "      <td>6.327514</td>\n",
              "    </tr>\n",
              "    <tr>\n",
              "      <th>2</th>\n",
              "      <td>of</td>\n",
              "      <td>1439364</td>\n",
              "      <td>0.677107</td>\n",
              "      <td>0.301030</td>\n",
              "      <td>6.158171</td>\n",
              "    </tr>\n",
              "    <tr>\n",
              "      <th>3</th>\n",
              "      <td>and</td>\n",
              "      <td>1222941</td>\n",
              "      <td>0.575297</td>\n",
              "      <td>0.477121</td>\n",
              "      <td>6.087406</td>\n",
              "    </tr>\n",
              "    <tr>\n",
              "      <th>4</th>\n",
              "      <td>in</td>\n",
              "      <td>963206</td>\n",
              "      <td>0.453112</td>\n",
              "      <td>0.602060</td>\n",
              "      <td>5.983719</td>\n",
              "    </tr>\n",
              "    <tr>\n",
              "      <th>5</th>\n",
              "      <td>to</td>\n",
              "      <td>830501</td>\n",
              "      <td>0.390685</td>\n",
              "      <td>0.698970</td>\n",
              "      <td>5.919340</td>\n",
              "    </tr>\n",
              "  </tbody>\n",
              "</table>\n",
              "</div>\n",
              "    <div class=\"colab-df-buttons\">\n",
              "\n",
              "  <div class=\"colab-df-container\">\n",
              "    <button class=\"colab-df-convert\" onclick=\"convertToInteractive('df-7fd66d9f-b042-421e-9460-1d105db5143b')\"\n",
              "            title=\"Convert this dataframe to an interactive table.\"\n",
              "            style=\"display:none;\">\n",
              "\n",
              "  <svg xmlns=\"http://www.w3.org/2000/svg\" height=\"24px\" viewBox=\"0 -960 960 960\">\n",
              "    <path d=\"M120-120v-720h720v720H120Zm60-500h600v-160H180v160Zm220 220h160v-160H400v160Zm0 220h160v-160H400v160ZM180-400h160v-160H180v160Zm440 0h160v-160H620v160ZM180-180h160v-160H180v160Zm440 0h160v-160H620v160Z\"/>\n",
              "  </svg>\n",
              "    </button>\n",
              "\n",
              "  <style>\n",
              "    .colab-df-container {\n",
              "      display:flex;\n",
              "      gap: 12px;\n",
              "    }\n",
              "\n",
              "    .colab-df-convert {\n",
              "      background-color: #E8F0FE;\n",
              "      border: none;\n",
              "      border-radius: 50%;\n",
              "      cursor: pointer;\n",
              "      display: none;\n",
              "      fill: #1967D2;\n",
              "      height: 32px;\n",
              "      padding: 0 0 0 0;\n",
              "      width: 32px;\n",
              "    }\n",
              "\n",
              "    .colab-df-convert:hover {\n",
              "      background-color: #E2EBFA;\n",
              "      box-shadow: 0px 1px 2px rgba(60, 64, 67, 0.3), 0px 1px 3px 1px rgba(60, 64, 67, 0.15);\n",
              "      fill: #174EA6;\n",
              "    }\n",
              "\n",
              "    .colab-df-buttons div {\n",
              "      margin-bottom: 4px;\n",
              "    }\n",
              "\n",
              "    [theme=dark] .colab-df-convert {\n",
              "      background-color: #3B4455;\n",
              "      fill: #D2E3FC;\n",
              "    }\n",
              "\n",
              "    [theme=dark] .colab-df-convert:hover {\n",
              "      background-color: #434B5C;\n",
              "      box-shadow: 0px 1px 3px 1px rgba(0, 0, 0, 0.15);\n",
              "      filter: drop-shadow(0px 1px 2px rgba(0, 0, 0, 0.3));\n",
              "      fill: #FFFFFF;\n",
              "    }\n",
              "  </style>\n",
              "\n",
              "    <script>\n",
              "      const buttonEl =\n",
              "        document.querySelector('#df-7fd66d9f-b042-421e-9460-1d105db5143b button.colab-df-convert');\n",
              "      buttonEl.style.display =\n",
              "        google.colab.kernel.accessAllowed ? 'block' : 'none';\n",
              "\n",
              "      async function convertToInteractive(key) {\n",
              "        const element = document.querySelector('#df-7fd66d9f-b042-421e-9460-1d105db5143b');\n",
              "        const dataTable =\n",
              "          await google.colab.kernel.invokeFunction('convertToInteractive',\n",
              "                                                    [key], {});\n",
              "        if (!dataTable) return;\n",
              "\n",
              "        const docLinkHtml = 'Like what you see? Visit the ' +\n",
              "          '<a target=\"_blank\" href=https://colab.research.google.com/notebooks/data_table.ipynb>data table notebook</a>'\n",
              "          + ' to learn more about interactive tables.';\n",
              "        element.innerHTML = '';\n",
              "        dataTable['output_type'] = 'display_data';\n",
              "        await google.colab.output.renderOutput(dataTable, element);\n",
              "        const docLink = document.createElement('div');\n",
              "        docLink.innerHTML = docLinkHtml;\n",
              "        element.appendChild(docLink);\n",
              "      }\n",
              "    </script>\n",
              "  </div>\n",
              "\n",
              "\n",
              "<div id=\"df-fc9ce1fd-a8e2-45a7-bc21-56b1e38468ac\">\n",
              "  <button class=\"colab-df-quickchart\" onclick=\"quickchart('df-fc9ce1fd-a8e2-45a7-bc21-56b1e38468ac')\"\n",
              "            title=\"Suggest charts\"\n",
              "            style=\"display:none;\">\n",
              "\n",
              "<svg xmlns=\"http://www.w3.org/2000/svg\" height=\"24px\"viewBox=\"0 0 24 24\"\n",
              "     width=\"24px\">\n",
              "    <g>\n",
              "        <path d=\"M19 3H5c-1.1 0-2 .9-2 2v14c0 1.1.9 2 2 2h14c1.1 0 2-.9 2-2V5c0-1.1-.9-2-2-2zM9 17H7v-7h2v7zm4 0h-2V7h2v10zm4 0h-2v-4h2v4z\"/>\n",
              "    </g>\n",
              "</svg>\n",
              "  </button>\n",
              "\n",
              "<style>\n",
              "  .colab-df-quickchart {\n",
              "      --bg-color: #E8F0FE;\n",
              "      --fill-color: #1967D2;\n",
              "      --hover-bg-color: #E2EBFA;\n",
              "      --hover-fill-color: #174EA6;\n",
              "      --disabled-fill-color: #AAA;\n",
              "      --disabled-bg-color: #DDD;\n",
              "  }\n",
              "\n",
              "  [theme=dark] .colab-df-quickchart {\n",
              "      --bg-color: #3B4455;\n",
              "      --fill-color: #D2E3FC;\n",
              "      --hover-bg-color: #434B5C;\n",
              "      --hover-fill-color: #FFFFFF;\n",
              "      --disabled-bg-color: #3B4455;\n",
              "      --disabled-fill-color: #666;\n",
              "  }\n",
              "\n",
              "  .colab-df-quickchart {\n",
              "    background-color: var(--bg-color);\n",
              "    border: none;\n",
              "    border-radius: 50%;\n",
              "    cursor: pointer;\n",
              "    display: none;\n",
              "    fill: var(--fill-color);\n",
              "    height: 32px;\n",
              "    padding: 0;\n",
              "    width: 32px;\n",
              "  }\n",
              "\n",
              "  .colab-df-quickchart:hover {\n",
              "    background-color: var(--hover-bg-color);\n",
              "    box-shadow: 0 1px 2px rgba(60, 64, 67, 0.3), 0 1px 3px 1px rgba(60, 64, 67, 0.15);\n",
              "    fill: var(--button-hover-fill-color);\n",
              "  }\n",
              "\n",
              "  .colab-df-quickchart-complete:disabled,\n",
              "  .colab-df-quickchart-complete:disabled:hover {\n",
              "    background-color: var(--disabled-bg-color);\n",
              "    fill: var(--disabled-fill-color);\n",
              "    box-shadow: none;\n",
              "  }\n",
              "\n",
              "  .colab-df-spinner {\n",
              "    border: 2px solid var(--fill-color);\n",
              "    border-color: transparent;\n",
              "    border-bottom-color: var(--fill-color);\n",
              "    animation:\n",
              "      spin 1s steps(1) infinite;\n",
              "  }\n",
              "\n",
              "  @keyframes spin {\n",
              "    0% {\n",
              "      border-color: transparent;\n",
              "      border-bottom-color: var(--fill-color);\n",
              "      border-left-color: var(--fill-color);\n",
              "    }\n",
              "    20% {\n",
              "      border-color: transparent;\n",
              "      border-left-color: var(--fill-color);\n",
              "      border-top-color: var(--fill-color);\n",
              "    }\n",
              "    30% {\n",
              "      border-color: transparent;\n",
              "      border-left-color: var(--fill-color);\n",
              "      border-top-color: var(--fill-color);\n",
              "      border-right-color: var(--fill-color);\n",
              "    }\n",
              "    40% {\n",
              "      border-color: transparent;\n",
              "      border-right-color: var(--fill-color);\n",
              "      border-top-color: var(--fill-color);\n",
              "    }\n",
              "    60% {\n",
              "      border-color: transparent;\n",
              "      border-right-color: var(--fill-color);\n",
              "    }\n",
              "    80% {\n",
              "      border-color: transparent;\n",
              "      border-right-color: var(--fill-color);\n",
              "      border-bottom-color: var(--fill-color);\n",
              "    }\n",
              "    90% {\n",
              "      border-color: transparent;\n",
              "      border-bottom-color: var(--fill-color);\n",
              "    }\n",
              "  }\n",
              "</style>\n",
              "\n",
              "  <script>\n",
              "    async function quickchart(key) {\n",
              "      const quickchartButtonEl =\n",
              "        document.querySelector('#' + key + ' button');\n",
              "      quickchartButtonEl.disabled = true;  // To prevent multiple clicks.\n",
              "      quickchartButtonEl.classList.add('colab-df-spinner');\n",
              "      try {\n",
              "        const charts = await google.colab.kernel.invokeFunction(\n",
              "            'suggestCharts', [key], {});\n",
              "      } catch (error) {\n",
              "        console.error('Error during call to suggestCharts:', error);\n",
              "      }\n",
              "      quickchartButtonEl.classList.remove('colab-df-spinner');\n",
              "      quickchartButtonEl.classList.add('colab-df-quickchart-complete');\n",
              "    }\n",
              "    (() => {\n",
              "      let quickchartButtonEl =\n",
              "        document.querySelector('#df-fc9ce1fd-a8e2-45a7-bc21-56b1e38468ac button');\n",
              "      quickchartButtonEl.style.display =\n",
              "        google.colab.kernel.accessAllowed ? 'block' : 'none';\n",
              "    })();\n",
              "  </script>\n",
              "</div>\n",
              "\n",
              "    </div>\n",
              "  </div>\n"
            ],
            "application/vnd.google.colaboratory.intrinsic+json": {
              "type": "dataframe",
              "variable_name": "sorted_df"
            }
          },
          "metadata": {},
          "execution_count": 8
        }
      ]
    },
    {
      "cell_type": "code",
      "source": [
        "# Prepare data for linear regression\n",
        "X = sorted_df[['log10_index']].values  # Predictor (independent variable)\n",
        "y = sorted_df['log10_frequency'].values  # Response (dependent variable)\n",
        "\n",
        "# Create and fit the model\n",
        "model = LinearRegression()\n",
        "model.fit(X, y)\n",
        "display(Math(f'\\\\text{{Expected }} \\\\alpha \\\\text{{ is: }} {-model.coef_[0]}'))"
      ],
      "metadata": {
        "colab": {
          "base_uri": "https://localhost:8080/",
          "height": 39
        },
        "id": "rcXp8XjfH_3r",
        "outputId": "b3867f5d-5f49-4160-dc59-cda82be9368b"
      },
      "execution_count": null,
      "outputs": [
        {
          "output_type": "display_data",
          "data": {
            "text/plain": [
              "<IPython.core.display.Math object>"
            ],
            "text/latex": "$\\displaystyle \\text{Expected } \\alpha \\text{ is: } 1.5998398952863528$"
          },
          "metadata": {}
        }
      ]
    },
    {
      "cell_type": "markdown",
      "source": [
        "###  Task 4\n",
        "\n",
        "Print the number of tokens and the vocabulary"
      ],
      "metadata": {
        "id": "RIp4BqV5s88T"
      }
    },
    {
      "cell_type": "code",
      "source": [
        "def process_chunk(chunk):\n",
        "    tokens = chunk.split()  # Tokenize by splitting on whitespace\n",
        "    return tokens\n",
        "\n",
        "def read_in_chunks(file_path, chunk_size=1024*1024):  # 1MB chunks\n",
        "    with open(file_path, 'r', encoding='utf-8') as f:\n",
        "        while True:\n",
        "            data = f.read(chunk_size)\n",
        "            if not data:\n",
        "                break\n",
        "            yield data\n",
        "\n",
        "def count_tokens_and_vocabulary(file_path):\n",
        "    total_tokens = 0\n",
        "    token_counter = Counter()\n",
        "\n",
        "    with Pool(processes=cpu_count()) as pool:\n",
        "        chunks = read_in_chunks(file_path)\n",
        "        for tokens in tqdm(pool.imap_unordered(process_chunk, chunks), desc=\"Processing Chunks\"):\n",
        "            total_tokens += len(tokens)\n",
        "            token_counter.update(tokens)\n",
        "\n",
        "    return total_tokens, token_counter"
      ],
      "metadata": {
        "id": "mpolZO_DKMQR"
      },
      "execution_count": null,
      "outputs": []
    },
    {
      "cell_type": "code",
      "source": [
        "total_tokens, token_counter = count_tokens_and_vocabulary(corpus_path_drive)\n",
        "\n",
        "print(f\"Number of tokens: {total_tokens}\")\n",
        "print(f\"Vocabulary size: {len(token_counter)}\")"
      ],
      "metadata": {
        "colab": {
          "base_uri": "https://localhost:8080/"
        },
        "id": "84L_Fk_BKuJ2",
        "outputId": "4754f211-1c67-45af-9726-62317e78f7a7"
      },
      "execution_count": null,
      "outputs": [
        {
          "output_type": "stream",
          "name": "stderr",
          "text": [
            "Processing Chunks: 234it [00:11, 19.78it/s]\n"
          ]
        },
        {
          "output_type": "stream",
          "name": "stdout",
          "text": [
            "Number of tokens: 37878205\n",
            "Vocabulary size: 519651\n"
          ]
        }
      ]
    },
    {
      "cell_type": "markdown",
      "source": [
        "### Task 5\n",
        "\n",
        "Plot Tokens Vs Vocabulary graph using Heaps’ empirical law. Find Vocabulary count for every 10000 tokens. You may use a log scale for plotting"
      ],
      "metadata": {
        "id": "X8WkAf8Ds_yq"
      }
    },
    {
      "cell_type": "code",
      "source": [
        "# While iterating with the number of tokens, we keep track vocabulary into a pair (x,y)\n",
        "def process_file(file_path):\n",
        "    token_vocabulary_pairs = []\n",
        "\n",
        "    vocabulary = set()\n",
        "\n",
        "    token_count = 0\n",
        "\n",
        "    with open(file_path, 'r', encoding='utf-8') as file:\n",
        "        total_lines = sum(1 for _ in file)\n",
        "\n",
        "    with open(file_path, 'r', encoding='utf-8') as file:\n",
        "        for line in tqdm(file, total=total_lines, desc=\"Processing tokens\"):\n",
        "            tokens = line.split()\n",
        "\n",
        "            for token in tokens:\n",
        "                token_count += 1\n",
        "                vocabulary.add(token)\n",
        "                token_vocabulary_pairs.append((token_count, len(vocabulary)))\n",
        "\n",
        "    return token_vocabulary_pairs"
      ],
      "metadata": {
        "id": "whz5Eg3Gd_ke"
      },
      "execution_count": null,
      "outputs": []
    },
    {
      "cell_type": "code",
      "source": [
        "pairs = process_file(corpus_path_drive)"
      ],
      "metadata": {
        "colab": {
          "base_uri": "https://localhost:8080/"
        },
        "id": "_gele7yHeBs6",
        "outputId": "3e29ebc1-bb3a-46a2-863b-857fa02589ca"
      },
      "execution_count": null,
      "outputs": [
        {
          "output_type": "stream",
          "name": "stderr",
          "text": [
            "Processing tokens: 100%|██████████| 10000/10000 [00:18<00:00, 545.38it/s]\n"
          ]
        }
      ]
    },
    {
      "cell_type": "code",
      "source": [
        "def plot_log_pairs(pairs):\n",
        "    # Convert pairs to numpy arrays for easier manipulation\n",
        "    print(\"Converting pairs to numpy arrays...\")\n",
        "    token_counts, vocab_sizes = zip(*pairs)\n",
        "\n",
        "    # Convert to numpy arrays and calculate logarithms\n",
        "    print(\"Calculating logarithms...\")\n",
        "    log_token_counts = np.log10(token_counts)\n",
        "    log_vocab_sizes = np.log10(vocab_sizes)\n",
        "\n",
        "    # Add a column of ones for the intercept term\n",
        "    print(\"Setting up matrices for linear regression...\")\n",
        "    A = np.vstack([log_token_counts, np.ones(len(log_token_counts))]).T\n",
        "    b = log_vocab_sizes\n",
        "\n",
        "    # Perform linear regression and track progress\n",
        "    print(\"Performing linear regression...\")\n",
        "    # Use tqdm to show progress\n",
        "    for _ in tqdm(range(1)):  # tqdm progress bar for linear regression\n",
        "        slope, intercept = np.linalg.lstsq(A, b, rcond=None)[0]\n",
        "\n",
        "    # Generate fitted line values\n",
        "    print(\"Generating fitted line values...\")\n",
        "    log_token_counts_range = np.linspace(min(log_token_counts), max(log_token_counts), 100)\n",
        "    fitted_line = slope * log_token_counts_range + intercept\n",
        "\n",
        "    # Plotting\n",
        "    print(\"Plotting the results...\")\n",
        "    plt.figure(figsize=(10, 6))\n",
        "    plt.scatter(log_token_counts, log_vocab_sizes, s=1, alpha=0.5, label='Data points')\n",
        "    plt.plot(log_token_counts_range, fitted_line, color='red', label='Fitted line')\n",
        "    plt.xlabel('Log of Token Count')\n",
        "    plt.ylabel('Log of Vocabulary Size')\n",
        "    plt.title('Log-Log Plot of Token Count vs. Vocabulary Size')\n",
        "    plt.grid(True)\n",
        "    plt.legend()\n",
        "    plt.show()\n",
        "\n",
        "    # Return the values from the fitted line\n",
        "    return log_token_counts_range, fitted_line"
      ],
      "metadata": {
        "id": "XcbE-nFysqe9"
      },
      "execution_count": null,
      "outputs": []
    },
    {
      "cell_type": "code",
      "source": [
        "count, line = plot_log_pairs(pairs)"
      ],
      "metadata": {
        "colab": {
          "base_uri": "https://localhost:8080/",
          "height": 685
        },
        "id": "wimjEowRyIc8",
        "outputId": "54213e1c-6322-4cfd-ce80-e8691d09ce7a"
      },
      "execution_count": null,
      "outputs": [
        {
          "output_type": "stream",
          "name": "stdout",
          "text": [
            "Converting pairs to numpy arrays...\n",
            "Calculating logarithms...\n",
            "Setting up matrices for linear regression...\n",
            "Performing linear regression...\n"
          ]
        },
        {
          "output_type": "stream",
          "name": "stderr",
          "text": [
            "100%|██████████| 1/1 [00:01<00:00,  1.41s/it]\n"
          ]
        },
        {
          "output_type": "stream",
          "name": "stdout",
          "text": [
            "Generating fitted line values...\n",
            "Plotting the results...\n"
          ]
        },
        {
          "output_type": "display_data",
          "data": {
            "text/plain": [
              "<Figure size 1000x600 with 1 Axes>"
            ],
            "image/png": "[encoded data removed]"
          },
          "metadata": {}
        }
      ]
    },
    {
      "cell_type": "code",
      "source": [
        "# Chunk size\n",
        "chunk_size = 10000\n",
        "\n",
        "start = 0\n",
        "end = chunk_size\n",
        "vocab_size_list = []\n",
        "\n",
        "# Open the file\n",
        "with open(corpus_path_drive, 'r') as file:\n",
        "    text = file.read()\n",
        "\n",
        "    tokens = text.split()\n",
        "\n",
        "    while start < len(tokens):\n",
        "        chunk_tokens = tokens[start:end]\n",
        "\n",
        "        # Calculate vocabulary size for the current chunk\n",
        "        vocab_size = len(set(chunk_tokens))\n",
        "        vocab_size_list.append((f'{start + 1}-{end}', vocab_size))\n",
        "\n",
        "        start = end\n",
        "        end = start + chunk_size\n",
        "\n",
        "vocab_df = pd.DataFrame(vocab_size_list, columns=['Token Range', 'Vocabulary Size'])"
      ],
      "metadata": {
        "id": "I_M-6THB-DOK"
      },
      "execution_count": null,
      "outputs": []
    },
    {
      "cell_type": "code",
      "source": [
        "vocab_df.head(50)"
      ],
      "metadata": {
        "id": "5AbT2-1bAG9G",
        "colab": {
          "base_uri": "https://localhost:8080/",
          "height": 1000
        },
        "outputId": "3ac117b4-4057-4196-fbed-1f525ca58ffc"
      },
      "execution_count": null,
      "outputs": [
        {
          "output_type": "execute_result",
          "data": {
            "text/plain": [
              "      Token Range  Vocabulary Size\n",
              "0         1-10000             2224\n",
              "1     10001-20000             2119\n",
              "2     20001-30000             2343\n",
              "3     30001-40000             2038\n",
              "4     40001-50000             2055\n",
              "5     50001-60000             1990\n",
              "6     60001-70000             1960\n",
              "7     70001-80000             2052\n",
              "8     80001-90000             2098\n",
              "9    90001-100000             2089\n",
              "10  100001-110000             2324\n",
              "11  110001-120000             2010\n",
              "12  120001-130000             1873\n",
              "13  130001-140000             1982\n",
              "14  140001-150000             2044\n",
              "15  150001-160000             2000\n",
              "16  160001-170000             2311\n",
              "17  170001-180000             1989\n",
              "18  180001-190000             2055\n",
              "19  190001-200000             2490\n",
              "20  200001-210000             2329\n",
              "21  210001-220000             2384\n",
              "22  220001-230000             2010\n",
              "23  230001-240000             1996\n",
              "24  240001-250000             2382\n",
              "25  250001-260000             2698\n",
              "26  260001-270000             2329\n",
              "27  270001-280000             2628\n",
              "28  280001-290000             2670\n",
              "29  290001-300000             2561\n",
              "30  300001-310000             2864\n",
              "31  310001-320000             2279\n",
              "32  320001-330000             2139\n",
              "33  330001-340000             2150\n",
              "34  340001-350000             2447\n",
              "35  350001-360000             2129\n",
              "36  360001-370000             2214\n",
              "37  370001-380000             2413\n",
              "38  380001-390000             2306\n",
              "39  390001-400000             2260\n",
              "40  400001-410000             2198\n",
              "41  410001-420000             2449\n",
              "42  420001-430000             2221\n",
              "43  430001-440000             1670\n",
              "44  440001-450000             2389\n",
              "45  450001-460000             2460\n",
              "46  460001-470000             2085\n",
              "47  470001-480000             1874\n",
              "48  480001-490000             2480\n",
              "49  490001-500000             2396"
            ],
            "text/html": [
              "\n",
              "  <div id=\"df-3d3c31f9-ad72-4f7e-a56e-9ee0f3fdfc9d\" class=\"colab-df-container\">\n",
              "    <div>\n",
              "<style scoped>\n",
              "    .dataframe tbody tr th:only-of-type {\n",
              "        vertical-align: middle;\n",
              "    }\n",
              "\n",
              "    .dataframe tbody tr th {\n",
              "        vertical-align: top;\n",
              "    }\n",
              "\n",
              "    .dataframe thead th {\n",
              "        text-align: right;\n",
              "    }\n",
              "</style>\n",
              "<table border=\"1\" class=\"dataframe\">\n",
              "  <thead>\n",
              "    <tr style=\"text-align: right;\">\n",
              "      <th></th>\n",
              "      <th>Token Range</th>\n",
              "      <th>Vocabulary Size</th>\n",
              "    </tr>\n",
              "  </thead>\n",
              "  <tbody>\n",
              "    <tr>\n",
              "      <th>0</th>\n",
              "      <td>1-10000</td>\n",
              "      <td>2224</td>\n",
              "    </tr>\n",
              "    <tr>\n",
              "      <th>1</th>\n",
              "      <td>10001-20000</td>\n",
              "      <td>2119</td>\n",
              "    </tr>\n",
              "    <tr>\n",
              "      <th>2</th>\n",
              "      <td>20001-30000</td>\n",
              "      <td>2343</td>\n",
              "    </tr>\n",
              "    <tr>\n",
              "      <th>3</th>\n",
              "      <td>30001-40000</td>\n",
              "      <td>2038</td>\n",
              "    </tr>\n",
              "    <tr>\n",
              "      <th>4</th>\n",
              "      <td>40001-50000</td>\n",
              "      <td>2055</td>\n",
              "    </tr>\n",
              "    <tr>\n",
              "      <th>5</th>\n",
              "      <td>50001-60000</td>\n",
              "      <td>1990</td>\n",
              "    </tr>\n",
              "    <tr>\n",
              "      <th>6</th>\n",
              "      <td>60001-70000</td>\n",
              "      <td>1960</td>\n",
              "    </tr>\n",
              "    <tr>\n",
              "      <th>7</th>\n",
              "      <td>70001-80000</td>\n",
              "      <td>2052</td>\n",
              "    </tr>\n",
              "    <tr>\n",
              "      <th>8</th>\n",
              "      <td>80001-90000</td>\n",
              "      <td>2098</td>\n",
              "    </tr>\n",
              "    <tr>\n",
              "      <th>9</th>\n",
              "      <td>90001-100000</td>\n",
              "      <td>2089</td>\n",
              "    </tr>\n",
              "    <tr>\n",
              "      <th>10</th>\n",
              "      <td>100001-110000</td>\n",
              "      <td>2324</td>\n",
              "    </tr>\n",
              "    <tr>\n",
              "      <th>11</th>\n",
              "      <td>110001-120000</td>\n",
              "      <td>2010</td>\n",
              "    </tr>\n",
              "    <tr>\n",
              "      <th>12</th>\n",
              "      <td>120001-130000</td>\n",
              "      <td>1873</td>\n",
              "    </tr>\n",
              "    <tr>\n",
              "      <th>13</th>\n",
              "      <td>130001-140000</td>\n",
              "      <td>1982</td>\n",
              "    </tr>\n",
              "    <tr>\n",
              "      <th>14</th>\n",
              "      <td>140001-150000</td>\n",
              "      <td>2044</td>\n",
              "    </tr>\n",
              "    <tr>\n",
              "      <th>15</th>\n",
              "      <td>150001-160000</td>\n",
              "      <td>2000</td>\n",
              "    </tr>\n",
              "    <tr>\n",
              "      <th>16</th>\n",
              "      <td>160001-170000</td>\n",
              "      <td>2311</td>\n",
              "    </tr>\n",
              "    <tr>\n",
              "      <th>17</th>\n",
              "      <td>170001-180000</td>\n",
              "      <td>1989</td>\n",
              "    </tr>\n",
              "    <tr>\n",
              "      <th>18</th>\n",
              "      <td>180001-190000</td>\n",
              "      <td>2055</td>\n",
              "    </tr>\n",
              "    <tr>\n",
              "      <th>19</th>\n",
              "      <td>190001-200000</td>\n",
              "      <td>2490</td>\n",
              "    </tr>\n",
              "    <tr>\n",
              "      <th>20</th>\n",
              "      <td>200001-210000</td>\n",
              "      <td>2329</td>\n",
              "    </tr>\n",
              "    <tr>\n",
              "      <th>21</th>\n",
              "      <td>210001-220000</td>\n",
              "      <td>2384</td>\n",
              "    </tr>\n",
              "    <tr>\n",
              "      <th>22</th>\n",
              "      <td>220001-230000</td>\n",
              "      <td>2010</td>\n",
              "    </tr>\n",
              "    <tr>\n",
              "      <th>23</th>\n",
              "      <td>230001-240000</td>\n",
              "      <td>1996</td>\n",
              "    </tr>\n",
              "    <tr>\n",
              "      <th>24</th>\n",
              "      <td>240001-250000</td>\n",
              "      <td>2382</td>\n",
              "    </tr>\n",
              "    <tr>\n",
              "      <th>25</th>\n",
              "      <td>250001-260000</td>\n",
              "      <td>2698</td>\n",
              "    </tr>\n",
              "    <tr>\n",
              "      <th>26</th>\n",
              "      <td>260001-270000</td>\n",
              "      <td>2329</td>\n",
              "    </tr>\n",
              "    <tr>\n",
              "      <th>27</th>\n",
              "      <td>270001-280000</td>\n",
              "      <td>2628</td>\n",
              "    </tr>\n",
              "    <tr>\n",
              "      <th>28</th>\n",
              "      <td>280001-290000</td>\n",
              "      <td>2670</td>\n",
              "    </tr>\n",
              "    <tr>\n",
              "      <th>29</th>\n",
              "      <td>290001-300000</td>\n",
              "      <td>2561</td>\n",
              "    </tr>\n",
              "    <tr>\n",
              "      <th>30</th>\n",
              "      <td>300001-310000</td>\n",
              "      <td>2864</td>\n",
              "    </tr>\n",
              "    <tr>\n",
              "      <th>31</th>\n",
              "      <td>310001-320000</td>\n",
              "      <td>2279</td>\n",
              "    </tr>\n",
              "    <tr>\n",
              "      <th>32</th>\n",
              "      <td>320001-330000</td>\n",
              "      <td>2139</td>\n",
              "    </tr>\n",
              "    <tr>\n",
              "      <th>33</th>\n",
              "      <td>330001-340000</td>\n",
              "      <td>2150</td>\n",
              "    </tr>\n",
              "    <tr>\n",
              "      <th>34</th>\n",
              "      <td>340001-350000</td>\n",
              "      <td>2447</td>\n",
              "    </tr>\n",
              "    <tr>\n",
              "      <th>35</th>\n",
              "      <td>350001-360000</td>\n",
              "      <td>2129</td>\n",
              "    </tr>\n",
              "    <tr>\n",
              "      <th>36</th>\n",
              "      <td>360001-370000</td>\n",
              "      <td>2214</td>\n",
              "    </tr>\n",
              "    <tr>\n",
              "      <th>37</th>\n",
              "      <td>370001-380000</td>\n",
              "      <td>2413</td>\n",
              "    </tr>\n",
              "    <tr>\n",
              "      <th>38</th>\n",
              "      <td>380001-390000</td>\n",
              "      <td>2306</td>\n",
              "    </tr>\n",
              "    <tr>\n",
              "      <th>39</th>\n",
              "      <td>390001-400000</td>\n",
              "      <td>2260</td>\n",
              "    </tr>\n",
              "    <tr>\n",
              "      <th>40</th>\n",
              "      <td>400001-410000</td>\n",
              "      <td>2198</td>\n",
              "    </tr>\n",
              "    <tr>\n",
              "      <th>41</th>\n",
              "      <td>410001-420000</td>\n",
              "      <td>2449</td>\n",
              "    </tr>\n",
              "    <tr>\n",
              "      <th>42</th>\n",
              "      <td>420001-430000</td>\n",
              "      <td>2221</td>\n",
              "    </tr>\n",
              "    <tr>\n",
              "      <th>43</th>\n",
              "      <td>430001-440000</td>\n",
              "      <td>1670</td>\n",
              "    </tr>\n",
              "    <tr>\n",
              "      <th>44</th>\n",
              "      <td>440001-450000</td>\n",
              "      <td>2389</td>\n",
              "    </tr>\n",
              "    <tr>\n",
              "      <th>45</th>\n",
              "      <td>450001-460000</td>\n",
              "      <td>2460</td>\n",
              "    </tr>\n",
              "    <tr>\n",
              "      <th>46</th>\n",
              "      <td>460001-470000</td>\n",
              "      <td>2085</td>\n",
              "    </tr>\n",
              "    <tr>\n",
              "      <th>47</th>\n",
              "      <td>470001-480000</td>\n",
              "      <td>1874</td>\n",
              "    </tr>\n",
              "    <tr>\n",
              "      <th>48</th>\n",
              "      <td>480001-490000</td>\n",
              "      <td>2480</td>\n",
              "    </tr>\n",
              "    <tr>\n",
              "      <th>49</th>\n",
              "      <td>490001-500000</td>\n",
              "      <td>2396</td>\n",
              "    </tr>\n",
              "  </tbody>\n",
              "</table>\n",
              "</div>\n",
              "    <div class=\"colab-df-buttons\">\n",
              "\n",
              "  <div class=\"colab-df-container\">\n",
              "    <button class=\"colab-df-convert\" onclick=\"convertToInteractive('df-3d3c31f9-ad72-4f7e-a56e-9ee0f3fdfc9d')\"\n",
              "            title=\"Convert this dataframe to an interactive table.\"\n",
              "            style=\"display:none;\">\n",
              "\n",
              "  <svg xmlns=\"http://www.w3.org/2000/svg\" height=\"24px\" viewBox=\"0 -960 960 960\">\n",
              "    <path d=\"M120-120v-720h720v720H120Zm60-500h600v-160H180v160Zm220 220h160v-160H400v160Zm0 220h160v-160H400v160ZM180-400h160v-160H180v160Zm440 0h160v-160H620v160ZM180-180h160v-160H180v160Zm440 0h160v-160H620v160Z\"/>\n",
              "  </svg>\n",
              "    </button>\n",
              "\n",
              "  <style>\n",
              "    .colab-df-container {\n",
              "      display:flex;\n",
              "      gap: 12px;\n",
              "    }\n",
              "\n",
              "    .colab-df-convert {\n",
              "      background-color: #E8F0FE;\n",
              "      border: none;\n",
              "      border-radius: 50%;\n",
              "      cursor: pointer;\n",
              "      display: none;\n",
              "      fill: #1967D2;\n",
              "      height: 32px;\n",
              "      padding: 0 0 0 0;\n",
              "      width: 32px;\n",
              "    }\n",
              "\n",
              "    .colab-df-convert:hover {\n",
              "      background-color: #E2EBFA;\n",
              "      box-shadow: 0px 1px 2px rgba(60, 64, 67, 0.3), 0px 1px 3px 1px rgba(60, 64, 67, 0.15);\n",
              "      fill: #174EA6;\n",
              "    }\n",
              "\n",
              "    .colab-df-buttons div {\n",
              "      margin-bottom: 4px;\n",
              "    }\n",
              "\n",
              "    [theme=dark] .colab-df-convert {\n",
              "      background-color: #3B4455;\n",
              "      fill: #D2E3FC;\n",
              "    }\n",
              "\n",
              "    [theme=dark] .colab-df-convert:hover {\n",
              "      background-color: #434B5C;\n",
              "      box-shadow: 0px 1px 3px 1px rgba(0, 0, 0, 0.15);\n",
              "      filter: drop-shadow(0px 1px 2px rgba(0, 0, 0, 0.3));\n",
              "      fill: #FFFFFF;\n",
              "    }\n",
              "  </style>\n",
              "\n",
              "    <script>\n",
              "      const buttonEl =\n",
              "        document.querySelector('#df-3d3c31f9-ad72-4f7e-a56e-9ee0f3fdfc9d button.colab-df-convert');\n",
              "      buttonEl.style.display =\n",
              "        google.colab.kernel.accessAllowed ? 'block' : 'none';\n",
              "\n",
              "      async function convertToInteractive(key) {\n",
              "        const element = document.querySelector('#df-3d3c31f9-ad72-4f7e-a56e-9ee0f3fdfc9d');\n",
              "        const dataTable =\n",
              "          await google.colab.kernel.invokeFunction('convertToInteractive',\n",
              "                                                    [key], {});\n",
              "        if (!dataTable) return;\n",
              "\n",
              "        const docLinkHtml = 'Like what you see? Visit the ' +\n",
              "          '<a target=\"_blank\" href=https://colab.research.google.com/notebooks/data_table.ipynb>data table notebook</a>'\n",
              "          + ' to learn more about interactive tables.';\n",
              "        element.innerHTML = '';\n",
              "        dataTable['output_type'] = 'display_data';\n",
              "        await google.colab.output.renderOutput(dataTable, element);\n",
              "        const docLink = document.createElement('div');\n",
              "        docLink.innerHTML = docLinkHtml;\n",
              "        element.appendChild(docLink);\n",
              "      }\n",
              "    </script>\n",
              "  </div>\n",
              "\n",
              "\n",
              "<div id=\"df-cb77d522-f624-4458-a479-d5c8e7b7b695\">\n",
              "  <button class=\"colab-df-quickchart\" onclick=\"quickchart('df-cb77d522-f624-4458-a479-d5c8e7b7b695')\"\n",
              "            title=\"Suggest charts\"\n",
              "            style=\"display:none;\">\n",
              "\n",
              "<svg xmlns=\"http://www.w3.org/2000/svg\" height=\"24px\"viewBox=\"0 0 24 24\"\n",
              "     width=\"24px\">\n",
              "    <g>\n",
              "        <path d=\"M19 3H5c-1.1 0-2 .9-2 2v14c0 1.1.9 2 2 2h14c1.1 0 2-.9 2-2V5c0-1.1-.9-2-2-2zM9 17H7v-7h2v7zm4 0h-2V7h2v10zm4 0h-2v-4h2v4z\"/>\n",
              "    </g>\n",
              "</svg>\n",
              "  </button>\n",
              "\n",
              "<style>\n",
              "  .colab-df-quickchart {\n",
              "      --bg-color: #E8F0FE;\n",
              "      --fill-color: #1967D2;\n",
              "      --hover-bg-color: #E2EBFA;\n",
              "      --hover-fill-color: #174EA6;\n",
              "      --disabled-fill-color: #AAA;\n",
              "      --disabled-bg-color: #DDD;\n",
              "  }\n",
              "\n",
              "  [theme=dark] .colab-df-quickchart {\n",
              "      --bg-color: #3B4455;\n",
              "      --fill-color: #D2E3FC;\n",
              "      --hover-bg-color: #434B5C;\n",
              "      --hover-fill-color: #FFFFFF;\n",
              "      --disabled-bg-color: #3B4455;\n",
              "      --disabled-fill-color: #666;\n",
              "  }\n",
              "\n",
              "  .colab-df-quickchart {\n",
              "    background-color: var(--bg-color);\n",
              "    border: none;\n",
              "    border-radius: 50%;\n",
              "    cursor: pointer;\n",
              "    display: none;\n",
              "    fill: var(--fill-color);\n",
              "    height: 32px;\n",
              "    padding: 0;\n",
              "    width: 32px;\n",
              "  }\n",
              "\n",
              "  .colab-df-quickchart:hover {\n",
              "    background-color: var(--hover-bg-color);\n",
              "    box-shadow: 0 1px 2px rgba(60, 64, 67, 0.3), 0 1px 3px 1px rgba(60, 64, 67, 0.15);\n",
              "    fill: var(--button-hover-fill-color);\n",
              "  }\n",
              "\n",
              "  .colab-df-quickchart-complete:disabled,\n",
              "  .colab-df-quickchart-complete:disabled:hover {\n",
              "    background-color: var(--disabled-bg-color);\n",
              "    fill: var(--disabled-fill-color);\n",
              "    box-shadow: none;\n",
              "  }\n",
              "\n",
              "  .colab-df-spinner {\n",
              "    border: 2px solid var(--fill-color);\n",
              "    border-color: transparent;\n",
              "    border-bottom-color: var(--fill-color);\n",
              "    animation:\n",
              "      spin 1s steps(1) infinite;\n",
              "  }\n",
              "\n",
              "  @keyframes spin {\n",
              "    0% {\n",
              "      border-color: transparent;\n",
              "      border-bottom-color: var(--fill-color);\n",
              "      border-left-color: var(--fill-color);\n",
              "    }\n",
              "    20% {\n",
              "      border-color: transparent;\n",
              "      border-left-color: var(--fill-color);\n",
              "      border-top-color: var(--fill-color);\n",
              "    }\n",
              "    30% {\n",
              "      border-color: transparent;\n",
              "      border-left-color: var(--fill-color);\n",
              "      border-top-color: var(--fill-color);\n",
              "      border-right-color: var(--fill-color);\n",
              "    }\n",
              "    40% {\n",
              "      border-color: transparent;\n",
              "      border-right-color: var(--fill-color);\n",
              "      border-top-color: var(--fill-color);\n",
              "    }\n",
              "    60% {\n",
              "      border-color: transparent;\n",
              "      border-right-color: var(--fill-color);\n",
              "    }\n",
              "    80% {\n",
              "      border-color: transparent;\n",
              "      border-right-color: var(--fill-color);\n",
              "      border-bottom-color: var(--fill-color);\n",
              "    }\n",
              "    90% {\n",
              "      border-color: transparent;\n",
              "      border-bottom-color: var(--fill-color);\n",
              "    }\n",
              "  }\n",
              "</style>\n",
              "\n",
              "  <script>\n",
              "    async function quickchart(key) {\n",
              "      const quickchartButtonEl =\n",
              "        document.querySelector('#' + key + ' button');\n",
              "      quickchartButtonEl.disabled = true;  // To prevent multiple clicks.\n",
              "      quickchartButtonEl.classList.add('colab-df-spinner');\n",
              "      try {\n",
              "        const charts = await google.colab.kernel.invokeFunction(\n",
              "            'suggestCharts', [key], {});\n",
              "      } catch (error) {\n",
              "        console.error('Error during call to suggestCharts:', error);\n",
              "      }\n",
              "      quickchartButtonEl.classList.remove('colab-df-spinner');\n",
              "      quickchartButtonEl.classList.add('colab-df-quickchart-complete');\n",
              "    }\n",
              "    (() => {\n",
              "      let quickchartButtonEl =\n",
              "        document.querySelector('#df-cb77d522-f624-4458-a479-d5c8e7b7b695 button');\n",
              "      quickchartButtonEl.style.display =\n",
              "        google.colab.kernel.accessAllowed ? 'block' : 'none';\n",
              "    })();\n",
              "  </script>\n",
              "</div>\n",
              "\n",
              "    </div>\n",
              "  </div>\n"
            ],
            "application/vnd.google.colaboratory.intrinsic+json": {
              "type": "dataframe",
              "variable_name": "vocab_df",
              "summary": "{\n  \"name\": \"vocab_df\",\n  \"rows\": 3788,\n  \"fields\": [\n    {\n      \"column\": \"Token Range\",\n      \"properties\": {\n        \"dtype\": \"string\",\n        \"num_unique_values\": 3788,\n        \"samples\": [\n          \"15800001-15810000\",\n          \"22560001-22570000\",\n          \"2630001-2640000\"\n        ],\n        \"semantic_type\": \"\",\n        \"description\": \"\"\n      }\n    },\n    {\n      \"column\": \"Vocabulary Size\",\n      \"properties\": {\n        \"dtype\": \"number\",\n        \"std\": 292,\n        \"min\": 1,\n        \"max\": 3801,\n        \"num_unique_values\": 1109,\n        \"samples\": [\n          1918,\n          3027,\n          2586\n        ],\n        \"semantic_type\": \"\",\n        \"description\": \"\"\n      }\n    }\n  ]\n}"
            }
          },
          "metadata": {},
          "execution_count": 17
        }
      ]
    },
    {
      "cell_type": "code",
      "source": [
        "save_path = '/content/drive/MyDrive/NLP/word_frequencies.csv'\n",
        "z_df.to_csv(save_path, index=False)"
      ],
      "metadata": {
        "id": "NHIH_OQmDw6p"
      },
      "execution_count": null,
      "outputs": []
    }
  ]
}