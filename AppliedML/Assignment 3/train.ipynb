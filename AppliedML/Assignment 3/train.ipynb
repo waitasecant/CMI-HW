{
 "cells": [
  {
   "cell_type": "code",
   "execution_count": 1,
   "metadata": {},
   "outputs": [],
   "source": [
    "# Import libraries\n",
    "import numpy as np\n",
    "import pandas as pd\n",
    "from nltk.tokenize import RegexpTokenizer\n",
    "from nltk.stem.snowball import SnowballStemmer\n",
    "from sklearn.feature_extraction.text import CountVectorizer\n",
    "from sklearn.feature_extraction.text import TfidfTransformer\n",
    "from sklearn.pipeline import Pipeline\n",
    "from sklearn.metrics import accuracy_score, classification_report\n",
    "from sklearn.naive_bayes import MultinomialNB\n",
    "from sklearn.svm import SVC\n",
    "from sklearn.ensemble import GradientBoostingClassifier\n",
    "from sklearn.model_selection import train_test_split\n",
    "import joblib"
   ]
  },
  {
   "cell_type": "code",
   "execution_count": 2,
   "metadata": {},
   "outputs": [],
   "source": [
    "# Concat all data\n",
    "train = pd.read_csv('split-data/train.csv')\n",
    "validate = pd.read_csv('split-data/validate.csv')\n",
    "test = pd.read_csv('split-data/test.csv')\n",
    "df = pd.concat([train, validate, test], ignore_index=True)"
   ]
  },
  {
   "cell_type": "code",
   "execution_count": 3,
   "metadata": {},
   "outputs": [],
   "source": [
    "train, test = train_test_split(df, train_size=0.8,stratify=df.label)"
   ]
  },
  {
   "cell_type": "code",
   "execution_count": 4,
   "metadata": {},
   "outputs": [],
   "source": [
    "pipeline = Pipeline([\n",
    "        ('vectorizer', CountVectorizer(strip_accents='unicode'))])"
   ]
  },
  {
   "cell_type": "code",
   "execution_count": 5,
   "metadata": {},
   "outputs": [],
   "source": [
    "def transform_df(df, pipeline=pipeline, train=False):\n",
    "    \"\"\"Pipeline to implement vectorization and tf-idf transformation\"\"\"\n",
    "    \n",
    "    corpus = df.text.values\n",
    "    if train:\n",
    "        corpus_tfidf = pipeline.fit_transform(corpus)\n",
    "    else:\n",
    "        corpus_tfidf = pipeline.transform(corpus)\n",
    "\n",
    "    print(f'Shape of transformed matrix: {corpus_tfidf.shape}')\n",
    "    print(f'Number of non-zero: {corpus_tfidf.nnz}')\n",
    "    print(f'Sparsity: {round(100.0*corpus_tfidf.nnz/(corpus_tfidf.shape[0]*corpus_tfidf.shape[1]),3)}%\\n')\n",
    "\n",
    "    df.reset_index(drop=True, inplace=True)\n",
    "    df_transform = pd.concat([df, pd.DataFrame(corpus_tfidf.toarray())], axis=1)\n",
    "    df_transform.drop('text', axis=1, inplace=True)\n",
    "\n",
    "    return df_transform"
   ]
  },
  {
   "cell_type": "code",
   "execution_count": 6,
   "metadata": {},
   "outputs": [
    {
     "name": "stdout",
     "output_type": "stream",
     "text": [
      "Shape of transformed matrix: (4096, 7027)\n",
      "Number of non-zero: 53720\n",
      "Sparsity: 0.187%\n",
      "\n"
     ]
    }
   ],
   "source": [
    "# Transform and split the data\n",
    "df_train = transform_df(train, train=True)"
   ]
  },
  {
   "cell_type": "code",
   "execution_count": 7,
   "metadata": {},
   "outputs": [
    {
     "name": "stdout",
     "output_type": "stream",
     "text": [
      "Shape of transformed matrix: (1024, 7027)\n",
      "Number of non-zero: 12651\n",
      "Sparsity: 0.176%\n",
      "\n"
     ]
    }
   ],
   "source": [
    "df_test = transform_df(test)"
   ]
  },
  {
   "cell_type": "code",
   "execution_count": 8,
   "metadata": {},
   "outputs": [],
   "source": [
    "# Make column names string\n",
    "df_train.columns = df_train.columns.astype(str)\n",
    "df_test.columns = df_test.columns.astype(str)"
   ]
  },
  {
   "cell_type": "code",
   "execution_count": 9,
   "metadata": {},
   "outputs": [],
   "source": [
    "# Split the data into X and y\n",
    "X_train = df_train.drop('label', axis=1)\n",
    "y_train = df_train.label\n",
    "\n",
    "X_test = df_test.drop('label', axis=1)\n",
    "y_test = df_test.label"
   ]
  },
  {
   "cell_type": "code",
   "execution_count": 10,
   "metadata": {},
   "outputs": [],
   "source": [
    "def compare_models(models, X, y):\n",
    "    model_scores = []\n",
    "    for (key, value) in models.items():\n",
    "        predictions = value.predict_proba(X)[:,1]\n",
    "        predictions = np.where(predictions < 0.5, 0, 1)\n",
    "        clf_report = classification_report(y, predictions,\n",
    "                    target_names=[\"Ham\", \"Spam\"], output_dict=True,\n",
    "                    zero_division=np.nan)\n",
    "        precision = clf_report[\"Spam\"][\"precision\"]\n",
    "        recall =clf_report[\"Spam\"][\"recall\"]\n",
    "        score = accuracy_score(y, predictions)\n",
    "        model_scores.append((key, round(score,3), round(precision,3),\n",
    "                             round(recall,3), ))\n",
    "    display(pd.DataFrame(model_scores,\n",
    "    columns = [\"Model\", \"Accuracy\", \"Precision\", \"Recall\"]))"
   ]
  },
  {
   "cell_type": "code",
   "execution_count": 11,
   "metadata": {},
   "outputs": [],
   "source": [
    "nb = MultinomialNB(alpha=0.2)\n",
    "gbt = GradientBoostingClassifier(random_state=42)\n",
    "svc = SVC(probability=True, random_state=42)"
   ]
  },
  {
   "cell_type": "code",
   "execution_count": 13,
   "metadata": {},
   "outputs": [],
   "source": [
    "# Log the metrics and register the models\n",
    "models = {\n",
    "    \"Naive Bayes Classifier\": nb,\n",
    "    \"Gradient Boosting Classifier\": gbt,\n",
    "    \"Support Vector Classifier\": svc\n",
    "}\n"
   ]
  },
  {
   "cell_type": "code",
   "execution_count": 14,
   "metadata": {},
   "outputs": [],
   "source": [
    "# Train and log each model\n",
    "for name, model in models.items():\n",
    "        model.fit(X_train, y_train)"
   ]
  },
  {
   "cell_type": "code",
   "execution_count": 15,
   "metadata": {},
   "outputs": [
    {
     "data": {
      "text/html": [
       "<div>\n",
       "<style scoped>\n",
       "    .dataframe tbody tr th:only-of-type {\n",
       "        vertical-align: middle;\n",
       "    }\n",
       "\n",
       "    .dataframe tbody tr th {\n",
       "        vertical-align: top;\n",
       "    }\n",
       "\n",
       "    .dataframe thead th {\n",
       "        text-align: right;\n",
       "    }\n",
       "</style>\n",
       "<table border=\"1\" class=\"dataframe\">\n",
       "  <thead>\n",
       "    <tr style=\"text-align: right;\">\n",
       "      <th></th>\n",
       "      <th>Model</th>\n",
       "      <th>Accuracy</th>\n",
       "      <th>Precision</th>\n",
       "      <th>Recall</th>\n",
       "    </tr>\n",
       "  </thead>\n",
       "  <tbody>\n",
       "    <tr>\n",
       "      <th>0</th>\n",
       "      <td>Naive Bayes Classifier</td>\n",
       "      <td>0.982</td>\n",
       "      <td>0.948</td>\n",
       "      <td>0.902</td>\n",
       "    </tr>\n",
       "    <tr>\n",
       "      <th>1</th>\n",
       "      <td>Gradient Boosting Classifier</td>\n",
       "      <td>0.979</td>\n",
       "      <td>0.972</td>\n",
       "      <td>0.844</td>\n",
       "    </tr>\n",
       "    <tr>\n",
       "      <th>2</th>\n",
       "      <td>Support Vector Classifier</td>\n",
       "      <td>0.982</td>\n",
       "      <td>0.933</td>\n",
       "      <td>0.918</td>\n",
       "    </tr>\n",
       "  </tbody>\n",
       "</table>\n",
       "</div>"
      ],
      "text/plain": [
       "                          Model  Accuracy  Precision  Recall\n",
       "0        Naive Bayes Classifier     0.982      0.948   0.902\n",
       "1  Gradient Boosting Classifier     0.979      0.972   0.844\n",
       "2     Support Vector Classifier     0.982      0.933   0.918"
      ]
     },
     "metadata": {},
     "output_type": "display_data"
    }
   ],
   "source": [
    "compare_models(models, X_test, y_test)"
   ]
  },
  {
   "cell_type": "code",
   "execution_count": 16,
   "metadata": {},
   "outputs": [
    {
     "data": {
      "text/plain": [
       "['pipeline.pkl']"
      ]
     },
     "execution_count": 16,
     "metadata": {},
     "output_type": "execute_result"
    }
   ],
   "source": [
    "# Best performance by SVC\n",
    "joblib.dump(svc, 'svc.pkl')\n",
    "joblib.dump(pipeline, 'pipeline.pkl')"
   ]
  }
 ],
 "metadata": {
  "kernelspec": {
   "display_name": "Python 3",
   "language": "python",
   "name": "python3"
  },
  "language_info": {
   "codemirror_mode": {
    "name": "ipython",
    "version": 3
   },
   "file_extension": ".py",
   "mimetype": "text/x-python",
   "name": "python",
   "nbconvert_exporter": "python",
   "pygments_lexer": "ipython3",
   "version": "3.12.4"
  }
 },
 "nbformat": 4,
 "nbformat_minor": 2
}
