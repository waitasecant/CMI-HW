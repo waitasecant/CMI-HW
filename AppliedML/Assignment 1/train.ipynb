{
 "cells": [
  {
   "cell_type": "code",
   "execution_count": 1,
   "metadata": {},
   "outputs": [],
   "source": [
    "# Import libaries\n",
    "import numpy as np\n",
    "import pandas as pd\n",
    "import joblib\n",
    "import matplotlib.pyplot as plt\n",
    "from sklearn.metrics import accuracy_score, classification_report, confusion_matrix\n",
    "from sklearn.model_selection import GridSearchCV\n",
    "from sklearn.svm import SVC\n",
    "from sklearn.ensemble import GradientBoostingClassifier\n",
    "from sklearn.naive_bayes import MultinomialNB\n",
    "from sklearn.linear_model import LogisticRegression\n",
    "%matplotlib inline"
   ]
  },
  {
   "cell_type": "code",
   "execution_count": 2,
   "metadata": {},
   "outputs": [],
   "source": [
    "# Load the data\n",
    "train = joblib.load('data//train.pkl')\n",
    "validate = joblib.load('data//validate.pkl')\n",
    "test = joblib.load('data//test.pkl')"
   ]
  },
  {
   "cell_type": "code",
   "execution_count": 3,
   "metadata": {},
   "outputs": [],
   "source": [
    "train.columns = train.columns.astype(str)\n",
    "validate.columns = validate.columns.astype(str)\n",
    "test.columns = test.columns.astype(str)"
   ]
  },
  {
   "cell_type": "code",
   "execution_count": 4,
   "metadata": {},
   "outputs": [],
   "source": [
    "# Split the data into X and y\n",
    "X_train = train.drop('label', axis=1)\n",
    "y_train = train.label\n",
    "\n",
    "X_validate = validate.drop('label', axis=1)\n",
    "y_validate = validate.label\n",
    "\n",
    "X_test = test.drop('label', axis=1)\n",
    "y_test = test.label"
   ]
  },
  {
   "cell_type": "code",
   "execution_count": 5,
   "metadata": {},
   "outputs": [],
   "source": [
    "def evaluate(model, X, y):\n",
    "    predictions = model.predict(X)\n",
    "    score = accuracy_score(y, predictions)\n",
    "    print(f'Model Accuracy: {round(score*100,3)} %\\n')\n",
    "    cm = confusion_matrix(y, predictions)\n",
    "    print(f'Confusion Matrix:\\n{cm}\\n')\n",
    "    report = classification_report(y, predictions,\n",
    "            target_names=[\"Ham\", \"Spam\"],output_dict=True,\n",
    "            zero_division=np.nan)\n",
    "    precision = report[\"Spam\"][\"precision\"]\n",
    "    recall = report[\"Spam\"][\"recall\"]\n",
    "    print(f'Precision (Spam): {round(precision*100,3)} %')\n",
    "    print(f'Recall (Spam): {round(recall*100,3)} %')"
   ]
  },
  {
   "cell_type": "code",
   "execution_count": 6,
   "metadata": {},
   "outputs": [],
   "source": [
    "def compare_models(models, X, y):\n",
    "    model_scores = []\n",
    "    for (key, value) in models.items():\n",
    "        predictions = value.predict(X)\n",
    "        clf_report = classification_report(y, predictions,\n",
    "                    target_names=[\"Ham\", \"Spam\"], output_dict=True,\n",
    "                    zero_division=np.nan)\n",
    "        precision = clf_report[\"Spam\"][\"precision\"]\n",
    "        recall =clf_report[\"Spam\"][\"recall\"]\n",
    "        score = accuracy_score(y, predictions)\n",
    "        model_scores.append((key, round(score,3), round(precision,3),\n",
    "                             round(recall,3), ))\n",
    "    display(pd.DataFrame(model_scores,\n",
    "    columns = [\"Model\", \"Accuracy\", \"Precision\", \"Recall\"]))"
   ]
  },
  {
   "cell_type": "markdown",
   "metadata": {},
   "source": [
    "### Support Vector Classifier"
   ]
  },
  {
   "cell_type": "code",
   "execution_count": 7,
   "metadata": {},
   "outputs": [],
   "source": [
    "svc = SVC(random_state=42).fit(X_train, y_train)"
   ]
  },
  {
   "cell_type": "code",
   "execution_count": 8,
   "metadata": {},
   "outputs": [
    {
     "name": "stdout",
     "output_type": "stream",
     "text": [
      "Model Accuracy: 91.357 %\n",
      "\n",
      "Confusion Matrix:\n",
      "[[3482  127]\n",
      " [ 227  260]]\n",
      "\n",
      "Precision (Spam): 67.183 %\n",
      "Recall (Spam): 53.388 %\n"
     ]
    }
   ],
   "source": [
    "evaluate(svc, X_train, y_train)"
   ]
  },
  {
   "cell_type": "code",
   "execution_count": 9,
   "metadata": {},
   "outputs": [
    {
     "name": "stdout",
     "output_type": "stream",
     "text": [
      "Model Accuracy: 90.625 %\n",
      "\n",
      "Confusion Matrix:\n",
      "[[435  16]\n",
      " [ 32  29]]\n",
      "\n",
      "Precision (Spam): 64.444 %\n",
      "Recall (Spam): 47.541 %\n"
     ]
    }
   ],
   "source": [
    "evaluate(svc, X_validate, y_validate)"
   ]
  },
  {
   "cell_type": "markdown",
   "metadata": {},
   "source": [
    "### Gradient Boosted Trees"
   ]
  },
  {
   "cell_type": "code",
   "execution_count": 10,
   "metadata": {},
   "outputs": [],
   "source": [
    "clf = GradientBoostingClassifier(random_state=42).fit(X_train, y_train)"
   ]
  },
  {
   "cell_type": "code",
   "execution_count": 11,
   "metadata": {},
   "outputs": [
    {
     "name": "stdout",
     "output_type": "stream",
     "text": [
      "Model Accuracy: 99.17 %\n",
      "\n",
      "Confusion Matrix:\n",
      "[[3602    7]\n",
      " [  27  460]]\n",
      "\n",
      "Precision (Spam): 98.501 %\n",
      "Recall (Spam): 94.456 %\n"
     ]
    }
   ],
   "source": [
    "evaluate(clf, X_train, y_train)"
   ]
  },
  {
   "cell_type": "code",
   "execution_count": 12,
   "metadata": {},
   "outputs": [
    {
     "name": "stdout",
     "output_type": "stream",
     "text": [
      "Model Accuracy: 96.875 %\n",
      "\n",
      "Confusion Matrix:\n",
      "[[450   1]\n",
      " [ 15  46]]\n",
      "\n",
      "Precision (Spam): 97.872 %\n",
      "Recall (Spam): 75.41 %\n"
     ]
    }
   ],
   "source": [
    "evaluate(clf, X_validate, y_validate)"
   ]
  },
  {
   "cell_type": "markdown",
   "metadata": {},
   "source": [
    "### Logistic Regression"
   ]
  },
  {
   "cell_type": "code",
   "execution_count": 13,
   "metadata": {},
   "outputs": [],
   "source": [
    "reg = LogisticRegression(random_state=42).fit(X_train, y_train)"
   ]
  },
  {
   "cell_type": "code",
   "execution_count": 14,
   "metadata": {},
   "outputs": [
    {
     "name": "stdout",
     "output_type": "stream",
     "text": [
      "Model Accuracy: 97.632 %\n",
      "\n",
      "Confusion Matrix:\n",
      "[[3594   15]\n",
      " [  82  405]]\n",
      "\n",
      "Precision (Spam): 96.429 %\n",
      "Recall (Spam): 83.162 %\n"
     ]
    }
   ],
   "source": [
    "evaluate(reg, X_train, y_train)"
   ]
  },
  {
   "cell_type": "code",
   "execution_count": 15,
   "metadata": {},
   "outputs": [
    {
     "name": "stdout",
     "output_type": "stream",
     "text": [
      "Model Accuracy: 96.484 %\n",
      "\n",
      "Confusion Matrix:\n",
      "[[448   3]\n",
      " [ 15  46]]\n",
      "\n",
      "Precision (Spam): 93.878 %\n",
      "Recall (Spam): 75.41 %\n"
     ]
    }
   ],
   "source": [
    "evaluate(reg, X_validate, y_validate)"
   ]
  },
  {
   "cell_type": "code",
   "execution_count": 16,
   "metadata": {},
   "outputs": [
    {
     "data": {
      "text/html": [
       "<div>\n",
       "<style scoped>\n",
       "    .dataframe tbody tr th:only-of-type {\n",
       "        vertical-align: middle;\n",
       "    }\n",
       "\n",
       "    .dataframe tbody tr th {\n",
       "        vertical-align: top;\n",
       "    }\n",
       "\n",
       "    .dataframe thead th {\n",
       "        text-align: right;\n",
       "    }\n",
       "</style>\n",
       "<table border=\"1\" class=\"dataframe\">\n",
       "  <thead>\n",
       "    <tr style=\"text-align: right;\">\n",
       "      <th></th>\n",
       "      <th>Model</th>\n",
       "      <th>Accuracy</th>\n",
       "      <th>Precision</th>\n",
       "      <th>Recall</th>\n",
       "    </tr>\n",
       "  </thead>\n",
       "  <tbody>\n",
       "    <tr>\n",
       "      <th>0</th>\n",
       "      <td>Gradient Boosted Tree</td>\n",
       "      <td>0.975</td>\n",
       "      <td>0.929</td>\n",
       "      <td>0.852</td>\n",
       "    </tr>\n",
       "    <tr>\n",
       "      <th>1</th>\n",
       "      <td>Logistic Regression</td>\n",
       "      <td>0.973</td>\n",
       "      <td>0.943</td>\n",
       "      <td>0.820</td>\n",
       "    </tr>\n",
       "    <tr>\n",
       "      <th>2</th>\n",
       "      <td>Support Vector Classifier</td>\n",
       "      <td>0.906</td>\n",
       "      <td>0.627</td>\n",
       "      <td>0.525</td>\n",
       "    </tr>\n",
       "  </tbody>\n",
       "</table>\n",
       "</div>"
      ],
      "text/plain": [
       "                       Model  Accuracy  Precision  Recall\n",
       "0      Gradient Boosted Tree     0.975      0.929   0.852\n",
       "1        Logistic Regression     0.973      0.943   0.820\n",
       "2  Support Vector Classifier     0.906      0.627   0.525"
      ]
     },
     "metadata": {},
     "output_type": "display_data"
    }
   ],
   "source": [
    "model_list = {\n",
    "    \"Gradient Boosted Tree\" : clf,\n",
    "    \"Logistic Regression\" : reg,\n",
    "    \"Support Vector Classifier\": svc\n",
    "}\n",
    "compare_models(model_list, X_test, y_test)"
   ]
  },
  {
   "cell_type": "markdown",
   "metadata": {},
   "source": [
    "#### From the above data, the best model is Gradient Boosting Trees with an accuracy of 0.975 and precision of 0.929 and recall 0.852"
   ]
  }
 ],
 "metadata": {
  "kernelspec": {
   "display_name": "Python 3",
   "language": "python",
   "name": "python3"
  },
  "language_info": {
   "codemirror_mode": {
    "name": "ipython",
    "version": 3
   },
   "file_extension": ".py",
   "mimetype": "text/x-python",
   "name": "python",
   "nbconvert_exporter": "python",
   "pygments_lexer": "ipython3",
   "version": "3.12.4"
  }
 },
 "nbformat": 4,
 "nbformat_minor": 2
}
