{
 "cells": [
  {
   "cell_type": "code",
   "execution_count": 25,
   "metadata": {},
   "outputs": [],
   "source": [
    "# Import libaries\n",
    "import numpy as np\n",
    "import pandas as pd\n",
    "import joblib\n",
    "import matplotlib.pyplot as plt\n",
    "from sklearn.metrics import accuracy_score, classification_report, confusion_matrix\n",
    "from sklearn.model_selection import GridSearchCV\n",
    "from sklearn.svm import SVC\n",
    "from sklearn.ensemble import GradientBoostingClassifier\n",
    "from sklearn.naive_bayes import MultinomialNB\n",
    "%matplotlib inline"
   ]
  },
  {
   "cell_type": "code",
   "execution_count": 2,
   "metadata": {},
   "outputs": [],
   "source": [
    "# Load the data\n",
    "train = joblib.load('data//train.pkl')\n",
    "validate = joblib.load('data//validate.pkl')\n",
    "test = joblib.load('data//test.pkl')"
   ]
  },
  {
   "cell_type": "code",
   "execution_count": 3,
   "metadata": {},
   "outputs": [],
   "source": [
    "train.columns = train.columns.astype(str)\n",
    "validate.columns = validate.columns.astype(str)\n",
    "test.columns = test.columns.astype(str)"
   ]
  },
  {
   "cell_type": "code",
   "execution_count": 4,
   "metadata": {},
   "outputs": [],
   "source": [
    "# Split the data into X and y\n",
    "X_train = train.drop('label', axis=1)\n",
    "y_train = train.label\n",
    "\n",
    "X_validate = validate.drop('label', axis=1)\n",
    "y_validate = validate.label\n",
    "\n",
    "X_test = test.drop('label', axis=1)\n",
    "y_test = test.label"
   ]
  },
  {
   "cell_type": "code",
   "execution_count": 38,
   "metadata": {},
   "outputs": [],
   "source": [
    "def evaluate(model, X, y):\n",
    "    predictions = model.predict(X)\n",
    "    score = accuracy_score(y, predictions)\n",
    "    print(f'Model Accuracy: {round(score*100,3)} %\\n')\n",
    "    cm = confusion_matrix(y, predictions)\n",
    "    print(f'Confusion Matrix:\\n{cm}\\n')\n",
    "    report = classification_report(y, predictions,\n",
    "            target_names=[\"Spam\", \"Ham\"],output_dict=True,\n",
    "            zero_division=np.nan)\n",
    "    precision = report[\"Spam\"][\"precision\"]\n",
    "    recall = report[\"Spam\"][\"recall\"]\n",
    "    print(f'Precision (Spam): {round(precision*100,3)} %')\n",
    "    print(f'Recall (Spam): {round(recall*100,3)} %')"
   ]
  },
  {
   "cell_type": "code",
   "execution_count": 47,
   "metadata": {},
   "outputs": [],
   "source": [
    "def compare_models(models, X, y):\n",
    "    model_scores = []\n",
    "    for (key, value) in models.items():\n",
    "        predictions = value.predict(X)\n",
    "        clf_report = classification_report(y, predictions,\n",
    "                    target_names=[\"Spam\", \"Ham\"], output_dict=True,\n",
    "                    zero_division=np.nan)\n",
    "        precision = clf_report[\"Spam\"][\"precision\"]\n",
    "        recall =clf_report[\"Spam\"][\"recall\"]\n",
    "        score = accuracy_score(y, predictions)\n",
    "        model_scores.append((key, round(precision,3),\n",
    "                             round(recall,3), round(score,3)))\n",
    "    display(pd.DataFrame(model_scores,\n",
    "    columns = [\"Model\", \"Precision\", \"Recall\", \"Accuracy\"]))"
   ]
  },
  {
   "cell_type": "markdown",
   "metadata": {},
   "source": [
    "### Support Vector Classifier"
   ]
  },
  {
   "cell_type": "code",
   "execution_count": 7,
   "metadata": {},
   "outputs": [],
   "source": [
    "svc = SVC().fit(X_train, y_train)"
   ]
  },
  {
   "cell_type": "code",
   "execution_count": 8,
   "metadata": {},
   "outputs": [
    {
     "name": "stdout",
     "output_type": "stream",
     "text": [
      "Model Accuracy: 91.138 %\n",
      "Precision (Spam): 67.318 %\n",
      "Recall (Spam): 49.487 %\n"
     ]
    }
   ],
   "source": [
    "evaluate(svc, X_train, y_train)"
   ]
  },
  {
   "cell_type": "code",
   "execution_count": 9,
   "metadata": {},
   "outputs": [
    {
     "name": "stdout",
     "output_type": "stream",
     "text": [
      "Model Accuracy: 93.164 %\n",
      "Precision (Spam): 79.545 %\n",
      "Recall (Spam): 57.377 %\n"
     ]
    }
   ],
   "source": [
    "evaluate(svc, X_validate, y_validate)"
   ]
  },
  {
   "cell_type": "markdown",
   "metadata": {},
   "source": [
    "### Gradient Boosted Trees"
   ]
  },
  {
   "cell_type": "code",
   "execution_count": 10,
   "metadata": {},
   "outputs": [],
   "source": [
    "clf = GradientBoostingClassifier().fit(X_train, y_train)"
   ]
  },
  {
   "cell_type": "code",
   "execution_count": 11,
   "metadata": {},
   "outputs": [
    {
     "name": "stdout",
     "output_type": "stream",
     "text": [
      "Model Accuracy: 98.999 %\n",
      "Precision (Spam): 97.447 %\n",
      "Recall (Spam): 94.045 %\n"
     ]
    }
   ],
   "source": [
    "evaluate(clf, X_train, y_train)"
   ]
  },
  {
   "cell_type": "code",
   "execution_count": 12,
   "metadata": {},
   "outputs": [
    {
     "name": "stdout",
     "output_type": "stream",
     "text": [
      "Model Accuracy: 97.461 %\n",
      "Precision (Spam): 98.0 %\n",
      "Recall (Spam): 80.328 %\n"
     ]
    }
   ],
   "source": [
    "evaluate(clf, X_validate, y_validate)"
   ]
  },
  {
   "cell_type": "markdown",
   "metadata": {},
   "source": [
    "### Multinomial NB"
   ]
  },
  {
   "cell_type": "code",
   "execution_count": 35,
   "metadata": {},
   "outputs": [],
   "source": [
    "nb_clf = MultinomialNB().fit(X_train, y_train)"
   ]
  },
  {
   "cell_type": "code",
   "execution_count": 40,
   "metadata": {},
   "outputs": [
    {
     "name": "stdout",
     "output_type": "stream",
     "text": [
      "Model Accuracy: 88.33 %\n",
      "\n",
      "Confusion Matrix:\n",
      "[[   9  478]\n",
      " [   0 3609]]\n",
      "\n",
      "Precision (Spam): 100.0 %\n",
      "Recall (Spam): 1.848 %\n"
     ]
    }
   ],
   "source": [
    "evaluate(nb_clf, X_train, y_train)"
   ]
  },
  {
   "cell_type": "code",
   "execution_count": 39,
   "metadata": {},
   "outputs": [
    {
     "name": "stdout",
     "output_type": "stream",
     "text": [
      "Model Accuracy: 88.086 %\n",
      "\n",
      "Confusion Matrix:\n",
      "[[  0  61]\n",
      " [  0 451]]\n",
      "\n",
      "Precision (Spam): nan %\n",
      "Recall (Spam): 0.0 %\n"
     ]
    }
   ],
   "source": [
    "evaluate(nb_clf, X_test, y_test)"
   ]
  },
  {
   "cell_type": "markdown",
   "metadata": {},
   "source": [
    "### Hyperparameter Tuning"
   ]
  },
  {
   "cell_type": "code",
   "execution_count": null,
   "metadata": {},
   "outputs": [
    {
     "name": "stdout",
     "output_type": "stream",
     "text": [
      "GradientBoostingClassifier()\n",
      "{'learning_rate': 0.1}\n"
     ]
    }
   ],
   "source": [
    "param_grid = {\n",
    "    'learning_rate': [0.1, 0.01, 0.001],\n",
    "}\n",
    "gridCV = GridSearchCV(GradientBoostingClassifier(), param_grid)\n",
    "gridCV.fit(X_train, y_train)\n",
    "print(gridCV.best_estimator_)\n",
    "print(gridCV.best_params_)"
   ]
  },
  {
   "cell_type": "code",
   "execution_count": 45,
   "metadata": {},
   "outputs": [
    {
     "name": "stdout",
     "output_type": "stream",
     "text": [
      "Model Accuracy: 97.266 %\n",
      "\n",
      "Confusion Matrix:\n",
      "[[ 48  13]\n",
      " [  1 450]]\n",
      "\n",
      "Precision (Spam): 97.959 %\n",
      "Recall (Spam): 78.689 %\n"
     ]
    }
   ],
   "source": [
    "clf = gridCV.best_estimator_\n",
    "evaluate(clf, X_validate, y_validate)"
   ]
  },
  {
   "cell_type": "code",
   "execution_count": 48,
   "metadata": {},
   "outputs": [
    {
     "data": {
      "text/html": [
       "<div>\n",
       "<style scoped>\n",
       "    .dataframe tbody tr th:only-of-type {\n",
       "        vertical-align: middle;\n",
       "    }\n",
       "\n",
       "    .dataframe tbody tr th {\n",
       "        vertical-align: top;\n",
       "    }\n",
       "\n",
       "    .dataframe thead th {\n",
       "        text-align: right;\n",
       "    }\n",
       "</style>\n",
       "<table border=\"1\" class=\"dataframe\">\n",
       "  <thead>\n",
       "    <tr style=\"text-align: right;\">\n",
       "      <th></th>\n",
       "      <th>Model</th>\n",
       "      <th>Precision</th>\n",
       "      <th>Recall</th>\n",
       "      <th>Accuracy</th>\n",
       "    </tr>\n",
       "  </thead>\n",
       "  <tbody>\n",
       "    <tr>\n",
       "      <th>0</th>\n",
       "      <td>Multinomial Naive Bayes</td>\n",
       "      <td>NaN</td>\n",
       "      <td>0.000</td>\n",
       "      <td>0.881</td>\n",
       "    </tr>\n",
       "    <tr>\n",
       "      <th>1</th>\n",
       "      <td>Gradient Boosted Tree</td>\n",
       "      <td>0.957</td>\n",
       "      <td>0.721</td>\n",
       "      <td>0.963</td>\n",
       "    </tr>\n",
       "    <tr>\n",
       "      <th>2</th>\n",
       "      <td>Support Vector Classifier</td>\n",
       "      <td>0.596</td>\n",
       "      <td>0.459</td>\n",
       "      <td>0.898</td>\n",
       "    </tr>\n",
       "  </tbody>\n",
       "</table>\n",
       "</div>"
      ],
      "text/plain": [
       "                       Model  Precision  Recall  Accuracy\n",
       "0    Multinomial Naive Bayes        NaN   0.000     0.881\n",
       "1      Gradient Boosted Tree      0.957   0.721     0.963\n",
       "2  Support Vector Classifier      0.596   0.459     0.898"
      ]
     },
     "metadata": {},
     "output_type": "display_data"
    }
   ],
   "source": [
    "model_list = {\n",
    "    \"Multinomial Naive Bayes\" : nb_clf,\n",
    "    \"Gradient Boosted Tree\" : clf,\n",
    "    \"Support Vector Classifier\": svc\n",
    "}\n",
    "compare_models(model_list, X_test, y_test)"
   ]
  },
  {
   "cell_type": "markdown",
   "metadata": {},
   "source": [
    "#### From the above data, the best model is Gradient Boosting Trees with an accuracy of 0.963 and precision of 0.957"
   ]
  }
 ],
 "metadata": {
  "kernelspec": {
   "display_name": "Python 3",
   "language": "python",
   "name": "python3"
  },
  "language_info": {
   "codemirror_mode": {
    "name": "ipython",
    "version": 3
   },
   "file_extension": ".py",
   "mimetype": "text/x-python",
   "name": "python",
   "nbconvert_exporter": "python",
   "pygments_lexer": "ipython3",
   "version": "3.12.4"
  }
 },
 "nbformat": 4,
 "nbformat_minor": 2
}
