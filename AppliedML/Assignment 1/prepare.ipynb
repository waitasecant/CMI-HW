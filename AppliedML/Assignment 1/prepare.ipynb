{
 "cells": [
  {
   "cell_type": "code",
   "execution_count": 33,
   "metadata": {},
   "outputs": [],
   "source": [
    "# Import libraries\n",
    "import string\n",
    "import re\n",
    "import joblib\n",
    "import numpy as np\n",
    "import pandas as pd\n",
    "import matplotlib.pyplot as plt\n",
    "from nltk.tokenize import RegexpTokenizer\n",
    "from nltk.stem.snowball import SnowballStemmer\n",
    "from sklearn.feature_extraction.text import CountVectorizer\n",
    "from sklearn.feature_extraction.text import TfidfTransformer\n",
    "from sklearn.pipeline import Pipeline\n",
    "from sklearn.model_selection import train_test_split"
   ]
  },
  {
   "cell_type": "code",
   "execution_count": 34,
   "metadata": {},
   "outputs": [],
   "source": [
    "# Preprocess before loading into data frame\n",
    "validchars = string.ascii_letters + string.digits + '\\t .!?:()'\n",
    "\n",
    "with open('data//data.txt', 'r', encoding='utf-8') as f:\n",
    "    lines = f.readlines()\n",
    "\n",
    "processed_lines = []\n",
    "for line in lines:\n",
    "    line = line.replace('...', ' ')\n",
    "    line = line.replace('..', ' ')\n",
    "    line = line.replace(':)', ' emoji ')\n",
    "    line = line.replace(':(', ' emoji ')\n",
    "    line = line.replace(':-)', ' emoji ')\n",
    "    line = line.replace(':-(', ' emoji ')\n",
    "    line = re.sub(r'[+-]?((\\d+\\.?\\d*)|(\\.\\d+))', ' number ', line)\n",
    "    line = re.sub(r'[$£]+', ' currency ', line)\n",
    "    line = ''.join(c for c in line if c in validchars)\n",
    "    if line.startswith('spam'):\n",
    "        parts = line.split('spam\\t')\n",
    "        if len(parts) == 2:\n",
    "            text = parts[1]\n",
    "            text = re.sub(r'\\s+', ' ', text)\n",
    "            processed_line = f\"{text.strip()}\" + \",0\\n\"\n",
    "            processed_lines.append(processed_line) \n",
    "        else:\n",
    "            print(f\"Error: {line}\")    \n",
    "\n",
    "    elif line.startswith('ham'):\n",
    "        parts = line.split('ham\\t')\n",
    "        if len(parts) == 2:\n",
    "            text = parts[1]\n",
    "            text = re.sub(r'\\s+', ' ', text)\n",
    "            processed_line = f\"{text.strip()}\" + \",1\\n\"\n",
    "            processed_lines.append(processed_line)\n",
    "        else:\n",
    "            print(f\"Error: {line}\")\n",
    "    else:\n",
    "        processed_lines.append(line)\n",
    "        print(f\"Error: {line}\")\n",
    "\n",
    "with open('data//processed_data.csv', 'w', encoding='utf-8') as f:\n",
    "    f.write(\"text,label\\n\")\n",
    "    f.writelines(processed_lines)"
   ]
  },
  {
   "cell_type": "code",
   "execution_count": 35,
   "metadata": {},
   "outputs": [],
   "source": [
    "# Read the data\n",
    "df = pd.read_csv('data//processed_data.csv')"
   ]
  },
  {
   "cell_type": "code",
   "execution_count": 36,
   "metadata": {},
   "outputs": [
    {
     "name": "stdout",
     "output_type": "stream",
     "text": [
      "(5574, 2)\n"
     ]
    },
    {
     "data": {
      "text/html": [
       "<div>\n",
       "<style scoped>\n",
       "    .dataframe tbody tr th:only-of-type {\n",
       "        vertical-align: middle;\n",
       "    }\n",
       "\n",
       "    .dataframe tbody tr th {\n",
       "        vertical-align: top;\n",
       "    }\n",
       "\n",
       "    .dataframe thead th {\n",
       "        text-align: right;\n",
       "    }\n",
       "</style>\n",
       "<table border=\"1\" class=\"dataframe\">\n",
       "  <thead>\n",
       "    <tr style=\"text-align: right;\">\n",
       "      <th></th>\n",
       "      <th>text</th>\n",
       "      <th>label</th>\n",
       "    </tr>\n",
       "  </thead>\n",
       "  <tbody>\n",
       "    <tr>\n",
       "      <th>5564</th>\n",
       "      <td>Ok lor Sony ericsson salesman I ask shuhui the...</td>\n",
       "      <td>1</td>\n",
       "    </tr>\n",
       "    <tr>\n",
       "      <th>5565</th>\n",
       "      <td>Ard number like dat lor.</td>\n",
       "      <td>1</td>\n",
       "    </tr>\n",
       "    <tr>\n",
       "      <th>5566</th>\n",
       "      <td>Why dont you wait til at least wednesday to se...</td>\n",
       "      <td>1</td>\n",
       "    </tr>\n",
       "    <tr>\n",
       "      <th>5567</th>\n",
       "      <td>Huh y lei</td>\n",
       "      <td>1</td>\n",
       "    </tr>\n",
       "    <tr>\n",
       "      <th>5568</th>\n",
       "      <td>REMINDER FROM O number : To get number pounds ...</td>\n",
       "      <td>0</td>\n",
       "    </tr>\n",
       "    <tr>\n",
       "      <th>5569</th>\n",
       "      <td>This is the number nd time we have tried numbe...</td>\n",
       "      <td>0</td>\n",
       "    </tr>\n",
       "    <tr>\n",
       "      <th>5570</th>\n",
       "      <td>Will b going to esplanade fr home?</td>\n",
       "      <td>1</td>\n",
       "    </tr>\n",
       "    <tr>\n",
       "      <th>5571</th>\n",
       "      <td>Pity was in mood for that. So any other sugges...</td>\n",
       "      <td>1</td>\n",
       "    </tr>\n",
       "    <tr>\n",
       "      <th>5572</th>\n",
       "      <td>The guy did some bitching but I acted like id ...</td>\n",
       "      <td>1</td>\n",
       "    </tr>\n",
       "    <tr>\n",
       "      <th>5573</th>\n",
       "      <td>Rofl. Its true to its name</td>\n",
       "      <td>1</td>\n",
       "    </tr>\n",
       "  </tbody>\n",
       "</table>\n",
       "</div>"
      ],
      "text/plain": [
       "                                                   text  label\n",
       "5564  Ok lor Sony ericsson salesman I ask shuhui the...      1\n",
       "5565                           Ard number like dat lor.      1\n",
       "5566  Why dont you wait til at least wednesday to se...      1\n",
       "5567                                          Huh y lei      1\n",
       "5568  REMINDER FROM O number : To get number pounds ...      0\n",
       "5569  This is the number nd time we have tried numbe...      0\n",
       "5570                 Will b going to esplanade fr home?      1\n",
       "5571  Pity was in mood for that. So any other sugges...      1\n",
       "5572  The guy did some bitching but I acted like id ...      1\n",
       "5573                         Rofl. Its true to its name      1"
      ]
     },
     "execution_count": 36,
     "metadata": {},
     "output_type": "execute_result"
    }
   ],
   "source": [
    "# Display 10 random rows\n",
    "print(df.shape)\n",
    "df.tail(10)"
   ]
  },
  {
   "cell_type": "code",
   "execution_count": 37,
   "metadata": {},
   "outputs": [
    {
     "name": "stdout",
     "output_type": "stream",
     "text": [
      "454\n"
     ]
    },
    {
     "data": {
      "text/html": [
       "<div>\n",
       "<style scoped>\n",
       "    .dataframe tbody tr th:only-of-type {\n",
       "        vertical-align: middle;\n",
       "    }\n",
       "\n",
       "    .dataframe tbody tr th {\n",
       "        vertical-align: top;\n",
       "    }\n",
       "\n",
       "    .dataframe thead tr th {\n",
       "        text-align: left;\n",
       "    }\n",
       "\n",
       "    .dataframe thead tr:last-of-type th {\n",
       "        text-align: right;\n",
       "    }\n",
       "</style>\n",
       "<table border=\"1\" class=\"dataframe\">\n",
       "  <thead>\n",
       "    <tr>\n",
       "      <th></th>\n",
       "      <th colspan=\"4\" halign=\"left\">text</th>\n",
       "    </tr>\n",
       "    <tr>\n",
       "      <th></th>\n",
       "      <th>count</th>\n",
       "      <th>unique</th>\n",
       "      <th>top</th>\n",
       "      <th>freq</th>\n",
       "    </tr>\n",
       "    <tr>\n",
       "      <th>label</th>\n",
       "      <th></th>\n",
       "      <th></th>\n",
       "      <th></th>\n",
       "      <th></th>\n",
       "    </tr>\n",
       "  </thead>\n",
       "  <tbody>\n",
       "    <tr>\n",
       "      <th>0</th>\n",
       "      <td>747</td>\n",
       "      <td>609</td>\n",
       "      <td>PRIVATE! Your number Account Statement for sho...</td>\n",
       "      <td>4</td>\n",
       "    </tr>\n",
       "    <tr>\n",
       "      <th>1</th>\n",
       "      <td>4827</td>\n",
       "      <td>4511</td>\n",
       "      <td>Sorry Ill call later</td>\n",
       "      <td>30</td>\n",
       "    </tr>\n",
       "  </tbody>\n",
       "</table>\n",
       "</div>"
      ],
      "text/plain": [
       "       text                                                               \n",
       "      count unique                                                top freq\n",
       "label                                                                     \n",
       "0       747    609  PRIVATE! Your number Account Statement for sho...    4\n",
       "1      4827   4511                               Sorry Ill call later   30"
      ]
     },
     "execution_count": 37,
     "metadata": {},
     "output_type": "execute_result"
    }
   ],
   "source": [
    "# There are duplicated rows which may lead to data leakage\n",
    "# shall drop them as well\n",
    "print(df.duplicated().sum())\n",
    "df.groupby('label').describe()"
   ]
  },
  {
   "cell_type": "code",
   "execution_count": 38,
   "metadata": {},
   "outputs": [
    {
     "name": "stdout",
     "output_type": "stream",
     "text": [
      "(5120, 2)\n"
     ]
    },
    {
     "data": {
      "text/html": [
       "<div>\n",
       "<style scoped>\n",
       "    .dataframe tbody tr th:only-of-type {\n",
       "        vertical-align: middle;\n",
       "    }\n",
       "\n",
       "    .dataframe tbody tr th {\n",
       "        vertical-align: top;\n",
       "    }\n",
       "\n",
       "    .dataframe thead th {\n",
       "        text-align: right;\n",
       "    }\n",
       "</style>\n",
       "<table border=\"1\" class=\"dataframe\">\n",
       "  <thead>\n",
       "    <tr style=\"text-align: right;\">\n",
       "      <th></th>\n",
       "      <th>text</th>\n",
       "      <th>label</th>\n",
       "    </tr>\n",
       "  </thead>\n",
       "  <tbody>\n",
       "    <tr>\n",
       "      <th>5110</th>\n",
       "      <td>Ok lor Sony ericsson salesman I ask shuhui the...</td>\n",
       "      <td>1</td>\n",
       "    </tr>\n",
       "    <tr>\n",
       "      <th>5111</th>\n",
       "      <td>Ard number like dat lor.</td>\n",
       "      <td>1</td>\n",
       "    </tr>\n",
       "    <tr>\n",
       "      <th>5112</th>\n",
       "      <td>Why dont you wait til at least wednesday to se...</td>\n",
       "      <td>1</td>\n",
       "    </tr>\n",
       "    <tr>\n",
       "      <th>5113</th>\n",
       "      <td>Huh y lei</td>\n",
       "      <td>1</td>\n",
       "    </tr>\n",
       "    <tr>\n",
       "      <th>5114</th>\n",
       "      <td>REMINDER FROM O number : To get number pounds ...</td>\n",
       "      <td>0</td>\n",
       "    </tr>\n",
       "    <tr>\n",
       "      <th>5115</th>\n",
       "      <td>This is the number nd time we have tried numbe...</td>\n",
       "      <td>0</td>\n",
       "    </tr>\n",
       "    <tr>\n",
       "      <th>5116</th>\n",
       "      <td>Will b going to esplanade fr home?</td>\n",
       "      <td>1</td>\n",
       "    </tr>\n",
       "    <tr>\n",
       "      <th>5117</th>\n",
       "      <td>Pity was in mood for that. So any other sugges...</td>\n",
       "      <td>1</td>\n",
       "    </tr>\n",
       "    <tr>\n",
       "      <th>5118</th>\n",
       "      <td>The guy did some bitching but I acted like id ...</td>\n",
       "      <td>1</td>\n",
       "    </tr>\n",
       "    <tr>\n",
       "      <th>5119</th>\n",
       "      <td>Rofl. Its true to its name</td>\n",
       "      <td>1</td>\n",
       "    </tr>\n",
       "  </tbody>\n",
       "</table>\n",
       "</div>"
      ],
      "text/plain": [
       "                                                   text  label\n",
       "5110  Ok lor Sony ericsson salesman I ask shuhui the...      1\n",
       "5111                           Ard number like dat lor.      1\n",
       "5112  Why dont you wait til at least wednesday to se...      1\n",
       "5113                                          Huh y lei      1\n",
       "5114  REMINDER FROM O number : To get number pounds ...      0\n",
       "5115  This is the number nd time we have tried numbe...      0\n",
       "5116                 Will b going to esplanade fr home?      1\n",
       "5117  Pity was in mood for that. So any other sugges...      1\n",
       "5118  The guy did some bitching but I acted like id ...      1\n",
       "5119                         Rofl. Its true to its name      1"
      ]
     },
     "execution_count": 38,
     "metadata": {},
     "output_type": "execute_result"
    }
   ],
   "source": [
    "df.drop_duplicates(inplace=True, ignore_index=True) # Drop duplicate rows\n",
    "print(df.shape)\n",
    "df.tail(10)"
   ]
  },
  {
   "cell_type": "code",
   "execution_count": 39,
   "metadata": {},
   "outputs": [
    {
     "data": {
      "text/html": [
       "<div>\n",
       "<style scoped>\n",
       "    .dataframe tbody tr th:only-of-type {\n",
       "        vertical-align: middle;\n",
       "    }\n",
       "\n",
       "    .dataframe tbody tr th {\n",
       "        vertical-align: top;\n",
       "    }\n",
       "\n",
       "    .dataframe thead tr th {\n",
       "        text-align: left;\n",
       "    }\n",
       "\n",
       "    .dataframe thead tr:last-of-type th {\n",
       "        text-align: right;\n",
       "    }\n",
       "</style>\n",
       "<table border=\"1\" class=\"dataframe\">\n",
       "  <thead>\n",
       "    <tr>\n",
       "      <th></th>\n",
       "      <th colspan=\"4\" halign=\"left\">text</th>\n",
       "    </tr>\n",
       "    <tr>\n",
       "      <th></th>\n",
       "      <th>count</th>\n",
       "      <th>unique</th>\n",
       "      <th>top</th>\n",
       "      <th>freq</th>\n",
       "    </tr>\n",
       "    <tr>\n",
       "      <th>label</th>\n",
       "      <th></th>\n",
       "      <th></th>\n",
       "      <th></th>\n",
       "      <th></th>\n",
       "    </tr>\n",
       "  </thead>\n",
       "  <tbody>\n",
       "    <tr>\n",
       "      <th>0</th>\n",
       "      <td>609</td>\n",
       "      <td>609</td>\n",
       "      <td>Free entry in number a wkly comp to win FA Cup...</td>\n",
       "      <td>1</td>\n",
       "    </tr>\n",
       "    <tr>\n",
       "      <th>1</th>\n",
       "      <td>4511</td>\n",
       "      <td>4511</td>\n",
       "      <td>Go until jurong point crazy Available only in ...</td>\n",
       "      <td>1</td>\n",
       "    </tr>\n",
       "  </tbody>\n",
       "</table>\n",
       "</div>"
      ],
      "text/plain": [
       "       text                                                               \n",
       "      count unique                                                top freq\n",
       "label                                                                     \n",
       "0       609    609  Free entry in number a wkly comp to win FA Cup...    1\n",
       "1      4511   4511  Go until jurong point crazy Available only in ...    1"
      ]
     },
     "execution_count": 39,
     "metadata": {},
     "output_type": "execute_result"
    }
   ],
   "source": [
    "df.groupby('label').describe()"
   ]
  },
  {
   "cell_type": "code",
   "execution_count": 40,
   "metadata": {},
   "outputs": [],
   "source": [
    "# Calculate the length of each text\n",
    "df['length'] = df['text'].map(lambda text: len(text))"
   ]
  },
  {
   "cell_type": "code",
   "execution_count": 41,
   "metadata": {},
   "outputs": [
    {
     "data": {
      "image/png": "[encoded data removed]",
      "text/plain": [
       "<Figure size 1000x300 with 2 Axes>"
      ]
     },
     "metadata": {},
     "output_type": "display_data"
    }
   ],
   "source": [
    "# Distribution of length of text for spam and ham\n",
    "df.hist(column='length', by='label', bins=20, figsize=(10,3))\n",
    "plt.show()"
   ]
  },
  {
   "cell_type": "code",
   "execution_count": 42,
   "metadata": {},
   "outputs": [],
   "source": [
    "def tokenize_and_stem(text):\n",
    "    \"\"\"Tokenize and stem the text\"\"\"\n",
    "    tokenizer = RegexpTokenizer(r'\\w+')\n",
    "    snow_stemmer = SnowballStemmer(language='english')\n",
    "    words = tokenizer.tokenize(text)\n",
    "    stemmed_words = []\n",
    "    for w in words:\n",
    "        if len(w) < 2:\n",
    "            continue\n",
    "        stemmed_words.append(snow_stemmer.stem(w))\n",
    "    return stemmed_words"
   ]
  },
  {
   "cell_type": "code",
   "execution_count": 43,
   "metadata": {},
   "outputs": [],
   "source": [
    "# Pipeline to implement vectorization and tf-idf transformation\n",
    "pipeline = Pipeline([\n",
    "    ('vectorizer', CountVectorizer(analyzer=tokenize_and_stem)),\n",
    "    ('tfidf', TfidfTransformer())\n",
    "])\n",
    "corpus = df.text\n",
    "pipeline.fit(corpus)\n",
    "corpus_tfidf = pipeline.transform(corpus)"
   ]
  },
  {
   "cell_type": "code",
   "execution_count": 44,
   "metadata": {},
   "outputs": [
    {
     "name": "stdout",
     "output_type": "stream",
     "text": [
      "Shape of transformed matrix: (5120, 6632)\n",
      "Number of non-zero: 67057\n",
      "Sparsity: 0.197%\n"
     ]
    }
   ],
   "source": [
    "print(f'Shape of transformed matrix: {corpus_tfidf.shape}')\n",
    "print(f'Number of non-zero: {corpus_tfidf.nnz}')\n",
    "print(f'Sparsity: {round(100.0*corpus_tfidf.nnz/(corpus_tfidf.shape[0]*corpus_tfidf.shape[1]),3)}%')"
   ]
  },
  {
   "cell_type": "code",
   "execution_count": 45,
   "metadata": {},
   "outputs": [],
   "source": [
    "df_transform = pd.concat([df, pd.DataFrame(corpus_tfidf.toarray())], axis=1)\n",
    "df_transform.drop('text', axis=1, inplace=True)"
   ]
  },
  {
   "cell_type": "code",
   "execution_count": 46,
   "metadata": {},
   "outputs": [],
   "source": [
    "# Train, validate and test split\n",
    "train, remainder = train_test_split(df_transform, train_size=0.8,stratify=df_transform.label)\n",
    "validate, test = train_test_split(remainder, train_size=0.5, stratify=remainder.label)"
   ]
  },
  {
   "cell_type": "code",
   "execution_count": 47,
   "metadata": {},
   "outputs": [],
   "source": [
    "# Reset index\n",
    "train.reset_index(drop=True, inplace=True)\n",
    "validate.reset_index(drop=True, inplace=True)\n",
    "test.reset_index(drop=True, inplace=True)"
   ]
  },
  {
   "cell_type": "code",
   "execution_count": 48,
   "metadata": {},
   "outputs": [
    {
     "data": {
      "text/plain": [
       "['data//test.pkl']"
      ]
     },
     "execution_count": 48,
     "metadata": {},
     "output_type": "execute_result"
    }
   ],
   "source": [
    "# Dump the data\n",
    "joblib.dump(train, 'data//train.pkl')\n",
    "joblib.dump(validate, 'data//validate.pkl')\n",
    "joblib.dump(test, 'data//test.pkl')"
   ]
  }
 ],
 "metadata": {
  "kernelspec": {
   "display_name": "Python 3",
   "language": "python",
   "name": "python3"
  },
  "language_info": {
   "codemirror_mode": {
    "name": "ipython",
    "version": 3
   },
   "file_extension": ".py",
   "mimetype": "text/x-python",
   "name": "python",
   "nbconvert_exporter": "python",
   "pygments_lexer": "ipython3",
   "version": "3.12.4"
  }
 },
 "nbformat": 4,
 "nbformat_minor": 2
}
