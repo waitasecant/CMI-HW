{
 "cells": [
  {
   "cell_type": "code",
   "execution_count": 57,
   "metadata": {},
   "outputs": [],
   "source": [
    "# Importing modules\n",
    "import pandas as pd\n",
    "import numpy as np\n",
    "import matplotlib.pyplot as plt\n",
    "from sklearn import tree\n",
    "from sklearn.ensemble import RandomForestClassifier\n",
    "from sklearn.tree import DecisionTreeClassifier, DecisionTreeRegressor\n",
    "from sklearn.linear_model import LinearRegression\n",
    "from sklearn.metrics import confusion_matrix, mean_absolute_error\n",
    "from sklearn.model_selection import train_test_split\n",
    "from sklearn.model_selection import GridSearchCV\n",
    "from sklearn.preprocessing import OneHotEncoder"
   ]
  },
  {
   "cell_type": "code",
   "execution_count": 28,
   "metadata": {},
   "outputs": [
    {
     "data": {
      "text/html": [
       "<div>\n",
       "<style scoped>\n",
       "    .dataframe tbody tr th:only-of-type {\n",
       "        vertical-align: middle;\n",
       "    }\n",
       "\n",
       "    .dataframe tbody tr th {\n",
       "        vertical-align: top;\n",
       "    }\n",
       "\n",
       "    .dataframe thead th {\n",
       "        text-align: right;\n",
       "    }\n",
       "</style>\n",
       "<table border=\"1\" class=\"dataframe\">\n",
       "  <thead>\n",
       "    <tr style=\"text-align: right;\">\n",
       "      <th></th>\n",
       "      <th>Branch</th>\n",
       "      <th>CustomerType</th>\n",
       "      <th>Gender</th>\n",
       "      <th>ProductType</th>\n",
       "      <th>UnitPrice</th>\n",
       "      <th>Quantity</th>\n",
       "      <th>Tax</th>\n",
       "      <th>Total</th>\n",
       "      <th>PaymentType</th>\n",
       "      <th>Rating</th>\n",
       "    </tr>\n",
       "  </thead>\n",
       "  <tbody>\n",
       "    <tr>\n",
       "      <th>0</th>\n",
       "      <td>A</td>\n",
       "      <td>Member</td>\n",
       "      <td>Female</td>\n",
       "      <td>Health and beauty</td>\n",
       "      <td>74.69</td>\n",
       "      <td>7</td>\n",
       "      <td>26.1415</td>\n",
       "      <td>548.9715</td>\n",
       "      <td>UPI</td>\n",
       "      <td>9.1</td>\n",
       "    </tr>\n",
       "    <tr>\n",
       "      <th>1</th>\n",
       "      <td>C</td>\n",
       "      <td>Normal</td>\n",
       "      <td>Female</td>\n",
       "      <td>Electronic accessories</td>\n",
       "      <td>15.28</td>\n",
       "      <td>5</td>\n",
       "      <td>3.8200</td>\n",
       "      <td>80.2200</td>\n",
       "      <td>Cash</td>\n",
       "      <td>9.6</td>\n",
       "    </tr>\n",
       "    <tr>\n",
       "      <th>2</th>\n",
       "      <td>A</td>\n",
       "      <td>Normal</td>\n",
       "      <td>Male</td>\n",
       "      <td>Home and lifestyle</td>\n",
       "      <td>46.33</td>\n",
       "      <td>7</td>\n",
       "      <td>16.2155</td>\n",
       "      <td>340.5255</td>\n",
       "      <td>Credit card</td>\n",
       "      <td>7.4</td>\n",
       "    </tr>\n",
       "    <tr>\n",
       "      <th>3</th>\n",
       "      <td>A</td>\n",
       "      <td>Member</td>\n",
       "      <td>Male</td>\n",
       "      <td>Health and beauty</td>\n",
       "      <td>58.22</td>\n",
       "      <td>8</td>\n",
       "      <td>23.2880</td>\n",
       "      <td>489.0480</td>\n",
       "      <td>UPI</td>\n",
       "      <td>8.4</td>\n",
       "    </tr>\n",
       "    <tr>\n",
       "      <th>4</th>\n",
       "      <td>A</td>\n",
       "      <td>Normal</td>\n",
       "      <td>Male</td>\n",
       "      <td>Sports and travel</td>\n",
       "      <td>86.31</td>\n",
       "      <td>7</td>\n",
       "      <td>30.2085</td>\n",
       "      <td>634.3785</td>\n",
       "      <td>UPI</td>\n",
       "      <td>5.3</td>\n",
       "    </tr>\n",
       "  </tbody>\n",
       "</table>\n",
       "</div>"
      ],
      "text/plain": [
       "  Branch CustomerType  Gender             ProductType  UnitPrice  Quantity  \\\n",
       "0      A       Member  Female       Health and beauty      74.69         7   \n",
       "1      C       Normal  Female  Electronic accessories      15.28         5   \n",
       "2      A       Normal    Male      Home and lifestyle      46.33         7   \n",
       "3      A       Member    Male       Health and beauty      58.22         8   \n",
       "4      A       Normal    Male       Sports and travel      86.31         7   \n",
       "\n",
       "       Tax     Total  PaymentType  Rating  \n",
       "0  26.1415  548.9715          UPI     9.1  \n",
       "1   3.8200   80.2200         Cash     9.6  \n",
       "2  16.2155  340.5255  Credit card     7.4  \n",
       "3  23.2880  489.0480          UPI     8.4  \n",
       "4  30.2085  634.3785          UPI     5.3  "
      ]
     },
     "execution_count": 28,
     "metadata": {},
     "output_type": "execute_result"
    }
   ],
   "source": [
    "# Reading the dataset to dataframe\n",
    "# Dropping the InvoiceID column\n",
    "df = pd.read_csv('supermarket-sales-data.csv')\n",
    "df.drop(columns = ['InvoiceID'], axis = 1, inplace = True)\n",
    "df.head()"
   ]
  },
  {
   "cell_type": "code",
   "execution_count": 29,
   "metadata": {},
   "outputs": [
    {
     "data": {
      "text/plain": [
       "(array(['A', 'C', 'B'], dtype=object),\n",
       " Branch\n",
       " A    340\n",
       " B    332\n",
       " C    328\n",
       " Name: count, dtype: int64)"
      ]
     },
     "execution_count": 29,
     "metadata": {},
     "output_type": "execute_result"
    }
   ],
   "source": [
    "df['Branch'].unique(), df['Branch'].value_counts()"
   ]
  },
  {
   "cell_type": "code",
   "execution_count": 30,
   "metadata": {},
   "outputs": [
    {
     "data": {
      "text/plain": [
       "(array(['Member', 'Normal'], dtype=object),\n",
       " CustomerType\n",
       " Member    501\n",
       " Normal    499\n",
       " Name: count, dtype: int64)"
      ]
     },
     "execution_count": 30,
     "metadata": {},
     "output_type": "execute_result"
    }
   ],
   "source": [
    "df['CustomerType'].unique(), df['CustomerType'].value_counts()"
   ]
  },
  {
   "cell_type": "code",
   "execution_count": 31,
   "metadata": {},
   "outputs": [
    {
     "data": {
      "text/plain": [
       "(array(['Health and beauty', 'Electronic accessories',\n",
       "        'Home and lifestyle', 'Sports and travel', 'Food and beverages',\n",
       "        'Fashion accessories'], dtype=object),\n",
       " ProductType\n",
       " Fashion accessories       178\n",
       " Food and beverages        174\n",
       " Electronic accessories    170\n",
       " Sports and travel         166\n",
       " Home and lifestyle        160\n",
       " Health and beauty         152\n",
       " Name: count, dtype: int64)"
      ]
     },
     "execution_count": 31,
     "metadata": {},
     "output_type": "execute_result"
    }
   ],
   "source": [
    "df['ProductType'].unique(), df['ProductType'].value_counts()"
   ]
  },
  {
   "cell_type": "code",
   "execution_count": 32,
   "metadata": {},
   "outputs": [
    {
     "data": {
      "text/plain": [
       "(array(['UPI', 'Cash', 'Credit card'], dtype=object),\n",
       " PaymentType\n",
       " UPI            345\n",
       " Cash           344\n",
       " Credit card    311\n",
       " Name: count, dtype: int64)"
      ]
     },
     "execution_count": 32,
     "metadata": {},
     "output_type": "execute_result"
    }
   ],
   "source": [
    "df['PaymentType'].unique(), df['PaymentType'].value_counts()"
   ]
  },
  {
   "cell_type": "code",
   "execution_count": 51,
   "metadata": {},
   "outputs": [
    {
     "data": {
      "text/plain": [
       "<matplotlib.collections.PathCollection at 0x1bfe913a720>"
      ]
     },
     "execution_count": 51,
     "metadata": {},
     "output_type": "execute_result"
    },
    {
     "data": {
      "image/png": "[encoded data removed]",
      "text/plain": [
       "<Figure size 640x480 with 1 Axes>"
      ]
     },
     "metadata": {},
     "output_type": "display_data"
    }
   ],
   "source": [
    "import matplotlib.pyplot as plt\n",
    "plt.scatter(df['Rating'], df['Total'])"
   ]
  },
  {
   "cell_type": "markdown",
   "metadata": {},
   "source": [
    "#### For Gender"
   ]
  },
  {
   "cell_type": "code",
   "execution_count": 33,
   "metadata": {},
   "outputs": [],
   "source": [
    "temp = df.copy()\n",
    "ohe = OneHotEncoder(sparse_output=False)\n",
    "X_ohe = ohe.fit_transform(temp.iloc[:,[0,1,3,8]])\n",
    "ohe_df = pd.DataFrame(data = X_ohe, columns=ohe.get_feature_names_out())"
   ]
  },
  {
   "cell_type": "code",
   "execution_count": 34,
   "metadata": {},
   "outputs": [
    {
     "data": {
      "text/html": [
       "<div>\n",
       "<style scoped>\n",
       "    .dataframe tbody tr th:only-of-type {\n",
       "        vertical-align: middle;\n",
       "    }\n",
       "\n",
       "    .dataframe tbody tr th {\n",
       "        vertical-align: top;\n",
       "    }\n",
       "\n",
       "    .dataframe thead th {\n",
       "        text-align: right;\n",
       "    }\n",
       "</style>\n",
       "<table border=\"1\" class=\"dataframe\">\n",
       "  <thead>\n",
       "    <tr style=\"text-align: right;\">\n",
       "      <th></th>\n",
       "      <th>Branch_A</th>\n",
       "      <th>Branch_B</th>\n",
       "      <th>Branch_C</th>\n",
       "      <th>CustomerType_Member</th>\n",
       "      <th>CustomerType_Normal</th>\n",
       "      <th>ProductType_Electronic accessories</th>\n",
       "      <th>ProductType_Fashion accessories</th>\n",
       "      <th>ProductType_Food and beverages</th>\n",
       "      <th>ProductType_Health and beauty</th>\n",
       "      <th>ProductType_Home and lifestyle</th>\n",
       "      <th>ProductType_Sports and travel</th>\n",
       "      <th>PaymentType_Cash</th>\n",
       "      <th>PaymentType_Credit card</th>\n",
       "      <th>PaymentType_UPI</th>\n",
       "      <th>UnitPrice</th>\n",
       "      <th>Quantity</th>\n",
       "      <th>Tax</th>\n",
       "      <th>Total</th>\n",
       "      <th>Rating</th>\n",
       "      <th>Gender</th>\n",
       "    </tr>\n",
       "  </thead>\n",
       "  <tbody>\n",
       "    <tr>\n",
       "      <th>0</th>\n",
       "      <td>1.0</td>\n",
       "      <td>0.0</td>\n",
       "      <td>0.0</td>\n",
       "      <td>1.0</td>\n",
       "      <td>0.0</td>\n",
       "      <td>0.0</td>\n",
       "      <td>0.0</td>\n",
       "      <td>0.0</td>\n",
       "      <td>1.0</td>\n",
       "      <td>0.0</td>\n",
       "      <td>0.0</td>\n",
       "      <td>0.0</td>\n",
       "      <td>0.0</td>\n",
       "      <td>1.0</td>\n",
       "      <td>74.69</td>\n",
       "      <td>7</td>\n",
       "      <td>26.1415</td>\n",
       "      <td>548.9715</td>\n",
       "      <td>9.1</td>\n",
       "      <td>Female</td>\n",
       "    </tr>\n",
       "    <tr>\n",
       "      <th>1</th>\n",
       "      <td>0.0</td>\n",
       "      <td>0.0</td>\n",
       "      <td>1.0</td>\n",
       "      <td>0.0</td>\n",
       "      <td>1.0</td>\n",
       "      <td>1.0</td>\n",
       "      <td>0.0</td>\n",
       "      <td>0.0</td>\n",
       "      <td>0.0</td>\n",
       "      <td>0.0</td>\n",
       "      <td>0.0</td>\n",
       "      <td>1.0</td>\n",
       "      <td>0.0</td>\n",
       "      <td>0.0</td>\n",
       "      <td>15.28</td>\n",
       "      <td>5</td>\n",
       "      <td>3.8200</td>\n",
       "      <td>80.2200</td>\n",
       "      <td>9.6</td>\n",
       "      <td>Female</td>\n",
       "    </tr>\n",
       "    <tr>\n",
       "      <th>2</th>\n",
       "      <td>1.0</td>\n",
       "      <td>0.0</td>\n",
       "      <td>0.0</td>\n",
       "      <td>0.0</td>\n",
       "      <td>1.0</td>\n",
       "      <td>0.0</td>\n",
       "      <td>0.0</td>\n",
       "      <td>0.0</td>\n",
       "      <td>0.0</td>\n",
       "      <td>1.0</td>\n",
       "      <td>0.0</td>\n",
       "      <td>0.0</td>\n",
       "      <td>1.0</td>\n",
       "      <td>0.0</td>\n",
       "      <td>46.33</td>\n",
       "      <td>7</td>\n",
       "      <td>16.2155</td>\n",
       "      <td>340.5255</td>\n",
       "      <td>7.4</td>\n",
       "      <td>Male</td>\n",
       "    </tr>\n",
       "    <tr>\n",
       "      <th>3</th>\n",
       "      <td>1.0</td>\n",
       "      <td>0.0</td>\n",
       "      <td>0.0</td>\n",
       "      <td>1.0</td>\n",
       "      <td>0.0</td>\n",
       "      <td>0.0</td>\n",
       "      <td>0.0</td>\n",
       "      <td>0.0</td>\n",
       "      <td>1.0</td>\n",
       "      <td>0.0</td>\n",
       "      <td>0.0</td>\n",
       "      <td>0.0</td>\n",
       "      <td>0.0</td>\n",
       "      <td>1.0</td>\n",
       "      <td>58.22</td>\n",
       "      <td>8</td>\n",
       "      <td>23.2880</td>\n",
       "      <td>489.0480</td>\n",
       "      <td>8.4</td>\n",
       "      <td>Male</td>\n",
       "    </tr>\n",
       "    <tr>\n",
       "      <th>4</th>\n",
       "      <td>1.0</td>\n",
       "      <td>0.0</td>\n",
       "      <td>0.0</td>\n",
       "      <td>0.0</td>\n",
       "      <td>1.0</td>\n",
       "      <td>0.0</td>\n",
       "      <td>0.0</td>\n",
       "      <td>0.0</td>\n",
       "      <td>0.0</td>\n",
       "      <td>0.0</td>\n",
       "      <td>1.0</td>\n",
       "      <td>0.0</td>\n",
       "      <td>0.0</td>\n",
       "      <td>1.0</td>\n",
       "      <td>86.31</td>\n",
       "      <td>7</td>\n",
       "      <td>30.2085</td>\n",
       "      <td>634.3785</td>\n",
       "      <td>5.3</td>\n",
       "      <td>Male</td>\n",
       "    </tr>\n",
       "  </tbody>\n",
       "</table>\n",
       "</div>"
      ],
      "text/plain": [
       "   Branch_A  Branch_B  Branch_C  CustomerType_Member  CustomerType_Normal  \\\n",
       "0       1.0       0.0       0.0                  1.0                  0.0   \n",
       "1       0.0       0.0       1.0                  0.0                  1.0   \n",
       "2       1.0       0.0       0.0                  0.0                  1.0   \n",
       "3       1.0       0.0       0.0                  1.0                  0.0   \n",
       "4       1.0       0.0       0.0                  0.0                  1.0   \n",
       "\n",
       "   ProductType_Electronic accessories  ProductType_Fashion accessories  \\\n",
       "0                                 0.0                              0.0   \n",
       "1                                 1.0                              0.0   \n",
       "2                                 0.0                              0.0   \n",
       "3                                 0.0                              0.0   \n",
       "4                                 0.0                              0.0   \n",
       "\n",
       "   ProductType_Food and beverages  ProductType_Health and beauty  \\\n",
       "0                             0.0                            1.0   \n",
       "1                             0.0                            0.0   \n",
       "2                             0.0                            0.0   \n",
       "3                             0.0                            1.0   \n",
       "4                             0.0                            0.0   \n",
       "\n",
       "   ProductType_Home and lifestyle  ProductType_Sports and travel  \\\n",
       "0                             0.0                            0.0   \n",
       "1                             0.0                            0.0   \n",
       "2                             1.0                            0.0   \n",
       "3                             0.0                            0.0   \n",
       "4                             0.0                            1.0   \n",
       "\n",
       "   PaymentType_Cash  PaymentType_Credit card  PaymentType_UPI  UnitPrice  \\\n",
       "0               0.0                      0.0              1.0      74.69   \n",
       "1               1.0                      0.0              0.0      15.28   \n",
       "2               0.0                      1.0              0.0      46.33   \n",
       "3               0.0                      0.0              1.0      58.22   \n",
       "4               0.0                      0.0              1.0      86.31   \n",
       "\n",
       "   Quantity      Tax     Total  Rating  Gender  \n",
       "0         7  26.1415  548.9715     9.1  Female  \n",
       "1         5   3.8200   80.2200     9.6  Female  \n",
       "2         7  16.2155  340.5255     7.4    Male  \n",
       "3         8  23.2880  489.0480     8.4    Male  \n",
       "4         7  30.2085  634.3785     5.3    Male  "
      ]
     },
     "execution_count": 34,
     "metadata": {},
     "output_type": "execute_result"
    }
   ],
   "source": [
    "df_gender = pd.concat([ohe_df, temp.iloc[:,[4,5,6,7,9,2]]] , axis = 1)\n",
    "df_gender.head()"
   ]
  },
  {
   "cell_type": "code",
   "execution_count": 35,
   "metadata": {},
   "outputs": [],
   "source": [
    "# Splitting data into train and test\n",
    "X_train, X_test, y_train, y_test = train_test_split(\n",
    "    df_gender.iloc[:,:-1], df_gender.iloc[:,-1], test_size=0.3, random_state=680)"
   ]
  },
  {
   "cell_type": "code",
   "execution_count": 36,
   "metadata": {},
   "outputs": [
    {
     "name": "stdout",
     "output_type": "stream",
     "text": [
      "{'criterion': 'gini', 'max_depth': 10} \n",
      "\n",
      "Confusion Matrix:\n",
      "[[65 90]\n",
      " [51 94]]\n",
      "\n",
      "Overall accuracy: 0.53\n",
      "Precision : 0.511\n",
      "Recall : 0.648\n"
     ]
    }
   ],
   "source": [
    "# GridSearch Decision Tree Model\n",
    "# TN is {0,0}, FN is {1,0}, TP {1,1} and FP {0,1}\n",
    "\n",
    "clf1 = DecisionTreeClassifier(random_state = 1)\n",
    "params = {\n",
    "    'criterion':['gini', 'entropy', 'log_loss'],\n",
    "    'max_depth':[3,4,5,6,7,8,9,10]\n",
    "}\n",
    "newclf1 = GridSearchCV(clf1, params, cv=5, n_jobs=-1)\n",
    "newclf1.fit(X_train, y_train)\n",
    "y_pred = newclf1.predict(X_test)\n",
    "newconfmat = confusion_matrix(y_test, y_pred)\n",
    "print(newclf1.best_params_,'\\n')\n",
    "print(f'Confusion Matrix:\\n{newconfmat}\\n')\n",
    "\n",
    "tn, fp, fn, tp = newconfmat.ravel()\n",
    "precision1 = round(tp/(tp+fp),3)\n",
    "recall1 = round(tp/(tp+fn),3)\n",
    "accuracy1= round((tp+tn)/(tp+tn+fp+fn),3)\n",
    "print(f'Overall accuracy: {accuracy1}\\nPrecision : {precision1}\\nRecall : {recall1}')"
   ]
  },
  {
   "cell_type": "code",
   "execution_count": 40,
   "metadata": {},
   "outputs": [
    {
     "name": "stdout",
     "output_type": "stream",
     "text": [
      "{'criterion': 'entropy', 'max_features': None, 'n_estimators': 200} \n",
      "\n",
      "Confusion Matrix:\n",
      "[[71 84]\n",
      " [62 83]]\n",
      "\n",
      "Overall accuracy: 0.513\n",
      "Precision : 0.497\n",
      "Recall : 0.572\n"
     ]
    }
   ],
   "source": [
    "# GridSearch Random Forest Model\n",
    "# TN is {0,0}, FN is {1,0}, TP {1,1} and FP {0,1}\n",
    "\n",
    "clf2 = RandomForestClassifier(random_state = 680)\n",
    "params = {\n",
    "    'n_estimators':[50,100,200,500],\n",
    "    'criterion':['gini', 'entropy', 'log_loss'],\n",
    "    'max_features':['sqrt', 'log2', None]\n",
    "}\n",
    "newclf2 = GridSearchCV(clf2, params, cv=5, n_jobs=-1)\n",
    "newclf2.fit(X_train, y_train)\n",
    "y_pred = newclf2.predict(X_test)\n",
    "newconfmat = confusion_matrix(y_test, y_pred)\n",
    "print(newclf2.best_params_,'\\n')\n",
    "print(f'Confusion Matrix:\\n{newconfmat}\\n')\n",
    "\n",
    "tn, fp, fn, tp = newconfmat.ravel()\n",
    "precision2 = round(tp/(tp+fp),3)\n",
    "recall2 = round(tp/(tp+fn),3)\n",
    "accuracy2= round((tp+tn)/(tp+tn+fp+fn),3)\n",
    "print(f'Overall accuracy: {accuracy2}\\nPrecision : {precision2}\\nRecall : {recall2}')"
   ]
  },
  {
   "cell_type": "code",
   "execution_count": 41,
   "metadata": {},
   "outputs": [],
   "source": [
    "data1 = [['DecisionTreeClassifier', newclf1.best_params_, accuracy1, precision1, recall1],\n",
    "        ['RandomForestClassifier', newclf2.best_params_, accuracy2, precision2, recall2]]"
   ]
  },
  {
   "cell_type": "code",
   "execution_count": 42,
   "metadata": {},
   "outputs": [
    {
     "data": {
      "text/html": [
       "<div>\n",
       "<style scoped>\n",
       "    .dataframe tbody tr th:only-of-type {\n",
       "        vertical-align: middle;\n",
       "    }\n",
       "\n",
       "    .dataframe tbody tr th {\n",
       "        vertical-align: top;\n",
       "    }\n",
       "\n",
       "    .dataframe thead th {\n",
       "        text-align: right;\n",
       "    }\n",
       "</style>\n",
       "<table border=\"1\" class=\"dataframe\">\n",
       "  <thead>\n",
       "    <tr style=\"text-align: right;\">\n",
       "      <th></th>\n",
       "      <th>Model</th>\n",
       "      <th>Parameters</th>\n",
       "      <th>Overall accuracy</th>\n",
       "      <th>Precision</th>\n",
       "      <th>Recall</th>\n",
       "    </tr>\n",
       "  </thead>\n",
       "  <tbody>\n",
       "    <tr>\n",
       "      <th>0</th>\n",
       "      <td>DecisionTreeClassifier</td>\n",
       "      <td>{'criterion': 'gini', 'max_depth': 10}</td>\n",
       "      <td>0.530</td>\n",
       "      <td>0.511</td>\n",
       "      <td>0.648</td>\n",
       "    </tr>\n",
       "    <tr>\n",
       "      <th>1</th>\n",
       "      <td>RandomForestClassifier</td>\n",
       "      <td>{'criterion': 'entropy', 'max_features': None,...</td>\n",
       "      <td>0.513</td>\n",
       "      <td>0.497</td>\n",
       "      <td>0.572</td>\n",
       "    </tr>\n",
       "  </tbody>\n",
       "</table>\n",
       "</div>"
      ],
      "text/plain": [
       "                    Model                                         Parameters  \\\n",
       "0  DecisionTreeClassifier             {'criterion': 'gini', 'max_depth': 10}   \n",
       "1  RandomForestClassifier  {'criterion': 'entropy', 'max_features': None,...   \n",
       "\n",
       "   Overall accuracy  Precision  Recall  \n",
       "0             0.530      0.511   0.648  \n",
       "1             0.513      0.497   0.572  "
      ]
     },
     "execution_count": 42,
     "metadata": {},
     "output_type": "execute_result"
    }
   ],
   "source": [
    "report1 = pd.DataFrame(data1, columns= ['Model', 'Parameters', 'Overall accuracy', 'Precision', 'Recall'])\n",
    "report1"
   ]
  },
  {
   "cell_type": "markdown",
   "metadata": {},
   "source": [
    "#### For Rating"
   ]
  },
  {
   "cell_type": "code",
   "execution_count": 63,
   "metadata": {},
   "outputs": [
    {
     "data": {
      "text/html": [
       "<div>\n",
       "<style scoped>\n",
       "    .dataframe tbody tr th:only-of-type {\n",
       "        vertical-align: middle;\n",
       "    }\n",
       "\n",
       "    .dataframe tbody tr th {\n",
       "        vertical-align: top;\n",
       "    }\n",
       "\n",
       "    .dataframe thead th {\n",
       "        text-align: right;\n",
       "    }\n",
       "</style>\n",
       "<table border=\"1\" class=\"dataframe\">\n",
       "  <thead>\n",
       "    <tr style=\"text-align: right;\">\n",
       "      <th></th>\n",
       "      <th>Branch_A</th>\n",
       "      <th>Branch_B</th>\n",
       "      <th>Branch_C</th>\n",
       "      <th>CustomerType_Member</th>\n",
       "      <th>CustomerType_Normal</th>\n",
       "      <th>Gender_Female</th>\n",
       "      <th>Gender_Male</th>\n",
       "      <th>ProductType_Electronic accessories</th>\n",
       "      <th>ProductType_Fashion accessories</th>\n",
       "      <th>ProductType_Food and beverages</th>\n",
       "      <th>...</th>\n",
       "      <th>ProductType_Home and lifestyle</th>\n",
       "      <th>ProductType_Sports and travel</th>\n",
       "      <th>PaymentType_Cash</th>\n",
       "      <th>PaymentType_Credit card</th>\n",
       "      <th>PaymentType_UPI</th>\n",
       "      <th>UnitPrice</th>\n",
       "      <th>Quantity</th>\n",
       "      <th>Tax</th>\n",
       "      <th>Total</th>\n",
       "      <th>Rating</th>\n",
       "    </tr>\n",
       "  </thead>\n",
       "  <tbody>\n",
       "    <tr>\n",
       "      <th>0</th>\n",
       "      <td>1.0</td>\n",
       "      <td>0.0</td>\n",
       "      <td>0.0</td>\n",
       "      <td>1.0</td>\n",
       "      <td>0.0</td>\n",
       "      <td>1.0</td>\n",
       "      <td>0.0</td>\n",
       "      <td>0.0</td>\n",
       "      <td>0.0</td>\n",
       "      <td>0.0</td>\n",
       "      <td>...</td>\n",
       "      <td>0.0</td>\n",
       "      <td>0.0</td>\n",
       "      <td>0.0</td>\n",
       "      <td>0.0</td>\n",
       "      <td>1.0</td>\n",
       "      <td>74.69</td>\n",
       "      <td>7</td>\n",
       "      <td>26.1415</td>\n",
       "      <td>548.9715</td>\n",
       "      <td>9.1</td>\n",
       "    </tr>\n",
       "    <tr>\n",
       "      <th>1</th>\n",
       "      <td>0.0</td>\n",
       "      <td>0.0</td>\n",
       "      <td>1.0</td>\n",
       "      <td>0.0</td>\n",
       "      <td>1.0</td>\n",
       "      <td>1.0</td>\n",
       "      <td>0.0</td>\n",
       "      <td>1.0</td>\n",
       "      <td>0.0</td>\n",
       "      <td>0.0</td>\n",
       "      <td>...</td>\n",
       "      <td>0.0</td>\n",
       "      <td>0.0</td>\n",
       "      <td>1.0</td>\n",
       "      <td>0.0</td>\n",
       "      <td>0.0</td>\n",
       "      <td>15.28</td>\n",
       "      <td>5</td>\n",
       "      <td>3.8200</td>\n",
       "      <td>80.2200</td>\n",
       "      <td>9.6</td>\n",
       "    </tr>\n",
       "    <tr>\n",
       "      <th>2</th>\n",
       "      <td>1.0</td>\n",
       "      <td>0.0</td>\n",
       "      <td>0.0</td>\n",
       "      <td>0.0</td>\n",
       "      <td>1.0</td>\n",
       "      <td>0.0</td>\n",
       "      <td>1.0</td>\n",
       "      <td>0.0</td>\n",
       "      <td>0.0</td>\n",
       "      <td>0.0</td>\n",
       "      <td>...</td>\n",
       "      <td>1.0</td>\n",
       "      <td>0.0</td>\n",
       "      <td>0.0</td>\n",
       "      <td>1.0</td>\n",
       "      <td>0.0</td>\n",
       "      <td>46.33</td>\n",
       "      <td>7</td>\n",
       "      <td>16.2155</td>\n",
       "      <td>340.5255</td>\n",
       "      <td>7.4</td>\n",
       "    </tr>\n",
       "    <tr>\n",
       "      <th>3</th>\n",
       "      <td>1.0</td>\n",
       "      <td>0.0</td>\n",
       "      <td>0.0</td>\n",
       "      <td>1.0</td>\n",
       "      <td>0.0</td>\n",
       "      <td>0.0</td>\n",
       "      <td>1.0</td>\n",
       "      <td>0.0</td>\n",
       "      <td>0.0</td>\n",
       "      <td>0.0</td>\n",
       "      <td>...</td>\n",
       "      <td>0.0</td>\n",
       "      <td>0.0</td>\n",
       "      <td>0.0</td>\n",
       "      <td>0.0</td>\n",
       "      <td>1.0</td>\n",
       "      <td>58.22</td>\n",
       "      <td>8</td>\n",
       "      <td>23.2880</td>\n",
       "      <td>489.0480</td>\n",
       "      <td>8.4</td>\n",
       "    </tr>\n",
       "    <tr>\n",
       "      <th>4</th>\n",
       "      <td>1.0</td>\n",
       "      <td>0.0</td>\n",
       "      <td>0.0</td>\n",
       "      <td>0.0</td>\n",
       "      <td>1.0</td>\n",
       "      <td>0.0</td>\n",
       "      <td>1.0</td>\n",
       "      <td>0.0</td>\n",
       "      <td>0.0</td>\n",
       "      <td>0.0</td>\n",
       "      <td>...</td>\n",
       "      <td>0.0</td>\n",
       "      <td>1.0</td>\n",
       "      <td>0.0</td>\n",
       "      <td>0.0</td>\n",
       "      <td>1.0</td>\n",
       "      <td>86.31</td>\n",
       "      <td>7</td>\n",
       "      <td>30.2085</td>\n",
       "      <td>634.3785</td>\n",
       "      <td>5.3</td>\n",
       "    </tr>\n",
       "  </tbody>\n",
       "</table>\n",
       "<p>5 rows × 21 columns</p>\n",
       "</div>"
      ],
      "text/plain": [
       "   Branch_A  Branch_B  Branch_C  CustomerType_Member  CustomerType_Normal  \\\n",
       "0       1.0       0.0       0.0                  1.0                  0.0   \n",
       "1       0.0       0.0       1.0                  0.0                  1.0   \n",
       "2       1.0       0.0       0.0                  0.0                  1.0   \n",
       "3       1.0       0.0       0.0                  1.0                  0.0   \n",
       "4       1.0       0.0       0.0                  0.0                  1.0   \n",
       "\n",
       "   Gender_Female  Gender_Male  ProductType_Electronic accessories  \\\n",
       "0            1.0          0.0                                 0.0   \n",
       "1            1.0          0.0                                 1.0   \n",
       "2            0.0          1.0                                 0.0   \n",
       "3            0.0          1.0                                 0.0   \n",
       "4            0.0          1.0                                 0.0   \n",
       "\n",
       "   ProductType_Fashion accessories  ProductType_Food and beverages  ...  \\\n",
       "0                              0.0                             0.0  ...   \n",
       "1                              0.0                             0.0  ...   \n",
       "2                              0.0                             0.0  ...   \n",
       "3                              0.0                             0.0  ...   \n",
       "4                              0.0                             0.0  ...   \n",
       "\n",
       "   ProductType_Home and lifestyle  ProductType_Sports and travel  \\\n",
       "0                             0.0                            0.0   \n",
       "1                             0.0                            0.0   \n",
       "2                             1.0                            0.0   \n",
       "3                             0.0                            0.0   \n",
       "4                             0.0                            1.0   \n",
       "\n",
       "   PaymentType_Cash  PaymentType_Credit card  PaymentType_UPI  UnitPrice  \\\n",
       "0               0.0                      0.0              1.0      74.69   \n",
       "1               1.0                      0.0              0.0      15.28   \n",
       "2               0.0                      1.0              0.0      46.33   \n",
       "3               0.0                      0.0              1.0      58.22   \n",
       "4               0.0                      0.0              1.0      86.31   \n",
       "\n",
       "   Quantity      Tax     Total  Rating  \n",
       "0         7  26.1415  548.9715     9.1  \n",
       "1         5   3.8200   80.2200     9.6  \n",
       "2         7  16.2155  340.5255     7.4  \n",
       "3         8  23.2880  489.0480     8.4  \n",
       "4         7  30.2085  634.3785     5.3  \n",
       "\n",
       "[5 rows x 21 columns]"
      ]
     },
     "execution_count": 63,
     "metadata": {},
     "output_type": "execute_result"
    }
   ],
   "source": [
    "temp = df.copy()\n",
    "ohe = OneHotEncoder(sparse_output=False)\n",
    "X_ohe = ohe.fit_transform(temp.iloc[:,[0,1,2,3,8]])\n",
    "ohe_df = pd.DataFrame(data = X_ohe, columns=ohe.get_feature_names_out())\n",
    "df_rating = pd.concat([ohe_df, temp.iloc[:,[4,5,6,7,9]]] , axis = 1)\n",
    "df_rating.head()"
   ]
  },
  {
   "cell_type": "code",
   "execution_count": 64,
   "metadata": {},
   "outputs": [],
   "source": [
    "# Splitting data into train and test\n",
    "X_train, X_test, y_train, y_test = train_test_split(\n",
    "    df_rating.iloc[:,:-1], df_rating.iloc[:,-1], test_size=0.3, random_state=680)"
   ]
  },
  {
   "cell_type": "code",
   "execution_count": 65,
   "metadata": {},
   "outputs": [
    {
     "name": "stdout",
     "output_type": "stream",
     "text": [
      "{'criterion': 'squared_error', 'max_depth': 1} \n",
      "\n",
      "Mean Absolute Error: 1.516\n",
      "\n"
     ]
    }
   ],
   "source": [
    "# GridSearch Decision Tree Model\n",
    "\n",
    "reg1 = DecisionTreeRegressor(random_state = 1)\n",
    "params = {\n",
    "    'criterion':['squared_error', 'absolute_error', 'poisson'],\n",
    "    'max_depth':[1,2,3,4,5,6,7,8,9,10]\n",
    "}\n",
    "newreg1 = GridSearchCV(reg1, params, cv=5, n_jobs=-1)\n",
    "newreg1.fit(X_train, y_train)\n",
    "y_pred = newreg1.predict(X_test)\n",
    "mae1 = round(mean_absolute_error(y_test, y_pred),3)\n",
    "print(newreg1.best_params_,'\\n')\n",
    "print(f'Mean Absolute Error: {mae1}\\n')"
   ]
  },
  {
   "cell_type": "code",
   "execution_count": 66,
   "metadata": {},
   "outputs": [
    {
     "data": {
      "image/png": "[encoded data removed]",
      "text/plain": [
       "<Figure size 800x400 with 1 Axes>"
      ]
     },
     "metadata": {},
     "output_type": "display_data"
    }
   ],
   "source": [
    "fig = plt.figure(figsize=(8, 4))\n",
    "_ = tree.plot_tree(\n",
    "    newreg1.best_estimator_,\n",
    "    feature_names=X_train.columns,\n",
    "    filled=True,\n",
    "    rounded=True,\n",
    "    proportion=True,\n",
    ")"
   ]
  },
  {
   "cell_type": "code",
   "execution_count": 67,
   "metadata": {},
   "outputs": [
    {
     "name": "stdout",
     "output_type": "stream",
     "text": [
      "Mean Absolute Error: 1.526\n",
      "\n"
     ]
    }
   ],
   "source": [
    "# Default Linear Regression Model\n",
    "\n",
    "reg2 = LinearRegression()\n",
    "reg2.fit(X_train, y_train)\n",
    "y_pred = reg2.predict(X_test)\n",
    "mae2 = round(mean_absolute_error(y_test, y_pred),3)\n",
    "print(f'Mean Absolute Error: {mae2}\\n')"
   ]
  },
  {
   "cell_type": "code",
   "execution_count": 68,
   "metadata": {},
   "outputs": [],
   "source": [
    "data2 = [['DecisionTreeRegressor', newreg1.best_params_, mae1],['LinearRegression', 'Default', mae2]]"
   ]
  },
  {
   "cell_type": "code",
   "execution_count": 69,
   "metadata": {},
   "outputs": [
    {
     "data": {
      "text/html": [
       "<div>\n",
       "<style scoped>\n",
       "    .dataframe tbody tr th:only-of-type {\n",
       "        vertical-align: middle;\n",
       "    }\n",
       "\n",
       "    .dataframe tbody tr th {\n",
       "        vertical-align: top;\n",
       "    }\n",
       "\n",
       "    .dataframe thead th {\n",
       "        text-align: right;\n",
       "    }\n",
       "</style>\n",
       "<table border=\"1\" class=\"dataframe\">\n",
       "  <thead>\n",
       "    <tr style=\"text-align: right;\">\n",
       "      <th></th>\n",
       "      <th>Model</th>\n",
       "      <th>Parameters</th>\n",
       "      <th>MAE</th>\n",
       "    </tr>\n",
       "  </thead>\n",
       "  <tbody>\n",
       "    <tr>\n",
       "      <th>0</th>\n",
       "      <td>DecisionTreeRegressor</td>\n",
       "      <td>{'criterion': 'squared_error', 'max_depth': 1}</td>\n",
       "      <td>1.516</td>\n",
       "    </tr>\n",
       "    <tr>\n",
       "      <th>1</th>\n",
       "      <td>LinearRegression</td>\n",
       "      <td>Default</td>\n",
       "      <td>1.526</td>\n",
       "    </tr>\n",
       "  </tbody>\n",
       "</table>\n",
       "</div>"
      ],
      "text/plain": [
       "                   Model                                      Parameters  \\\n",
       "0  DecisionTreeRegressor  {'criterion': 'squared_error', 'max_depth': 1}   \n",
       "1       LinearRegression                                         Default   \n",
       "\n",
       "     MAE  \n",
       "0  1.516  \n",
       "1  1.526  "
      ]
     },
     "execution_count": 69,
     "metadata": {},
     "output_type": "execute_result"
    }
   ],
   "source": [
    "report2 = pd.DataFrame(data2, columns= ['Model', 'Parameters', 'MAE'])\n",
    "report2"
   ]
  }
 ],
 "metadata": {
  "kernelspec": {
   "display_name": "Python 3",
   "language": "python",
   "name": "python3"
  },
  "language_info": {
   "codemirror_mode": {
    "name": "ipython",
    "version": 3
   },
   "file_extension": ".py",
   "mimetype": "text/x-python",
   "name": "python",
   "nbconvert_exporter": "python",
   "pygments_lexer": "ipython3",
   "version": "3.12.1"
  }
 },
 "nbformat": 4,
 "nbformat_minor": 2
}
