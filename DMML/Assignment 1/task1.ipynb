{
 "cells": [
  {
   "cell_type": "markdown",
   "metadata": {},
   "source": [
    "#### Preprocessing"
   ]
  },
  {
   "cell_type": "code",
   "execution_count": 17,
   "metadata": {},
   "outputs": [],
   "source": [
    "# Importing modules\n",
    "import pandas as pd\n",
    "from sklearn.preprocessing import LabelEncoder\n",
    "from sklearn.ensemble import AdaBoostClassifier, RandomForestClassifier\n",
    "from sklearn.metrics import confusion_matrix\n",
    "from sklearn.model_selection import train_test_split\n",
    "from sklearn.model_selection import GridSearchCV"
   ]
  },
  {
   "cell_type": "code",
   "execution_count": 18,
   "metadata": {},
   "outputs": [
    {
     "data": {
      "text/html": [
       "<div>\n",
       "<style scoped>\n",
       "    .dataframe tbody tr th:only-of-type {\n",
       "        vertical-align: middle;\n",
       "    }\n",
       "\n",
       "    .dataframe tbody tr th {\n",
       "        vertical-align: top;\n",
       "    }\n",
       "\n",
       "    .dataframe thead th {\n",
       "        text-align: right;\n",
       "    }\n",
       "</style>\n",
       "<table border=\"1\" class=\"dataframe\">\n",
       "  <thead>\n",
       "    <tr style=\"text-align: right;\">\n",
       "      <th></th>\n",
       "      <th>CustomerID</th>\n",
       "      <th>Age</th>\n",
       "      <th>Gender</th>\n",
       "      <th>AnnualIncome</th>\n",
       "      <th>TotalSpend</th>\n",
       "      <th>YearsAsCustomer</th>\n",
       "      <th>NumOfPurchases</th>\n",
       "      <th>AvgTransactionAmount</th>\n",
       "      <th>NumOfReturns</th>\n",
       "      <th>NumOfSupportQueries</th>\n",
       "      <th>SatisfactionScore</th>\n",
       "      <th>LastPurchaseDaysAgo</th>\n",
       "      <th>EmailOptIn</th>\n",
       "      <th>PromotionResponse</th>\n",
       "      <th>Churn</th>\n",
       "    </tr>\n",
       "  </thead>\n",
       "  <tbody>\n",
       "    <tr>\n",
       "      <th>0</th>\n",
       "      <td>1</td>\n",
       "      <td>62</td>\n",
       "      <td>Other</td>\n",
       "      <td>45.15</td>\n",
       "      <td>5892.58</td>\n",
       "      <td>5</td>\n",
       "      <td>22</td>\n",
       "      <td>453.80</td>\n",
       "      <td>2</td>\n",
       "      <td>0</td>\n",
       "      <td>3</td>\n",
       "      <td>129</td>\n",
       "      <td>True</td>\n",
       "      <td>Responded</td>\n",
       "      <td>True</td>\n",
       "    </tr>\n",
       "    <tr>\n",
       "      <th>1</th>\n",
       "      <td>2</td>\n",
       "      <td>65</td>\n",
       "      <td>Male</td>\n",
       "      <td>79.51</td>\n",
       "      <td>9025.47</td>\n",
       "      <td>13</td>\n",
       "      <td>77</td>\n",
       "      <td>22.90</td>\n",
       "      <td>2</td>\n",
       "      <td>2</td>\n",
       "      <td>3</td>\n",
       "      <td>227</td>\n",
       "      <td>False</td>\n",
       "      <td>Responded</td>\n",
       "      <td>False</td>\n",
       "    </tr>\n",
       "    <tr>\n",
       "      <th>2</th>\n",
       "      <td>3</td>\n",
       "      <td>18</td>\n",
       "      <td>Male</td>\n",
       "      <td>29.19</td>\n",
       "      <td>618.83</td>\n",
       "      <td>13</td>\n",
       "      <td>71</td>\n",
       "      <td>50.53</td>\n",
       "      <td>5</td>\n",
       "      <td>2</td>\n",
       "      <td>2</td>\n",
       "      <td>283</td>\n",
       "      <td>False</td>\n",
       "      <td>Responded</td>\n",
       "      <td>True</td>\n",
       "    </tr>\n",
       "    <tr>\n",
       "      <th>3</th>\n",
       "      <td>4</td>\n",
       "      <td>21</td>\n",
       "      <td>Other</td>\n",
       "      <td>79.63</td>\n",
       "      <td>9110.30</td>\n",
       "      <td>3</td>\n",
       "      <td>33</td>\n",
       "      <td>411.83</td>\n",
       "      <td>5</td>\n",
       "      <td>3</td>\n",
       "      <td>5</td>\n",
       "      <td>226</td>\n",
       "      <td>True</td>\n",
       "      <td>Ignored</td>\n",
       "      <td>True</td>\n",
       "    </tr>\n",
       "    <tr>\n",
       "      <th>4</th>\n",
       "      <td>5</td>\n",
       "      <td>21</td>\n",
       "      <td>Other</td>\n",
       "      <td>77.66</td>\n",
       "      <td>5390.88</td>\n",
       "      <td>15</td>\n",
       "      <td>43</td>\n",
       "      <td>101.19</td>\n",
       "      <td>3</td>\n",
       "      <td>0</td>\n",
       "      <td>5</td>\n",
       "      <td>242</td>\n",
       "      <td>False</td>\n",
       "      <td>Unsubscribed</td>\n",
       "      <td>False</td>\n",
       "    </tr>\n",
       "  </tbody>\n",
       "</table>\n",
       "</div>"
      ],
      "text/plain": [
       "   CustomerID  Age Gender  AnnualIncome  TotalSpend  YearsAsCustomer  \\\n",
       "0           1   62  Other         45.15     5892.58                5   \n",
       "1           2   65   Male         79.51     9025.47               13   \n",
       "2           3   18   Male         29.19      618.83               13   \n",
       "3           4   21  Other         79.63     9110.30                3   \n",
       "4           5   21  Other         77.66     5390.88               15   \n",
       "\n",
       "   NumOfPurchases  AvgTransactionAmount  NumOfReturns  NumOfSupportQueries  \\\n",
       "0              22                453.80             2                    0   \n",
       "1              77                 22.90             2                    2   \n",
       "2              71                 50.53             5                    2   \n",
       "3              33                411.83             5                    3   \n",
       "4              43                101.19             3                    0   \n",
       "\n",
       "   SatisfactionScore  LastPurchaseDaysAgo  EmailOptIn PromotionResponse  Churn  \n",
       "0                  3                  129        True         Responded   True  \n",
       "1                  3                  227       False         Responded  False  \n",
       "2                  2                  283       False         Responded   True  \n",
       "3                  5                  226        True           Ignored   True  \n",
       "4                  5                  242       False      Unsubscribed  False  "
      ]
     },
     "execution_count": 18,
     "metadata": {},
     "output_type": "execute_result"
    }
   ],
   "source": [
    "# Reading the dataset to dataframe\n",
    "df = pd.read_csv('customer-churn-data.csv')\n",
    "df.head()"
   ]
  },
  {
   "cell_type": "code",
   "execution_count": 19,
   "metadata": {},
   "outputs": [
    {
     "data": {
      "text/plain": [
       "(array(['Other', 'Male', 'Female'], dtype=object),\n",
       " Gender\n",
       " Female    342\n",
       " Male      334\n",
       " Other     324\n",
       " Name: count, dtype: int64)"
      ]
     },
     "execution_count": 19,
     "metadata": {},
     "output_type": "execute_result"
    }
   ],
   "source": [
    "df['Gender'].unique(), df['Gender'].value_counts()"
   ]
  },
  {
   "cell_type": "code",
   "execution_count": 20,
   "metadata": {},
   "outputs": [
    {
     "data": {
      "text/plain": [
       "(array(['Responded', 'Ignored', 'Unsubscribed'], dtype=object),\n",
       " PromotionResponse\n",
       " Unsubscribed    361\n",
       " Responded       338\n",
       " Ignored         301\n",
       " Name: count, dtype: int64)"
      ]
     },
     "execution_count": 20,
     "metadata": {},
     "output_type": "execute_result"
    }
   ],
   "source": [
    "df['PromotionResponse'].unique(), df['PromotionResponse'].value_counts()"
   ]
  },
  {
   "cell_type": "code",
   "execution_count": 21,
   "metadata": {},
   "outputs": [
    {
     "data": {
      "text/plain": [
       "(array([ True, False]),\n",
       " EmailOptIn\n",
       " True     529\n",
       " False    471\n",
       " Name: count, dtype: int64)"
      ]
     },
     "execution_count": 21,
     "metadata": {},
     "output_type": "execute_result"
    }
   ],
   "source": [
    "df['EmailOptIn'].unique(), df['EmailOptIn'].value_counts()"
   ]
  },
  {
   "cell_type": "code",
   "execution_count": 22,
   "metadata": {},
   "outputs": [],
   "source": [
    "# Encoding the values to these columns\n",
    "df['Gender'] = LabelEncoder().fit_transform(df['Gender'])\n",
    "df['PromotionResponse'] = LabelEncoder().fit_transform(df['PromotionResponse'])\n",
    "df['EmailOptIn'] = LabelEncoder().fit_transform(df['EmailOptIn'])"
   ]
  },
  {
   "cell_type": "code",
   "execution_count": 23,
   "metadata": {},
   "outputs": [],
   "source": [
    "# Dropping CustomerID\n",
    "df.drop(columns = ['CustomerID'], axis = 1, inplace = True)"
   ]
  },
  {
   "cell_type": "code",
   "execution_count": 24,
   "metadata": {},
   "outputs": [
    {
     "data": {
      "text/html": [
       "<div>\n",
       "<style scoped>\n",
       "    .dataframe tbody tr th:only-of-type {\n",
       "        vertical-align: middle;\n",
       "    }\n",
       "\n",
       "    .dataframe tbody tr th {\n",
       "        vertical-align: top;\n",
       "    }\n",
       "\n",
       "    .dataframe thead th {\n",
       "        text-align: right;\n",
       "    }\n",
       "</style>\n",
       "<table border=\"1\" class=\"dataframe\">\n",
       "  <thead>\n",
       "    <tr style=\"text-align: right;\">\n",
       "      <th></th>\n",
       "      <th>Age</th>\n",
       "      <th>Gender</th>\n",
       "      <th>AnnualIncome</th>\n",
       "      <th>TotalSpend</th>\n",
       "      <th>YearsAsCustomer</th>\n",
       "      <th>NumOfPurchases</th>\n",
       "      <th>AvgTransactionAmount</th>\n",
       "      <th>NumOfReturns</th>\n",
       "      <th>NumOfSupportQueries</th>\n",
       "      <th>SatisfactionScore</th>\n",
       "      <th>LastPurchaseDaysAgo</th>\n",
       "      <th>EmailOptIn</th>\n",
       "      <th>PromotionResponse</th>\n",
       "      <th>Churn</th>\n",
       "    </tr>\n",
       "  </thead>\n",
       "  <tbody>\n",
       "    <tr>\n",
       "      <th>0</th>\n",
       "      <td>62</td>\n",
       "      <td>2</td>\n",
       "      <td>45.15</td>\n",
       "      <td>5892.58</td>\n",
       "      <td>5</td>\n",
       "      <td>22</td>\n",
       "      <td>453.80</td>\n",
       "      <td>2</td>\n",
       "      <td>0</td>\n",
       "      <td>3</td>\n",
       "      <td>129</td>\n",
       "      <td>1</td>\n",
       "      <td>1</td>\n",
       "      <td>True</td>\n",
       "    </tr>\n",
       "    <tr>\n",
       "      <th>1</th>\n",
       "      <td>65</td>\n",
       "      <td>1</td>\n",
       "      <td>79.51</td>\n",
       "      <td>9025.47</td>\n",
       "      <td>13</td>\n",
       "      <td>77</td>\n",
       "      <td>22.90</td>\n",
       "      <td>2</td>\n",
       "      <td>2</td>\n",
       "      <td>3</td>\n",
       "      <td>227</td>\n",
       "      <td>0</td>\n",
       "      <td>1</td>\n",
       "      <td>False</td>\n",
       "    </tr>\n",
       "    <tr>\n",
       "      <th>2</th>\n",
       "      <td>18</td>\n",
       "      <td>1</td>\n",
       "      <td>29.19</td>\n",
       "      <td>618.83</td>\n",
       "      <td>13</td>\n",
       "      <td>71</td>\n",
       "      <td>50.53</td>\n",
       "      <td>5</td>\n",
       "      <td>2</td>\n",
       "      <td>2</td>\n",
       "      <td>283</td>\n",
       "      <td>0</td>\n",
       "      <td>1</td>\n",
       "      <td>True</td>\n",
       "    </tr>\n",
       "    <tr>\n",
       "      <th>3</th>\n",
       "      <td>21</td>\n",
       "      <td>2</td>\n",
       "      <td>79.63</td>\n",
       "      <td>9110.30</td>\n",
       "      <td>3</td>\n",
       "      <td>33</td>\n",
       "      <td>411.83</td>\n",
       "      <td>5</td>\n",
       "      <td>3</td>\n",
       "      <td>5</td>\n",
       "      <td>226</td>\n",
       "      <td>1</td>\n",
       "      <td>0</td>\n",
       "      <td>True</td>\n",
       "    </tr>\n",
       "    <tr>\n",
       "      <th>4</th>\n",
       "      <td>21</td>\n",
       "      <td>2</td>\n",
       "      <td>77.66</td>\n",
       "      <td>5390.88</td>\n",
       "      <td>15</td>\n",
       "      <td>43</td>\n",
       "      <td>101.19</td>\n",
       "      <td>3</td>\n",
       "      <td>0</td>\n",
       "      <td>5</td>\n",
       "      <td>242</td>\n",
       "      <td>0</td>\n",
       "      <td>2</td>\n",
       "      <td>False</td>\n",
       "    </tr>\n",
       "  </tbody>\n",
       "</table>\n",
       "</div>"
      ],
      "text/plain": [
       "   Age  Gender  AnnualIncome  TotalSpend  YearsAsCustomer  NumOfPurchases  \\\n",
       "0   62       2         45.15     5892.58                5              22   \n",
       "1   65       1         79.51     9025.47               13              77   \n",
       "2   18       1         29.19      618.83               13              71   \n",
       "3   21       2         79.63     9110.30                3              33   \n",
       "4   21       2         77.66     5390.88               15              43   \n",
       "\n",
       "   AvgTransactionAmount  NumOfReturns  NumOfSupportQueries  SatisfactionScore  \\\n",
       "0                453.80             2                    0                  3   \n",
       "1                 22.90             2                    2                  3   \n",
       "2                 50.53             5                    2                  2   \n",
       "3                411.83             5                    3                  5   \n",
       "4                101.19             3                    0                  5   \n",
       "\n",
       "   LastPurchaseDaysAgo  EmailOptIn  PromotionResponse  Churn  \n",
       "0                  129           1                  1   True  \n",
       "1                  227           0                  1  False  \n",
       "2                  283           0                  1   True  \n",
       "3                  226           1                  0   True  \n",
       "4                  242           0                  2  False  "
      ]
     },
     "execution_count": 24,
     "metadata": {},
     "output_type": "execute_result"
    }
   ],
   "source": [
    "# Transformed dataframe\n",
    "df.head()"
   ]
  },
  {
   "cell_type": "code",
   "execution_count": 25,
   "metadata": {},
   "outputs": [],
   "source": [
    "# Splitting data into train and test\n",
    "X_train, X_test, y_train, y_test = train_test_split(\n",
    "    df.iloc[:,:-1], df.iloc[:,-1], test_size=0.3, random_state = 680)"
   ]
  },
  {
   "cell_type": "markdown",
   "metadata": {},
   "source": [
    "#### Ada Boost Classifier"
   ]
  },
  {
   "cell_type": "code",
   "execution_count": 26,
   "metadata": {},
   "outputs": [
    {
     "name": "stdout",
     "output_type": "stream",
     "text": [
      "{'algorithm': 'SAMME.R', 'learning_rate': 1.5, 'n_estimators': 500} \n",
      "\n",
      "Confusion Matrix:\n",
      "[[69 67]\n",
      " [75 89]]\n",
      "\n",
      "Overall accuracy: 0.527\n",
      "Precision : 0.571\n",
      "Recall : 0.543\n"
     ]
    }
   ],
   "source": [
    "# GridSearch Adaboost Model\n",
    "# TN is {0,0}, FN is {1,0}, TP {1,1} and FP {0,1}\n",
    "\n",
    "clf1 = AdaBoostClassifier(random_state = 680)\n",
    "params = {\n",
    "    'n_estimators':[50,100,200,500],\n",
    "    'learning_rate':[0.1,0.5,1,1.5,2],\n",
    "    'algorithm':['SAMME', 'SAMME.R']\n",
    "}\n",
    "newclf1 = GridSearchCV(clf1, params, cv=5, n_jobs=-1)\n",
    "newclf1.fit(X_train, y_train)\n",
    "y_pred = newclf1.predict(X_test)\n",
    "newconfmat = confusion_matrix(y_test, y_pred)\n",
    "print(newclf1.best_params_,'\\n')\n",
    "print(f'Confusion Matrix:\\n{newconfmat}\\n')\n",
    "\n",
    "tn, fp, fn, tp = newconfmat.ravel()\n",
    "precision1 = round(tp/(tp+fp),3)\n",
    "recall1 = round(tp/(tp+fn),3)\n",
    "accuracy1= round((tp+tn)/(tp+tn+fp+fn),3)\n",
    "print(f'Overall accuracy: {accuracy1}\\nPrecision : {precision1}\\nRecall : {recall1}')"
   ]
  },
  {
   "cell_type": "markdown",
   "metadata": {},
   "source": [
    "#### Random Forest Classifier"
   ]
  },
  {
   "cell_type": "code",
   "execution_count": 27,
   "metadata": {},
   "outputs": [
    {
     "name": "stdout",
     "output_type": "stream",
     "text": [
      "{'criterion': 'entropy', 'max_features': 'sqrt', 'n_estimators': 50} \n",
      "\n",
      "Confusion Matrix:\n",
      "[[72 64]\n",
      " [78 86]]\n",
      "\n",
      "Overall accuracy: 0.527\n",
      "Precision : 0.573\n",
      "Recall : 0.524\n"
     ]
    }
   ],
   "source": [
    "# GridSearch Random Forest Model\n",
    "# TN is {0,0}, FN is {1,0}, TP {1,1} and FP {0,1}\n",
    "\n",
    "clf2 = RandomForestClassifier(random_state = 680)\n",
    "params = {\n",
    "    'n_estimators':[50,100,200,500],\n",
    "    'criterion':['gini', 'entropy', 'log_loss'],\n",
    "    'max_features':['sqrt', 'log2', None]\n",
    "}\n",
    "newclf2 = GridSearchCV(clf2, params, cv=5, n_jobs=-1)\n",
    "newclf2.fit(X_train, y_train)\n",
    "y_pred = newclf2.predict(X_test)\n",
    "newconfmat = confusion_matrix(y_test, y_pred)\n",
    "print(newclf2.best_params_,'\\n')\n",
    "print(f'Confusion Matrix:\\n{newconfmat}\\n')\n",
    "\n",
    "tn, fp, fn, tp = newconfmat.ravel()\n",
    "precision2 = round(tp/(tp+fp),3)\n",
    "recall2 = round(tp/(tp+fn),3)\n",
    "accuracy2= round((tp+tn)/(tp+tn+fp+fn),3)\n",
    "print(f'Overall accuracy: {accuracy2}\\nPrecision : {precision2}\\nRecall : {recall2}')"
   ]
  },
  {
   "cell_type": "code",
   "execution_count": 29,
   "metadata": {},
   "outputs": [],
   "source": [
    "data = [['DecisionTreeClassifier', newclf1.best_params_, accuracy1, precision1, recall1],\n",
    "        ['RandomForestClassifier', newclf2.best_params_, accuracy2, precision2, recall2]]"
   ]
  },
  {
   "cell_type": "code",
   "execution_count": 30,
   "metadata": {},
   "outputs": [
    {
     "data": {
      "text/html": [
       "<div>\n",
       "<style scoped>\n",
       "    .dataframe tbody tr th:only-of-type {\n",
       "        vertical-align: middle;\n",
       "    }\n",
       "\n",
       "    .dataframe tbody tr th {\n",
       "        vertical-align: top;\n",
       "    }\n",
       "\n",
       "    .dataframe thead th {\n",
       "        text-align: right;\n",
       "    }\n",
       "</style>\n",
       "<table border=\"1\" class=\"dataframe\">\n",
       "  <thead>\n",
       "    <tr style=\"text-align: right;\">\n",
       "      <th></th>\n",
       "      <th>Model</th>\n",
       "      <th>Parameters</th>\n",
       "      <th>Overall accuracy</th>\n",
       "      <th>Precision</th>\n",
       "      <th>Recall</th>\n",
       "    </tr>\n",
       "  </thead>\n",
       "  <tbody>\n",
       "    <tr>\n",
       "      <th>0</th>\n",
       "      <td>DecisionTreeClassifier</td>\n",
       "      <td>{'algorithm': 'SAMME.R', 'learning_rate': 1.5,...</td>\n",
       "      <td>0.527</td>\n",
       "      <td>0.571</td>\n",
       "      <td>0.543</td>\n",
       "    </tr>\n",
       "    <tr>\n",
       "      <th>1</th>\n",
       "      <td>RandomForestClassifier</td>\n",
       "      <td>{'criterion': 'entropy', 'max_features': 'sqrt...</td>\n",
       "      <td>0.527</td>\n",
       "      <td>0.573</td>\n",
       "      <td>0.524</td>\n",
       "    </tr>\n",
       "  </tbody>\n",
       "</table>\n",
       "</div>"
      ],
      "text/plain": [
       "                    Model                                         Parameters  \\\n",
       "0  DecisionTreeClassifier  {'algorithm': 'SAMME.R', 'learning_rate': 1.5,...   \n",
       "1  RandomForestClassifier  {'criterion': 'entropy', 'max_features': 'sqrt...   \n",
       "\n",
       "   Overall accuracy  Precision  Recall  \n",
       "0             0.527      0.571   0.543  \n",
       "1             0.527      0.573   0.524  "
      ]
     },
     "execution_count": 30,
     "metadata": {},
     "output_type": "execute_result"
    }
   ],
   "source": [
    "report = pd.DataFrame(data, columns= ['Model', 'Parameters', 'Overall accuracy', 'Precision', 'Recall'])\n",
    "report"
   ]
  }
 ],
 "metadata": {
  "kernelspec": {
   "display_name": "Python 3",
   "language": "python",
   "name": "python3"
  },
  "language_info": {
   "codemirror_mode": {
    "name": "ipython",
    "version": 3
   },
   "file_extension": ".py",
   "mimetype": "text/x-python",
   "name": "python",
   "nbconvert_exporter": "python",
   "pygments_lexer": "ipython3",
   "version": "3.12.1"
  }
 },
 "nbformat": 4,
 "nbformat_minor": 2
}
