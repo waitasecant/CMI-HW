{
 "cells": [
  {
   "cell_type": "code",
   "execution_count": 2,
   "metadata": {},
   "outputs": [],
   "source": [
    "import matplotlib.pyplot as plt\n",
    "import tensorflow as tf\n",
    "import numpy as np\n",
    "from sklearn.cluster import KMeans\n",
    "import pandas as pd"
   ]
  },
  {
   "cell_type": "code",
   "execution_count": 9,
   "metadata": {},
   "outputs": [],
   "source": [
    "df_train = pd.read_csv('data/train.csv')\n",
    "df_test = pd.read_csv('data/test.csv')"
   ]
  },
  {
   "cell_type": "code",
   "execution_count": 27,
   "metadata": {},
   "outputs": [],
   "source": [
    "y_train = df_train.to_numpy()[:,0]\n",
    "X_train = df_train.to_numpy()[:,1:]\n",
    "y_test = df_test.to_numpy()[:,0]\n",
    "X_test = df_test.to_numpy()[:,1:]\n",
    "X_valid,y_valid = X_train[-700:], y_train[-700:]"
   ]
  },
  {
   "cell_type": "code",
   "execution_count": 28,
   "metadata": {},
   "outputs": [
    {
     "data": {
      "text/plain": [
       "((8519, 784), (1065, 784), (700, 784))"
      ]
     },
     "execution_count": 28,
     "metadata": {},
     "output_type": "execute_result"
    }
   ],
   "source": [
    "X_train, X_valid, X_test = X_train / 255., X_valid / 255., X_test / 255.\n",
    "X_train.shape, X_test.shape, X_valid.shape"
   ]
  },
  {
   "cell_type": "code",
   "execution_count": 44,
   "metadata": {},
   "outputs": [
    {
     "name": "stdout",
     "output_type": "stream",
     "text": [
      "\u001b[1m34/34\u001b[0m \u001b[32m━━━━━━━━━━━━━━━━━━━━\u001b[0m\u001b[37m\u001b[0m \u001b[1m0s\u001b[0m 2ms/step - accuracy: 0.6501 - loss: 1.0343\n",
      "Test Accuracy over completely labelled data: 0.6403756141662598\n"
     ]
    }
   ],
   "source": [
    "# Full model, Layers- 300, 100, 10\n",
    "tf.random.set_seed(42)\n",
    "model = tf.keras.Sequential()\n",
    "model.add(tf.keras.layers.InputLayer(shape=(784,)))\n",
    "model.add(tf.keras.layers.Dense(300, activation=\"relu\"))\n",
    "model.add(tf.keras.layers.Dense(100, activation=\"relu\"))\n",
    "model.add(tf.keras.layers.Dense(10, activation=\"softmax\"))\n",
    "\n",
    "model.compile(loss=\"sparse_categorical_crossentropy\",\n",
    "                optimizer=\"sgd\", metrics=[\"accuracy\"])\n",
    "\n",
    "model.fit(X_train, y_train, epochs=30, verbose=0,\n",
    "                validation_data=(X_valid, y_valid))\n",
    "_, test_acc = model.evaluate(X_test, y_test)\n",
    "print(f'Test Accuracy over completely labelled data: {test_acc}')"
   ]
  },
  {
   "cell_type": "code",
   "execution_count": 45,
   "metadata": {},
   "outputs": [
    {
     "name": "stdout",
     "output_type": "stream",
     "text": [
      "\u001b[1m34/34\u001b[0m \u001b[32m━━━━━━━━━━━━━━━━━━━━\u001b[0m\u001b[37m\u001b[0m \u001b[1m0s\u001b[0m 2ms/step - accuracy: 0.6888 - loss: 0.9891\n",
      "Test Accuracy over completely labelled data: 0.6732394099235535\n"
     ]
    }
   ],
   "source": [
    "# Original model, Layers- 500, 300,200, 100, 10\n",
    "tf.random.set_seed(42)\n",
    "model = tf.keras.Sequential()\n",
    "model.add(tf.keras.layers.InputLayer(shape=(784,)))\n",
    "model.add(tf.keras.layers.Dense(500, activation=\"relu\"))\n",
    "model.add(tf.keras.layers.Dense(300, activation=\"relu\"))\n",
    "model.add(tf.keras.layers.Dense(200, activation=\"relu\"))\n",
    "model.add(tf.keras.layers.Dense(100, activation=\"relu\"))\n",
    "model.add(tf.keras.layers.Dense(10, activation=\"softmax\"))\n",
    "\n",
    "model.compile(loss=\"sparse_categorical_crossentropy\",\n",
    "                optimizer=\"sgd\", metrics=[\"accuracy\"])\n",
    "\n",
    "model.fit(X_train, y_train, epochs=30, verbose=0,\n",
    "                validation_data=(X_valid, y_valid))\n",
    "_, test_acc = model.evaluate(X_test, y_test)\n",
    "print(f'Test Accuracy over completely labelled data: {test_acc}')"
   ]
  },
  {
   "cell_type": "code",
   "execution_count": 38,
   "metadata": {},
   "outputs": [
    {
     "name": "stdout",
     "output_type": "stream",
     "text": [
      "\u001b[1m34/34\u001b[0m \u001b[32m━━━━━━━━━━━━━━━━━━━━\u001b[0m\u001b[37m\u001b[0m \u001b[1m0s\u001b[0m 3ms/step - accuracy: 0.7500 - loss: 0.9088\n",
      "Test Accuracy over completely labelled data: 0.7305164337158203\n"
     ]
    }
   ],
   "source": [
    "# Full model, Layers- 1000, 500, 300, 200, 100, 10 (Best)\n",
    "tf.random.set_seed(42)\n",
    "model = tf.keras.Sequential()\n",
    "model.add(tf.keras.layers.InputLayer(shape=(784,)))\n",
    "model.add(tf.keras.layers.Dense(1000, activation=\"relu\"))\n",
    "model.add(tf.keras.layers.Dense(500, activation=\"relu\"))\n",
    "model.add(tf.keras.layers.Dense(300, activation=\"relu\"))\n",
    "model.add(tf.keras.layers.Dense(200, activation=\"relu\"))\n",
    "model.add(tf.keras.layers.Dense(100, activation=\"relu\"))\n",
    "model.add(tf.keras.layers.Dense(10, activation=\"softmax\"))\n",
    "\n",
    "model.compile(loss=\"sparse_categorical_crossentropy\",\n",
    "                optimizer=\"sgd\", metrics=[\"accuracy\"])\n",
    "\n",
    "model.fit(X_train, y_train, epochs=30, verbose=0,\n",
    "                validation_data=(X_valid, y_valid))\n",
    "_, test_acc = model.evaluate(X_test, y_test)\n",
    "print(f'Test Accuracy over completely labelled data: {test_acc}')"
   ]
  },
  {
   "cell_type": "code",
   "execution_count": 46,
   "metadata": {},
   "outputs": [
    {
     "name": "stdout",
     "output_type": "stream",
     "text": [
      "\u001b[1m34/34\u001b[0m \u001b[32m━━━━━━━━━━━━━━━━━━━━\u001b[0m\u001b[37m\u001b[0m \u001b[1m0s\u001b[0m 4ms/step - accuracy: 0.6127 - loss: 1.1770\n",
      "Test Accuracy over completely labelled data: 0.5840375423431396\n"
     ]
    }
   ],
   "source": [
    "# Full model, Layers- 1000, 700, 500, 300, 200, 100, 10\n",
    "tf.random.set_seed(42)\n",
    "model = tf.keras.Sequential()\n",
    "model.add(tf.keras.layers.InputLayer(shape=(784,)))\n",
    "model.add(tf.keras.layers.Dense(1000, activation=\"relu\"))\n",
    "model.add(tf.keras.layers.Dense(700, activation=\"relu\"))\n",
    "model.add(tf.keras.layers.Dense(500, activation=\"relu\"))\n",
    "model.add(tf.keras.layers.Dense(300, activation=\"relu\"))\n",
    "model.add(tf.keras.layers.Dense(200, activation=\"relu\"))\n",
    "model.add(tf.keras.layers.Dense(100, activation=\"relu\"))\n",
    "model.add(tf.keras.layers.Dense(10, activation=\"softmax\"))\n",
    "\n",
    "model.compile(loss=\"sparse_categorical_crossentropy\",\n",
    "                optimizer=\"sgd\", metrics=[\"accuracy\"])\n",
    "\n",
    "model.fit(X_train, y_train, epochs=30, verbose=0,\n",
    "                validation_data=(X_valid, y_valid))\n",
    "_, test_acc = model.evaluate(X_test, y_test)\n",
    "print(f'Test Accuracy over completely labelled data: {test_acc}')"
   ]
  },
  {
   "cell_type": "markdown",
   "metadata": {},
   "source": [
    "Layers: 1000, 500, 300, 200, 100, 10; Accuracy- 0.73 (Best)\n",
    "\n",
    "Layers: 500, 300, 200, 100, 10; Accuracy- 0.67\n",
    "\n",
    "Layers: 300, 100, 10; Accuracy- 0.64\n",
    "\n",
    "Layers: 1000, 700, 500, 300, 200, 100, 10; Accuracy- 0.58"
   ]
  },
  {
   "cell_type": "code",
   "execution_count": 40,
   "metadata": {},
   "outputs": [],
   "source": [
    "def SSL(K):\n",
    "    kmeans = KMeans(K)\n",
    "    kmeans.fit(X_train)\n",
    "    cc = kmeans.cluster_centers_\n",
    "    \n",
    "    labelDict = dict([(i,None) for i in range(K)])\n",
    "    for i in range(K):\n",
    "        dist = np.linalg.norm(X_train - cc[i], axis=1)\n",
    "        corLabel = y_train[np.argmin(dist)]\n",
    "        labelDict[i] = corLabel\n",
    "    \n",
    "    propLabels = np.array([labelDict[i] for i in kmeans.predict(X_train)])\n",
    "\n",
    "    tf.random.set_seed(42)\n",
    "    model = tf.keras.Sequential()\n",
    "    model.add(tf.keras.layers.InputLayer(shape=(784,)))\n",
    "    model.add(tf.keras.layers.Dense(1000, activation=\"relu\"))\n",
    "    model.add(tf.keras.layers.Dense(500, activation=\"relu\"))\n",
    "    model.add(tf.keras.layers.Dense(300, activation=\"relu\"))\n",
    "    model.add(tf.keras.layers.Dense(200, activation=\"relu\"))\n",
    "    model.add(tf.keras.layers.Dense(100, activation=\"relu\"))\n",
    "    model.add(tf.keras.layers.Dense(10, activation=\"softmax\"))\n",
    "\n",
    "    model.compile(loss=\"sparse_categorical_crossentropy\",\n",
    "                  optimizer=\"sgd\", metrics=[\"accuracy\"])\n",
    "    \n",
    "    model.fit(X_train, propLabels, epochs=30, verbose=0,\n",
    "                    validation_data=(X_valid, y_valid))\n",
    "    _, test_acc = model.evaluate(X_test, y_test)\n",
    "    return test_acc"
   ]
  },
  {
   "cell_type": "code",
   "execution_count": 41,
   "metadata": {},
   "outputs": [
    {
     "name": "stdout",
     "output_type": "stream",
     "text": [
      "\u001b[1m34/34\u001b[0m \u001b[32m━━━━━━━━━━━━━━━━━━━━\u001b[0m\u001b[37m\u001b[0m \u001b[1m0s\u001b[0m 4ms/step - accuracy: 0.1192 - loss: 12.7131\n",
      "\u001b[1m34/34\u001b[0m \u001b[32m━━━━━━━━━━━━━━━━━━━━\u001b[0m\u001b[37m\u001b[0m \u001b[1m0s\u001b[0m 4ms/step - accuracy: 0.1673 - loss: 12.5812\n",
      "\u001b[1m34/34\u001b[0m \u001b[32m━━━━━━━━━━━━━━━━━━━━\u001b[0m\u001b[37m\u001b[0m \u001b[1m0s\u001b[0m 3ms/step - accuracy: 0.1836 - loss: 12.6317\n",
      "\u001b[1m34/34\u001b[0m \u001b[32m━━━━━━━━━━━━━━━━━━━━\u001b[0m\u001b[37m\u001b[0m \u001b[1m0s\u001b[0m 3ms/step - accuracy: 0.2452 - loss: 9.4995\n",
      "\u001b[1m34/34\u001b[0m \u001b[32m━━━━━━━━━━━━━━━━━━━━\u001b[0m\u001b[37m\u001b[0m \u001b[1m0s\u001b[0m 3ms/step - accuracy: 0.2267 - loss: 10.5959\n",
      "\u001b[1m34/34\u001b[0m \u001b[32m━━━━━━━━━━━━━━━━━━━━\u001b[0m\u001b[37m\u001b[0m \u001b[1m0s\u001b[0m 3ms/step - accuracy: 0.2772 - loss: 8.1256\n",
      "\u001b[1m34/34\u001b[0m \u001b[32m━━━━━━━━━━━━━━━━━━━━\u001b[0m\u001b[37m\u001b[0m \u001b[1m0s\u001b[0m 3ms/step - accuracy: 0.2908 - loss: 9.5165\n",
      "\u001b[1m34/34\u001b[0m \u001b[32m━━━━━━━━━━━━━━━━━━━━\u001b[0m\u001b[37m\u001b[0m \u001b[1m0s\u001b[0m 3ms/step - accuracy: 0.2999 - loss: 7.8020\n",
      "\u001b[1m34/34\u001b[0m \u001b[32m━━━━━━━━━━━━━━━━━━━━\u001b[0m\u001b[37m\u001b[0m \u001b[1m0s\u001b[0m 4ms/step - accuracy: 0.2964 - loss: 8.1351\n",
      "\u001b[1m34/34\u001b[0m \u001b[32m━━━━━━━━━━━━━━━━━━━━\u001b[0m\u001b[37m\u001b[0m \u001b[1m0s\u001b[0m 4ms/step - accuracy: 0.2833 - loss: 8.5388\n"
     ]
    }
   ],
   "source": [
    "test_accs = []\n",
    "for K in [10,20,30,40,50,60,70,80,90,100]:\n",
    "    test_accs.append(SSL(K))"
   ]
  },
  {
   "cell_type": "code",
   "execution_count": 42,
   "metadata": {},
   "outputs": [
    {
     "data": {
      "image/png": "[encoded data removed]",
      "text/plain": [
       "<Figure size 640x480 with 1 Axes>"
      ]
     },
     "metadata": {},
     "output_type": "display_data"
    }
   ],
   "source": [
    "plt.plot([10,20,30,40,50,60,70,80,90,100],test_accs)\n",
    "plt.xlabel(\"Number of Clusters\")\n",
    "plt.ylabel(\"Test Accuracy\")\n",
    "plt.show()"
   ]
  }
 ],
 "metadata": {
  "kernelspec": {
   "display_name": "venv",
   "language": "python",
   "name": "python3"
  },
  "language_info": {
   "codemirror_mode": {
    "name": "ipython",
    "version": 3
   },
   "file_extension": ".py",
   "mimetype": "text/x-python",
   "name": "python",
   "nbconvert_exporter": "python",
   "pygments_lexer": "ipython3",
   "version": "3.12.1"
  }
 },
 "nbformat": 4,
 "nbformat_minor": 2
}
